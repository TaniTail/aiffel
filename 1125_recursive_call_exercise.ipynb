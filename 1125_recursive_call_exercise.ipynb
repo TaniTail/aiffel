{
 "cells": [
  {
   "cell_type": "code",
   "execution_count": 3,
   "id": "4d051c31",
   "metadata": {},
   "outputs": [
    {
     "name": "stdout",
     "output_type": "stream",
     "text": [
      "120\n"
     ]
    }
   ],
   "source": [
    "def factorial(n):\n",
    "    if n == 1:      # n이 1일 때\n",
    "        return 1    # 1을 반환하고 재귀호출을 끝냄\n",
    "    return n * factorial(n - 1)    # n과 factorial 함수에 n - 1을 넣어서 반환된 값을 곱함\n",
    " \n",
    "print(factorial(5))\n",
    "### print(factorial(4.5)) : 재귀함수의 의미를 생각해보자... 결국에는 1으로 마무리되지 않기 때문에 무한반복->깊이부족으로....에러.."
   ]
  },
  {
   "cell_type": "code",
   "execution_count": 18,
   "id": "e5774805",
   "metadata": {},
   "outputs": [
    {
     "name": "stdout",
     "output_type": "stream",
     "text": [
      "5\n"
     ]
    }
   ],
   "source": [
    "#피보나치 수열의 n+1번째 숫자\n",
    "\n",
    "def fibo(n):\n",
    "    \n",
    "    if n == 1 or n == 2:\n",
    "        return 1\n",
    "    else:\n",
    "        return fibo(n-1) + fibo(n-2)\n",
    "\n",
    "print(fibo(5)) # 5가 나옴\n"
   ]
  },
  {
   "cell_type": "code",
   "execution_count": 40,
   "id": "11d2aa1a",
   "metadata": {},
   "outputs": [
    {
     "name": "stdout",
     "output_type": "stream",
     "text": [
      "5\n",
      "4\n",
      "3\n",
      "2\n",
      "1\n",
      "Boom!\n"
     ]
    }
   ],
   "source": [
    "##카운트 다운 코드\n",
    "from time import sleep\n",
    "\n",
    "\n",
    "def countdown(n):\n",
    "    if n == 0:\n",
    "        sleep(1)\n",
    "        print(\"Boom!\")\n",
    "        \n",
    "    else:\n",
    "        sleep(1)\n",
    "        print(n)\n",
    "        countdown(n-1)\n",
    "        \n",
    "\n",
    "        \n",
    "countdown(5)"
   ]
  },
  {
   "cell_type": "code",
   "execution_count": null,
   "id": "75090bd4",
   "metadata": {},
   "outputs": [],
   "source": []
  }
 ],
 "metadata": {
  "kernelspec": {
   "display_name": "Python 3 (ipykernel)",
   "language": "python",
   "name": "python3"
  },
  "language_info": {
   "codemirror_mode": {
    "name": "ipython",
    "version": 3
   },
   "file_extension": ".py",
   "mimetype": "text/x-python",
   "name": "python",
   "nbconvert_exporter": "python",
   "pygments_lexer": "ipython3",
   "version": "3.9.7"
  }
 },
 "nbformat": 4,
 "nbformat_minor": 5
}
