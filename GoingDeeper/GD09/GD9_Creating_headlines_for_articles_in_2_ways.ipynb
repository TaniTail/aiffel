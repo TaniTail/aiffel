{
 "cells": [
  {
   "cell_type": "markdown",
   "id": "0a31c1ab",
   "metadata": {},
   "source": [
    "# Going Deeper 09 Creating a headline for an article in 2 ways\n",
    "###### 온라인 코어 2기 박수경"
   ]
  },
  {
   "cell_type": "markdown",
   "id": "69b1a152",
   "metadata": {},
   "source": [
    "이번 과제에서는 기사문을 짧게 요약하는 텍스트 요약 모델을 만들어 보기로 한다. 요약은 추상적 요약과 추출적 요약이 있다. 과제에 필요한 라이브러리를 import 한다."
   ]
  },
  {
   "cell_type": "code",
   "execution_count": 62,
   "id": "6f15060c",
   "metadata": {},
   "outputs": [
    {
     "name": "stdout",
     "output_type": "stream",
     "text": [
      "3.6.5\n",
      "2.6.0\n",
      "1.2.0\n"
     ]
    }
   ],
   "source": [
    "from importlib.metadata import version\n",
    "import nltk\n",
    "import tensorflow\n",
    "import summa\n",
    "from summa.summarizer import summarize\n",
    "\n",
    "print(nltk.__version__)\n",
    "print(tensorflow.__version__)\n",
    "print(version('summa'))"
   ]
  },
  {
   "cell_type": "code",
   "execution_count": 63,
   "id": "e363d87a",
   "metadata": {},
   "outputs": [
    {
     "name": "stderr",
     "output_type": "stream",
     "text": [
      "[nltk_data] Downloading package stopwords to /aiffel/nltk_data...\n",
      "[nltk_data]   Package stopwords is already up-to-date!\n"
     ]
    }
   ],
   "source": [
    "import nltk\n",
    "nltk.download('stopwords')\n",
    "\n",
    "import numpy as np\n",
    "import pandas as pd\n",
    "import os\n",
    "import re\n",
    "import matplotlib.pyplot as plt\n",
    "from nltk.corpus import stopwords\n",
    "from bs4 import BeautifulSoup \n",
    "from tensorflow.keras.preprocessing.text import Tokenizer \n",
    "from tensorflow.keras.preprocessing.sequence import pad_sequences\n",
    "import urllib.request\n",
    "\n",
    "import requests\n",
    "\n",
    "import warnings\n",
    "warnings.filterwarnings(\"ignore\", category=UserWarning, module='bs4')\n"
   ]
  },
  {
   "cell_type": "markdown",
   "id": "b408e6f9",
   "metadata": {},
   "source": [
    "## Step 1. 데이터 준비   \n",
    "\n",
    "이번 과제에는 주어진 뉴스 기사 데이터를 사용한다. \n",
    "(https://lms.aiffel.io/course/404/node/516/step/3550#:~:text=Step%201.%20%EB%8D%B0%EC%9D%B4%ED%84%B0,%EB%8B%A4%EC%9A%B4%EB%A1%9C%EB%93%9C%ED%95%A0%20%EC%88%98%20%EC%9E%88%EC%96%B4%EC%9A%94.)\n"
   ]
  },
  {
   "cell_type": "code",
   "execution_count": 3,
   "id": "f66b3b35",
   "metadata": {},
   "outputs": [],
   "source": [
    "data = pd.read_csv('news_summary_more.csv', encoding='iso-8859-1')"
   ]
  },
  {
   "cell_type": "code",
   "execution_count": 4,
   "id": "e71da18a",
   "metadata": {},
   "outputs": [
    {
     "data": {
      "text/html": [
       "<div>\n",
       "<style scoped>\n",
       "    .dataframe tbody tr th:only-of-type {\n",
       "        vertical-align: middle;\n",
       "    }\n",
       "\n",
       "    .dataframe tbody tr th {\n",
       "        vertical-align: top;\n",
       "    }\n",
       "\n",
       "    .dataframe thead th {\n",
       "        text-align: right;\n",
       "    }\n",
       "</style>\n",
       "<table border=\"1\" class=\"dataframe\">\n",
       "  <thead>\n",
       "    <tr style=\"text-align: right;\">\n",
       "      <th></th>\n",
       "      <th>headlines</th>\n",
       "      <th>text</th>\n",
       "    </tr>\n",
       "  </thead>\n",
       "  <tbody>\n",
       "    <tr>\n",
       "      <th>0</th>\n",
       "      <td>upGrad learner switches to career in ML &amp; Al w...</td>\n",
       "      <td>Saurav Kant, an alumnus of upGrad and IIIT-B's...</td>\n",
       "    </tr>\n",
       "    <tr>\n",
       "      <th>1</th>\n",
       "      <td>Delhi techie wins free food from Swiggy for on...</td>\n",
       "      <td>Kunal Shah's credit card bill payment platform...</td>\n",
       "    </tr>\n",
       "    <tr>\n",
       "      <th>2</th>\n",
       "      <td>New Zealand end Rohit Sharma-led India's 12-ma...</td>\n",
       "      <td>New Zealand defeated India by 8 wickets in the...</td>\n",
       "    </tr>\n",
       "    <tr>\n",
       "      <th>3</th>\n",
       "      <td>Aegon life iTerm insurance plan helps customer...</td>\n",
       "      <td>With Aegon Life iTerm Insurance plan, customer...</td>\n",
       "    </tr>\n",
       "    <tr>\n",
       "      <th>4</th>\n",
       "      <td>Have known Hirani for yrs, what if MeToo claim...</td>\n",
       "      <td>Speaking about the sexual harassment allegatio...</td>\n",
       "    </tr>\n",
       "    <tr>\n",
       "      <th>5</th>\n",
       "      <td>Rahat Fateh Ali Khan denies getting notice for...</td>\n",
       "      <td>Pakistani singer Rahat Fateh Ali Khan has deni...</td>\n",
       "    </tr>\n",
       "    <tr>\n",
       "      <th>6</th>\n",
       "      <td>India get all out for 92, their lowest ODI tot...</td>\n",
       "      <td>India recorded their lowest ODI total in New Z...</td>\n",
       "    </tr>\n",
       "    <tr>\n",
       "      <th>7</th>\n",
       "      <td>Govt directs Alok Verma to join work 1 day bef...</td>\n",
       "      <td>Weeks after ex-CBI Director Alok Verma told th...</td>\n",
       "    </tr>\n",
       "    <tr>\n",
       "      <th>8</th>\n",
       "      <td>Called PM Modi 'sir' 10 times to satisfy his e...</td>\n",
       "      <td>Andhra Pradesh CM N Chandrababu Naidu has said...</td>\n",
       "    </tr>\n",
       "    <tr>\n",
       "      <th>9</th>\n",
       "      <td>Cong wins Ramgarh bypoll in Rajasthan, takes t...</td>\n",
       "      <td>Congress candidate Shafia Zubair won the Ramga...</td>\n",
       "    </tr>\n",
       "  </tbody>\n",
       "</table>\n",
       "</div>"
      ],
      "text/plain": [
       "                                           headlines  \\\n",
       "0  upGrad learner switches to career in ML & Al w...   \n",
       "1  Delhi techie wins free food from Swiggy for on...   \n",
       "2  New Zealand end Rohit Sharma-led India's 12-ma...   \n",
       "3  Aegon life iTerm insurance plan helps customer...   \n",
       "4  Have known Hirani for yrs, what if MeToo claim...   \n",
       "5  Rahat Fateh Ali Khan denies getting notice for...   \n",
       "6  India get all out for 92, their lowest ODI tot...   \n",
       "7  Govt directs Alok Verma to join work 1 day bef...   \n",
       "8  Called PM Modi 'sir' 10 times to satisfy his e...   \n",
       "9  Cong wins Ramgarh bypoll in Rajasthan, takes t...   \n",
       "\n",
       "                                                text  \n",
       "0  Saurav Kant, an alumnus of upGrad and IIIT-B's...  \n",
       "1  Kunal Shah's credit card bill payment platform...  \n",
       "2  New Zealand defeated India by 8 wickets in the...  \n",
       "3  With Aegon Life iTerm Insurance plan, customer...  \n",
       "4  Speaking about the sexual harassment allegatio...  \n",
       "5  Pakistani singer Rahat Fateh Ali Khan has deni...  \n",
       "6  India recorded their lowest ODI total in New Z...  \n",
       "7  Weeks after ex-CBI Director Alok Verma told th...  \n",
       "8  Andhra Pradesh CM N Chandrababu Naidu has said...  \n",
       "9  Congress candidate Shafia Zubair won the Ramga...  "
      ]
     },
     "execution_count": 4,
     "metadata": {},
     "output_type": "execute_result"
    }
   ],
   "source": [
    "data.head(10)"
   ]
  },
  {
   "cell_type": "markdown",
   "id": "a6f3f3dd",
   "metadata": {},
   "source": [
    "기사 데이터는 headlines과 text 열로 이루어져 있다.\n",
    "\n",
    "추상적 요약 : text를 본문, headlines를 요약된 데이터로 삼아서 모델 학습 \n",
    "추출적 요약 : text열만 사용. (summa 사용)"
   ]
  },
  {
   "cell_type": "markdown",
   "id": "2963f4eb",
   "metadata": {},
   "source": [
    "## Step 2. 추상적 요약 : 데이터 전처리"
   ]
  },
  {
   "cell_type": "code",
   "execution_count": 5,
   "id": "fc314023",
   "metadata": {},
   "outputs": [
    {
     "name": "stdout",
     "output_type": "stream",
     "text": [
      "<class 'pandas.core.frame.DataFrame'>\n",
      "RangeIndex: 98401 entries, 0 to 98400\n",
      "Data columns (total 2 columns):\n",
      " #   Column     Non-Null Count  Dtype \n",
      "---  ------     --------------  ----- \n",
      " 0   headlines  98401 non-null  object\n",
      " 1   text       98401 non-null  object\n",
      "dtypes: object(2)\n",
      "memory usage: 1.5+ MB\n"
     ]
    }
   ],
   "source": [
    "headlines = data['headlines']\n",
    "text = data['text']\n",
    "\n",
    "data.info()"
   ]
  },
  {
   "cell_type": "code",
   "execution_count": 6,
   "id": "16b4f5f1",
   "metadata": {},
   "outputs": [
    {
     "name": "stdout",
     "output_type": "stream",
     "text": [
      "Text 열에서 중복을 배제한 유일한 샘플의 수 : 98360\n",
      "headlines 열에서 중복을 배제한 유일한 샘플의 수 : 98280\n"
     ]
    }
   ],
   "source": [
    "print('Text 열에서 중복을 배제한 유일한 샘플의 수 :', text.nunique())\n",
    "print('headlines 열에서 중복을 배제한 유일한 샘플의 수 :', headlines.nunique())"
   ]
  },
  {
   "cell_type": "markdown",
   "id": "33825ebd",
   "metadata": {},
   "source": [
    "Headlines 에서 중복되는 열은 삭제할 필요가 없다."
   ]
  },
  {
   "cell_type": "code",
   "execution_count": 7,
   "id": "b424ad5d",
   "metadata": {},
   "outputs": [
    {
     "name": "stdout",
     "output_type": "stream",
     "text": [
      "전체 샘플수 : 98360\n"
     ]
    }
   ],
   "source": [
    "data.drop_duplicates(subset = ['text'], inplace=True)\n",
    "print('전체 샘플수 :', (len(data)))"
   ]
  },
  {
   "cell_type": "code",
   "execution_count": 8,
   "id": "359ca73f",
   "metadata": {},
   "outputs": [
    {
     "name": "stdout",
     "output_type": "stream",
     "text": [
      "headlines    0\n",
      "text         0\n",
      "dtype: int64\n"
     ]
    }
   ],
   "source": [
    "print(data.isnull().sum())"
   ]
  },
  {
   "cell_type": "code",
   "execution_count": 9,
   "id": "ca46cc38",
   "metadata": {},
   "outputs": [
    {
     "name": "stdout",
     "output_type": "stream",
     "text": [
      "전체 샘플수 : 98360\n"
     ]
    }
   ],
   "source": [
    "data.dropna(axis=0, inplace=True)\n",
    "print('전체 샘플수 :', (len(data)))"
   ]
  },
  {
   "cell_type": "markdown",
   "id": "c6b93725",
   "metadata": {},
   "source": [
    "**텍스트 정규화와 불용어 제거**  \n",
    "텍스트 정규화(축약어, 같은 뜻인 단어들을 하나로 통일)"
   ]
  },
  {
   "cell_type": "code",
   "execution_count": 10,
   "id": "6d13b2ed",
   "metadata": {},
   "outputs": [
    {
     "name": "stdout",
     "output_type": "stream",
     "text": [
      "정규화 사전의 수:  120\n"
     ]
    }
   ],
   "source": [
    "contractions = {\"ain't\": \"is not\", \"aren't\": \"are not\",\"can't\": \"cannot\", \"'cause\": \"because\", \"could've\": \"could have\", \"couldn't\": \"could not\",\n",
    "                           \"didn't\": \"did not\",  \"doesn't\": \"does not\", \"don't\": \"do not\", \"hadn't\": \"had not\", \"hasn't\": \"has not\", \"haven't\": \"have not\",\n",
    "                           \"he'd\": \"he would\",\"he'll\": \"he will\", \"he's\": \"he is\", \"how'd\": \"how did\", \"how'd'y\": \"how do you\", \"how'll\": \"how will\", \"how's\": \"how is\",\n",
    "                           \"I'd\": \"I would\", \"I'd've\": \"I would have\", \"I'll\": \"I will\", \"I'll've\": \"I will have\",\"I'm\": \"I am\", \"I've\": \"I have\", \"i'd\": \"i would\",\n",
    "                           \"i'd've\": \"i would have\", \"i'll\": \"i will\",  \"i'll've\": \"i will have\",\"i'm\": \"i am\", \"i've\": \"i have\", \"isn't\": \"is not\", \"it'd\": \"it would\",\n",
    "                           \"it'd've\": \"it would have\", \"it'll\": \"it will\", \"it'll've\": \"it will have\",\"it's\": \"it is\", \"let's\": \"let us\", \"ma'am\": \"madam\",\n",
    "                           \"mayn't\": \"may not\", \"might've\": \"might have\",\"mightn't\": \"might not\",\"mightn't've\": \"might not have\", \"must've\": \"must have\",\n",
    "                           \"mustn't\": \"must not\", \"mustn't've\": \"must not have\", \"needn't\": \"need not\", \"needn't've\": \"need not have\",\"o'clock\": \"of the clock\",\n",
    "                           \"oughtn't\": \"ought not\", \"oughtn't've\": \"ought not have\", \"shan't\": \"shall not\", \"sha'n't\": \"shall not\", \"shan't've\": \"shall not have\",\n",
    "                           \"she'd\": \"she would\", \"she'd've\": \"she would have\", \"she'll\": \"she will\", \"she'll've\": \"she will have\", \"she's\": \"she is\",\n",
    "                           \"should've\": \"should have\", \"shouldn't\": \"should not\", \"shouldn't've\": \"should not have\", \"so've\": \"so have\",\"so's\": \"so as\",\n",
    "                           \"this's\": \"this is\",\"that'd\": \"that would\", \"that'd've\": \"that would have\", \"that's\": \"that is\", \"there'd\": \"there would\",\n",
    "                           \"there'd've\": \"there would have\", \"there's\": \"there is\", \"here's\": \"here is\",\"they'd\": \"they would\", \"they'd've\": \"they would have\",\n",
    "                           \"they'll\": \"they will\", \"they'll've\": \"they will have\", \"they're\": \"they are\", \"they've\": \"they have\", \"to've\": \"to have\",\n",
    "                           \"wasn't\": \"was not\", \"we'd\": \"we would\", \"we'd've\": \"we would have\", \"we'll\": \"we will\", \"we'll've\": \"we will have\", \"we're\": \"we are\",\n",
    "                           \"we've\": \"we have\", \"weren't\": \"were not\", \"what'll\": \"what will\", \"what'll've\": \"what will have\", \"what're\": \"what are\",\n",
    "                           \"what's\": \"what is\", \"what've\": \"what have\", \"when's\": \"when is\", \"when've\": \"when have\", \"where'd\": \"where did\", \"where's\": \"where is\",\n",
    "                           \"where've\": \"where have\", \"who'll\": \"who will\", \"who'll've\": \"who will have\", \"who's\": \"who is\", \"who've\": \"who have\",\n",
    "                           \"why's\": \"why is\", \"why've\": \"why have\", \"will've\": \"will have\", \"won't\": \"will not\", \"won't've\": \"will not have\",\n",
    "                           \"would've\": \"would have\", \"wouldn't\": \"would not\", \"wouldn't've\": \"would not have\", \"y'all\": \"you all\",\n",
    "                           \"y'all'd\": \"you all would\",\"y'all'd've\": \"you all would have\",\"y'all're\": \"you all are\",\"y'all've\": \"you all have\",\n",
    "                           \"you'd\": \"you would\", \"you'd've\": \"you would have\", \"you'll\": \"you will\", \"you'll've\": \"you will have\",\n",
    "                           \"you're\": \"you are\", \"you've\": \"you have\"}\n",
    "\n",
    "print(\"정규화 사전의 수: \", len(contractions))"
   ]
  },
  {
   "cell_type": "code",
   "execution_count": 11,
   "id": "3db23ab6",
   "metadata": {},
   "outputs": [
    {
     "name": "stdout",
     "output_type": "stream",
     "text": [
      "불용어 개수 : 179\n",
      "['i', 'me', 'my', 'myself', 'we', 'our', 'ours', 'ourselves', 'you', \"you're\", \"you've\", \"you'll\", \"you'd\", 'your', 'yours', 'yourself', 'yourselves', 'he', 'him', 'his', 'himself', 'she', \"she's\", 'her', 'hers', 'herself', 'it', \"it's\", 'its', 'itself', 'they', 'them', 'their', 'theirs', 'themselves', 'what', 'which', 'who', 'whom', 'this', 'that', \"that'll\", 'these', 'those', 'am', 'is', 'are', 'was', 'were', 'be', 'been', 'being', 'have', 'has', 'had', 'having', 'do', 'does', 'did', 'doing', 'a', 'an', 'the', 'and', 'but', 'if', 'or', 'because', 'as', 'until', 'while', 'of', 'at', 'by', 'for', 'with', 'about', 'against', 'between', 'into', 'through', 'during', 'before', 'after', 'above', 'below', 'to', 'from', 'up', 'down', 'in', 'out', 'on', 'off', 'over', 'under', 'again', 'further', 'then', 'once', 'here', 'there', 'when', 'where', 'why', 'how', 'all', 'any', 'both', 'each', 'few', 'more', 'most', 'other', 'some', 'such', 'no', 'nor', 'not', 'only', 'own', 'same', 'so', 'than', 'too', 'very', 's', 't', 'can', 'will', 'just', 'don', \"don't\", 'should', \"should've\", 'now', 'd', 'll', 'm', 'o', 're', 've', 'y', 'ain', 'aren', \"aren't\", 'couldn', \"couldn't\", 'didn', \"didn't\", 'doesn', \"doesn't\", 'hadn', \"hadn't\", 'hasn', \"hasn't\", 'haven', \"haven't\", 'isn', \"isn't\", 'ma', 'mightn', \"mightn't\", 'mustn', \"mustn't\", 'needn', \"needn't\", 'shan', \"shan't\", 'shouldn', \"shouldn't\", 'wasn', \"wasn't\", 'weren', \"weren't\", 'won', \"won't\", 'wouldn', \"wouldn't\"]\n"
     ]
    }
   ],
   "source": [
    "print('불용어 개수 :', len(stopwords.words('english') ))\n",
    "print(stopwords.words('english'))"
   ]
  },
  {
   "cell_type": "code",
   "execution_count": 12,
   "id": "104207e0",
   "metadata": {},
   "outputs": [
    {
     "name": "stdout",
     "output_type": "stream",
     "text": [
      "=3\n"
     ]
    }
   ],
   "source": [
    "# 데이터 전처리 함수\n",
    "def preprocess_sentence(sentence, remove_stopwords=True):\n",
    "    sentence = sentence.lower() # 텍스트 소문자화\n",
    "    sentence = BeautifulSoup(sentence, \"lxml\").text # <br />, <a href = ...> 등의 html 태그 제거\n",
    "    sentence = re.sub(r'\\([^)]*\\)', '', sentence) # 괄호로 닫힌 문자열 (...) 제거 Ex) my husband (and myself!) for => my husband for\n",
    "    sentence = re.sub('\"','', sentence) # 쌍따옴표 \" 제거\n",
    "    sentence = ' '.join([contractions[t] if t in contractions else t for t in sentence.split(\" \")]) # 약어 정규화\n",
    "    sentence = re.sub(r\"'s\\b\",\"\", sentence) # 소유격 제거. Ex) roland's -> roland\n",
    "    sentence = re.sub(\"[^a-zA-Z]\", \" \", sentence) # 영어 외 문자(숫자, 특수문자 등) 공백으로 변환\n",
    " \n",
    "    # 불용어 제거 (Text)\n",
    "    if remove_stopwords:\n",
    "        tokens = ' '.join(word for word in sentence.split() if not word in stopwords.words('english') if len(word) > 1)\n",
    "    # 불용어 미제거 (Summary)\n",
    "    else:\n",
    "        tokens = ' '.join(word for word in sentence.split() if len(word) > 1)\n",
    "    return tokens\n",
    "print('=3')"
   ]
  },
  {
   "cell_type": "code",
   "execution_count": 13,
   "id": "71aae182",
   "metadata": {},
   "outputs": [
    {
     "name": "stdout",
     "output_type": "stream",
     "text": [
      "Text 전처리 후 결과:  ['saurav kant alumnus upgrad iiit pg program machine learning artificial intelligence sr systems engineer infosys almost years work experience program upgrad degree career support helped transition data scientist tech mahindra salary hike upgrad online power learning powered lakh careers', 'kunal shah credit card bill payment platform cred gave users chance win free food swiggy one year pranav kaushik delhi techie bagged reward spending cred coins users get one cred coin per rupee bill paid used avail rewards brands like ixigo bookmyshow ubereats cult fit', 'new zealand defeated india wickets fourth odi hamilton thursday win first match five match odi series india lost international match rohit sharma captaincy consecutive victories dating back march match witnessed india getting seventh lowest total odi cricket history', 'aegon life iterm insurance plan customers enjoy tax benefits premiums paid save taxes plan provides life cover age years also customers options insure critical illnesses disability accidental death benefit rider life cover age years', 'speaking sexual harassment allegations rajkumar hirani sonam kapoor said known hirani many years true metoo movement get derailed metoo movement always believe woman case need reserve judgment added hirani accused assistant worked sanju']\n"
     ]
    }
   ],
   "source": [
    "clean_text = []\n",
    "\n",
    "for s in data['text']:\n",
    "    clean_text.append(preprocess_sentence(s))\n",
    "\n",
    "# 전처리 후 출력\n",
    "print(\"Text 전처리 후 결과: \", clean_text[:5])"
   ]
  },
  {
   "cell_type": "code",
   "execution_count": 14,
   "id": "c01f1cb4",
   "metadata": {},
   "outputs": [
    {
     "name": "stdout",
     "output_type": "stream",
     "text": [
      "headlines 전처리 후 결과:  ['upgrad learner switches to career in ml al with salary hike', 'delhi techie wins free food from swiggy for one year on cred', 'new zealand end rohit sharma led india match winning streak', 'aegon life iterm insurance plan helps customers save tax', 'have known hirani for yrs what if metoo claims are not true sonam']\n"
     ]
    }
   ],
   "source": [
    "clean_headlines= []\n",
    "\n",
    "for s in data['headlines']:\n",
    "    clean_headlines.append(preprocess_sentence(s, False))\n",
    "\n",
    "print(\"headlines 전처리 후 결과: \", clean_headlines[:5])"
   ]
  },
  {
   "cell_type": "code",
   "execution_count": 15,
   "id": "738e5cf7",
   "metadata": {},
   "outputs": [
    {
     "name": "stdout",
     "output_type": "stream",
     "text": [
      "=3\n"
     ]
    }
   ],
   "source": [
    "data['text'] = clean_text\n",
    "data['headlines'] = clean_headlines\n",
    "\n",
    "# 빈 값을 Null 값으로 변환\n",
    "data.replace('', np.nan, inplace=True)\n",
    "print('Done')"
   ]
  },
  {
   "cell_type": "code",
   "execution_count": 16,
   "id": "5deeee60",
   "metadata": {},
   "outputs": [
    {
     "data": {
      "text/plain": [
       "headlines    0\n",
       "text         0\n",
       "dtype: int64"
      ]
     },
     "execution_count": 16,
     "metadata": {},
     "output_type": "execute_result"
    }
   ],
   "source": [
    "data.isnull().sum()"
   ]
  },
  {
   "cell_type": "code",
   "execution_count": 17,
   "id": "1b836b6e",
   "metadata": {},
   "outputs": [
    {
     "name": "stdout",
     "output_type": "stream",
     "text": [
      "전체 샘플수 : 98360\n"
     ]
    }
   ],
   "source": [
    "data.dropna(axis=0, inplace=True)\n",
    "print('전체 샘플수 :', (len(data)))"
   ]
  },
  {
   "cell_type": "code",
   "execution_count": 18,
   "id": "9f12debe",
   "metadata": {},
   "outputs": [],
   "source": [
    "data.to_csv('clean_data.csv') #전처리 후 데이터 백업"
   ]
  },
  {
   "cell_type": "code",
   "execution_count": 19,
   "id": "0fb5d1c7",
   "metadata": {},
   "outputs": [
    {
     "name": "stdout",
     "output_type": "stream",
     "text": [
      "텍스트의 최소 길이 : 1\n",
      "텍스트의 최대 길이 : 60\n",
      "텍스트의 평균 길이 : 35.09968483123221\n",
      "요약의 최소 길이 : 1\n",
      "요약의 최대 길이 : 16\n",
      "요약의 평균 길이 : 9.299532330215534\n"
     ]
    },
    {
     "data": {
      "image/png": "[encoded data removed]",
      "text/plain": [
       "<Figure size 432x288 with 2 Axes>"
      ]
     },
     "metadata": {
      "needs_background": "light"
     },
     "output_type": "display_data"
    },
    {
     "data": {
      "image/png": "[encoded data removed]",
      "text/plain": [
       "<Figure size 432x288 with 1 Axes>"
      ]
     },
     "metadata": {
      "needs_background": "light"
     },
     "output_type": "display_data"
    },
    {
     "data": {
      "image/png": "[encoded data removed]",
      "text/plain": [
       "<Figure size 432x288 with 1 Axes>"
      ]
     },
     "metadata": {
      "needs_background": "light"
     },
     "output_type": "display_data"
    }
   ],
   "source": [
    "# 길이 분포 출력\n",
    "import matplotlib.pyplot as plt\n",
    "\n",
    "text_len = [len(s.split()) for s in data['text']]\n",
    "summary_len = [len(s.split()) for s in data['headlines']]\n",
    "\n",
    "print('텍스트의 최소 길이 : {}'.format(np.min(text_len)))\n",
    "print('텍스트의 최대 길이 : {}'.format(np.max(text_len)))\n",
    "print('텍스트의 평균 길이 : {}'.format(np.mean(text_len)))\n",
    "print('요약의 최소 길이 : {}'.format(np.min(summary_len)))\n",
    "print('요약의 최대 길이 : {}'.format(np.max(summary_len)))\n",
    "print('요약의 평균 길이 : {}'.format(np.mean(summary_len)))\n",
    "\n",
    "plt.subplot(1,2,1)\n",
    "plt.boxplot(text_len)\n",
    "plt.title('text')\n",
    "plt.subplot(1,2,2)\n",
    "plt.boxplot(summary_len)\n",
    "plt.title('headlines')\n",
    "plt.tight_layout()\n",
    "plt.show()\n",
    "\n",
    "plt.title('text')\n",
    "plt.hist(text_len, bins = 40)\n",
    "plt.xlabel('length of samples')\n",
    "plt.ylabel('number of samples')\n",
    "plt.show()\n",
    "\n",
    "plt.title('headlines')\n",
    "plt.hist(summary_len, bins = 40)\n",
    "plt.xlabel('length of samples')\n",
    "plt.ylabel('number of samples')\n",
    "plt.show()"
   ]
  },
  {
   "cell_type": "markdown",
   "id": "8bad6a6b",
   "metadata": {},
   "source": [
    "  딱히 분포가 치우쳐져 있지 않아서 지나치게 긴 문장 등을 제외할 필요가 없다고 판단했다."
   ]
  },
  {
   "cell_type": "code",
   "execution_count": 61,
   "id": "d9319f22",
   "metadata": {},
   "outputs": [
    {
     "name": "stdout",
     "output_type": "stream",
     "text": [
      "Done\n"
     ]
    }
   ],
   "source": [
    "text_min_len = 5\n",
    "text_max_len = 55\n",
    "summary_min_len = 2\n",
    "summary_max_len = 14\n",
    "print('Done')"
   ]
  },
  {
   "cell_type": "code",
   "execution_count": 60,
   "id": "062d8480",
   "metadata": {},
   "outputs": [
    {
     "name": "stdout",
     "output_type": "stream",
     "text": [
      "Done\n"
     ]
    }
   ],
   "source": [
    "def below_threshold_len(max_len, nested_list, min_len = 0):\n",
    "  cnt = 0\n",
    "  for s in nested_list:\n",
    "    if(min_len <= len(s.split()) <= max_len):\n",
    "        cnt = cnt + 1\n",
    "  print('전체 샘플 중 길이가 %s 이하인 샘플의 비율: %s'%(max_len, (cnt / len(nested_list))))\n",
    "print('Done')"
   ]
  },
  {
   "cell_type": "code",
   "execution_count": 22,
   "id": "24a55230",
   "metadata": {},
   "outputs": [
    {
     "name": "stdout",
     "output_type": "stream",
     "text": [
      "전체 샘플 중 길이가 55 이하인 샘플의 비율: 0.9999796665311103\n",
      "전체 샘플 중 길이가 14 이하인 샘플의 비율: 0.9997661651077674\n"
     ]
    }
   ],
   "source": [
    "below_threshold_len(text_max_len, data['text'], min_len = text_min_len)\n",
    "below_threshold_len(summary_max_len,  data['headlines'], min_len = summary_min_len)"
   ]
  },
  {
   "cell_type": "code",
   "execution_count": 23,
   "id": "426f8363",
   "metadata": {},
   "outputs": [
    {
     "name": "stdout",
     "output_type": "stream",
     "text": [
      "전체 샘플수 : 98336\n"
     ]
    }
   ],
   "source": [
    "data = data[data['text'].apply(lambda x: text_min_len <= len(x.split()) <= text_max_len)]\n",
    "data = data[data['headlines'].apply(lambda x: summary_min_len <= len(x.split()) <= summary_max_len)]\n",
    "print('전체 샘플수 :', (len(data)))"
   ]
  },
  {
   "cell_type": "code",
   "execution_count": 24,
   "id": "cfd3e0d2",
   "metadata": {},
   "outputs": [
    {
     "data": {
      "text/html": [
       "<div>\n",
       "<style scoped>\n",
       "    .dataframe tbody tr th:only-of-type {\n",
       "        vertical-align: middle;\n",
       "    }\n",
       "\n",
       "    .dataframe tbody tr th {\n",
       "        vertical-align: top;\n",
       "    }\n",
       "\n",
       "    .dataframe thead th {\n",
       "        text-align: right;\n",
       "    }\n",
       "</style>\n",
       "<table border=\"1\" class=\"dataframe\">\n",
       "  <thead>\n",
       "    <tr style=\"text-align: right;\">\n",
       "      <th></th>\n",
       "      <th>headlines</th>\n",
       "      <th>text</th>\n",
       "      <th>decoder_input</th>\n",
       "      <th>decoder_target</th>\n",
       "    </tr>\n",
       "  </thead>\n",
       "  <tbody>\n",
       "    <tr>\n",
       "      <th>0</th>\n",
       "      <td>upgrad learner switches to career in ml al wit...</td>\n",
       "      <td>saurav kant alumnus upgrad iiit pg program mac...</td>\n",
       "      <td>sostoken upgrad learner switches to career in ...</td>\n",
       "      <td>upgrad learner switches to career in ml al wit...</td>\n",
       "    </tr>\n",
       "    <tr>\n",
       "      <th>1</th>\n",
       "      <td>delhi techie wins free food from swiggy for on...</td>\n",
       "      <td>kunal shah credit card bill payment platform c...</td>\n",
       "      <td>sostoken delhi techie wins free food from swig...</td>\n",
       "      <td>delhi techie wins free food from swiggy for on...</td>\n",
       "    </tr>\n",
       "    <tr>\n",
       "      <th>2</th>\n",
       "      <td>new zealand end rohit sharma led india match w...</td>\n",
       "      <td>new zealand defeated india wickets fourth odi ...</td>\n",
       "      <td>sostoken new zealand end rohit sharma led indi...</td>\n",
       "      <td>new zealand end rohit sharma led india match w...</td>\n",
       "    </tr>\n",
       "    <tr>\n",
       "      <th>3</th>\n",
       "      <td>aegon life iterm insurance plan helps customer...</td>\n",
       "      <td>aegon life iterm insurance plan customers enjo...</td>\n",
       "      <td>sostoken aegon life iterm insurance plan helps...</td>\n",
       "      <td>aegon life iterm insurance plan helps customer...</td>\n",
       "    </tr>\n",
       "    <tr>\n",
       "      <th>4</th>\n",
       "      <td>have known hirani for yrs what if metoo claims...</td>\n",
       "      <td>speaking sexual harassment allegations rajkuma...</td>\n",
       "      <td>sostoken have known hirani for yrs what if met...</td>\n",
       "      <td>have known hirani for yrs what if metoo claims...</td>\n",
       "    </tr>\n",
       "  </tbody>\n",
       "</table>\n",
       "</div>"
      ],
      "text/plain": [
       "                                           headlines  \\\n",
       "0  upgrad learner switches to career in ml al wit...   \n",
       "1  delhi techie wins free food from swiggy for on...   \n",
       "2  new zealand end rohit sharma led india match w...   \n",
       "3  aegon life iterm insurance plan helps customer...   \n",
       "4  have known hirani for yrs what if metoo claims...   \n",
       "\n",
       "                                                text  \\\n",
       "0  saurav kant alumnus upgrad iiit pg program mac...   \n",
       "1  kunal shah credit card bill payment platform c...   \n",
       "2  new zealand defeated india wickets fourth odi ...   \n",
       "3  aegon life iterm insurance plan customers enjo...   \n",
       "4  speaking sexual harassment allegations rajkuma...   \n",
       "\n",
       "                                       decoder_input  \\\n",
       "0  sostoken upgrad learner switches to career in ...   \n",
       "1  sostoken delhi techie wins free food from swig...   \n",
       "2  sostoken new zealand end rohit sharma led indi...   \n",
       "3  sostoken aegon life iterm insurance plan helps...   \n",
       "4  sostoken have known hirani for yrs what if met...   \n",
       "\n",
       "                                      decoder_target  \n",
       "0  upgrad learner switches to career in ml al wit...  \n",
       "1  delhi techie wins free food from swiggy for on...  \n",
       "2  new zealand end rohit sharma led india match w...  \n",
       "3  aegon life iterm insurance plan helps customer...  \n",
       "4  have known hirani for yrs what if metoo claims...  "
      ]
     },
     "execution_count": 24,
     "metadata": {},
     "output_type": "execute_result"
    }
   ],
   "source": [
    "# 요약 데이터에는 시작 토큰과 종료 토큰을 추가한다.\n",
    "data['decoder_input'] = data['headlines'].apply(lambda x : 'sostoken '+ x)\n",
    "data['decoder_target'] = data['headlines'].apply(lambda x : x + ' eostoken')\n",
    "data.head()"
   ]
  },
  {
   "cell_type": "code",
   "execution_count": 25,
   "id": "57a355c5",
   "metadata": {},
   "outputs": [],
   "source": [
    "encoder_input = np.array(data['text']) # 인코더의 입력\n",
    "decoder_input = np.array(data['decoder_input']) # 디코더의 입력\n",
    "decoder_target = np.array(data['decoder_target']) # 디코더의 레이블"
   ]
  },
  {
   "cell_type": "code",
   "execution_count": 26,
   "id": "aa6d41cc",
   "metadata": {},
   "outputs": [
    {
     "name": "stdout",
     "output_type": "stream",
     "text": [
      "[ 9870 58627 42070 ... 86742 92352 13003]\n"
     ]
    }
   ],
   "source": [
    "indices = np.arange(encoder_input.shape[0])\n",
    "np.random.shuffle(indices)\n",
    "print(indices)"
   ]
  },
  {
   "cell_type": "code",
   "execution_count": 27,
   "id": "8cb33b63",
   "metadata": {},
   "outputs": [
    {
     "name": "stdout",
     "output_type": "stream",
     "text": [
      "o((>ω< ))o\n"
     ]
    }
   ],
   "source": [
    "encoder_input = encoder_input[indices]\n",
    "decoder_input = decoder_input[indices]\n",
    "decoder_target = decoder_target[indices]\n",
    "print('o((>ω< ))o')"
   ]
  },
  {
   "cell_type": "code",
   "execution_count": 28,
   "id": "38dae88a",
   "metadata": {},
   "outputs": [
    {
     "name": "stdout",
     "output_type": "stream",
     "text": [
      "테스트 데이터의 수 : 19667\n"
     ]
    }
   ],
   "source": [
    "n_of_val = int(len(encoder_input)*0.2)\n",
    "print('테스트 데이터의 수 :', n_of_val)"
   ]
  },
  {
   "cell_type": "code",
   "execution_count": 29,
   "id": "76d89f28",
   "metadata": {},
   "outputs": [
    {
     "name": "stdout",
     "output_type": "stream",
     "text": [
      "훈련 데이터의 개수 : 78669\n",
      "훈련 레이블의 개수 : 78669\n",
      "테스트 데이터의 개수 : 19667\n",
      "테스트 레이블의 개수 : 19667\n"
     ]
    }
   ],
   "source": [
    "encoder_input_train = encoder_input[:-n_of_val]\n",
    "decoder_input_train = decoder_input[:-n_of_val]\n",
    "decoder_target_train = decoder_target[:-n_of_val]\n",
    "\n",
    "encoder_input_test = encoder_input[-n_of_val:]\n",
    "decoder_input_test = decoder_input[-n_of_val:]\n",
    "decoder_target_test = decoder_target[-n_of_val:]\n",
    "\n",
    "print('훈련 데이터의 개수 :', len(encoder_input_train))\n",
    "print('훈련 레이블의 개수 :', len(decoder_input_train))\n",
    "print('테스트 데이터의 개수 :', len(encoder_input_test))\n",
    "print('테스트 레이블의 개수 :', len(decoder_input_test))"
   ]
  },
  {
   "cell_type": "code",
   "execution_count": 30,
   "id": "ecb05ccf",
   "metadata": {},
   "outputs": [
    {
     "name": "stdout",
     "output_type": "stream",
     "text": [
      "=3\n"
     ]
    }
   ],
   "source": [
    "src_tokenizer = Tokenizer() # 토크나이저 정의\n",
    "src_tokenizer.fit_on_texts(encoder_input_train) # 입력된 데이터로부터 단어 집합 생성\n",
    "print('=3')"
   ]
  },
  {
   "cell_type": "code",
   "execution_count": 31,
   "id": "44e6a24b",
   "metadata": {},
   "outputs": [
    {
     "name": "stdout",
     "output_type": "stream",
     "text": [
      "단어 집합(vocabulary)의 크기 : 69807\n",
      "등장 빈도가 3번 이하인 희귀 단어의 수: 40134\n",
      "단어 집합에서 희귀 단어를 제외시킬 경우의 단어 집합의 크기 29673\n",
      "단어 집합에서 희귀 단어의 비율: 57.49280158150329\n",
      "전체 등장 빈도에서 희귀 단어 등장 빈도 비율: 2.190051644783529\n"
     ]
    }
   ],
   "source": [
    "threshold = 4\n",
    "total_cnt = len(src_tokenizer.word_index) # 단어의 수\n",
    "rare_cnt = 0 # 등장 빈도수가 threshold보다 작은 단어의 개수를 카운트\n",
    "total_freq = 0 # 훈련 데이터의 전체 단어 빈도수 총 합\n",
    "rare_freq = 0 # 등장 빈도수가 threshold보다 작은 단어의 등장 빈도수의 총 합\n",
    "\n",
    "# 단어와 빈도수의 쌍(pair)을 key와 value로 받는다.\n",
    "for key, value in src_tokenizer.word_counts.items():\n",
    "    total_freq = total_freq + value\n",
    "\n",
    "    # 단어의 등장 빈도수가 threshold보다 작으면\n",
    "    if(value < threshold):\n",
    "        rare_cnt = rare_cnt + 1\n",
    "        rare_freq = rare_freq + value\n",
    "\n",
    "print('단어 집합(vocabulary)의 크기 :', total_cnt)\n",
    "print('등장 빈도가 %s번 이하인 희귀 단어의 수: %s'%(threshold - 1, rare_cnt))\n",
    "print('단어 집합에서 희귀 단어를 제외시킬 경우의 단어 집합의 크기 %s'%(total_cnt - rare_cnt))\n",
    "print(\"단어 집합에서 희귀 단어의 비율:\", (rare_cnt / total_cnt)*100)\n",
    "print(\"전체 등장 빈도에서 희귀 단어 등장 빈도 비율:\", (rare_freq / total_freq)*100)"
   ]
  },
  {
   "cell_type": "code",
   "execution_count": 32,
   "id": "1a82d548",
   "metadata": {},
   "outputs": [
    {
     "name": "stdout",
     "output_type": "stream",
     "text": [
      "=3\n"
     ]
    }
   ],
   "source": [
    "src_vocab = 20000\n",
    "src_tokenizer = Tokenizer(num_words=src_vocab) # 단어 집합의 크기를 20000로 제한\n",
    "src_tokenizer.fit_on_texts(encoder_input_train) # 단어 집합 재생성\n",
    "print('=3')"
   ]
  },
  {
   "cell_type": "code",
   "execution_count": 33,
   "id": "716c5d9c",
   "metadata": {},
   "outputs": [
    {
     "name": "stdout",
     "output_type": "stream",
     "text": [
      "[[87, 26, 4936, 1489, 1792, 1122, 1066, 63, 11, 4342, 3013, 1911, 582, 2143, 267, 13370, 7, 523, 1122, 23, 1066, 498, 461, 1911, 1304, 18402, 203, 1792, 1122, 3712, 11, 1236, 783, 208, 2892, 96, 3321, 1763, 1], [405, 3043, 1016, 1384, 1210, 1452, 385, 9867, 554, 10, 2860, 13371, 229, 1384, 554, 2061, 192, 2729, 1302, 554, 11289, 3390, 1, 1548, 258, 126, 1534, 140, 1641, 36, 548, 16, 173, 131, 301, 1452, 4311, 59], [157, 5436, 105, 924, 1786, 359, 316, 1558, 924, 47, 1167, 887, 1034, 595, 16006, 89, 4, 248, 179, 243, 2269, 6891, 350, 595, 924, 12538, 5551, 16723, 1, 38, 56, 10, 1607, 924, 9676, 56, 357, 7381]]\n"
     ]
    }
   ],
   "source": [
    "# 텍스트 시퀀스를 정수 시퀀스로 변환\n",
    "encoder_input_train = src_tokenizer.texts_to_sequences(encoder_input_train) \n",
    "encoder_input_test = src_tokenizer.texts_to_sequences(encoder_input_test)\n",
    "\n",
    "# 잘 진행되었는지 샘플 출력\n",
    "print(encoder_input_train[:3])"
   ]
  },
  {
   "cell_type": "code",
   "execution_count": 34,
   "id": "b0a65167",
   "metadata": {},
   "outputs": [
    {
     "name": "stdout",
     "output_type": "stream",
     "text": [
      "=3\n"
     ]
    }
   ],
   "source": [
    "#빈도수 계산\n",
    "tar_tokenizer = Tokenizer()\n",
    "tar_tokenizer.fit_on_texts(decoder_input_train)\n",
    "print('=3')"
   ]
  },
  {
   "cell_type": "code",
   "execution_count": 35,
   "id": "79d8bae5",
   "metadata": {},
   "outputs": [
    {
     "name": "stdout",
     "output_type": "stream",
     "text": [
      "단어 집합(vocabulary)의 크기 : 30115\n",
      "등장 빈도가 9번 이하인 희귀 단어의 수: 22420\n",
      "단어 집합에서 희귀 단어를 제외시킬 경우의 단어 집합의 크기 7695\n",
      "단어 집합에서 희귀 단어의 비율: 74.44794952681389\n",
      "전체 등장 빈도에서 희귀 단어 등장 빈도 비율: 7.078671520753939\n"
     ]
    }
   ],
   "source": [
    "threshold = 10\n",
    "total_cnt = len(tar_tokenizer.word_index) # 단어의 수\n",
    "rare_cnt = 0 # 등장 빈도수가 threshold보다 작은 단어의 개수를 카운트\n",
    "total_freq = 0 # 훈련 데이터의 전체 단어 빈도수 총 합\n",
    "rare_freq = 0 # 등장 빈도수가 threshold보다 작은 단어의 등장 빈도수의 총 합\n",
    "\n",
    "# 단어와 빈도수의 쌍(pair)을 key와 value로 받는다.\n",
    "for key, value in tar_tokenizer.word_counts.items():\n",
    "    total_freq = total_freq + value\n",
    "\n",
    "    # 단어의 등장 빈도수가 threshold보다 작으면\n",
    "    if(value < threshold):\n",
    "        rare_cnt = rare_cnt + 1\n",
    "        rare_freq = rare_freq + value\n",
    "\n",
    "print('단어 집합(vocabulary)의 크기 :', total_cnt)\n",
    "print('등장 빈도가 %s번 이하인 희귀 단어의 수: %s'%(threshold - 1, rare_cnt))\n",
    "print('단어 집합에서 희귀 단어를 제외시킬 경우의 단어 집합의 크기 %s'%(total_cnt - rare_cnt))\n",
    "print(\"단어 집합에서 희귀 단어의 비율:\", (rare_cnt / total_cnt)*100)\n",
    "print(\"전체 등장 빈도에서 희귀 단어 등장 빈도 비율:\", (rare_freq / total_freq)*100)"
   ]
  },
  {
   "cell_type": "code",
   "execution_count": 36,
   "id": "85b2fb7d",
   "metadata": {},
   "outputs": [
    {
     "name": "stdout",
     "output_type": "stream",
     "text": [
      "input\n",
      "input  [[1, 451, 772, 2868, 2923, 5, 67, 5, 206, 491], [1, 201, 61, 665, 2187, 1658, 693, 5, 5909, 406, 1505], [1, 63, 583, 477, 373, 4397, 3, 855, 411, 1000], [1, 319, 9505, 8213, 78, 156, 1146], [1, 3929, 786, 9, 4, 1598, 3, 10, 361, 94, 786, 428]]\n",
      "target\n",
      "decoder  [[451, 772, 2868, 2923, 5, 67, 5, 206, 491, 2], [201, 61, 665, 2187, 1658, 693, 5, 5909, 406, 1505, 2], [63, 583, 477, 373, 4397, 3, 855, 411, 1000, 2], [319, 9505, 8213, 78, 156, 1146, 2], [3929, 786, 9, 4, 1598, 3, 10, 361, 94, 786, 428, 2]]\n"
     ]
    }
   ],
   "source": [
    "tar_vocab = 10000\n",
    "tar_tokenizer = Tokenizer(num_words=tar_vocab) \n",
    "tar_tokenizer.fit_on_texts(decoder_input_train)\n",
    "tar_tokenizer.fit_on_texts(decoder_target_train)\n",
    "\n",
    "# 텍스트 시퀀스를 정수 시퀀스로 변환\n",
    "decoder_input_train = tar_tokenizer.texts_to_sequences(decoder_input_train) \n",
    "decoder_target_train = tar_tokenizer.texts_to_sequences(decoder_target_train)\n",
    "decoder_input_test = tar_tokenizer.texts_to_sequences(decoder_input_test)\n",
    "decoder_target_test = tar_tokenizer.texts_to_sequences(decoder_target_test)\n",
    "\n",
    "# 잘 변환되었는지 확인\n",
    "print('input')\n",
    "print('input ',decoder_input_train[:5])\n",
    "print('target')\n",
    "print('decoder ',decoder_target_train[:5])"
   ]
  },
  {
   "cell_type": "code",
   "execution_count": 37,
   "id": "710d0804",
   "metadata": {},
   "outputs": [
    {
     "name": "stdout",
     "output_type": "stream",
     "text": [
      "삭제할 훈련 데이터의 개수 : 0\n",
      "삭제할 테스트 데이터의 개수 : 0\n",
      "훈련 데이터의 개수 : 78669\n",
      "훈련 레이블의 개수 : 78669\n",
      "테스트 데이터의 개수 : 19667\n",
      "테스트 레이블의 개수 : 19667\n"
     ]
    }
   ],
   "source": [
    "drop_train = [index for index, sentence in enumerate(decoder_input_train) if len(sentence) == 1]\n",
    "drop_test = [index for index, sentence in enumerate(decoder_input_test) if len(sentence) == 1]\n",
    "\n",
    "print('삭제할 훈련 데이터의 개수 :', len(drop_train))\n",
    "print('삭제할 테스트 데이터의 개수 :', len(drop_test))\n",
    "\n",
    "encoder_input_train = [sentence for index, sentence in enumerate(encoder_input_train) if index not in drop_train]\n",
    "decoder_input_train = [sentence for index, sentence in enumerate(decoder_input_train) if index not in drop_train]\n",
    "decoder_target_train = [sentence for index, sentence in enumerate(decoder_target_train) if index not in drop_train]\n",
    "\n",
    "encoder_input_test = [sentence for index, sentence in enumerate(encoder_input_test) if index not in drop_test]\n",
    "decoder_input_test = [sentence for index, sentence in enumerate(decoder_input_test) if index not in drop_test]\n",
    "decoder_target_test = [sentence for index, sentence in enumerate(decoder_target_test) if index not in drop_test]\n",
    "\n",
    "print('훈련 데이터의 개수 :', len(encoder_input_train))\n",
    "print('훈련 레이블의 개수 :', len(decoder_input_train))\n",
    "print('테스트 데이터의 개수 :', len(encoder_input_test))\n",
    "print('테스트 레이블의 개수 :', len(decoder_input_test))"
   ]
  },
  {
   "cell_type": "code",
   "execution_count": 38,
   "id": "ae2452d3",
   "metadata": {},
   "outputs": [
    {
     "name": "stdout",
     "output_type": "stream",
     "text": [
      "=3\n"
     ]
    }
   ],
   "source": [
    "encoder_input_train = pad_sequences(encoder_input_train, maxlen=text_max_len, padding='post')\n",
    "encoder_input_test = pad_sequences(encoder_input_test, maxlen=text_max_len, padding='post')\n",
    "decoder_input_train = pad_sequences(decoder_input_train, maxlen=summary_max_len, padding='post')\n",
    "decoder_target_train = pad_sequences(decoder_target_train, maxlen=summary_max_len, padding='post')\n",
    "decoder_input_test = pad_sequences(decoder_input_test, maxlen=summary_max_len, padding='post')\n",
    "decoder_target_test = pad_sequences(decoder_target_test, maxlen=summary_max_len, padding='post')\n",
    "print('=3')"
   ]
  },
  {
   "cell_type": "code",
   "execution_count": 39,
   "id": "5c122058",
   "metadata": {},
   "outputs": [
    {
     "data": {
      "text/plain": [
       "array([[   87,    26,  4936,  1489,  1792,  1122,  1066,    63,    11,\n",
       "         4342,  3013,  1911,   582,  2143,   267, 13370,     7,   523,\n",
       "         1122,    23,  1066,   498,   461,  1911,  1304, 18402,   203,\n",
       "         1792,  1122,  3712,    11,  1236,   783,   208,  2892,    96,\n",
       "         3321,  1763,     1,     0,     0,     0,     0,     0,     0,\n",
       "            0,     0,     0,     0,     0,     0,     0,     0,     0,\n",
       "            0],\n",
       "       [  405,  3043,  1016,  1384,  1210,  1452,   385,  9867,   554,\n",
       "           10,  2860, 13371,   229,  1384,   554,  2061,   192,  2729,\n",
       "         1302,   554, 11289,  3390,     1,  1548,   258,   126,  1534,\n",
       "          140,  1641,    36,   548,    16,   173,   131,   301,  1452,\n",
       "         4311,    59,     0,     0,     0,     0,     0,     0,     0,\n",
       "            0,     0,     0,     0,     0,     0,     0,     0,     0,\n",
       "            0],\n",
       "       [  157,  5436,   105,   924,  1786,   359,   316,  1558,   924,\n",
       "           47,  1167,   887,  1034,   595, 16006,    89,     4,   248,\n",
       "          179,   243,  2269,  6891,   350,   595,   924, 12538,  5551,\n",
       "        16723,     1,    38,    56,    10,  1607,   924,  9676,    56,\n",
       "          357,  7381,     0,     0,     0,     0,     0,     0,     0,\n",
       "            0,     0,     0,     0,     0,     0,     0,     0,     0,\n",
       "            0],\n",
       "       [  342,    32,   630,  5123,  9493,   103,   298,  3083,   626,\n",
       "          433,  1250,    32,  5075,  4418,   626,    97,  2562,   742,\n",
       "         1817,   765,  1010,  1453,  2893,  2370,   103,     1,   529,\n",
       "         9493,   991,  2451,   106,  7471,  3528,  3975,  2662,     0,\n",
       "            0,     0,     0,     0,     0,     0,     0,     0,     0,\n",
       "            0,     0,     0,     0,     0,     0,     0,     0,     0,\n",
       "            0],\n",
       "       [  920,  1661,     1,  1749,  4254,  1613,  4287,   669,  2109,\n",
       "        14277, 10737,    14,  1118,   494,  2044, 10737, 16724,  1118,\n",
       "            1,   269,   501,    33,  1337,     4,   920,   408,    61,\n",
       "          373,    30,    10,  6560,  3177,  1337,  3657,     0,     0,\n",
       "            0,     0,     0,     0,     0,     0,     0,     0,     0,\n",
       "            0,     0,     0,     0,     0,     0,     0,     0,     0,\n",
       "            0]], dtype=int32)"
      ]
     },
     "execution_count": 39,
     "metadata": {},
     "output_type": "execute_result"
    }
   ],
   "source": [
    "encoder_input_train[:5]"
   ]
  },
  {
   "cell_type": "markdown",
   "id": "f041f227",
   "metadata": {},
   "source": [
    "## Step 3. 추상적 요약 : 모델 작성"
   ]
  },
  {
   "cell_type": "code",
   "execution_count": 40,
   "id": "ebc17a96",
   "metadata": {},
   "outputs": [],
   "source": [
    "from tensorflow.keras.layers import Input, LSTM, Embedding, Dense, Concatenate, TimeDistributed\n",
    "from tensorflow.keras.models import Model\n",
    "from tensorflow.keras.callbacks import EarlyStopping, ModelCheckpoint\n",
    "\n",
    "\n",
    "# 인코더 설계 시작\n",
    "embedding_dim = 256\n",
    "hidden_size = 512\n",
    "\n",
    "# 인코더\n",
    "encoder_inputs = Input(shape=(text_max_len,))\n",
    "\n",
    "# 인코더의 임베딩 층\n",
    "enc_emb = Embedding(src_vocab, embedding_dim)(encoder_inputs)\n",
    "\n",
    "# 인코더의 LSTM 1\n",
    "# encoder_lstm1 = LSTM(hidden_size, return_sequences=True, return_state=True ,dropout = 0.4, recurrent_dropout = 0.4)\n",
    "encoder_lstm1 = LSTM(hidden_size, return_sequences=True, return_state=True ,dropout = 0.4)\n",
    "encoder_output1, state_h1, state_c1 = encoder_lstm1(enc_emb)\n",
    "\n",
    "# 인코더의 LSTM 2\n",
    "# encoder_lstm2 = LSTM(hidden_size, return_sequences=True, return_state=True, dropout=0.4, recurrent_dropout=0.4)\n",
    "encoder_lstm2 = LSTM(hidden_size, return_sequences=True, return_state=True, dropout=0.4)\n",
    "encoder_output2, state_h2, state_c2 = encoder_lstm2(encoder_output1)\n",
    "\n",
    "# 인코더의 LSTM 3\n",
    "# encoder_lstm3 = LSTM(hidden_size, return_state=True, return_sequences=True, dropout=0.4, recurrent_dropout=0.4)\n",
    "encoder_lstm3 = LSTM(hidden_size, return_state=True, return_sequences=True, dropout=0.4)\n",
    "encoder_outputs, state_h, state_c= encoder_lstm3(encoder_output2)"
   ]
  },
  {
   "cell_type": "code",
   "execution_count": 41,
   "id": "6b59b9e3",
   "metadata": {},
   "outputs": [],
   "source": [
    "# 디코더 설계\n",
    "decoder_inputs = Input(shape=(None,))\n",
    "\n",
    "# 디코더의 임베딩 층\n",
    "dec_emb_layer = Embedding(tar_vocab, embedding_dim)\n",
    "dec_emb = dec_emb_layer(decoder_inputs)\n",
    "\n",
    "# 디코더의 LSTM\n",
    "# decoder_lstm = LSTM(hidden_size, return_sequences=True, return_state=True, dropout=0.4, recurrent_dropout=0.2)\n",
    "decoder_lstm = LSTM(hidden_size, return_sequences=True, return_state=True, dropout=0.4)\n",
    "decoder_outputs, _, _ = decoder_lstm(dec_emb, initial_state=[state_h, state_c])"
   ]
  },
  {
   "cell_type": "markdown",
   "id": "6c8239cc",
   "metadata": {},
   "source": [
    "디코더의 출력층을 구성한다."
   ]
  },
  {
   "cell_type": "code",
   "execution_count": 42,
   "id": "f88a7e56",
   "metadata": {},
   "outputs": [
    {
     "name": "stdout",
     "output_type": "stream",
     "text": [
      "Model: \"model\"\n",
      "__________________________________________________________________________________________________\n",
      "Layer (type)                    Output Shape         Param #     Connected to                     \n",
      "==================================================================================================\n",
      "input_1 (InputLayer)            [(None, 55)]         0                                            \n",
      "__________________________________________________________________________________________________\n",
      "embedding (Embedding)           (None, 55, 256)      5120000     input_1[0][0]                    \n",
      "__________________________________________________________________________________________________\n",
      "lstm (LSTM)                     [(None, 55, 512), (N 1574912     embedding[0][0]                  \n",
      "__________________________________________________________________________________________________\n",
      "input_2 (InputLayer)            [(None, None)]       0                                            \n",
      "__________________________________________________________________________________________________\n",
      "lstm_1 (LSTM)                   [(None, 55, 512), (N 2099200     lstm[0][0]                       \n",
      "__________________________________________________________________________________________________\n",
      "embedding_1 (Embedding)         (None, None, 256)    2560000     input_2[0][0]                    \n",
      "__________________________________________________________________________________________________\n",
      "lstm_2 (LSTM)                   [(None, 55, 512), (N 2099200     lstm_1[0][0]                     \n",
      "__________________________________________________________________________________________________\n",
      "lstm_3 (LSTM)                   [(None, None, 512),  1574912     embedding_1[0][0]                \n",
      "                                                                 lstm_2[0][1]                     \n",
      "                                                                 lstm_2[0][2]                     \n",
      "__________________________________________________________________________________________________\n",
      "dense (Dense)                   (None, None, 10000)  5130000     lstm_3[0][0]                     \n",
      "==================================================================================================\n",
      "Total params: 20,158,224\n",
      "Trainable params: 20,158,224\n",
      "Non-trainable params: 0\n",
      "__________________________________________________________________________________________________\n"
     ]
    }
   ],
   "source": [
    "# 디코더의 출력층\n",
    "decoder_softmax_layer = Dense(tar_vocab, activation='softmax')\n",
    "decoder_softmax_outputs = decoder_softmax_layer(decoder_outputs) \n",
    "\n",
    "# 모델 정의\n",
    "model = Model([encoder_inputs, decoder_inputs], decoder_softmax_outputs)\n",
    "model.summary()"
   ]
  },
  {
   "cell_type": "markdown",
   "id": "0b55a906",
   "metadata": {},
   "source": [
    "디코더의 출력층을 지나면 summary가 만들어진다. 마지막 레이어에서 결국 수많은 선택지 중 한 단어를 골라야 하는 다중 클래스 분류 문제를 풀어야 하기 때문에 소프트맥스 활성화함수를 사용한다.  "
   ]
  },
  {
   "cell_type": "markdown",
   "id": "23183f23",
   "metadata": {},
   "source": [
    "케라스에서 기본적으로 제공하는 Attention 레이어를 사용했습니다."
   ]
  },
  {
   "cell_type": "code",
   "execution_count": 43,
   "id": "350437d5",
   "metadata": {},
   "outputs": [
    {
     "name": "stdout",
     "output_type": "stream",
     "text": [
      "Model: \"model_1\"\n",
      "__________________________________________________________________________________________________\n",
      "Layer (type)                    Output Shape         Param #     Connected to                     \n",
      "==================================================================================================\n",
      "input_1 (InputLayer)            [(None, 55)]         0                                            \n",
      "__________________________________________________________________________________________________\n",
      "embedding (Embedding)           (None, 55, 256)      5120000     input_1[0][0]                    \n",
      "__________________________________________________________________________________________________\n",
      "lstm (LSTM)                     [(None, 55, 512), (N 1574912     embedding[0][0]                  \n",
      "__________________________________________________________________________________________________\n",
      "input_2 (InputLayer)            [(None, None)]       0                                            \n",
      "__________________________________________________________________________________________________\n",
      "lstm_1 (LSTM)                   [(None, 55, 512), (N 2099200     lstm[0][0]                       \n",
      "__________________________________________________________________________________________________\n",
      "embedding_1 (Embedding)         (None, None, 256)    2560000     input_2[0][0]                    \n",
      "__________________________________________________________________________________________________\n",
      "lstm_2 (LSTM)                   [(None, 55, 512), (N 2099200     lstm_1[0][0]                     \n",
      "__________________________________________________________________________________________________\n",
      "lstm_3 (LSTM)                   [(None, None, 512),  1574912     embedding_1[0][0]                \n",
      "                                                                 lstm_2[0][1]                     \n",
      "                                                                 lstm_2[0][2]                     \n",
      "__________________________________________________________________________________________________\n",
      "attention_layer (AdditiveAttent (None, None, 512)    512         lstm_3[0][0]                     \n",
      "                                                                 lstm_2[0][0]                     \n",
      "__________________________________________________________________________________________________\n",
      "concat_layer (Concatenate)      (None, None, 1024)   0           lstm_3[0][0]                     \n",
      "                                                                 attention_layer[0][0]            \n",
      "__________________________________________________________________________________________________\n",
      "dense_1 (Dense)                 (None, None, 10000)  10250000    concat_layer[0][0]               \n",
      "==================================================================================================\n",
      "Total params: 25,278,736\n",
      "Trainable params: 25,278,736\n",
      "Non-trainable params: 0\n",
      "__________________________________________________________________________________________________\n"
     ]
    }
   ],
   "source": [
    "from tensorflow.keras.layers import AdditiveAttention\n",
    "\n",
    "# 어텐션 층(어텐션 함수)\n",
    "attn_layer = AdditiveAttention(name='attention_layer')\n",
    "\n",
    "# 인코더와 디코더의 모든 time step의 hidden state를 어텐션 층에 전달하고 결과를 리턴\n",
    "attn_out = attn_layer([decoder_outputs, encoder_outputs])\n",
    "\n",
    "\n",
    "# 어텐션의 결과와 디코더의 hidden state들을 연결\n",
    "decoder_concat_input = Concatenate(axis=-1, name='concat_layer')([decoder_outputs, attn_out])\n",
    "\n",
    "# 디코더의 출력층\n",
    "decoder_softmax_layer = Dense(tar_vocab, activation='softmax')\n",
    "decoder_softmax_outputs = decoder_softmax_layer(decoder_concat_input)\n",
    "\n",
    "# 모델 정의\n",
    "model = Model([encoder_inputs, decoder_inputs], decoder_softmax_outputs)\n",
    "model.summary()"
   ]
  },
  {
   "cell_type": "markdown",
   "id": "2379e8f6",
   "metadata": {},
   "source": [
    "**모델훈련**"
   ]
  },
  {
   "cell_type": "code",
   "execution_count": 44,
   "id": "5f57b310",
   "metadata": {},
   "outputs": [],
   "source": [
    "model.compile(optimizer='rmsprop', loss='sparse_categorical_crossentropy')\n",
    "es = EarlyStopping(monitor='val_loss', patience=3, verbose=1)"
   ]
  },
  {
   "cell_type": "code",
   "execution_count": 45,
   "id": "447c0f1d",
   "metadata": {},
   "outputs": [
    {
     "name": "stdout",
     "output_type": "stream",
     "text": [
      "Epoch 1/50\n",
      "154/154 [==============================] - 90s 538ms/step - loss: 4.9849 - val_loss: 4.5544\n",
      "Epoch 2/50\n",
      "154/154 [==============================] - 87s 567ms/step - loss: 4.4370 - val_loss: 4.2140\n",
      "Epoch 3/50\n",
      "154/154 [==============================] - 87s 567ms/step - loss: 4.0684 - val_loss: 3.9172\n",
      "Epoch 4/50\n",
      "154/154 [==============================] - 87s 568ms/step - loss: 3.7572 - val_loss: 3.6708\n",
      "Epoch 5/50\n",
      "154/154 [==============================] - 87s 568ms/step - loss: 3.4950 - val_loss: 3.5135\n",
      "Epoch 6/50\n",
      "154/154 [==============================] - 88s 569ms/step - loss: 3.2794 - val_loss: 3.3819\n",
      "Epoch 7/50\n",
      "154/154 [==============================] - 87s 568ms/step - loss: 3.0936 - val_loss: 3.2937\n",
      "Epoch 8/50\n",
      "154/154 [==============================] - 87s 568ms/step - loss: 2.9318 - val_loss: 3.2188\n",
      "Epoch 9/50\n",
      "154/154 [==============================] - 87s 568ms/step - loss: 2.7870 - val_loss: 3.1822\n",
      "Epoch 10/50\n",
      "154/154 [==============================] - 87s 568ms/step - loss: 2.6577 - val_loss: 3.1398\n",
      "Epoch 11/50\n",
      "154/154 [==============================] - 87s 568ms/step - loss: 2.5375 - val_loss: 3.1207\n",
      "Epoch 12/50\n",
      "154/154 [==============================] - 88s 569ms/step - loss: 2.4262 - val_loss: 3.1127\n",
      "Epoch 13/50\n",
      "154/154 [==============================] - 88s 569ms/step - loss: 2.3238 - val_loss: 3.0946\n",
      "Epoch 14/50\n",
      "154/154 [==============================] - 87s 568ms/step - loss: 2.2254 - val_loss: 3.0873\n",
      "Epoch 15/50\n",
      "154/154 [==============================] - 87s 568ms/step - loss: 2.1347 - val_loss: 3.0937\n",
      "Epoch 16/50\n",
      "154/154 [==============================] - 87s 569ms/step - loss: 2.0476 - val_loss: 3.0929\n",
      "Epoch 17/50\n",
      "154/154 [==============================] - 88s 569ms/step - loss: 1.9664 - val_loss: 3.1072\n",
      "Epoch 00017: early stopping\n"
     ]
    }
   ],
   "source": [
    "history = model.fit(x=[encoder_input_train, decoder_input_train], y=decoder_target_train, \\\n",
    "          validation_data=([encoder_input_test, decoder_input_test], decoder_target_test), \\\n",
    "          batch_size=512, callbacks=[es], epochs=50)"
   ]
  },
  {
   "cell_type": "code",
   "execution_count": 46,
   "id": "2f9b55a7",
   "metadata": {},
   "outputs": [
    {
     "data": {
      "image/png": "[encoded data removed]",
      "text/plain": [
       "<Figure size 432x288 with 1 Axes>"
      ]
     },
     "metadata": {
      "needs_background": "light"
     },
     "output_type": "display_data"
    }
   ],
   "source": [
    "plt.plot(history.history['loss'], label='train')\n",
    "plt.plot(history.history['val_loss'], label='test')\n",
    "plt.legend()\n",
    "plt.show()"
   ]
  },
  {
   "cell_type": "code",
   "execution_count": 47,
   "id": "7fed1d85",
   "metadata": {},
   "outputs": [
    {
     "name": "stdout",
     "output_type": "stream",
     "text": [
      "=3\n"
     ]
    }
   ],
   "source": [
    "src_index_to_word = src_tokenizer.index_word # 원문 단어 집합에서 정수 -> 단어를 얻음\n",
    "tar_word_to_index = tar_tokenizer.word_index # 요약 단어 집합에서 단어 -> 정수를 얻음\n",
    "tar_index_to_word = tar_tokenizer.index_word # 요약 단어 집합에서 정수 -> 단어를 얻음\n",
    "\n",
    "print('=3')"
   ]
  },
  {
   "cell_type": "code",
   "execution_count": 48,
   "id": "632f3055",
   "metadata": {},
   "outputs": [
    {
     "name": "stdout",
     "output_type": "stream",
     "text": [
      "=3\n"
     ]
    }
   ],
   "source": [
    "# 인코더 설계\n",
    "encoder_model = Model(inputs=encoder_inputs, outputs=[encoder_outputs, state_h, state_c])\n",
    "\n",
    "# 이전 시점의 상태들을 저장하는 텐서\n",
    "decoder_state_input_h = Input(shape=(hidden_size,))\n",
    "decoder_state_input_c = Input(shape=(hidden_size,))\n",
    "\n",
    "dec_emb2 = dec_emb_layer(decoder_inputs)\n",
    "\n",
    "# 문장의 다음 단어를 예측하기 위해서 초기 상태(initial_state)를 이전 시점의 상태로 사용. 이는 뒤의 함수 decode_sequence()에 구현\n",
    "# 훈련 과정에서와 달리 LSTM의 리턴하는 은닉 상태와 셀 상태인 state_h와 state_c를 버리지 않음.\n",
    "decoder_outputs2, state_h2, state_c2 = decoder_lstm(dec_emb2, initial_state=[decoder_state_input_h, decoder_state_input_c])\n",
    "\n",
    "print('=3')"
   ]
  },
  {
   "cell_type": "code",
   "execution_count": 49,
   "id": "6fbb3470",
   "metadata": {},
   "outputs": [
    {
     "name": "stdout",
     "output_type": "stream",
     "text": [
      "=3\n"
     ]
    }
   ],
   "source": [
    "# 어텐션 함수\n",
    "decoder_hidden_state_input = Input(shape=(text_max_len, hidden_size))\n",
    "attn_out_inf = attn_layer([decoder_outputs2, decoder_hidden_state_input])\n",
    "decoder_inf_concat = Concatenate(axis=-1, name='concat')([decoder_outputs2, attn_out_inf])\n",
    "\n",
    "# 디코더의 출력층\n",
    "decoder_outputs2 = decoder_softmax_layer(decoder_inf_concat) \n",
    "\n",
    "# 최종 디코더 모델\n",
    "decoder_model = Model(\n",
    "    [decoder_inputs] + [decoder_hidden_state_input,decoder_state_input_h, decoder_state_input_c],\n",
    "    [decoder_outputs2] + [state_h2, state_c2])\n",
    "\n",
    "print('=3')"
   ]
  },
  {
   "cell_type": "code",
   "execution_count": 50,
   "id": "adc1fee9",
   "metadata": {},
   "outputs": [
    {
     "name": "stdout",
     "output_type": "stream",
     "text": [
      "=3\n"
     ]
    }
   ],
   "source": [
    "def decode_sequence(input_seq):\n",
    "    # 입력으로부터 인코더의 상태를 얻음\n",
    "    e_out, e_h, e_c = encoder_model.predict(input_seq)\n",
    "\n",
    "     # <SOS>에 해당하는 토큰 생성\n",
    "    target_seq = np.zeros((1,1))\n",
    "    target_seq[0, 0] = tar_word_to_index['sostoken']\n",
    "\n",
    "    stop_condition = False\n",
    "    decoded_sentence = ''\n",
    "    while not stop_condition: # stop_condition이 True가 될 때까지 루프 반복\n",
    "\n",
    "        output_tokens, h, c = decoder_model.predict([target_seq] + [e_out, e_h, e_c])\n",
    "        sampled_token_index = np.argmax(output_tokens[0, -1, :])\n",
    "        sampled_token = tar_index_to_word[sampled_token_index]\n",
    "\n",
    "        if (sampled_token!='eostoken'):\n",
    "            decoded_sentence += ' '+sampled_token\n",
    "\n",
    "        #  <eos>에 도달하거나 최대 길이를 넘으면 중단.\n",
    "        if (sampled_token == 'eostoken'  or len(decoded_sentence.split()) >= (summary_max_len-1)):\n",
    "            stop_condition = True\n",
    "\n",
    "        # 길이가 1인 타겟 시퀀스를 업데이트\n",
    "        target_seq = np.zeros((1,1))\n",
    "        target_seq[0, 0] = sampled_token_index\n",
    "\n",
    "        # 상태를 업데이트 합니다.\n",
    "        e_h, e_c = h, c\n",
    "\n",
    "    return decoded_sentence\n",
    "print('=3')"
   ]
  },
  {
   "cell_type": "markdown",
   "id": "3580f7e6",
   "metadata": {},
   "source": [
    "## Step 4. 추상적 요약 : 결과 비교"
   ]
  },
  {
   "cell_type": "code",
   "execution_count": 51,
   "id": "26d47b61",
   "metadata": {},
   "outputs": [
    {
     "name": "stdout",
     "output_type": "stream",
     "text": [
      "=3\n"
     ]
    }
   ],
   "source": [
    "# 원문의 정수 시퀀스를 텍스트 시퀀스로 변환\n",
    "def seq2text(input_seq):\n",
    "    temp=''\n",
    "    for i in input_seq:\n",
    "        if (i!=0):\n",
    "            temp = temp + src_index_to_word[i]+' '\n",
    "    return temp\n",
    "\n",
    "# 요약문의 정수 시퀀스를 텍스트 시퀀스로 변환\n",
    "def seq2summary(input_seq):\n",
    "    temp=''\n",
    "    for i in input_seq:\n",
    "        if ((i!=0 and i!=tar_word_to_index['sostoken']) and i!=tar_word_to_index['eostoken']):\n",
    "            temp = temp + tar_index_to_word[i] + ' '\n",
    "    return temp\n",
    "\n",
    "print('=3')"
   ]
  },
  {
   "cell_type": "code",
   "execution_count": 134,
   "id": "ef21bd6c",
   "metadata": {},
   "outputs": [
    {
     "name": "stdout",
     "output_type": "stream",
     "text": [
      "원문 : villages haryana rewari ruled practicing lawyer help accused year old cbse topper gangrape case also wrote haryana governor seeking strict action accused police arrested three people including main accused doctor villager whose property incident happened nnn \n",
      "실제 요약 : no lawyers for accused in gangrape case \n",
      "예측 요약 :  hc orders fir against yr old for rape in maha\n",
      "\n",
      "\n",
      "원문 : announcing post poll alliance jd karnataka assembly elections congress announced support jd supremo deve gowda son hd kumaraswamy chief minister post according reports congress reportedly plans appoint dalit candidate post deputy cm congress jd collectively seats bjp constituencies \n",
      "실제 요약 : cong supports jd chief son as cm cong pick to be dy cm \n",
      "예측 요약 :  jd to contest cm against taka cm for taka polls\n",
      "\n",
      "\n",
      "원문 : markets regulator sebi imposed penalty lakh vinay agrawal former official ing bank violating insider trading regulations agrawal traded banks shares valuing lakh four times august may agrawal failed disclose dealings ing bse \n",
      "실제 요약 : sebi imposes lakh fine on former bank official \n",
      "예측 요약 :  sebi imposes fine on sebi over chanda kochhar\n",
      "\n",
      "\n",
      "원문 : co working startup wework china based rival raised million funding round led capital general atlantic money used expansion startup targets double floor space coming months comes weeks wework china unit said raising million boost growth country \n",
      "실제 요약 : wework china rival raises million \n",
      "예측 요약 :  chinese startup raises mn in series funding\n",
      "\n",
      "\n",
      "원문 : reacting ravindra gaikwad air india controversy shiv sena mp sanjay raut said cmd ki kya hai ki social media par ek ka kar rahe ho raut said clearly visible clips mp ill treated teaching us behave properly first learn \n",
      "실제 요약 : sena questions ai cmd accuses him of insulting mp \n",
      "예측 요약 :  ek hai bjp ke hai sena on cm\n",
      "\n",
      "\n",
      "원문 : lingayat came together wednesday bengaluru demand reservation given separate religion status comes different lingayat faction conducted massive rally belagavi seeking separate religion status also urged government set free hostels poor lingayat students every district \n",
      "실제 요약 : seek quota for the community \n",
      "예측 요약 :  no quota for reservation for religious community\n",
      "\n",
      "\n",
      "원문 : india stand captain rohit sharma revealed missed dinesh karthik tournament winning last ball six super would taken place scores tied rohit also revealed karthik happy demoted bat number seven instead number six \n",
      "실제 요약 : did not see last ball was up for super over rohit \n",
      "예측 요약 :  rohit sharma hit his karthik after karthik fails to score\n",
      "\n",
      "\n",
      "원문 : owned fugitive businessman low put sale million malaysia low alleged mastermind behind theft billion government fund allegedly paid million yacht us alleges yacht artworks worth million among assets bought using stolen money \n",
      "실제 요약 : malaysian fugitive yacht goes on sale at half its mn price \n",
      "예측 요약 :  uk firm gets crore as stock worth cr\n",
      "\n",
      "\n",
      "원문 : tripura cm manik sarkar alleged prasar bharati autonomous body doordarshan india radio refused broadcast pre recorded independence day address unless speech reportedly references gau raksha attacks minorities prasar bharati found inappropriate occasion sarkar condemned decision undemocratic \n",
      "실제 요약 : tripura cm alleges dd refused to broadcast his day address \n",
      "예측 요약 :  tripura cm deb to tripura cm for tripura floods\n",
      "\n",
      "\n",
      "원문 : japan withdrawn participation international fleet review south korea due row rising sun flag south north korea protested japan planned display flag viewed symbol japan past military aggression japan maritime self defence force said hoisting required law \n",
      "실제 요약 : japan withdraws from naval event over protests against flag \n",
      "예측 요약 :  japan japan japan group fails to korea\n",
      "\n",
      "\n",
      "원문 : taliban militant group killed governor afghanistan district ignoring eight day ceasefire announced afghan government tuesday accepting government ceasefire offer militant group said would defend attacks taliban three day ceasefire begin friday \n",
      "실제 요약 : taliban kills afghan governor ignoring ceasefire \n",
      "예측 요약 :  taliban claims ceasefire in afghanistan\n",
      "\n",
      "\n",
      "원문 : us president donald trump wednesday referred library built afghanistan funding india saying know using afghanistan also said regional countries like india russia pakistan fight taliban afghanistan miles away mind trump added \n",
      "실제 요약 : do not know who is using it trump on india funding afghanistan library \n",
      "예측 요약 :  trump signs crore deal with us policies\n",
      "\n",
      "\n",
      "원문 : recently shut startup stayzilla co founder arrested unpaid dues client accused unpaid dues founder sameer addressing arrested co founder yogendra vasupal tweeted yogi tell paying us comes stayzilla founders claimed threatened client dues \n",
      "실제 요약 : stayzilla accused of unpaid dues by \n",
      "예측 요약 :  ceo of stayzilla sued by ceo for cheating\n",
      "\n",
      "\n",
      "원문 : digital payments india cash non digital payments according report international data corporation contribution digital payment instruments mobile banking reportedly expected grow november national payments corporation india said digital transactions spiked times since demonetisation \n",
      "실제 요약 : digital payments in india to cash by report \n",
      "예측 요약 :  digital transactions may be payments by\n",
      "\n",
      "\n",
      "원문 : least six jaguar force jawans martyred several injured blast carried naxals jharkhand tuesday police said jawans gone district receiving tip presence naxals triggered blast opened fire reached area \n",
      "실제 요약 : jaguar force jawans martyred in blast by naxals in khand \n",
      "예측 요약 :  jawans martyred in encounter in jammu and kashmir\n",
      "\n",
      "\n",
      "원문 : around tons drugs set ablaze afghanistan nangarhar province amid crackdown government illegal drugs trade different narcotics including heroin opium chemicals alcoholic beverages set alight officials said notably afghanistan produces world opium used produce heroin \n",
      "실제 요약 : tons of drugs set ablaze in afghanistan \n",
      "예측 요약 :  us orders probe from isis to sell drug drugs\n",
      "\n",
      "\n",
      "원문 : video youtube shows apple iphone smartphone looks like inside iphone consists two megapixel cameras dual battery fit behind smartphone oled display video also shows iphone camera system contains infrared camera megapixel front facing camera \n",
      "실제 요약 : video shows how apple iphone looks from inside \n",
      "예측 요약 :  apple to launch its own iphone with iphone plus\n",
      "\n",
      "\n",
      "원문 : many farmers maharashtra written governor seeking permission euthanasia farmers claimed paid prices crops adequate compensation land land acquired state government construction highway \n",
      "실제 요약 : maharashtra farmers seek permission for euthanasia \n",
      "예측 요약 :  farmers protest after farmers demand hike in maha\n",
      "\n",
      "\n",
      "원문 : iranian foreign minister mohammad javad zarif accused us allies middle east providing ideology financial assistance terrorist groups like islamic state al al qaeda said us stance towards iran includes accusations iran sponsoring terrorism represents misplaced misguided policy \n",
      "실제 요약 : is al qaeda get funds ideology from us allies iran minister \n",
      "예측 요약 :  us will not allow iran to jerusalem\n",
      "\n",
      "\n",
      "원문 : nawazuddin siddiqui shared picture twitter mother siddiqui named bbc influential women list lady showed courage odds conservative family small village mother tweeted nawazuddin indian women cricket team captain mithali raj also featured list \n",
      "실제 요약 : nawaz mother features in bbc most influential women \n",
      "예측 요약 :  nawazuddin shares pic of woman who becomes st woman\n",
      "\n",
      "\n",
      "원문 : supreme court tuesday adjourned hearing cbi director alok verma petition reply investigation got leaked media think deserve hearing cji ranjan gogoi said handing media report verma lawyer giving copy senior member bar verma lawyer cji added \n",
      "실제 요약 : of you deserve hearing sc over leaked details of cbi case \n",
      "예측 요약 :  sc dismisses pil against cbi probe on cbi plea\n",
      "\n",
      "\n",
      "원문 : researchers google owned labs found naked rats live years rarely develop cancer chance dying increase age defying mortality law researchers discovered team found specimen living years normal rats live six years age \n",
      "실제 요약 : rats found to live over years defy laws \n",
      "예측 요약 :  google maps with humans in human brain disease\n",
      "\n",
      "\n",
      "원문 : around lakh indians participated inshorts pulse nation poll said satisfied current government around believe corporate frauds decreased feel change feel internal conflicts affecting harmony increased feel change \n",
      "실제 요약 : satisfied with the current government of the nation poll \n",
      "예측 요약 :  govt to hold up in india\n",
      "\n",
      "\n",
      "원문 : pakistan justified release mumbai terror attack mastermind jamaat ud dawah chief hafiz saeed house arrest claiming committed un security council sanctions terrorists pakistan foreign ministry asserted country fight terrorism world us earlier accused pakistan safe terrorists \n",
      "실제 요약 : pakistan release of mastermind hafiz saeed \n",
      "예측 요약 :  pak rejects hafiz saeed to arrest hafiz saeed\n",
      "\n",
      "\n",
      "원문 : asked winning debut award janhvi kapoor sara ali khan karan johar answered think fair compare girls awards matter work matters added karan janhvi made bollywood debut earlier year dhadak sara set make debut kedarnath \n",
      "실제 요약 : think it is not fair to compare janhvi and sara karan johar \n",
      "예측 요약 :  karan johar is the best thing karan johar\n",
      "\n",
      "\n",
      "원문 : petrol price hiked per litre since beginning july rates revised daily petrol priced litre delhi highest rate three years similarly diesel price increased per litre costs litre delhi highest four months \n",
      "실제 요약 : petrol price hiked by diesel by since july \n",
      "예측 요약 :  petrol price cut by litre diesel by litre\n",
      "\n",
      "\n",
      "원문 : sweden admitted traditional dish swedish actually turkish swedish actually based recipe king charles xii brought home turkey early th century country official twitter account wrote king charles xii began ruling sweden lived around present day turkey nearly six years exile \n",
      "실제 요약 : sweden admits its traditional dish is actually turkish \n",
      "예측 요약 :  germany releases its first ever ever\n",
      "\n",
      "\n",
      "원문 : former england captain david beckham announced retirement football refusing renew contract french side paris saint germain may beckham made debut went win six league titles manchester united scoring goals league matches beckham featured england side matches \n",
      "실제 요약 : years since beckham announced his retirement from football \n",
      "예측 요약 :  former england captain retires from rival after yrs\n",
      "\n",
      "\n",
      "원문 : malala yousafzai youngest nobel peace prize winner called fellow laureate myanmar leader aung san suu kyi condemn ongoing violence rohingya muslims world waiting rohingya muslims waiting malala said around people died conflict involving myanmar security forces rohingya militants since october last year \n",
      "실제 요약 : malala slams san suu kyi over rohingya violence \n",
      "예측 요약 :  kim kardashian to abolish honorary nobel prize in myanmar\n",
      "\n",
      "\n",
      "원문 : talking responds trolls actress swara bhasker said important call silence times like termed maybe nobody maybe ten people reading tweets get influenced important expose low level humanity trolls added actress \n",
      "실제 요약 : silence against trolls is as swara \n",
      "예측 요약 :  swara said about swara remark on casting couch\n",
      "\n",
      "\n",
      "원문 : access laptop internet madrasas uttar pradesh helped bringing dropout rate boosting number according officials madrasas received laptops internet connection part tata trusts technology education initiative madrasa official claimed increased institute initiative \n",
      "실제 요약 : laptops bring down dropout rate in up madrasas \n",
      "예측 요약 :  internet internet internet in rajasthan\n",
      "\n",
      "\n",
      "원문 : russia orthodox church investigating priest named series instagram posts seen items luxury brands including gucci shoes louis vuitton handbags account belonging deleted later issued apology said items belong \n",
      "실제 요약 : gucci priest probed by church over instagram pictures \n",
      "예측 요약 :  russian shooter faces over copyright from\n",
      "\n",
      "\n",
      "원문 : year old japanese man recognised world oldest living man guinness world records conferred title francisco spain died february aged around people aged japan according government data released last year \n",
      "실제 요약 : japanese man aged named world oldest living man \n",
      "예측 요약 :  year old man wins world oldest ship\n",
      "\n",
      "\n",
      "원문 : national human rights commission tuesday directed police take action forced around children cheeks steel rods last year tamil nadu reportedly part ritual held speedy recovery late chief minister jayalalithaa hospitalised \n",
      "실제 요약 : nhrc calls for action over of kids in tn \n",
      "예측 요약 :  no action against no action against god of bhu\n",
      "\n",
      "\n",
      "원문 : year old model abhishek killed road accident speeding honda city rammed car stopped red light delhi ashok vihar worked mumbai come meet family delhi diwali vacation two friends also injured accident \n",
      "실제 요약 : delhi model killed after rams into his car at signal \n",
      "예측 요약 :  year old model dies after being hit by car in delhi\n",
      "\n",
      "\n",
      "원문 : us state department friday announced cancelled million aid palestinians west bank gaza strip us earlier year withheld aid million un agency palestinian refugees relations palestine us become strained recognised jerusalem israel capital \n",
      "실제 요약 : us scraps million aid to palestinians \n",
      "예측 요약 :  us imposes sale of venezuelan state of cr\n",
      "\n",
      "\n",
      "원문 : apple friday said screens iphone units touch issues due component failure adding offering free screen replacements faulty devices company also confirmed limited number inch macbook issue may result data loss failure drive \n",
      "실제 요약 : apple admits iphone touch issue offers screen replacement \n",
      "예측 요약 :  apple iphone pump to issue cold report\n",
      "\n",
      "\n",
      "원문 : fake porn video actress gal gadot known portraying superhero character wonder woman emerged online gadot face reportedly another person head training artificial intelligence images gadot well porn videos video reportedly created user named \n",
      "실제 요약 : fake porn video of wonder woman actress gal emerges online \n",
      "예측 요약 :  gal gadot wonder man who got wonder woman\n",
      "\n",
      "\n",
      "원문 : state bank india friday said net profit march quarter jumped year ago due higher net interest income lower provisions net profit quarter rose crore crore year ago shares sbi moved higher highest level since march results \n",
      "실제 요약 : sbi net profit rises by in march quarter \n",
      "예측 요약 :  sbi profit falls to crore in march quarter\n",
      "\n",
      "\n",
      "원문 : jet airways saturday said four engines planes would inspected check fan blade issues following safety directives issued american european regulators directives mandate inspection fan blades engine accumulated flight cycles issued southwest plane engine exploded mid flight \n",
      "실제 요약 : jet airways to inspect engines after incident \n",
      "예측 요약 :  jet airways delays pilots of flying planes from us airways\n",
      "\n",
      "\n",
      "원문 : stating videocon got favours icici bank ceo chanda kochhar chairman venugopal dhoot said crore loan sanctioned based merit alleged dhoot gave crore company founded chanda kochhar husband deepak kochhar six months videocon got loan dhoot denied dealings deepak beyond lakh initial investment \n",
      "실제 요약 : icici gave loan on merit no favours done videocon chief \n",
      "예측 요약 :  icici bank ceo chanda kochhar to take crore payout\n",
      "\n",
      "\n",
      "원문 : baahubali actor prabhas featured cover gq india magazine january issue year old actor seen wearing suit accessorised watch shoes italian luxury brand prada story prabhas titled phenomenon prabhas \n",
      "실제 요약 : baahubali actor prabhas features on jan cover of gq india \n",
      "예측 요약 :  prabhas to feature in india fashion week\n",
      "\n",
      "\n",
      "원문 : days meghalaya high court judge sr sen claimed india declared hindu country issued clarification stating judgement misinterpreted stating say anything secularism order added belong political party got dream get political berth \n",
      "실제 요약 : was judge who said india should be hindu nation \n",
      "예측 요약 :  am not the right to do judge on babri case\n",
      "\n",
      "\n",
      "원문 : national highways authority india tuesday launched mobile application allow commuters rate highways country track status ongoing projects app currently used functionaries available general public within two months chairman deepak kumar said \n",
      "실제 요약 : launches app to rate highways track projects \n",
      "예측 요약 :  govt to launch mobile mobile app in delhi\n",
      "\n",
      "\n",
      "원문 : year old man arrested utah us threatened kill many girls sees virgin never girlfriend christopher reportedly said upset time posting threat thinking clearly already probation stalking threatening women police said \n",
      "실제 요약 : virgin man in us threatens to kill all girls he sees \n",
      "예측 요약 :  us man kills self for trying to kill him\n",
      "\n",
      "\n",
      "원문 : actor comedian bill cosby referring movement sexual harassment metoo said please put metoo sexual assault case cosby ended trial based accusations andrea former temple university employee allegedly drugged sexually assaulted cosby \n",
      "실제 요약 : please do not put me on metoo says actor bill \n",
      "예측 요약 :  metoo movement is not sexual harassment says director\n",
      "\n",
      "\n",
      "원문 : european news agencies slammed google facebook news free calling internet giants share revenues media said companies use vast quantities news produced great cost publishers without paying poses threat consumers democracy added \n",
      "실제 요약 : european agencies slam google fb for showing news for free \n",
      "예측 요약 :  facebook is not fake news news news on news\n",
      "\n",
      "\n",
      "원문 : actress alia bhatt said acting job second nature talking working films different like udta punjab kapoor sons said find beauty worlds alia said performs responding comes within \n",
      "실제 요약 : acting is not job it is second nature to me alia bhatt \n",
      "예측 요약 :  alia is an of the alia bhatt on dating alia bhatt\n",
      "\n",
      "\n",
      "원문 : woman us state kentucky charged trafficking controlled substance offered provide three people drugs waiting judge courtroom right hearing year old earlier charged making threats overheard security officer making offer \n",
      "실제 요약 : us woman tries to sell drugs in before her hearing \n",
      "예측 요약 :  us woman jailed for years for woman\n",
      "\n",
      "\n",
      "원문 : indian woman cricketer harmanpreet kaur said western railway demanding lakh quitting job take dsp post punjab police kaur revealed western railway paid salary last five months besides accepting resignation year old awarded dsp post performance women world cup \n",
      "실제 요약 : railways demands lakh from women wc player to quit job \n",
      "예측 요약 :  railways to give lakh reward for ias officer travelling\n",
      "\n",
      "\n"
     ]
    }
   ],
   "source": [
    "for i in range(300, 350):\n",
    "    print(\"원문 :\", seq2text(encoder_input_test[i]))\n",
    "    print(\"실제 요약 :\", seq2summary(decoder_input_test[i]))\n",
    "    print(\"예측 요약 :\", decode_sequence(encoder_input_test[i].reshape(1, text_max_len)))\n",
    "    print(\"\\n\")"
   ]
  },
  {
   "cell_type": "markdown",
   "id": "ed325da3",
   "metadata": {},
   "source": [
    "## Step 5. 추출적 요약 : Summa"
   ]
  },
  {
   "cell_type": "code",
   "execution_count": 64,
   "id": "8a447217",
   "metadata": {},
   "outputs": [],
   "source": [
    "data2 = pd.read_csv('news_summary_more.csv', encoding='iso-8859-1')"
   ]
  },
  {
   "cell_type": "code",
   "execution_count": 65,
   "id": "857ff8ce",
   "metadata": {},
   "outputs": [
    {
     "data": {
      "text/html": [
       "<div>\n",
       "<style scoped>\n",
       "    .dataframe tbody tr th:only-of-type {\n",
       "        vertical-align: middle;\n",
       "    }\n",
       "\n",
       "    .dataframe tbody tr th {\n",
       "        vertical-align: top;\n",
       "    }\n",
       "\n",
       "    .dataframe thead th {\n",
       "        text-align: right;\n",
       "    }\n",
       "</style>\n",
       "<table border=\"1\" class=\"dataframe\">\n",
       "  <thead>\n",
       "    <tr style=\"text-align: right;\">\n",
       "      <th></th>\n",
       "      <th>headlines</th>\n",
       "      <th>text</th>\n",
       "    </tr>\n",
       "  </thead>\n",
       "  <tbody>\n",
       "    <tr>\n",
       "      <th>95464</th>\n",
       "      <td>My relationship with Julian Assange is no secr...</td>\n",
       "      <td>Actress-model Pamela Anderson in her blog wrot...</td>\n",
       "    </tr>\n",
       "    <tr>\n",
       "      <th>34186</th>\n",
       "      <td>Woman spends Ã¢ÂÂ¹26 lakh on surgeries to loo...</td>\n",
       "      <td>A 34-year-old American woman has spent $40,000...</td>\n",
       "    </tr>\n",
       "    <tr>\n",
       "      <th>87880</th>\n",
       "      <td>Zaheer best option for India fast bowling coac...</td>\n",
       "      <td>Spinner Harbhajan Singh has said that pacer Za...</td>\n",
       "    </tr>\n",
       "    <tr>\n",
       "      <th>78549</th>\n",
       "      <td>Mansion from 1900s on sale for over Ã¢ÂÂ¹100 ...</td>\n",
       "      <td>A 10,313 square-foot mansion in US' San Franci...</td>\n",
       "    </tr>\n",
       "    <tr>\n",
       "      <th>65647</th>\n",
       "      <td>Researchers create digital objects from incomp...</td>\n",
       "      <td>Germany-based researchers working with US chip...</td>\n",
       "    </tr>\n",
       "  </tbody>\n",
       "</table>\n",
       "</div>"
      ],
      "text/plain": [
       "                                               headlines  \\\n",
       "95464  My relationship with Julian Assange is no secr...   \n",
       "34186  Woman spends Ã¢ÂÂ¹26 lakh on surgeries to loo...   \n",
       "87880  Zaheer best option for India fast bowling coac...   \n",
       "78549  Mansion from 1900s on sale for over Ã¢ÂÂ¹100 ...   \n",
       "65647  Researchers create digital objects from incomp...   \n",
       "\n",
       "                                                    text  \n",
       "95464  Actress-model Pamela Anderson in her blog wrot...  \n",
       "34186  A 34-year-old American woman has spent $40,000...  \n",
       "87880  Spinner Harbhajan Singh has said that pacer Za...  \n",
       "78549  A 10,313 square-foot mansion in US' San Franci...  \n",
       "65647  Germany-based researchers working with US chip...  "
      ]
     },
     "execution_count": 65,
     "metadata": {},
     "output_type": "execute_result"
    }
   ],
   "source": [
    "data2.sample(20)"
   ]
  },
  {
   "cell_type": "code",
   "execution_count": 67,
   "id": "d78d1b25",
   "metadata": {},
   "outputs": [],
   "source": [
    "data2['text'].to_csv('data2.txt')"
   ]
  },
  {
   "cell_type": "code",
   "execution_count": 72,
   "id": "429a07a0",
   "metadata": {},
   "outputs": [],
   "source": [
    "# text = open('data2.txt','r')"
   ]
  },
  {
   "cell_type": "code",
   "execution_count": 73,
   "id": "e6375bcf",
   "metadata": {},
   "outputs": [],
   "source": [
    "# article  = text.read()"
   ]
  },
  {
   "cell_type": "code",
   "execution_count": 78,
   "id": "f0dd96bb",
   "metadata": {},
   "outputs": [
    {
     "data": {
      "text/plain": [
       "\"Saurav Kant, an alumnus of upGrad and IIIT-B's PG Program in Machine learning and Artificial Intelligence, was a Sr Systems Engineer at Infosys with almost 5 years of work experience. The program and upGrad's 360-degree career support helped him transition to a Data Scientist at Tech Mahindra with 90% salary hike. upGrad's Online Power Learning has powered 3 lakh+ careers.\""
      ]
     },
     "execution_count": 78,
     "metadata": {},
     "output_type": "execute_result"
    }
   ],
   "source": [
    "data2['text'][0]"
   ]
  },
  {
   "cell_type": "code",
   "execution_count": 143,
   "id": "6174c87b",
   "metadata": {},
   "outputs": [],
   "source": [
    "df = pd.DataFrame(index = range(len(data2['text'])), columns = {'text','headline'})\n",
    "df['text'] = data2['text']\n",
    "\n",
    "for i in range(len(data2['text'])):\n",
    "    a = summarize(data2['text'][i], language='english', words = 12)\n",
    "    df['headline'][i] = a\n",
    "    if len(df['headline'][i]) == 0 :       \n",
    "        b = keywords.keywords(data2['text'][i])\n",
    "        b = b.replace('\\n',' ')                     \n",
    "        df['headline'][i] = b"
   ]
  },
  {
   "cell_type": "code",
   "execution_count": 141,
   "id": "84d86f35",
   "metadata": {},
   "outputs": [
    {
     "data": {
      "text/plain": [
       "'cricket african cricketer international daan'"
      ]
     },
     "execution_count": 141,
     "metadata": {},
     "output_type": "execute_result"
    }
   ],
   "source": [
    "from summa import keywords\n",
    "\n",
    "b =  keywords.keywords(data2['text'][46501])\n",
    "b = b.replace('\\n',' ')\n",
    "b\n",
    "# summarize(data2['text'][42], language='english', ratio = 0.05)"
   ]
  },
  {
   "cell_type": "code",
   "execution_count": 144,
   "id": "442fc6ec",
   "metadata": {},
   "outputs": [
    {
     "data": {
      "text/html": [
       "<div>\n",
       "<style scoped>\n",
       "    .dataframe tbody tr th:only-of-type {\n",
       "        vertical-align: middle;\n",
       "    }\n",
       "\n",
       "    .dataframe tbody tr th {\n",
       "        vertical-align: top;\n",
       "    }\n",
       "\n",
       "    .dataframe thead th {\n",
       "        text-align: right;\n",
       "    }\n",
       "</style>\n",
       "<table border=\"1\" class=\"dataframe\">\n",
       "  <thead>\n",
       "    <tr style=\"text-align: right;\">\n",
       "      <th></th>\n",
       "      <th>headline</th>\n",
       "      <th>text</th>\n",
       "    </tr>\n",
       "  </thead>\n",
       "  <tbody>\n",
       "    <tr>\n",
       "      <th>2206</th>\n",
       "      <td>matches match cricketer cricket bhembre poorv ...</td>\n",
       "      <td>Former Ranji cricketer Rajesh Ghodge, who repr...</td>\n",
       "    </tr>\n",
       "    <tr>\n",
       "      <th>89528</th>\n",
       "      <td>fan wearing</td>\n",
       "      <td>A fan of Gujarat Lions captain Suresh Raina in...</td>\n",
       "    </tr>\n",
       "    <tr>\n",
       "      <th>53116</th>\n",
       "      <td>Nokia has unveiled a sleep tracking system cal...</td>\n",
       "      <td>Nokia has unveiled a sleep tracking system cal...</td>\n",
       "    </tr>\n",
       "    <tr>\n",
       "      <th>28315</th>\n",
       "      <td>Adding that the US will impose more sanctions ...</td>\n",
       "      <td>US Ambassador to the UN Nikki Haley on Wednesd...</td>\n",
       "    </tr>\n",
       "    <tr>\n",
       "      <th>30233</th>\n",
       "      <td>Playing in his 291st T20, Dhoni surpassed form...</td>\n",
       "      <td>CSK captain MS Dhoni has set the record for mo...</td>\n",
       "    </tr>\n",
       "    <tr>\n",
       "      <th>86761</th>\n",
       "      <td>afghanistan wednesday believes mohammad</td>\n",
       "      <td>Afghanistan's President Mohammad Ashraf Ghani ...</td>\n",
       "    </tr>\n",
       "    <tr>\n",
       "      <th>18049</th>\n",
       "      <td>pradesh topped uttar bureau</td>\n",
       "      <td>Uttar Pradesh topped the list of gay sex cases...</td>\n",
       "    </tr>\n",
       "    <tr>\n",
       "      <th>6959</th>\n",
       "      <td>ravichandran ashwin failed indian spinner shake</td>\n",
       "      <td>Indian spinner Ravichandran Ashwin failed to s...</td>\n",
       "    </tr>\n",
       "    <tr>\n",
       "      <th>18594</th>\n",
       "      <td>Meanwhile, the Gujarat government met several ...</td>\n",
       "      <td>Patidar leader Hardik Patel has reportedly los...</td>\n",
       "    </tr>\n",
       "    <tr>\n",
       "      <th>28351</th>\n",
       "      <td>subramanian mp swamy</td>\n",
       "      <td>BJP MP Subramanian Swamy has accused the Congr...</td>\n",
       "    </tr>\n",
       "    <tr>\n",
       "      <th>16345</th>\n",
       "      <td>A museum dedicated to drug lord Pablo Escobar ...</td>\n",
       "      <td>A museum dedicated to drug lord Pablo Escobar ...</td>\n",
       "    </tr>\n",
       "    <tr>\n",
       "      <th>29048</th>\n",
       "      <td>man allegedly</td>\n",
       "      <td>A man allegedly hanged himself with a grille o...</td>\n",
       "    </tr>\n",
       "    <tr>\n",
       "      <th>74698</th>\n",
       "      <td>According to reports, actress Taapsee Pannu wi...</td>\n",
       "      <td>According to reports, actress Taapsee Pannu wi...</td>\n",
       "    </tr>\n",
       "    <tr>\n",
       "      <th>65615</th>\n",
       "      <td>president security microsoft agency national</td>\n",
       "      <td>Microsoft President Brad Smith has accused Nor...</td>\n",
       "    </tr>\n",
       "    <tr>\n",
       "      <th>12683</th>\n",
       "      <td>union minister india map</td>\n",
       "      <td>Union Minister of State for Home Affairs, Kire...</td>\n",
       "    </tr>\n",
       "    <tr>\n",
       "      <th>90814</th>\n",
       "      <td>Cu, who  has spent over Ã¢ÂÂ¹35 lakh ($55,000...</td>\n",
       "      <td>Ming Cu from Indonesia lives with 1,500 pet sp...</td>\n",
       "    </tr>\n",
       "    <tr>\n",
       "      <th>31546</th>\n",
       "      <td>official trailer john abraham</td>\n",
       "      <td>The official trailer of John Abraham and Diana...</td>\n",
       "    </tr>\n",
       "    <tr>\n",
       "      <th>66163</th>\n",
       "      <td>karnataka rights human state</td>\n",
       "      <td>Karnataka State Human Rights Commission (KSHRC...</td>\n",
       "    </tr>\n",
       "    <tr>\n",
       "      <th>53149</th>\n",
       "      <td>North Korea has agreed to send a delegation of...</td>\n",
       "      <td>North Korea has agreed to send a delegation of...</td>\n",
       "    </tr>\n",
       "    <tr>\n",
       "      <th>98040</th>\n",
       "      <td>test ton maiden icc</td>\n",
       "      <td>Following his maiden Test ton against India on...</td>\n",
       "    </tr>\n",
       "  </tbody>\n",
       "</table>\n",
       "</div>"
      ],
      "text/plain": [
       "                                                headline  \\\n",
       "2206   matches match cricketer cricket bhembre poorv ...   \n",
       "89528                                        fan wearing   \n",
       "53116  Nokia has unveiled a sleep tracking system cal...   \n",
       "28315  Adding that the US will impose more sanctions ...   \n",
       "30233  Playing in his 291st T20, Dhoni surpassed form...   \n",
       "86761            afghanistan wednesday believes mohammad   \n",
       "18049                        pradesh topped uttar bureau   \n",
       "6959     ravichandran ashwin failed indian spinner shake   \n",
       "18594  Meanwhile, the Gujarat government met several ...   \n",
       "28351                               subramanian mp swamy   \n",
       "16345  A museum dedicated to drug lord Pablo Escobar ...   \n",
       "29048                                      man allegedly   \n",
       "74698  According to reports, actress Taapsee Pannu wi...   \n",
       "65615       president security microsoft agency national   \n",
       "12683                           union minister india map   \n",
       "90814  Cu, who  has spent over Ã¢ÂÂ¹35 lakh ($55,000...   \n",
       "31546                      official trailer john abraham   \n",
       "66163                       karnataka rights human state   \n",
       "53149  North Korea has agreed to send a delegation of...   \n",
       "98040                                test ton maiden icc   \n",
       "\n",
       "                                                    text  \n",
       "2206   Former Ranji cricketer Rajesh Ghodge, who repr...  \n",
       "89528  A fan of Gujarat Lions captain Suresh Raina in...  \n",
       "53116  Nokia has unveiled a sleep tracking system cal...  \n",
       "28315  US Ambassador to the UN Nikki Haley on Wednesd...  \n",
       "30233  CSK captain MS Dhoni has set the record for mo...  \n",
       "86761  Afghanistan's President Mohammad Ashraf Ghani ...  \n",
       "18049  Uttar Pradesh topped the list of gay sex cases...  \n",
       "6959   Indian spinner Ravichandran Ashwin failed to s...  \n",
       "18594  Patidar leader Hardik Patel has reportedly los...  \n",
       "28351  BJP MP Subramanian Swamy has accused the Congr...  \n",
       "16345  A museum dedicated to drug lord Pablo Escobar ...  \n",
       "29048  A man allegedly hanged himself with a grille o...  \n",
       "74698  According to reports, actress Taapsee Pannu wi...  \n",
       "65615  Microsoft President Brad Smith has accused Nor...  \n",
       "12683  Union Minister of State for Home Affairs, Kire...  \n",
       "90814  Ming Cu from Indonesia lives with 1,500 pet sp...  \n",
       "31546  The official trailer of John Abraham and Diana...  \n",
       "66163  Karnataka State Human Rights Commission (KSHRC...  \n",
       "53149  North Korea has agreed to send a delegation of...  \n",
       "98040  Following his maiden Test ton against India on...  "
      ]
     },
     "execution_count": 144,
     "metadata": {},
     "output_type": "execute_result"
    }
   ],
   "source": [
    "df.sample(20)"
   ]
  },
  {
   "cell_type": "markdown",
   "id": "0a995197",
   "metadata": {},
   "source": [
    "## Discussion"
   ]
  },
  {
   "cell_type": "markdown",
   "id": "e7e3d24c",
   "metadata": {},
   "source": [
    "- **전처리 후 데이터 백업**   \n",
    " 전처리를 하는데 너무 오래 걸려서 전처리를 하고 나서 clean한 데이터를 to_csv()로 백업해 두었다. 이후 전처리를 두 번 할 필요없이 다시 그 파일을 읽어 와 모델 학습을 다시 하니 훨씬 편했다.  \n",
    "\n",
    "- **프리패딩, 포스트패딩**    \n",
    " 패딩을 시퀀스의 앞에서부터 줄지, 뒤에서부터 줄지 정할 수 있었다.  두가지 다 시도해 보았는데 'pre'로, 앞에서부터 패딩을 채웠을 때 결과가 형편없었다. 'will not be able to do more as an show kohli on kohli'을 일괄적으로 출력할 뿐이었다.Threshold나 시퀀스의 max_len등을 조절해보았지만 좋은 결과를 얻을 수 없었다. 프리패딩, 포스트패딩에 대해 조금 더 잘 알고 싶다. \n",
    " ![](img2.PNG)  \n",
    "\n",
    "\n",
    "\n",
    "- **summa 요약을 위한 전처리**    \n",
    "summa는 온점을 기준으로 문장으로 인식한다. 따라서 전처리할 때 온점을 삭제하면 안되며, 소문자 처리와 특수문자만 없애야 한다.\n",
    "\n",
    "\n",
    "- **summa 키워드 적용시, 헤드라인으로 서머리를 작성할 때의 문제점 발생**    \n",
    " summa의 요약 기능으로 추출적 요약을 실행할 시, ratio 나 word 수에 따라 요약이 제대로 되지 않는 경우가 많이 발생했다. ratio를 높이거나 words 를 크게 주었을 때 요약문을 추출해 내기는 하지만 헤드라인은 기사의 제목으로, 너무 길어져 버리면 의미가 없다고 생각했다. 그래서 아래 첨부한 것처럼 적절한 길이의 헤드라인을 먼저 요약하고, 제대로 요약이 되지 않아 headline 열이 비어 있으면, 키워드를 추출하여 대신 헤드라인을 삼는 방법을 사용하였다.  여러가지 조건을 나누거나 전처리를 적절히 하면 더 좋은 방법이 있을 것 같았으나 summa 의 summarizer를 커스텀하는 데에는 한계가 있었다.  다음에는 짧은 헤드라인을 만드는 방법으로 조금 더 다양한 방법을 시도해 보고 싶다.  \n",
    " ![](img1.PNG)\n",
    " \n",
    " \n",
    "- **고유명사**   \n",
    " 대문자로 시작하는 수많은 고유명사들은 모든 철자를 소문자화 할 때 의미의 변형, 손상이 있을수도 있으며 모델이 혼동을 일으키게 할 수도 있는 것 같다. 만약 문장의 가장 앞의 대문자만 소문자화 하고 문장 중간에 고유명사 속의 대명사는 그대로 두는 전처리를 하면 조금 더 효과적일까? 시간에 쫓겨서 시도해보지 못했지만 한 번 시도해 보고 싶다. if 문을 사용하면 될 것 같은데 시간은 굉장히 많이 걸릴 것 같다.(다 읽어야 하므로)  \n",
    " \n",
    "- **AdditiveAttention layer**    \n",
    " 어텐션 메커니즘이 어떻게 장기 기억을 가지고 가는지에 대해 알 수 있었다. 그렇지만 사용하는 것은 케라스에서 제공하는 레이어를 불러와 가이드라인이 제시하는 쪽에 집어넣어 본 것이 다여서 조금 더 잘 알고 싶다는 생각이 들었다. \n"
   ]
  },
  {
   "cell_type": "markdown",
   "id": "5130a67b",
   "metadata": {},
   "source": [
    "## References"
   ]
  },
  {
   "cell_type": "markdown",
   "id": "daa4f104",
   "metadata": {},
   "source": [
    "- https://ai.googleblog.com/2016/08/text-summarization-with-tensorflow.html (Text summarization with TensorFlow)   \n",
    "- https://pypi.org/project/summa/ (summa 쓰는 법)  \n",
    "-https://www.tensorflow.org/api_docs/python/tf/keras/layers/AdditiveAttention (어텐션 레이어)"
   ]
  }
 ],
 "metadata": {
  "kernelspec": {
   "display_name": "Python 3 (ipykernel)",
   "language": "python",
   "name": "python3"
  },
  "language_info": {
   "codemirror_mode": {
    "name": "ipython",
    "version": 3
   },
   "file_extension": ".py",
   "mimetype": "text/x-python",
   "name": "python",
   "nbconvert_exporter": "python",
   "pygments_lexer": "ipython3",
   "version": "3.9.7"
  }
 },
 "nbformat": 4,
 "nbformat_minor": 5
}
