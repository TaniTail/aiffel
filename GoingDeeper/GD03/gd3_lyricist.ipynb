{
 "cells": [
  {
   "cell_type": "markdown",
   "id": "6be6392f",
   "metadata": {},
   "source": [
    "# Going Deeper 03 AI Lyrics Generator\n",
    "###### 온라인 코어 2기 박수경  "
   ]
  },
  {
   "cell_type": "markdown",
   "id": "5bcbbd02",
   "metadata": {},
   "source": [
    "이번 과제에서는 가사 데이터셋을 학습해 새로운 가사를 작성해 주는 인공지능을 구성해 보기로 한다. 규칙이 먼저 생기고 그에 맞는 문법에 따르는 기계어와는 다르게 자연적으로 존재하는 사람의 언어를 자연어라고 한다.  자연어는 규칙에 따라 생겨나는 것이 아니며, 따라서 통계적으로 접근하는 것이 가장 좋은 방법으로 알려져 있다.  "
   ]
  },
  {
   "cell_type": "markdown",
   "id": "99f4bdad",
   "metadata": {},
   "source": [
    "이번 과제에 사용하는 라이브러리들을 먼저 import 한다."
   ]
  },
  {
   "cell_type": "code",
   "execution_count": 1,
   "id": "2a112f18",
   "metadata": {},
   "outputs": [
    {
     "name": "stdout",
     "output_type": "stream",
     "text": [
      "2.6.0\n"
     ]
    }
   ],
   "source": [
    "import glob  #glob 모듈의 glob 함수는 사용자가 제시한 조건에 맞는 파일명을 리스트 형식으로 반환한다\n",
    "import tensorflow as tf\n",
    "import numpy as np\n",
    "import os\n",
    "import re #정규표현식\n",
    "from sklearn.model_selection import train_test_split # 데이터셋 분리\n",
    "import matplotlib.pyplot as plt\n",
    "\n",
    "print(tf.__version__)"
   ]
  },
  {
   "cell_type": "markdown",
   "id": "e3fddf42",
   "metadata": {},
   "source": [
    "## Step 1. 데이터 준비 및 읽어오기"
   ]
  },
  {
   "cell_type": "markdown",
   "id": "95ff4d86",
   "metadata": {},
   "source": [
    "glob 모듈을 사용해서 파일을 읽어온다. glob 를 활용하여 모든 txt 파일을 읽어온 후, raw_corpus 리스트에 문장 단위로 저장한다."
   ]
  },
  {
   "cell_type": "code",
   "execution_count": 2,
   "id": "77d70ea7",
   "metadata": {},
   "outputs": [
    {
     "name": "stdout",
     "output_type": "stream",
     "text": [
      "데이터 크기: 187088\n",
      "Examples:\n",
      " ['', '', '[Spoken Intro:]', 'You ever want something ', \"that you know you shouldn't have \", \"The more you know you shouldn't have it, \", 'The more you want it ', 'And then one day you get it, ', \"It's so good too \", \"But it's just like my girl \"]\n"
     ]
    }
   ],
   "source": [
    "\n",
    "txt_file_path = 'data/lyrics/*'\n",
    "\n",
    "txt_list = glob.glob(txt_file_path)\n",
    "raw_corpus = [] \n",
    "\n",
    "# 여러개의 txt 파일을 모두 읽어서 raw_corpus 에 담는다.\n",
    "for txt_file in txt_list:\n",
    "    with open(txt_file, \"r\") as f:\n",
    "        raw = f.read().splitlines() #read() : 파일 전체의 내용을 하나의 문자열로 읽어온다. , splitlines()  : 여러라인으로 구분되어 있는 문자열을 한라인씩 분리하여 리스트로 반환\n",
    "        raw_corpus.extend(raw) # extend() : 리스트함수로 추가적인 내용을 연장 한다.\n",
    "\n",
    "print(\"데이터 크기:\", len(raw_corpus))\n",
    "print(\"Examples:\\n\", raw_corpus[:10])"
   ]
  },
  {
   "cell_type": "markdown",
   "id": "a0db96a5",
   "metadata": {},
   "source": [
    "## Step 2. 데이터 정제"
   ]
  },
  {
   "cell_type": "markdown",
   "id": "a222b2dc",
   "metadata": {},
   "source": [
    "가사 데이터를 정제하는 함수 preprocess_sentence()를 정의하고 각 문장에 대해 적용한다.\n",
    "\n",
    "지나치게 긴 문장은 다른 데이터들이 과도한 Padding을 갖게 하므로 제거한다. 일반적으로 가사의 한 문장은 그렇게 길지 않기 때문에 적당한 길이의 문장을 학습하게 하는 것이다. 과제에서 제시한 max 토큰의 개수는 15개로, maxlen =15 로 설정한다."
   ]
  },
  {
   "cell_type": "markdown",
   "id": "b6bdd6bb",
   "metadata": {},
   "source": [
    "정규표현식에서 https://stackoverflow.com/questions/13566052/using-r-with-variables-in-re-sub"
   ]
  },
  {
   "cell_type": "markdown",
   "id": "d16257a8",
   "metadata": {},
   "source": [
    "한 문장에서 띄어쓰기를 기준으로 잘라 토큰화를 한다고 했을 때, 다음과 같은 처리를 할 필요가 있다.  \n",
    "> 1. 모든 글자들을 소문자로 바꾸고, 양쪽 공백을 지우기\n",
    "> 2. 특수문자 양쪽에 공백을 넣기\n",
    "> 3. 여러개의 공백은 하나의 공백으로 바꾸기\n",
    "> 4. a-zA-Z?.!,¿가 아닌 모든 문자를 하나의 공백으로 바꾸기\n",
    "> 5. 양쪽 공백 지우기\n",
    "> 6. 문장 시작에는 <start>, 끝에는 <end>를 넣어 표시하기"
   ]
  },
  {
   "cell_type": "code",
   "execution_count": 3,
   "id": "f3c07c75",
   "metadata": {},
   "outputs": [],
   "source": [
    "# sentence에서 원하는 것만 남기기\n",
    "\n",
    "def preprocess_sentence(sentence):\n",
    "    sentence = sentence.lower().strip() # 1 다 소문자로 만들기,strip :공백 지우기,\n",
    "    sentence = re.sub(r\"([?.!,¿])\", r\" \\1 \", sentence) # 특수문자의 양쪽에 공백을 넣기 (\\1 : 첫번째로 매치된 것에 대해) \n",
    "    sentence = re.sub(r'[\" \"]+', \" \", sentence) # 여러개의 공백은 하나의 공백으로 바꾼다.\n",
    "    sentence = re.sub(r\"[^a-zA-Z?.!,¿]+\", \" \", sentence) # a-zA-Z?.!,¿가 아닌 모든 문자를 하나의 공백으로 바꾼다 (^: 여)\n",
    "    sentence = sentence.strip() # 공백을 지운다.\n",
    "    sentence = '<start> ' + sentence + ' <end>' # 시작과 끝에 start,end 붙인다\n",
    "    return sentence"
   ]
  },
  {
   "cell_type": "code",
   "execution_count": 4,
   "id": "b8657657",
   "metadata": {},
   "outputs": [
    {
     "name": "stdout",
     "output_type": "stream",
     "text": [
      "['', '', '[Spoken Intro:]', 'You ever want something ', \"that you know you shouldn't have \", \"The more you know you shouldn't have it, \", 'The more you want it ', 'And then one day you get it, ', \"It's so good too \"]\n"
     ]
    }
   ],
   "source": [
    "# raw_corpus 안에 어떤 결과가 담겼는지 확인한다.\n",
    "\n",
    "print(raw_corpus[:9])"
   ]
  },
  {
   "cell_type": "markdown",
   "id": "cc2a41a7",
   "metadata": {},
   "source": [
    " raw_corpus 에서 실제로 학습에 쓰일 문장들(elements)만 선택해서 corpus 리스트에 담는다. 이 때 가사가 아닌 line들은 corpus에 담지 않기 위해 여러 조건문을 사용하여 corpus에 append 한다. \n",
    "\n",
    " 일단 앞서 확인한 [Spoken Intro:] 같은 경우에도 가사가 아니다. 대체로 chorus: , verse: 같이 곡의 구성상의 역할을 알려주는 line은 가사가 아니므로 제외하고 싶었다.\n",
    " 이런 line들의 경우 끝이 :], :), :, ], ) 등으로 끝나는데 )로 끝나는 경우는 가사에 속할 수도 있으므로 :], :), :, ] 로 끝나는 것을 제외하기로 결정했다. "
   ]
  },
  {
   "cell_type": "code",
   "execution_count": 5,
   "id": "0872740b",
   "metadata": {},
   "outputs": [
    {
     "data": {
      "text/plain": [
       "['<start> you ever want something <end>',\n",
       " '<start> that you know you shouldn t have <end>',\n",
       " '<start> the more you know you shouldn t have it , <end>',\n",
       " '<start> the more you want it <end>',\n",
       " '<start> and then one day you get it , <end>',\n",
       " '<start> it s so good too <end>',\n",
       " '<start> but it s just like my girl <end>',\n",
       " '<start> when she s around me <end>',\n",
       " '<start> i just feel so good , so good <end>',\n",
       " '<start> but right now i just feel cold , so cold <end>']"
      ]
     },
     "execution_count": 5,
     "metadata": {},
     "output_type": "execute_result"
    }
   ],
   "source": [
    "\n",
    "corpus = []\n",
    "\n",
    "# raw_corpus list에 저장된 문장들을 순서대로 반환하여 sentence에 저장\n",
    "for sentence in raw_corpus:\n",
    "    #제외할 문장의 특성 -> continue: 건너뛰기\n",
    "\n",
    "    if len(sentence) == 0: \n",
    "        continue\n",
    "    if sentence[-1] == \":\": \n",
    "        continue\n",
    "    if len(sentence) == 0: \n",
    "        continue\n",
    "    if sentence[-1] == \"]\": \n",
    "        continue\n",
    "\n",
    "    if len(sentence) == 1: \n",
    "        continue\n",
    "\n",
    "    if sentence[-2:] == \":]\": \n",
    "        continue\n",
    "    if sentence[-2] == \":)\": \n",
    "        continue\n",
    "    \n",
    "    \n",
    "    \n",
    "    preprocessed_sentence = preprocess_sentence(sentence)\n",
    "    corpus.append(preprocessed_sentence)\n",
    "        \n",
    "# 정제된 결과를 몇 개 확인한다.\n",
    "corpus[:10]"
   ]
  },
  {
   "cell_type": "markdown",
   "id": "4dc97bd3",
   "metadata": {},
   "source": [
    "### 토큰화 (Tokenize)  \n",
    "텐서플로우의 Tokenizer와 pad_sequences를 사용한다.\n",
    "가사에 사용되는 단어장의 크기는 20000으로 설정했다. 시간은 더 걸릴 수 있지만 풍부한 단어가 확보되어 더 괜찮은 작사봇이 될 수 있겠다고 생각했기 때문이다. 단어장에 포함되지 못한 단어는 unknown으로 처리한다.  \n",
    "pad_sequence 의 패딩 처리방법은 default 가 'pre' 이다. 따라서 뒤에 패딩을 추가하기 위해 'post'를 옵션으로 준다.\n"
   ]
  },
  {
   "cell_type": "code",
   "execution_count": 6,
   "id": "3c508338",
   "metadata": {},
   "outputs": [
    {
     "name": "stdout",
     "output_type": "stream",
     "text": [
      "[[   2    7  156 ...    0    0    0]\n",
      " [   2   17    7 ...    0    0    0]\n",
      " [   2    6   98 ...    0    0    0]\n",
      " ...\n",
      " [   2  310    1 ...    0    0    0]\n",
      " [   5   34   45 ... 1163  142    3]\n",
      " [   5   34   45 ... 1163  142    3]] <keras_preprocessing.text.Tokenizer object at 0x7f490ad9b100>\n"
     ]
    }
   ],
   "source": [
    "\n",
    "def tokenize(corpus):\n",
    "    tokenizer = tf.keras.preprocessing.text.Tokenizer(\n",
    "        num_words=18000, \n",
    "        filters=' ',\n",
    "        oov_token=\"<unk>\"\n",
    "    )\n",
    "    \n",
    "    tokenizer.fit_on_texts(corpus)\n",
    "    tensor = tokenizer.texts_to_sequences(corpus)   \n",
    "    tensor = tf.keras.preprocessing.sequence.pad_sequences(tensor, \\\n",
    "        padding='post',maxlen=15)  # 길이가 짧은 문장은 뒤에서부터 패딩(post), 토큰의 최대길이: 15  \n",
    "    \n",
    "    print(tensor,tokenizer)\n",
    "    return tensor, tokenizer\n",
    "\n",
    "tensor, tokenizer = tokenize(corpus)"
   ]
  },
  {
   "cell_type": "markdown",
   "id": "7ad43cde",
   "metadata": {},
   "source": [
    "tokenizer.index_word 로 토큰들의 인덱스와 해당 단어를 딕셔너리로 확인할 수 있다. 스무개 정도만 확인해 보도록 한다."
   ]
  },
  {
   "cell_type": "code",
   "execution_count": 7,
   "id": "dffebb2e",
   "metadata": {},
   "outputs": [
    {
     "name": "stdout",
     "output_type": "stream",
     "text": [
      "1 : <unk>\n",
      "2 : <start>\n",
      "3 : <end>\n",
      "4 : ,\n",
      "5 : i\n",
      "6 : the\n",
      "7 : you\n",
      "8 : and\n",
      "9 : a\n",
      "10 : to\n",
      "11 : it\n",
      "12 : me\n",
      "13 : my\n",
      "14 : in\n",
      "15 : t\n",
      "16 : s\n",
      "17 : that\n",
      "18 : on\n",
      "19 : of\n",
      "20 : your\n"
     ]
    }
   ],
   "source": [
    "# tokenizer.index_word: 현재 계산된 단어의 인덱스와 인덱스에 해당하는 단어를 dictionary 형대로 반환 (Ex. {index: '~~', index: '~~', ...})\n",
    "for idx in tokenizer.index_word:\n",
    "    print(idx, \":\", tokenizer.index_word[idx])\n",
    "\n",
    "    if idx >= 20: break"
   ]
  },
  {
   "cell_type": "markdown",
   "id": "4fe6cecd",
   "metadata": {},
   "source": [
    "정제된 문장을 토큰화까지 마치고 데이터를 텐서로 만들었다. 이제는 사이킷런의 train_test_split()으로 데이터를 분리하려고 한다. train_test_split()을 사용하려면 X, y(target)으로 데이터가 분리되어 있어야 하므로 tensor를 src_input과 tgt_input으로 분리한다."
   ]
  },
  {
   "cell_type": "code",
   "execution_count": 8,
   "id": "9119ad97",
   "metadata": {},
   "outputs": [],
   "source": [
    "\n",
    "src_input = tensor[:, :-1]  \n",
    "tgt_input = tensor[:, 1:]  "
   ]
  },
  {
   "cell_type": "code",
   "execution_count": 9,
   "id": "527fc935",
   "metadata": {},
   "outputs": [
    {
     "name": "stdout",
     "output_type": "stream",
     "text": [
      "[  2   7 156  62 201   3   0   0   0   0   0   0   0   0]\n",
      "[  7 156  62 201   3   0   0   0   0   0   0   0   0   0]\n"
     ]
    }
   ],
   "source": [
    "print(src_input[0])\n",
    "print(tgt_input[0])"
   ]
  },
  {
   "cell_type": "markdown",
   "id": "0b979ff3",
   "metadata": {},
   "source": [
    "## Step 3. 평가 데이터셋 분리"
   ]
  },
  {
   "cell_type": "code",
   "execution_count": 10,
   "id": "1dd227bc",
   "metadata": {},
   "outputs": [],
   "source": [
    "\n",
    "\n",
    "enc_train, enc_val, dec_train, dec_val = \\\n",
    "    train_test_split(src_input, tgt_input, \\\n",
    "        test_size=0.2, random_state=1004, shuffle=True)\n"
   ]
  },
  {
   "cell_type": "code",
   "execution_count": 11,
   "id": "53c49460",
   "metadata": {},
   "outputs": [
    {
     "name": "stdout",
     "output_type": "stream",
     "text": [
      "(139572, 14)\n",
      "(34894, 14)\n",
      "(139572, 14)\n",
      "(34894, 14)\n"
     ]
    }
   ],
   "source": [
    "#데이터가 잘 분리되었는지 확인\n",
    "print(enc_train.shape)\n",
    "print(enc_val.shape) \n",
    "print(dec_train.shape) \n",
    "print(dec_val.shape)"
   ]
  },
  {
   "cell_type": "markdown",
   "id": "ab19b562",
   "metadata": {},
   "source": [
    "buffer_size, batch_size, epoch, iteration을 다시 공부하는 계기가 되었다.\n",
    "(https://losskatsu.github.io/machine-learning/epoch-batch/)\n",
    "\n",
    "- Batch Size : 1회 역전파에서 gradient를 모을 데이터의 개수  \n",
    "- Buffer Size : 전체 데이터의 개수  \n",
    "\n",
    "- VOCAB_SIZE : 단어들의 개수와 padding '0'까지 합쳐서 +1"
   ]
  },
  {
   "cell_type": "code",
   "execution_count": 12,
   "id": "51bc6d39",
   "metadata": {},
   "outputs": [
    {
     "name": "stdout",
     "output_type": "stream",
     "text": [
      "174466\n",
      "512\n",
      "340\n",
      "18001\n"
     ]
    }
   ],
   "source": [
    "BUFFER_SIZE = len(src_input) # 전체 문장의 개수\n",
    "print(BUFFER_SIZE)\n",
    "BATCH_SIZE = 512 \n",
    "print(BATCH_SIZE)\n",
    "steps_per_epoch = len(src_input) // BATCH_SIZE \n",
    "print(steps_per_epoch)\n",
    "VOCAB_SIZE = tokenizer.num_words + 1   # padding '0' 까지 합쳐서 +1\n",
    "print(VOCAB_SIZE)"
   ]
  },
  {
   "cell_type": "code",
   "execution_count": 13,
   "id": "40178386",
   "metadata": {},
   "outputs": [
    {
     "name": "stdout",
     "output_type": "stream",
     "text": [
      "<TensorSliceDataset shapes: ((14,), (14,)), types: (tf.int32, tf.int32)>\n",
      "<ShuffleDataset shapes: ((14,), (14,)), types: (tf.int32, tf.int32)>\n",
      "<BatchDataset shapes: ((512, 14), (512, 14)), types: (tf.int32, tf.int32)>\n"
     ]
    }
   ],
   "source": [
    "dataset = tf.data.Dataset.from_tensor_slices((src_input, tgt_input))\n",
    "print(dataset)\n",
    "\n",
    "dataset = dataset.shuffle(BUFFER_SIZE)\n",
    "print(dataset)\n",
    "\n",
    "dataset = dataset.batch(BATCH_SIZE, drop_remainder=True)\n",
    "print(dataset)"
   ]
  },
  {
   "cell_type": "markdown",
   "id": "90326e68",
   "metadata": {},
   "source": [
    "## Step 4. 인공지능 만들기"
   ]
  },
  {
   "cell_type": "markdown",
   "id": "83e764e6",
   "metadata": {},
   "source": [
    "모델을 구성한다. 자연어처리에 적절한 LSTM 을 사용하도록 한다. LSTM은 RNN에서 발전된 그것의 한 종류로 'cell state', 'gate'의 개념을 다시 정리할 수 있었다. "
   ]
  },
  {
   "cell_type": "markdown",
   "id": "1a7026c7",
   "metadata": {},
   "source": [
    "hidden_size1, hidden_size2 을 다르게 설정해도 된다. 하지만 (1024, 1024)일 때 가장 성능이 좋았다.  \n",
    "시도해본 값 : (1024, 512), (2048, 1024), (512, 512)\n"
   ]
  },
  {
   "cell_type": "code",
   "execution_count": 14,
   "id": "8aed9620",
   "metadata": {},
   "outputs": [],
   "source": [
    "class TextGenerator(tf.keras.Model):\n",
    "    def __init__(self, vocab_size, embedding_size, hidden_size, hidden_size_2): # hidden_size\n",
    "        super().__init__()\n",
    "        self.embedding = tf.keras.layers.Embedding(vocab_size, embedding_size) \n",
    "        self.rnn_1 = tf.keras.layers.LSTM(hidden_size, return_sequences=True) \n",
    "        self.dp1 = tf.keras.layers.Dropout(0.25)\n",
    "        self.dp2 = tf.keras.layers.Dropout(0.25)\n",
    "        self.rnn_2 = tf.keras.layers.LSTM(hidden_size_2, return_sequences=True)\n",
    "        self.linear = tf.keras.layers.Dense(vocab_size)\n",
    "        \n",
    "    def call(self, x):\n",
    "        out = self.embedding(x)\n",
    "        out = self.rnn_1(out)\n",
    "        out = self.dp1(out) #드랍아웃 층을 추가해보기도, 빼보기도 했다.\n",
    "        out = self.rnn_2(out)\n",
    "        out = self.dp2(out)\n",
    "        out = self.linear(out)\n",
    "        \n",
    "        return out\n",
    "    \n",
    "embedding_size = 1024\n",
    "hidden_size = 1024\n",
    "\n",
    "hidden_size_2 = 1024\n",
    "\n",
    "model = TextGenerator(tokenizer.num_words + 1, embedding_size , hidden_size, hidden_size_2) # tokenizer.num_words에 +1인 이유는 문장에 없는 pad가 사용되었기 때문이다."
   ]
  },
  {
   "cell_type": "code",
   "execution_count": 15,
   "id": "8bbadfa5",
   "metadata": {},
   "outputs": [
    {
     "data": {
      "text/plain": [
       "<tf.Tensor: shape=(512, 14, 18001), dtype=float32, numpy=\n",
       "array([[[-2.66729534e-04, -1.36932911e-04, -4.14854694e-05, ...,\n",
       "          2.50847224e-04,  2.34649015e-05, -3.77349643e-04],\n",
       "        [-3.29417060e-04, -4.43459459e-04, -2.93988560e-04, ...,\n",
       "          1.48530657e-04, -1.57207905e-04, -4.24889266e-04],\n",
       "        [-2.40203444e-04, -6.64155523e-04, -5.10229846e-04, ...,\n",
       "         -2.65822222e-04, -5.02532639e-04, -1.30445609e-04],\n",
       "        ...,\n",
       "        [-7.63678749e-04, -1.79349550e-03, -1.35645701e-03, ...,\n",
       "          1.46776414e-03,  1.10552937e-04, -4.99990478e-04],\n",
       "        [-7.76390429e-04, -1.37492560e-03, -1.23248238e-03, ...,\n",
       "          1.43815612e-03,  2.19180329e-05, -5.22951537e-04],\n",
       "        [-8.68742063e-04, -9.88657470e-04, -1.08741503e-03, ...,\n",
       "          1.28382654e-03, -1.75155292e-04, -7.00070581e-04]],\n",
       "\n",
       "       [[-2.66729534e-04, -1.36932911e-04, -4.14854694e-05, ...,\n",
       "          2.50847224e-04,  2.34649015e-05, -3.77349643e-04],\n",
       "        [-5.74644306e-04, -2.51092744e-04,  2.02665586e-04, ...,\n",
       "          4.33496723e-04,  2.66817107e-04, -4.06354200e-04],\n",
       "        [-8.10198602e-04,  8.38971973e-05,  2.63788737e-04, ...,\n",
       "          9.32222756e-04,  6.49135502e-04, -5.41936141e-04],\n",
       "        ...,\n",
       "        [-1.95794436e-03,  4.15274233e-04, -3.66349210e-04, ...,\n",
       "         -1.68904662e-04, -2.21465342e-03, -7.76763598e-04],\n",
       "        [-2.05537654e-03,  4.13492526e-04, -3.14883393e-04, ...,\n",
       "         -2.25367156e-04, -2.55866605e-03, -7.17345625e-04],\n",
       "        [-2.13720882e-03,  4.00530582e-04, -2.54762068e-04, ...,\n",
       "         -2.76333682e-04, -2.87267356e-03, -6.39037229e-04]],\n",
       "\n",
       "       [[-2.66729534e-04, -1.36932911e-04, -4.14854694e-05, ...,\n",
       "          2.50847224e-04,  2.34649015e-05, -3.77349643e-04],\n",
       "        [-2.29957906e-04, -2.31890313e-04, -1.66017810e-04, ...,\n",
       "         -2.90629305e-05, -2.09605772e-04, -1.84861085e-04],\n",
       "        [-2.30908219e-04, -9.89925684e-05,  3.76158394e-04, ...,\n",
       "         -4.33710899e-04, -2.45305884e-04,  4.78028087e-05],\n",
       "        ...,\n",
       "        [-1.71489234e-03, -1.47764600e-04, -2.29005748e-03, ...,\n",
       "         -2.84146459e-04,  1.83473493e-03, -1.25915848e-03],\n",
       "        [-1.98245794e-03, -4.67954320e-04, -2.54689669e-03, ...,\n",
       "         -4.06544859e-05,  1.99189130e-03, -6.73067814e-04],\n",
       "        [-2.08203122e-03, -7.97625340e-04, -2.63376138e-03, ...,\n",
       "          9.33625633e-05,  1.83113129e-03, -4.09882457e-04]],\n",
       "\n",
       "       ...,\n",
       "\n",
       "       [[-2.66729534e-04, -1.36932911e-04, -4.14854694e-05, ...,\n",
       "          2.50847224e-04,  2.34649015e-05, -3.77349643e-04],\n",
       "        [-3.69258487e-04, -2.98746399e-05, -3.20296793e-04, ...,\n",
       "          4.06151958e-04,  4.15488845e-04, -5.72800636e-04],\n",
       "        [-2.93361256e-04, -1.42753837e-04, -7.41980912e-04, ...,\n",
       "          3.53041134e-04,  2.57281499e-04, -5.15339780e-04],\n",
       "        ...,\n",
       "        [-9.91448760e-04, -2.83622270e-04, -1.95375877e-03, ...,\n",
       "         -1.17049890e-03, -1.35321892e-03, -6.80666009e-04],\n",
       "        [-1.22006342e-03, -1.31217879e-04, -1.78064033e-03, ...,\n",
       "         -1.13385392e-03, -1.63196458e-03, -7.50370615e-04],\n",
       "        [-1.43881154e-03, -5.50166362e-07, -1.59072096e-03, ...,\n",
       "         -1.07047346e-03, -1.91800308e-03, -7.77859823e-04]],\n",
       "\n",
       "       [[-2.66729534e-04, -1.36932911e-04, -4.14854694e-05, ...,\n",
       "          2.50847224e-04,  2.34649015e-05, -3.77349643e-04],\n",
       "        [-2.29957906e-04, -2.31890313e-04, -1.66017810e-04, ...,\n",
       "         -2.90629305e-05, -2.09605772e-04, -1.84861085e-04],\n",
       "        [-7.64270197e-04,  1.71604261e-05, -1.12105336e-04, ...,\n",
       "         -4.51627653e-04, -6.19379280e-04, -2.39062851e-04],\n",
       "        ...,\n",
       "        [-2.26182095e-03,  5.18175773e-04, -3.34747165e-05, ...,\n",
       "         -3.51493363e-04, -2.48886319e-03,  3.86457163e-04],\n",
       "        [-2.37528235e-03,  4.93730768e-04, -5.50480909e-05, ...,\n",
       "         -3.53192649e-04, -2.70715007e-03,  2.72995618e-04],\n",
       "        [-2.47407798e-03,  4.62362310e-04, -6.10304160e-05, ...,\n",
       "         -3.57179437e-04, -2.92535289e-03,  1.88553953e-04]],\n",
       "\n",
       "       [[-2.66729534e-04, -1.36932911e-04, -4.14854694e-05, ...,\n",
       "          2.50847224e-04,  2.34649015e-05, -3.77349643e-04],\n",
       "        [-4.18764277e-04, -4.77593916e-04,  1.85747427e-04, ...,\n",
       "          4.70694504e-04, -5.84997497e-06, -3.40854051e-04],\n",
       "        [-2.57297826e-04, -4.43000958e-04, -1.21255733e-04, ...,\n",
       "          4.45673038e-04, -2.52986647e-04, -4.13345610e-04],\n",
       "        ...,\n",
       "        [-2.93403794e-03,  5.73499769e-04, -9.04872315e-04, ...,\n",
       "         -7.82576622e-04, -2.34130491e-03,  3.74209136e-04],\n",
       "        [-2.95765605e-03,  6.28423179e-04, -7.96758628e-04, ...,\n",
       "         -7.80640461e-04, -2.60532787e-03,  2.62676127e-04],\n",
       "        [-2.96962610e-03,  6.47362904e-04, -6.82316488e-04, ...,\n",
       "         -7.59848917e-04, -2.85316841e-03,  1.73105233e-04]]],\n",
       "      dtype=float32)>"
      ]
     },
     "execution_count": 15,
     "metadata": {},
     "output_type": "execute_result"
    }
   ],
   "source": [
    "# 데이터셋에서 데이터 한 배치만 불러와서 모델에 넣어 본다.\n",
    "\n",
    "for src_sample, tgt_sample in dataset.take(1): break\n",
    "\n",
    "model(src_sample)"
   ]
  },
  {
   "cell_type": "code",
   "execution_count": 16,
   "id": "ea6fc8c0",
   "metadata": {
    "scrolled": true
   },
   "outputs": [
    {
     "name": "stdout",
     "output_type": "stream",
     "text": [
      "Model: \"text_generator\"\n",
      "_________________________________________________________________\n",
      "Layer (type)                 Output Shape              Param #   \n",
      "=================================================================\n",
      "embedding (Embedding)        multiple                  18433024  \n",
      "_________________________________________________________________\n",
      "lstm (LSTM)                  multiple                  8392704   \n",
      "_________________________________________________________________\n",
      "dropout (Dropout)            multiple                  0         \n",
      "_________________________________________________________________\n",
      "dropout_1 (Dropout)          multiple                  0         \n",
      "_________________________________________________________________\n",
      "lstm_1 (LSTM)                multiple                  8392704   \n",
      "_________________________________________________________________\n",
      "dense (Dense)                multiple                  18451025  \n",
      "=================================================================\n",
      "Total params: 53,669,457\n",
      "Trainable params: 53,669,457\n",
      "Non-trainable params: 0\n",
      "_________________________________________________________________\n"
     ]
    }
   ],
   "source": [
    "# 모델의 구조 확인.\n",
    "model.summary()"
   ]
  },
  {
   "cell_type": "markdown",
   "id": "7c81c90b",
   "metadata": {},
   "source": [
    "옵티마이저로 adam 을 사용한다. \n",
    "loss 로는 SparseCategoricalCrossentropy. 설정 파라미터 from_logits, reduction 을 잘 몰라서 찾아보았다."
   ]
  },
  {
   "cell_type": "code",
   "execution_count": 17,
   "id": "3ee6f87f",
   "metadata": {},
   "outputs": [],
   "source": [
    "optimizer = tf.keras.optimizers.Adam(learning_rate=0.01, \\\n",
    "                                     beta_1=0.8, beta_2= 0.9,epsilon=1e-07, amsgrad=True)\n",
    "loss = tf.keras.losses.SparseCategoricalCrossentropy( # 학습 데이터의 label이 정수일 경우 사용하는 손실함수\n",
    "    from_logits=True, # 기본값 False. 모델에 의해 생성된 출력 값이 정규화되지 않았음을 손실 함수에 알려준다. 즉 softmax함수가 적용되지 않았다는걸 의미한다. \n",
    "    reduction='none'  # 기본값 SUM이다. 각자 나오는 값의 반환을 원할 때 None을 사용한다.\n",
    ")\n",
    "# 컴파일\n",
    "model.compile(loss=loss, optimizer=optimizer) "
   ]
  },
  {
   "cell_type": "markdown",
   "id": "4a13f27d",
   "metadata": {},
   "source": [
    "learning_rate를 기본값에서 0.005로 바꾸었을 때 전체적으로 가장 성능이 잘 나왔다.  \n",
    "(시도해본 값 : 0.001, 0.005, 0.003, 0.002,  0.01)"
   ]
  },
  {
   "cell_type": "code",
   "execution_count": 18,
   "id": "2d2d517b",
   "metadata": {},
   "outputs": [
    {
     "name": "stdout",
     "output_type": "stream",
     "text": [
      "Epoch 1/3\n",
      "273/273 [==============================] - 140s 503ms/step - loss: 3.7975 - val_loss: 3.3473\n",
      "Epoch 2/3\n",
      "273/273 [==============================] - 137s 502ms/step - loss: 3.2657 - val_loss: 3.1806\n",
      "Epoch 3/3\n",
      "273/273 [==============================] - 137s 502ms/step - loss: 3.1184 - val_loss: 3.0800\n"
     ]
    }
   ],
   "source": [
    "history = model.fit(enc_train, dec_train, epochs=3, batch_size=BATCH_SIZE, validation_data = (enc_val, dec_val))"
   ]
  },
  {
   "cell_type": "code",
   "execution_count": 19,
   "id": "b53607b0",
   "metadata": {},
   "outputs": [
    {
     "data": {
      "image/png": "[encoded data removed]",
      "text/plain": [
       "<Figure size 432x288 with 1 Axes>"
      ]
     },
     "metadata": {
      "needs_background": "light"
     },
     "output_type": "display_data"
    }
   ],
   "source": [
    "history_dict = history.history\n",
    "\n",
    "loss = history_dict['loss']\n",
    "val_loss = history_dict['val_loss']\n",
    "epoch = range(1, len(loss) + 1)\n",
    "\n",
    "plt.plot(epoch, loss, 'c-', label='train_loss')\n",
    "plt.plot(epoch, val_loss, 'm--', label='val_loss')\n",
    "plt.title('Train Loss, Validation Loss')\n",
    "plt.xlabel('Epoch')\n",
    "plt.ylabel('Loss')\n",
    "plt.show()"
   ]
  },
  {
   "cell_type": "markdown",
   "id": "f219f769",
   "metadata": {},
   "source": [
    "loss를 그래프로 나타내었다. val_loss가 증가하기 시작하는 지점이 과대적합이 시작되는 지점이다. "
   ]
  },
  {
   "cell_type": "markdown",
   "id": "e280ca6d",
   "metadata": {},
   "source": [
    "## Step 5. 가사 생성"
   ]
  },
  {
   "cell_type": "code",
   "execution_count": 20,
   "id": "fe7680e3",
   "metadata": {},
   "outputs": [],
   "source": [
    "#문장생성 함수 정의\n",
    "#모델에게 시작 문장을 전달하면 모델이 시작 문장을 바탕으로 작문을 진행\n",
    "def generate_text(model, tokenizer, init_sentence=\"<start>\", max_len=15): \n",
    "    test_input = tokenizer.texts_to_sequences([init_sentence])\n",
    "    test_tensor = tf.convert_to_tensor(test_input, dtype=tf.int64)\n",
    "    end_token = tokenizer.word_index[\"<end>\"]\n",
    "\n",
    "    while True:\n",
    "       \n",
    "        predict = model(test_tensor) \n",
    "        predict_word = tf.argmax(tf.nn.softmax(predict, axis=-1), axis=-1)[:, -1] \n",
    "        test_tensor = tf.concat([test_tensor, tf.expand_dims(predict_word, axis=0)], axis=-1)\n",
    "        if predict_word.numpy()[0] == end_token: break\n",
    "        if test_tensor.shape[1] >= max_len: break\n",
    "\n",
    "    generated = \"\"\n",
    "    \n",
    "    for word_index in test_tensor[0].numpy():\n",
    "        generated += tokenizer.index_word[word_index] + \" \"\n",
    "\n",
    "    return generated "
   ]
  },
  {
   "cell_type": "code",
   "execution_count": 23,
   "id": "d363554a",
   "metadata": {},
   "outputs": [
    {
     "data": {
      "text/plain": [
       "'<start> i love you , i m a little one <end> '"
      ]
     },
     "execution_count": 23,
     "metadata": {},
     "output_type": "execute_result"
    }
   ],
   "source": [
    "generate_text(model, tokenizer, init_sentence=\"<start> i love\", max_len=15)"
   ]
  },
  {
   "cell_type": "markdown",
   "id": "4f75634c",
   "metadata": {},
   "source": [
    "## Discussion"
   ]
  },
  {
   "cell_type": "markdown",
   "id": "8ae55ec3",
   "metadata": {},
   "source": [
    "- 모델을 구성하고 model.build()나 model.fit()을 한번이라도 하지 않으면 model.summary()를 볼 수 없기 때문에 model(src_sample)로 한 번 넣어 본 것이다.  "
   ]
  },
  {
   "cell_type": "markdown",
   "id": "09b444b9",
   "metadata": {},
   "source": [
    "- loss SparseCategoricalCrossentropy, from_logits, reduction 에 대해 한번 더 찾아보고 정리할 수 있었다. \n"
   ]
  },
  {
   "cell_type": "markdown",
   "id": "c5e3c5ab",
   "metadata": {},
   "source": [
    "- keras subclassing 방법으로 모델을 만들 때.  \n",
    "\n",
    " ![](https://d3s0tskafalll9.cloudfront.net/media/images/E-12-4.max-800x600.png) \n",
    " \n",
    " 제시된 코드는  \n",
    " ```python  \n",
    "class TextGenerator(tf.keras.Model):\n",
    "    def __init__(self, vocab_size, embedding_size, hidden_size):\n",
    "        super().__init__()\n",
    "        self.embedding = tf.keras.layers.Embedding(vocab_size, embedding_size) \n",
    "        self.rnn_1 = tf.keras.layers.LSTM(hidden_size, return_sequences=True)  \n",
    "        self.rnn_2 = tf.keras.layers.LSTM(hidden_size, return_sequences=True)\n",
    "        self.linear = tf.keras.layers.Dense(vocab_size)\n",
    "        \n",
    "    def call(self, x):\n",
    "        out = self.embedding(x)\n",
    "        out = self.rnn_1(out)\n",
    "        out = self.rnn_2(out)\n",
    "        out = self.linear(out)\n",
    "        \n",
    "        return out\n",
    "    ```\n",
    "    \n",
    "   이다.  그런데 모델 안의 rnn1 레이어와 rnn2 레이어는 완전히 같은 층이어서 다르게 이름을 줄 필요가 있는지 의문이 들었다. 만약 층이 동일하다면 \\__ init\\__ 에서 LSTM 레이어를 하나만 설정하고 call 안에서 같은 층을 두 번 통과하게 하면 될 일이 아닌가하고 생각을 했다.  \n",
    "   그러나 학습된 데이터가 층을 통과하면 그 층이 결국 배운 건 '파라미터',즉 웨이트이다. 만일 다시 그 층을 통과하게 되면 기껏 처음 통과하며 배운 웨이트가 변하게 되어서 의미가 없어진다. 층을 통과하며 학습된 웨이트가 다르기 때문에 두 층은 다르게 설정해야 한다는 사실을 알았다. (freeze의 원리와도 동일한 이유)  \n",
    "   딥러닝 모델에 대해 조금 더 곰곰히 생각해 보는 기회가 되었다.\n",
    " \n",
    " "
   ]
  },
  {
   "cell_type": "markdown",
   "id": "087b6e27",
   "metadata": {},
   "source": [
    "- 모델의 하이퍼파라미터 뿐만이 아니라 words 의 개수를 조절했을 때도 확연한 차이가 있었다. 단어장의 크기를 24000, 20000, 18000개등 시도를 해 봤는데 18000개일 때 가장 성능이 좋았다. 나는 어휘가 풍부하면 더 성능이 좋을 거라고만 생각을 했는데 그게 아니었다. 물론 단어장의 크기가 크면 그에 맞는 모델의 하이퍼파라미터가 딱 있을 거지만, 내가 설정하기엔 아직 fine-tuning하는 것이 어려웠다.  \n",
    "\n",
    "- 드랍아웃 층의추가.  \n",
    "    TextGenerator(tf.keras.Model)의 구조를 짜면서 층 사이에 드랍아웃 층을 추가해 보기도 했고 위치를 옮겨보기도 했다. "
   ]
  },
  {
   "cell_type": "markdown",
   "id": "2ee8bd4e",
   "metadata": {},
   "source": [
    "- 결과가 loss 2.2 밑으로 내려가지 못했다."
   ]
  },
  {
   "cell_type": "markdown",
   "id": "b9ce6f11",
   "metadata": {},
   "source": [
    "## References"
   ]
  },
  {
   "cell_type": "markdown",
   "id": "1c4571db",
   "metadata": {},
   "source": [
    "\n",
    "- https://www.tensorflow.org/api_docs/python/tf/keras/preprocessing/text/Tokenizer (토크나이즈)  \n",
    "- https://www.tensorflow.org/api_docs/python/tf/keras/preprocessing/sequence/pad_sequences (문장에 패딩주기)"
   ]
  },
  {
   "cell_type": "markdown",
   "id": "5b645675",
   "metadata": {},
   "source": [
    "- https://codetorial.net/tensorflow/natural_language_processing_in_tensorflow_01.html (tokenizer의 여러가지 사용법에 대해 찾아보고 토큰으로 인코딩하는 방법에 조금 더 익숙해질 수 있었다.)\n",
    "\n",
    "- https://stats.stackexchange.com/questions/265400/deep-learning-how-does-beta-1-and-beta-2-in-the-adam-optimizer-affect-its-lear  \n",
    "- https://www.tensorflow.org/api_docs/python/tf/keras/optimizers/Adam (아담의 베타값 설정)\n",
    "\n",
    "- https://hyunw.kim/blog/2017/11/01/Optimization.html (옵티마이저)"
   ]
  }
 ],
 "metadata": {
  "kernelspec": {
   "display_name": "Python 3 (ipykernel)",
   "language": "python",
   "name": "python3"
  },
  "language_info": {
   "codemirror_mode": {
    "name": "ipython",
    "version": 3
   },
   "file_extension": ".py",
   "mimetype": "text/x-python",
   "name": "python",
   "nbconvert_exporter": "python",
   "pygments_lexer": "ipython3",
   "version": "3.9.7"
  }
 },
 "nbformat": 4,
 "nbformat_minor": 5
}
