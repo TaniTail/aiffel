{
 "cells": [
  {
   "attachments": {},
   "cell_type": "markdown",
   "metadata": {},
   "source": [
    "# 활성화함수"
   ]
  },
  {
   "attachments": {},
   "cell_type": "markdown",
   "metadata": {},
   "source": [
    "( 표현력을 향상)모델의 representation capacity 또는 expressivity를 향상  : 선형적 조합으로는 선형적으로 표현되는 데이터만 학습할 수 있다."
   ]
  },
  {
   "attachments": {},
   "cell_type": "markdown",
   "metadata": {},
   "source": [
    "### 이진계단함수"
   ]
  },
  {
   "cell_type": "code",
   "execution_count": null,
   "metadata": {},
   "outputs": [],
   "source": [
    "def binary_step(x, threshold=0): \n",
    "# threshold가 있는 함수를 쓰면 꼭 default 값을 설정해주세요\n",
    "    return 0 if x<threshold else 1"
   ]
  },
  {
   "cell_type": "code",
   "execution_count": null,
   "metadata": {},
   "outputs": [],
   "source": [
    "import matplotlib.pyplot as plt\n",
    "from PIL import Image\n",
    "import numpy as np\n",
    "\n",
    "def plot_and_visulize(image_url, function, derivative=False):\n",
    "    X = [-10 + x/100 for x in range(2000)]\n",
    "    y = [function(y) for y in X]\n",
    "    \n",
    "    plt.figure(figsize=(12,12))\n",
    "    \n",
    "    # 함수 그래프\n",
    "    plt.subplot(3,2,1)\n",
    "    plt.title('function')\n",
    "    plt.plot(X,y)\n",
    "    \n",
    "    # 함수의 미분 그래프\n",
    "    plt.subplot(3,2,2)\n",
    "    plt.title('derivative')\n",
    "    if derivative:\n",
    "        dev_y = [derivative(y) for y in X]\n",
    "        plt.plot(X,dev_y)\n",
    "    \n",
    "    # 무작위 샘플들 분포\n",
    "    samples = np.random.rand(1000)\n",
    "    samples -= np.mean(samples)\n",
    "    plt.subplot(3,2,3)\n",
    "    plt.title('samples')\n",
    "    plt.hist(samples,100)\n",
    "    \n",
    "    # 활성화 함수를 통과한 샘플들 분포\n",
    "    act_values = [function(y) for y in samples]\n",
    "    plt.subplot(3,2,4)\n",
    "    plt.title('activation values')\n",
    "    plt.hist(act_values,100)\n",
    "    \n",
    "    # 원본 이미지\n",
    "    image = np.array(Image.open(image_url), dtype=np.float64)[:,:,0]/255. # 구분을 위해 gray-scale해서 확인\n",
    "    image -= np.median(image)\n",
    "    plt.subplot(3,2,5)\n",
    "    plt.title('origin image')\n",
    "    plt.imshow(image, cmap='gray')\n",
    "    \n",
    "    # 활성화 함수를 통과한 이미지\n",
    "    activation_image = np.zeros(image.shape)\n",
    "    h, w = image.shape\n",
    "    for i in range(w):\n",
    "        for j in range(h):\n",
    "            activation_image[j][i] += function(image[j][i])\n",
    "    plt.subplot(3,2,6)\n",
    "    plt.title('activation results')\n",
    "    plt.imshow(activation_image, cmap='gray')\n",
    "    \n",
    "    return plt"
   ]
  },
  {
   "cell_type": "code",
   "execution_count": null,
   "metadata": {},
   "outputs": [],
   "source": [
    "import os\n",
    "img_path = '\\aiffel\\Exploration\\FS14\\jindo_dog.jpg'\n",
    "ax = plot_and_visulize(img_path, binary_step)\n",
    "ax.show()"
   ]
  },
  {
   "cell_type": "markdown",
   "metadata": {},
   "source": []
  },
  {
   "cell_type": "code",
   "execution_count": null,
   "metadata": {},
   "outputs": [],
   "source": []
  }
 ],
 "metadata": {
  "kernelspec": {
   "display_name": "Python 3",
   "language": "python",
   "name": "python3"
  },
  "language_info": {
   "codemirror_mode": {
    "name": "ipython",
    "version": 3
   },
   "file_extension": ".py",
   "mimetype": "text/x-python",
   "name": "python",
   "nbconvert_exporter": "python",
   "pygments_lexer": "ipython3",
   "version": "3.11.0 (main, Oct 24 2022, 18:26:48) [MSC v.1933 64 bit (AMD64)]"
  },
  "orig_nbformat": 4,
  "vscode": {
   "interpreter": {
    "hash": "482d49455792e71af8bb43d5f45a1694ecbac16cdfec5615a391e380091dae39"
   }
  }
 },
 "nbformat": 4,
 "nbformat_minor": 2
}
