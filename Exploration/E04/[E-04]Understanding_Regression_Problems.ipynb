{
 "cells": [
  {
   "attachments": {},
   "cell_type": "markdown",
   "metadata": {},
   "source": [
    "# Exploration03 Classification Examples\n",
    "###### 온라인 코어 2기 박수경"
   ]
  },
  {
   "attachments": {},
   "cell_type": "markdown",
   "metadata": {},
   "source": [
    "## 프로젝트 1 : 손수 설계하는 선형회귀, 당뇨병 수치를 맞춰보자!"
   ]
  },
  {
   "attachments": {},
   "cell_type": "markdown",
   "metadata": {},
   "source": [
    "### 1) 데이터 가져오기 "
   ]
  },
  {
   "attachments": {},
   "cell_type": "markdown",
   "metadata": {},
   "source": [
    "- 먼저 필요한 모듈을 import 합니다.\n",
    "- sklearn.datasets의 load_diabetes에서 데이터를 가져옵니다.\n",
    "- 데이터의 정보와 shape, description을 확인합니다.\n",
    "- diabetes의 data를 df_X에, target을 df_y에 저장합니다."
   ]
  },
  {
   "cell_type": "code",
   "execution_count": 354,
   "metadata": {},
   "outputs": [],
   "source": [
    "import matplotlib.pyplot as plt\n",
    "import pandas as pd\n",
    "import numpy as np"
   ]
  },
  {
   "cell_type": "code",
   "execution_count": 355,
   "metadata": {},
   "outputs": [
    {
     "name": "stdout",
     "output_type": "stream",
     "text": [
      "-diabetes의 타입 :  <class 'sklearn.utils.Bunch'>\n",
      "-데이터의 dir :  ['DESCR', 'data', 'data_filename', 'data_module', 'feature_names', 'frame', 'target', 'target_filename']\n",
      "-데이터의 keys :  dict_keys(['data', 'target', 'frame', 'DESCR', 'feature_names', 'data_filename', 'target_filename', 'data_module'])\n"
     ]
    }
   ],
   "source": [
    "from sklearn.datasets import load_diabetes #사이킷런 내장 데이터셋에서 함수 불러오기\n",
    "\n",
    "diabetes = load_diabetes() #데이터 로딩.\n",
    "\n",
    "print('-diabetes의 타입 : ',type(diabetes))\n",
    "print('-데이터의 dir : ', dir(diabetes))\n",
    "print('-데이터의 keys : ', diabetes.keys())"
   ]
  },
  {
   "cell_type": "code",
   "execution_count": 356,
   "metadata": {},
   "outputs": [
    {
     "name": "stdout",
     "output_type": "stream",
     "text": [
      "['age', 'sex', 'bmi', 'bp', 's1', 's2', 's3', 's4', 's5', 's6']\n",
      ".. _diabetes_dataset:\n",
      "\n",
      "Diabetes dataset\n",
      "----------------\n",
      "\n",
      "Ten baseline variables, age, sex, body mass index, average blood\n",
      "pressure, and six blood serum measurements were obtained for each of n =\n",
      "442 diabetes patients, as well as the response of interest, a\n",
      "quantitative measure of disease progression one year after baseline.\n",
      "\n",
      "**Data Set Characteristics:**\n",
      "\n",
      "  :Number of Instances: 442\n",
      "\n",
      "  :Number of Attributes: First 10 columns are numeric predictive values\n",
      "\n",
      "  :Target: Column 11 is a quantitative measure of disease progression one year after baseline\n",
      "\n",
      "  :Attribute Information:\n",
      "      - age     age in years\n",
      "      - sex\n",
      "      - bmi     body mass index\n",
      "      - bp      average blood pressure\n",
      "      - s1      tc, total serum cholesterol\n",
      "      - s2      ldl, low-density lipoproteins\n",
      "      - s3      hdl, high-density lipoproteins\n",
      "      - s4      tch, total cholesterol / HDL\n",
      "      - s5      ltg, possibly log of serum triglycerides level\n",
      "      - s6      glu, blood sugar level\n",
      "\n",
      "Note: Each of these 10 feature variables have been mean centered and scaled by the standard deviation times `n_samples` (i.e. the sum of squares of each column totals 1).\n",
      "\n",
      "Source URL:\n",
      "https://www4.stat.ncsu.edu/~boos/var.select/diabetes.html\n",
      "\n",
      "For more information see:\n",
      "Bradley Efron, Trevor Hastie, Iain Johnstone and Robert Tibshirani (2004) \"Least Angle Regression,\" Annals of Statistics (with discussion), 407-499.\n",
      "(https://web.stanford.edu/~hastie/Papers/LARS/LeastAngle_2002.pdf)\n"
     ]
    }
   ],
   "source": [
    "print(diabetes.feature_names)\n",
    "print(diabetes.DESCR) # 데이터의 description을 확인했습니다."
   ]
  },
  {
   "attachments": {},
   "cell_type": "markdown",
   "metadata": {},
   "source": [
    "데이터의 description을 확인한 결과 \n",
    "Diabetes dataset은, 442명의 당뇨병 환자들의 age, sex, body mass index, average blood\n",
    "pressure, and six blood serum measurements를 기록한 데이터셋이며, 각각의 컬럼은 표준편차를 기준으로 Scaled 되었음을 알려주고 있습니다."
   ]
  },
  {
   "cell_type": "code",
   "execution_count": 357,
   "metadata": {},
   "outputs": [
    {
     "name": "stdout",
     "output_type": "stream",
     "text": [
      "df_X의 shape :  (442, 10)\n",
      "<class 'pandas.core.frame.DataFrame'>\n",
      "RangeIndex: 442 entries, 0 to 441\n",
      "Data columns (total 10 columns):\n",
      " #   Column  Non-Null Count  Dtype  \n",
      "---  ------  --------------  -----  \n",
      " 0   age     442 non-null    float64\n",
      " 1   sex     442 non-null    float64\n",
      " 2   bmi     442 non-null    float64\n",
      " 3   bp      442 non-null    float64\n",
      " 4   s1      442 non-null    float64\n",
      " 5   s2      442 non-null    float64\n",
      " 6   s3      442 non-null    float64\n",
      " 7   s4      442 non-null    float64\n",
      " 8   s5      442 non-null    float64\n",
      " 9   s6      442 non-null    float64\n",
      "dtypes: float64(10)\n",
      "memory usage: 34.7 KB\n"
     ]
    },
    {
     "data": {
      "text/html": [
       "<div>\n",
       "<style scoped>\n",
       "    .dataframe tbody tr th:only-of-type {\n",
       "        vertical-align: middle;\n",
       "    }\n",
       "\n",
       "    .dataframe tbody tr th {\n",
       "        vertical-align: top;\n",
       "    }\n",
       "\n",
       "    .dataframe thead th {\n",
       "        text-align: right;\n",
       "    }\n",
       "</style>\n",
       "<table border=\"1\" class=\"dataframe\">\n",
       "  <thead>\n",
       "    <tr style=\"text-align: right;\">\n",
       "      <th></th>\n",
       "      <th>age</th>\n",
       "      <th>sex</th>\n",
       "      <th>bmi</th>\n",
       "      <th>bp</th>\n",
       "      <th>s1</th>\n",
       "      <th>s2</th>\n",
       "      <th>s3</th>\n",
       "      <th>s4</th>\n",
       "      <th>s5</th>\n",
       "      <th>s6</th>\n",
       "    </tr>\n",
       "  </thead>\n",
       "  <tbody>\n",
       "    <tr>\n",
       "      <th>0</th>\n",
       "      <td>0.038076</td>\n",
       "      <td>0.050680</td>\n",
       "      <td>0.061696</td>\n",
       "      <td>0.021872</td>\n",
       "      <td>-0.044223</td>\n",
       "      <td>-0.034821</td>\n",
       "      <td>-0.043401</td>\n",
       "      <td>-0.002592</td>\n",
       "      <td>0.019908</td>\n",
       "      <td>-0.017646</td>\n",
       "    </tr>\n",
       "    <tr>\n",
       "      <th>1</th>\n",
       "      <td>-0.001882</td>\n",
       "      <td>-0.044642</td>\n",
       "      <td>-0.051474</td>\n",
       "      <td>-0.026328</td>\n",
       "      <td>-0.008449</td>\n",
       "      <td>-0.019163</td>\n",
       "      <td>0.074412</td>\n",
       "      <td>-0.039493</td>\n",
       "      <td>-0.068330</td>\n",
       "      <td>-0.092204</td>\n",
       "    </tr>\n",
       "    <tr>\n",
       "      <th>2</th>\n",
       "      <td>0.085299</td>\n",
       "      <td>0.050680</td>\n",
       "      <td>0.044451</td>\n",
       "      <td>-0.005671</td>\n",
       "      <td>-0.045599</td>\n",
       "      <td>-0.034194</td>\n",
       "      <td>-0.032356</td>\n",
       "      <td>-0.002592</td>\n",
       "      <td>0.002864</td>\n",
       "      <td>-0.025930</td>\n",
       "    </tr>\n",
       "    <tr>\n",
       "      <th>3</th>\n",
       "      <td>-0.089063</td>\n",
       "      <td>-0.044642</td>\n",
       "      <td>-0.011595</td>\n",
       "      <td>-0.036656</td>\n",
       "      <td>0.012191</td>\n",
       "      <td>0.024991</td>\n",
       "      <td>-0.036038</td>\n",
       "      <td>0.034309</td>\n",
       "      <td>0.022692</td>\n",
       "      <td>-0.009362</td>\n",
       "    </tr>\n",
       "    <tr>\n",
       "      <th>4</th>\n",
       "      <td>0.005383</td>\n",
       "      <td>-0.044642</td>\n",
       "      <td>-0.036385</td>\n",
       "      <td>0.021872</td>\n",
       "      <td>0.003935</td>\n",
       "      <td>0.015596</td>\n",
       "      <td>0.008142</td>\n",
       "      <td>-0.002592</td>\n",
       "      <td>-0.031991</td>\n",
       "      <td>-0.046641</td>\n",
       "    </tr>\n",
       "  </tbody>\n",
       "</table>\n",
       "</div>"
      ],
      "text/plain": [
       "        age       sex       bmi        bp        s1        s2        s3  \\\n",
       "0  0.038076  0.050680  0.061696  0.021872 -0.044223 -0.034821 -0.043401   \n",
       "1 -0.001882 -0.044642 -0.051474 -0.026328 -0.008449 -0.019163  0.074412   \n",
       "2  0.085299  0.050680  0.044451 -0.005671 -0.045599 -0.034194 -0.032356   \n",
       "3 -0.089063 -0.044642 -0.011595 -0.036656  0.012191  0.024991 -0.036038   \n",
       "4  0.005383 -0.044642 -0.036385  0.021872  0.003935  0.015596  0.008142   \n",
       "\n",
       "         s4        s5        s6  \n",
       "0 -0.002592  0.019908 -0.017646  \n",
       "1 -0.039493 -0.068330 -0.092204  \n",
       "2 -0.002592  0.002864 -0.025930  \n",
       "3  0.034309  0.022692 -0.009362  \n",
       "4 -0.002592 -0.031991 -0.046641  "
      ]
     },
     "metadata": {},
     "output_type": "display_data"
    }
   ],
   "source": [
    "df_X = pd.DataFrame(diabetes.data, columns= diabetes.feature_names)\n",
    "\n",
    "print('df_X의 shape : ', df_X.shape)\n",
    "df_X.info()\n",
    "display(df_X.head())\n",
    "\n",
    "df_y = pd.DataFrame(diabetes.target, columns=['target'])\n",
    "\n"
   ]
  },
  {
   "attachments": {},
   "cell_type": "markdown",
   "metadata": {},
   "source": [
    "### 2) 모델에 입력할 데이터 X 준비하기"
   ]
  },
  {
   "attachments": {},
   "cell_type": "markdown",
   "metadata": {},
   "source": [
    "- df_X에 있는 값들을 numpy array로 변환해서 저장해주세요."
   ]
  },
  {
   "cell_type": "code",
   "execution_count": 358,
   "metadata": {},
   "outputs": [],
   "source": [
    "X = df_X.values #values 와 to_numpy() 모두 이용가능합니다."
   ]
  },
  {
   "attachments": {},
   "cell_type": "markdown",
   "metadata": {},
   "source": [
    "### 3) 모델에 예측할 데이터 y 준비하기"
   ]
  },
  {
   "attachments": {},
   "cell_type": "markdown",
   "metadata": {},
   "source": [
    "- df_y에 있는 값들을 numpy array로 변환해서 저장해주세요."
   ]
  },
  {
   "cell_type": "code",
   "execution_count": 359,
   "metadata": {},
   "outputs": [],
   "source": [
    "y = df_y['target'].values "
   ]
  },
  {
   "attachments": {},
   "cell_type": "markdown",
   "metadata": {},
   "source": [
    "### 4) train 데이터와 test 데이터로 분리하기"
   ]
  },
  {
   "attachments": {},
   "cell_type": "markdown",
   "metadata": {},
   "source": [
    "- X와 y 데이터를 각각 train 데이터와 test 데이터로 분리해주세요."
   ]
  },
  {
   "cell_type": "code",
   "execution_count": 360,
   "metadata": {},
   "outputs": [],
   "source": [
    "from sklearn.model_selection import train_test_split\n",
    "\n",
    "X_train, X_test, y_train, y_test = train_test_split(X, y, test_size=0.2, random_state=1004)"
   ]
  },
  {
   "attachments": {},
   "cell_type": "markdown",
   "metadata": {},
   "source": [
    "### 5) 모델 준비하기"
   ]
  },
  {
   "attachments": {},
   "cell_type": "markdown",
   "metadata": {},
   "source": [
    "- 입력 데이터 개수에 맞는 가중치 W와 b를 준비해주세요.\n",
    "- 모델 함수를 구현해주세요."
   ]
  },
  {
   "cell_type": "code",
   "execution_count": 361,
   "metadata": {},
   "outputs": [
    {
     "name": "stdout",
     "output_type": "stream",
     "text": [
      "[0.91248112 0.97207528 0.48193699 0.31810325 0.70087084 0.57028743\n",
      " 0.86363431 0.90696828 0.20748705 0.49890585]\n",
      "===============================================\n",
      "0.868556929917174\n"
     ]
    }
   ],
   "source": [
    "W = np.random.rand(10) #10개의 피처이기 때문에.\n",
    "b = np.random.rand()\n",
    "\n",
    "print(W)\n",
    "print(\"===============================================\")\n",
    "print(b)"
   ]
  },
  {
   "cell_type": "code",
   "execution_count": 362,
   "metadata": {},
   "outputs": [],
   "source": [
    "def model(X,W,b):\n",
    "    predictions = 0\n",
    "    for i in range(10):\n",
    "        predictions += X[:,i]*W[i]\n",
    "    predictions += b\n",
    "    return predictions"
   ]
  },
  {
   "attachments": {},
   "cell_type": "markdown",
   "metadata": {},
   "source": [
    "### 6) 손실함수 loss 정의하기"
   ]
  },
  {
   "attachments": {},
   "cell_type": "markdown",
   "metadata": {},
   "source": [
    "- 손실함수를 MSE 함수로 정의해주세요.\n"
   ]
  },
  {
   "cell_type": "code",
   "execution_count": 363,
   "metadata": {},
   "outputs": [],
   "source": [
    "def MSE(a, b):\n",
    "    mse = ((a - b) ** 2).mean()  # 두 값의 차이의 제곱의 평균\n",
    "    return mse"
   ]
  },
  {
   "attachments": {},
   "cell_type": "markdown",
   "metadata": {},
   "source": [
    "MSE를 먼저 정의합니다. Mean squared error 은 오차의 제곱의 평균입니다. "
   ]
  },
  {
   "cell_type": "code",
   "execution_count": 364,
   "metadata": {},
   "outputs": [],
   "source": [
    "def loss(X, W, b, y):\n",
    "    predictions = model(X, W, b)\n",
    "    L = MSE(predictions, y)\n",
    "    return L"
   ]
  },
  {
   "attachments": {},
   "cell_type": "markdown",
   "metadata": {},
   "source": [
    "손실함수 loss을 정의합니다. 손실함수란 우리가 예측한 값과 실제 값의 차이 입니다. 위의 모델이 예측한 값과 실제 값의 MSE를 계산해 주는 함수로 정의했습니다."
   ]
  },
  {
   "attachments": {},
   "cell_type": "markdown",
   "metadata": {},
   "source": [
    "### 7) 기울기를 구하는 gradient 함수 구현하기"
   ]
  },
  {
   "attachments": {},
   "cell_type": "markdown",
   "metadata": {},
   "source": [
    "- 기울기를 계산하는 gradient 함수를 구현해주세요."
   ]
  },
  {
   "attachments": {},
   "cell_type": "markdown",
   "metadata": {},
   "source": [
    "gradient 는 기울기를 구하는 함수로 정의할 것입니다. 이를 위해 몇가지 ndarray를 살펴보면, 행렬을 transpose 하는 메서드 T와 (행과 열을 교환하여 전치행렬을 만듬), 두 배열을 Product하는 dot을 알아야 합니다.  \n",
    "(참고 : https://numpy.org/doc/stable/reference/generated/numpy.dot.html)\n",
    "\n",
    "$$\\frac{∂L}{∂w_i} = \\frac{1}{N} \\sum_{i=1}^{N} \\frac{∂L}{∂w_i} {\\{(y_i,true - y_i,pred)^2\\}} $$  \n",
    "결국, $$ = \\frac{1}{N} \\sum_{i=1}^{N} 2x_i {(y_i,true - y_i,pred)} $$  \n",
    "이므로 다음과 같이 나타낼 수 있습니다."
   ]
  },
  {
   "cell_type": "code",
   "execution_count": 365,
   "metadata": {},
   "outputs": [],
   "source": [
    "def gradient(X, W, b, y):\n",
    "    \n",
    "    N = len(y)# N은 찍히는 데이터 포인트의 개수\n",
    "    y_pred = model(X, W, b) #모델이 예측한 y값\n",
    "    dW = 1/N * 2 * X.T.dot(y_pred - y) #T는 행렬 전치, dot은 행렬의 곱.\n",
    "        \n",
    "    # b의 gradient 계산\n",
    "    db = 2 * (y_pred - y).mean()\n",
    "    return dW, db"
   ]
  },
  {
   "attachments": {},
   "cell_type": "markdown",
   "metadata": {},
   "source": [
    "즉 $$ x_1(y_1,pred - y1,true) + x_2(y_2,pred - y2,true) + ... + x_N(y_N,pred - yN,true) $$\n",
    "을 행렬의 곱의 식으로 나타낸 것입니다.\n",
    "특별히 b의 gradient는, 이는 y_pred를 b로 미분했을 때 1이 되기 때문에 더이상 x와 관련이 없이  \n",
    "$$ \\frac{∂L}{∂b} = \\frac{1}{N} \\sum_{i=1}^{N} 2{(y_i,true - y_i,pred)} $$  \n",
    "로 나타낼 수 있고, 이는 $$ 2(y_i,pred - y) $$의 평균으로 나타낼 수 있습니다."
   ]
  },
  {
   "cell_type": "code",
   "execution_count": 366,
   "metadata": {},
   "outputs": [
    {
     "name": "stdout",
     "output_type": "stream",
     "text": [
      "dW: [-1.36774589 -0.30882695 -4.28915812 -3.22652096 -1.54193396 -1.26435499\n",
      "  2.88856651 -3.14357905 -4.1366851  -2.7932231 ]\n",
      "db: -302.5298544659575\n"
     ]
    }
   ],
   "source": [
    "dW, db = gradient(X, W, b, y) #경사를 계산해서 출력해 보았다.\n",
    "print(\"dW:\", dW)\n",
    "print(\"db:\", db)"
   ]
  },
  {
   "attachments": {},
   "cell_type": "markdown",
   "metadata": {},
   "source": [
    "### 8) 하이퍼 파라미터인 학습률 설정하기"
   ]
  },
  {
   "attachments": {},
   "cell_type": "markdown",
   "metadata": {},
   "source": [
    "- 학습률, learning rate 를 설정해주세요\n",
    "- 만약 학습이 잘 되지 않는다면 learning rate 값을 한번 여러 가지로 설정하며 실험해 보세요."
   ]
  },
  {
   "cell_type": "code",
   "execution_count": 367,
   "metadata": {},
   "outputs": [],
   "source": [
    "learning_rate = 0.2"
   ]
  },
  {
   "attachments": {},
   "cell_type": "markdown",
   "metadata": {},
   "source": [
    "학습률은 하이터 파라미터입니다. 하이퍼 파라미터는 모델이 자동으로 최적의 값을 찾아가는 W,b 와는 다르게 우리가 정해주는 값입니다. 하이퍼 파라미터에 의해서도 모델의 성능이 영향을 크게 받는 경우가 많습니다."
   ]
  },
  {
   "attachments": {},
   "cell_type": "markdown",
   "metadata": {},
   "source": [
    "### 9) 모델 학습하기"
   ]
  },
  {
   "attachments": {},
   "cell_type": "markdown",
   "metadata": {},
   "source": [
    "- 정의된 손실함수와 기울기 함수로 모델을 학습해주세요.\n",
    "- loss값이 충분히 떨어질 때까지 학습을 진행해주세요.\n",
    "- 입력하는 데이터인 X에 들어가는 특성 컬럼들을 몇 개 빼도 괜찮습니다. 다양한 데이터로 실험해 보세요."
   ]
  },
  {
   "cell_type": "code",
   "execution_count": 368,
   "metadata": {},
   "outputs": [
    {
     "name": "stdout",
     "output_type": "stream",
     "text": [
      "Iteration 10 : Loss 5617.9471\n",
      "Iteration 20 : Loss 5484.7583\n",
      "Iteration 30 : Loss 5360.7319\n",
      "Iteration 40 : Loss 5244.4772\n",
      "Iteration 50 : Loss 5135.4645\n",
      "Iteration 60 : Loss 5033.2008\n",
      "Iteration 70 : Loss 4937.2279\n",
      "Iteration 80 : Loss 4847.1192\n",
      "Iteration 90 : Loss 4762.4781\n",
      "Iteration 100 : Loss 4682.9355\n",
      "Iteration 110 : Loss 4608.1483\n",
      "Iteration 120 : Loss 4537.7969\n",
      "Iteration 130 : Loss 4471.5842\n",
      "Iteration 140 : Loss 4409.2336\n",
      "Iteration 150 : Loss 4350.4878\n",
      "Iteration 160 : Loss 4295.1074\n",
      "Iteration 170 : Loss 4242.8695\n",
      "Iteration 180 : Loss 4193.5667\n",
      "Iteration 190 : Loss 4147.0060\n",
      "Iteration 200 : Loss 4103.0075\n",
      "Iteration 210 : Loss 4061.4041\n",
      "Iteration 220 : Loss 4022.0399\n",
      "Iteration 230 : Loss 3984.7700\n",
      "Iteration 240 : Loss 3949.4593\n",
      "Iteration 250 : Loss 3915.9820\n",
      "Iteration 260 : Loss 3884.2210\n",
      "Iteration 270 : Loss 3854.0672\n",
      "Iteration 280 : Loss 3825.4189\n",
      "Iteration 290 : Loss 3798.1815\n",
      "Iteration 300 : Loss 3772.2668\n",
      "Iteration 310 : Loss 3747.5924\n",
      "Iteration 320 : Loss 3724.0819\n",
      "Iteration 330 : Loss 3701.6636\n",
      "Iteration 340 : Loss 3680.2710\n",
      "Iteration 350 : Loss 3659.8421\n",
      "Iteration 360 : Loss 3640.3188\n",
      "Iteration 370 : Loss 3621.6472\n",
      "Iteration 380 : Loss 3603.7768\n",
      "Iteration 390 : Loss 3586.6607\n",
      "Iteration 400 : Loss 3570.2548\n",
      "Iteration 410 : Loss 3554.5183\n",
      "Iteration 420 : Loss 3539.4128\n",
      "Iteration 430 : Loss 3524.9026\n",
      "Iteration 440 : Loss 3510.9544\n",
      "Iteration 450 : Loss 3497.5370\n",
      "Iteration 460 : Loss 3484.6211\n",
      "Iteration 470 : Loss 3472.1796\n",
      "Iteration 480 : Loss 3460.1869\n",
      "Iteration 490 : Loss 3448.6193\n",
      "Iteration 500 : Loss 3437.4544\n",
      "Iteration 510 : Loss 3426.6713\n",
      "Iteration 520 : Loss 3416.2505\n",
      "Iteration 530 : Loss 3406.1737\n",
      "Iteration 540 : Loss 3396.4237\n",
      "Iteration 550 : Loss 3386.9845\n",
      "Iteration 560 : Loss 3377.8409\n",
      "Iteration 570 : Loss 3368.9789\n",
      "Iteration 580 : Loss 3360.3851\n",
      "Iteration 590 : Loss 3352.0471\n",
      "Iteration 600 : Loss 3343.9532\n",
      "Iteration 610 : Loss 3336.0924\n",
      "Iteration 620 : Loss 3328.4543\n",
      "Iteration 630 : Loss 3321.0293\n",
      "Iteration 640 : Loss 3313.8082\n",
      "Iteration 650 : Loss 3306.7823\n",
      "Iteration 660 : Loss 3299.9436\n",
      "Iteration 670 : Loss 3293.2845\n",
      "Iteration 680 : Loss 3286.7976\n",
      "Iteration 690 : Loss 3280.4761\n",
      "Iteration 700 : Loss 3274.3138\n",
      "Iteration 710 : Loss 3268.3044\n",
      "Iteration 720 : Loss 3262.4423\n",
      "Iteration 730 : Loss 3256.7220\n",
      "Iteration 740 : Loss 3251.1384\n",
      "Iteration 750 : Loss 3245.6866\n",
      "Iteration 760 : Loss 3240.3620\n",
      "Iteration 770 : Loss 3235.1602\n",
      "Iteration 780 : Loss 3230.0771\n",
      "Iteration 790 : Loss 3225.1088\n",
      "Iteration 800 : Loss 3220.2514\n",
      "Iteration 810 : Loss 3215.5014\n",
      "Iteration 820 : Loss 3210.8555\n",
      "Iteration 830 : Loss 3206.3104\n",
      "Iteration 840 : Loss 3201.8631\n",
      "Iteration 850 : Loss 3197.5105\n",
      "Iteration 860 : Loss 3193.2499\n",
      "Iteration 870 : Loss 3189.0786\n",
      "Iteration 880 : Loss 3184.9941\n",
      "Iteration 890 : Loss 3180.9939\n",
      "Iteration 900 : Loss 3177.0757\n",
      "Iteration 910 : Loss 3173.2372\n",
      "Iteration 920 : Loss 3169.4763\n",
      "Iteration 930 : Loss 3165.7910\n",
      "Iteration 940 : Loss 3162.1791\n",
      "Iteration 950 : Loss 3158.6390\n",
      "Iteration 960 : Loss 3155.1686\n",
      "Iteration 970 : Loss 3151.7663\n",
      "Iteration 980 : Loss 3148.4303\n",
      "Iteration 990 : Loss 3145.1591\n",
      "Iteration 1000 : Loss 3141.9510\n",
      "Iteration 1010 : Loss 3138.8046\n",
      "Iteration 1020 : Loss 3135.7184\n",
      "Iteration 1030 : Loss 3132.6910\n",
      "Iteration 1040 : Loss 3129.7210\n",
      "Iteration 1050 : Loss 3126.8071\n",
      "Iteration 1060 : Loss 3123.9480\n",
      "Iteration 1070 : Loss 3121.1425\n",
      "Iteration 1080 : Loss 3118.3895\n",
      "Iteration 1090 : Loss 3115.6876\n",
      "Iteration 1100 : Loss 3113.0359\n",
      "Iteration 1110 : Loss 3110.4332\n",
      "Iteration 1120 : Loss 3107.8785\n",
      "Iteration 1130 : Loss 3105.3707\n",
      "Iteration 1140 : Loss 3102.9089\n",
      "Iteration 1150 : Loss 3100.4920\n",
      "Iteration 1160 : Loss 3098.1192\n",
      "Iteration 1170 : Loss 3095.7896\n",
      "Iteration 1180 : Loss 3093.5022\n",
      "Iteration 1190 : Loss 3091.2562\n",
      "Iteration 1200 : Loss 3089.0507\n",
      "Iteration 1210 : Loss 3086.8849\n",
      "Iteration 1220 : Loss 3084.7580\n",
      "Iteration 1230 : Loss 3082.6693\n",
      "Iteration 1240 : Loss 3080.6180\n",
      "Iteration 1250 : Loss 3078.6033\n",
      "Iteration 1260 : Loss 3076.6245\n",
      "Iteration 1270 : Loss 3074.6809\n",
      "Iteration 1280 : Loss 3072.7718\n",
      "Iteration 1290 : Loss 3070.8966\n",
      "Iteration 1300 : Loss 3069.0546\n",
      "Iteration 1310 : Loss 3067.2451\n",
      "Iteration 1320 : Loss 3065.4676\n",
      "Iteration 1330 : Loss 3063.7214\n",
      "Iteration 1340 : Loss 3062.0059\n",
      "Iteration 1350 : Loss 3060.3205\n",
      "Iteration 1360 : Loss 3058.6647\n",
      "Iteration 1370 : Loss 3057.0378\n",
      "Iteration 1380 : Loss 3055.4395\n",
      "Iteration 1390 : Loss 3053.8690\n",
      "Iteration 1400 : Loss 3052.3260\n",
      "Iteration 1410 : Loss 3050.8098\n",
      "Iteration 1420 : Loss 3049.3200\n",
      "Iteration 1430 : Loss 3047.8561\n",
      "Iteration 1440 : Loss 3046.4176\n",
      "Iteration 1450 : Loss 3045.0041\n",
      "Iteration 1460 : Loss 3043.6150\n",
      "Iteration 1470 : Loss 3042.2500\n",
      "Iteration 1480 : Loss 3040.9085\n",
      "Iteration 1490 : Loss 3039.5902\n",
      "Iteration 1500 : Loss 3038.2947\n",
      "Iteration 1510 : Loss 3037.0214\n",
      "Iteration 1520 : Loss 3035.7700\n",
      "Iteration 1530 : Loss 3034.5402\n",
      "Iteration 1540 : Loss 3033.3314\n",
      "Iteration 1550 : Loss 3032.1434\n",
      "Iteration 1560 : Loss 3030.9758\n",
      "Iteration 1570 : Loss 3029.8281\n",
      "Iteration 1580 : Loss 3028.7000\n",
      "Iteration 1590 : Loss 3027.5912\n",
      "Iteration 1600 : Loss 3026.5014\n",
      "Iteration 1610 : Loss 3025.4301\n",
      "Iteration 1620 : Loss 3024.3771\n",
      "Iteration 1630 : Loss 3023.3419\n",
      "Iteration 1640 : Loss 3022.3244\n",
      "Iteration 1650 : Loss 3021.3242\n",
      "Iteration 1660 : Loss 3020.3409\n",
      "Iteration 1670 : Loss 3019.3743\n",
      "Iteration 1680 : Loss 3018.4241\n",
      "Iteration 1690 : Loss 3017.4899\n",
      "Iteration 1700 : Loss 3016.5716\n",
      "Iteration 1710 : Loss 3015.6687\n",
      "Iteration 1720 : Loss 3014.7811\n",
      "Iteration 1730 : Loss 3013.9085\n",
      "Iteration 1740 : Loss 3013.0505\n",
      "Iteration 1750 : Loss 3012.2070\n",
      "Iteration 1760 : Loss 3011.3777\n",
      "Iteration 1770 : Loss 3010.5623\n",
      "Iteration 1780 : Loss 3009.7606\n",
      "Iteration 1790 : Loss 3008.9723\n",
      "Iteration 1800 : Loss 3008.1972\n",
      "Iteration 1810 : Loss 3007.4351\n",
      "Iteration 1820 : Loss 3006.6858\n",
      "Iteration 1830 : Loss 3005.9490\n",
      "Iteration 1840 : Loss 3005.2244\n",
      "Iteration 1850 : Loss 3004.5120\n",
      "Iteration 1860 : Loss 3003.8114\n",
      "Iteration 1870 : Loss 3003.1225\n",
      "Iteration 1880 : Loss 3002.4451\n",
      "Iteration 1890 : Loss 3001.7789\n",
      "Iteration 1900 : Loss 3001.1238\n",
      "Iteration 1910 : Loss 3000.4795\n",
      "Iteration 1920 : Loss 2999.8459\n",
      "Iteration 1930 : Loss 2999.2228\n",
      "Iteration 1940 : Loss 2998.6100\n",
      "Iteration 1950 : Loss 2998.0074\n",
      "Iteration 1960 : Loss 2997.4147\n",
      "Iteration 1970 : Loss 2996.8318\n",
      "Iteration 1980 : Loss 2996.2584\n",
      "Iteration 1990 : Loss 2995.6946\n",
      "Iteration 2000 : Loss 2995.1400\n",
      "Iteration 2010 : Loss 2994.5945\n",
      "Iteration 2020 : Loss 2994.0579\n",
      "Iteration 2030 : Loss 2993.5302\n",
      "Iteration 2040 : Loss 2993.0112\n",
      "Iteration 2050 : Loss 2992.5006\n",
      "Iteration 2060 : Loss 2991.9984\n",
      "Iteration 2070 : Loss 2991.5043\n",
      "Iteration 2080 : Loss 2991.0184\n",
      "Iteration 2090 : Loss 2990.5404\n",
      "Iteration 2100 : Loss 2990.0702\n",
      "Iteration 2110 : Loss 2989.6076\n",
      "Iteration 2120 : Loss 2989.1525\n",
      "Iteration 2130 : Loss 2988.7049\n",
      "Iteration 2140 : Loss 2988.2645\n",
      "Iteration 2150 : Loss 2987.8313\n",
      "Iteration 2160 : Loss 2987.4051\n",
      "Iteration 2170 : Loss 2986.9857\n",
      "Iteration 2180 : Loss 2986.5732\n",
      "Iteration 2190 : Loss 2986.1673\n",
      "Iteration 2200 : Loss 2985.7680\n",
      "Iteration 2210 : Loss 2985.3751\n",
      "Iteration 2220 : Loss 2984.9885\n",
      "Iteration 2230 : Loss 2984.6082\n",
      "Iteration 2240 : Loss 2984.2340\n",
      "Iteration 2250 : Loss 2983.8658\n",
      "Iteration 2260 : Loss 2983.5034\n",
      "Iteration 2270 : Loss 2983.1469\n",
      "Iteration 2280 : Loss 2982.7961\n",
      "Iteration 2290 : Loss 2982.4509\n",
      "Iteration 2300 : Loss 2982.1113\n",
      "Iteration 2310 : Loss 2981.7770\n",
      "Iteration 2320 : Loss 2981.4481\n",
      "Iteration 2330 : Loss 2981.1244\n",
      "Iteration 2340 : Loss 2980.8058\n",
      "Iteration 2350 : Loss 2980.4924\n",
      "Iteration 2360 : Loss 2980.1838\n",
      "Iteration 2370 : Loss 2979.8802\n",
      "Iteration 2380 : Loss 2979.5814\n",
      "Iteration 2390 : Loss 2979.2873\n",
      "Iteration 2400 : Loss 2978.9979\n",
      "Iteration 2410 : Loss 2978.7130\n",
      "Iteration 2420 : Loss 2978.4326\n",
      "Iteration 2430 : Loss 2978.1567\n",
      "Iteration 2440 : Loss 2977.8850\n",
      "Iteration 2450 : Loss 2977.6177\n",
      "Iteration 2460 : Loss 2977.3545\n",
      "Iteration 2470 : Loss 2977.0955\n",
      "Iteration 2480 : Loss 2976.8405\n",
      "Iteration 2490 : Loss 2976.5895\n",
      "Iteration 2500 : Loss 2976.3424\n",
      "Iteration 2510 : Loss 2976.0992\n",
      "Iteration 2520 : Loss 2975.8597\n",
      "Iteration 2530 : Loss 2975.6240\n",
      "Iteration 2540 : Loss 2975.3920\n",
      "Iteration 2550 : Loss 2975.1635\n",
      "Iteration 2560 : Loss 2974.9386\n",
      "Iteration 2570 : Loss 2974.7172\n",
      "Iteration 2580 : Loss 2974.4992\n",
      "Iteration 2590 : Loss 2974.2845\n",
      "Iteration 2600 : Loss 2974.0732\n",
      "Iteration 2610 : Loss 2973.8651\n",
      "Iteration 2620 : Loss 2973.6603\n",
      "Iteration 2630 : Loss 2973.4585\n",
      "Iteration 2640 : Loss 2973.2599\n",
      "Iteration 2650 : Loss 2973.0643\n",
      "Iteration 2660 : Loss 2972.8717\n",
      "Iteration 2670 : Loss 2972.6821\n",
      "Iteration 2680 : Loss 2972.4953\n",
      "Iteration 2690 : Loss 2972.3114\n",
      "Iteration 2700 : Loss 2972.1303\n",
      "Iteration 2710 : Loss 2971.9519\n",
      "Iteration 2720 : Loss 2971.7763\n",
      "Iteration 2730 : Loss 2971.6033\n",
      "Iteration 2740 : Loss 2971.4329\n",
      "Iteration 2750 : Loss 2971.2651\n",
      "Iteration 2760 : Loss 2971.0998\n",
      "Iteration 2770 : Loss 2970.9371\n",
      "Iteration 2780 : Loss 2970.7767\n",
      "Iteration 2790 : Loss 2970.6188\n",
      "Iteration 2800 : Loss 2970.4633\n",
      "Iteration 2810 : Loss 2970.3100\n",
      "Iteration 2820 : Loss 2970.1591\n",
      "Iteration 2830 : Loss 2970.0104\n",
      "Iteration 2840 : Loss 2969.8640\n",
      "Iteration 2850 : Loss 2969.7197\n",
      "Iteration 2860 : Loss 2969.5776\n",
      "Iteration 2870 : Loss 2969.4375\n",
      "Iteration 2880 : Loss 2969.2996\n",
      "Iteration 2890 : Loss 2969.1637\n",
      "Iteration 2900 : Loss 2969.0298\n",
      "Iteration 2910 : Loss 2968.8979\n",
      "Iteration 2920 : Loss 2968.7679\n",
      "Iteration 2930 : Loss 2968.6398\n",
      "Iteration 2940 : Loss 2968.5136\n",
      "Iteration 2950 : Loss 2968.3892\n",
      "Iteration 2960 : Loss 2968.2667\n",
      "Iteration 2970 : Loss 2968.1460\n",
      "Iteration 2980 : Loss 2968.0270\n",
      "Iteration 2990 : Loss 2967.9097\n",
      "Iteration 3000 : Loss 2967.7942\n",
      "Iteration 3010 : Loss 2967.6803\n",
      "Iteration 3020 : Loss 2967.5681\n",
      "Iteration 3030 : Loss 2967.4575\n",
      "Iteration 3040 : Loss 2967.3485\n",
      "Iteration 3050 : Loss 2967.2411\n",
      "Iteration 3060 : Loss 2967.1352\n",
      "Iteration 3070 : Loss 2967.0308\n",
      "Iteration 3080 : Loss 2966.9279\n",
      "Iteration 3090 : Loss 2966.8265\n",
      "Iteration 3100 : Loss 2966.7265\n",
      "Iteration 3110 : Loss 2966.6280\n",
      "Iteration 3120 : Loss 2966.5309\n",
      "Iteration 3130 : Loss 2966.4351\n",
      "Iteration 3140 : Loss 2966.3407\n",
      "Iteration 3150 : Loss 2966.2476\n",
      "Iteration 3160 : Loss 2966.1558\n",
      "Iteration 3170 : Loss 2966.0654\n",
      "Iteration 3180 : Loss 2965.9762\n",
      "Iteration 3190 : Loss 2965.8882\n",
      "Iteration 3200 : Loss 2965.8015\n",
      "Iteration 3210 : Loss 2965.7160\n",
      "Iteration 3220 : Loss 2965.6317\n",
      "Iteration 3230 : Loss 2965.5485\n",
      "Iteration 3240 : Loss 2965.4665\n",
      "Iteration 3250 : Loss 2965.3857\n",
      "Iteration 3260 : Loss 2965.3059\n",
      "Iteration 3270 : Loss 2965.2273\n",
      "Iteration 3280 : Loss 2965.1497\n",
      "Iteration 3290 : Loss 2965.0732\n",
      "Iteration 3300 : Loss 2964.9978\n",
      "Iteration 3310 : Loss 2964.9234\n",
      "Iteration 3320 : Loss 2964.8500\n",
      "Iteration 3330 : Loss 2964.7776\n",
      "Iteration 3340 : Loss 2964.7061\n",
      "Iteration 3350 : Loss 2964.6357\n",
      "Iteration 3360 : Loss 2964.5662\n",
      "Iteration 3370 : Loss 2964.4976\n",
      "Iteration 3380 : Loss 2964.4300\n",
      "Iteration 3390 : Loss 2964.3632\n",
      "Iteration 3400 : Loss 2964.2974\n",
      "Iteration 3410 : Loss 2964.2324\n",
      "Iteration 3420 : Loss 2964.1683\n",
      "Iteration 3430 : Loss 2964.1051\n",
      "Iteration 3440 : Loss 2964.0426\n",
      "Iteration 3450 : Loss 2963.9811\n",
      "Iteration 3460 : Loss 2963.9203\n",
      "Iteration 3470 : Loss 2963.8603\n",
      "Iteration 3480 : Loss 2963.8011\n",
      "Iteration 3490 : Loss 2963.7427\n",
      "Iteration 3500 : Loss 2963.6850\n",
      "Iteration 3510 : Loss 2963.6281\n",
      "Iteration 3520 : Loss 2963.5720\n",
      "Iteration 3530 : Loss 2963.5165\n",
      "Iteration 3540 : Loss 2963.4618\n",
      "Iteration 3550 : Loss 2963.4078\n",
      "Iteration 3560 : Loss 2963.3545\n",
      "Iteration 3570 : Loss 2963.3018\n",
      "Iteration 3580 : Loss 2963.2499\n",
      "Iteration 3590 : Loss 2963.1985\n",
      "Iteration 3600 : Loss 2963.1479\n",
      "Iteration 3610 : Loss 2963.0979\n",
      "Iteration 3620 : Loss 2963.0485\n",
      "Iteration 3630 : Loss 2962.9997\n",
      "Iteration 3640 : Loss 2962.9516\n",
      "Iteration 3650 : Loss 2962.9040\n",
      "Iteration 3660 : Loss 2962.8571\n",
      "Iteration 3670 : Loss 2962.8107\n",
      "Iteration 3680 : Loss 2962.7649\n",
      "Iteration 3690 : Loss 2962.7197\n",
      "Iteration 3700 : Loss 2962.6750\n",
      "Iteration 3710 : Loss 2962.6309\n",
      "Iteration 3720 : Loss 2962.5873\n",
      "Iteration 3730 : Loss 2962.5443\n",
      "Iteration 3740 : Loss 2962.5018\n",
      "Iteration 3750 : Loss 2962.4598\n",
      "Iteration 3760 : Loss 2962.4183\n",
      "Iteration 3770 : Loss 2962.3773\n",
      "Iteration 3780 : Loss 2962.3368\n",
      "Iteration 3790 : Loss 2962.2967\n",
      "Iteration 3800 : Loss 2962.2572\n",
      "Iteration 3810 : Loss 2962.2181\n",
      "Iteration 3820 : Loss 2962.1795\n",
      "Iteration 3830 : Loss 2962.1414\n",
      "Iteration 3840 : Loss 2962.1037\n",
      "Iteration 3850 : Loss 2962.0664\n",
      "Iteration 3860 : Loss 2962.0296\n",
      "Iteration 3870 : Loss 2961.9932\n",
      "Iteration 3880 : Loss 2961.9572\n",
      "Iteration 3890 : Loss 2961.9217\n",
      "Iteration 3900 : Loss 2961.8865\n",
      "Iteration 3910 : Loss 2961.8518\n",
      "Iteration 3920 : Loss 2961.8175\n",
      "Iteration 3930 : Loss 2961.7835\n",
      "Iteration 3940 : Loss 2961.7499\n",
      "Iteration 3950 : Loss 2961.7168\n",
      "Iteration 3960 : Loss 2961.6840\n",
      "Iteration 3970 : Loss 2961.6515\n",
      "Iteration 3980 : Loss 2961.6194\n",
      "Iteration 3990 : Loss 2961.5877\n"
     ]
    }
   ],
   "source": [
    "losses = []\n",
    "\n",
    "for i in range(1, 4000):\n",
    "    dW, db = gradient(X_train, W, b, y_train)\n",
    "    W -= learning_rate * dW\n",
    "    b -= learning_rate * db\n",
    "    L = loss(X_train, W, b, y_train)\n",
    "    losses.append(L)\n",
    "    if i % 10 == 0:\n",
    "        print('Iteration %d : Loss %0.4f' % (i, L))"
   ]
  },
  {
   "attachments": {},
   "cell_type": "markdown",
   "metadata": {},
   "source": [
    "loss 함수의 값이 거의 정체될 때까지 반복을 시도했습니다. learning_rate의 값을 키워가며 보폭을 늘리고, 반복을 늘려 충분한 값에 도달할 때까지 해 보았습니다."
   ]
  },
  {
   "attachments": {},
   "cell_type": "markdown",
   "metadata": {},
   "source": [
    "### 10) test 데이터에 대한 성능 확인하기"
   ]
  },
  {
   "attachments": {},
   "cell_type": "markdown",
   "metadata": {},
   "source": [
    "- test 데이터에 대한 성능을 확인해주세요."
   ]
  },
  {
   "cell_type": "code",
   "execution_count": 369,
   "metadata": {},
   "outputs": [
    {
     "data": {
      "text/plain": [
       "2666.6024780417642"
      ]
     },
     "execution_count": 369,
     "metadata": {},
     "output_type": "execute_result"
    }
   ],
   "source": [
    "predictions = model(X_test, W, b)\n",
    "mse = loss(X_test, W, b, y_test)\n",
    "mse"
   ]
  },
  {
   "attachments": {},
   "cell_type": "markdown",
   "metadata": {},
   "source": [
    "------------------------------------  \n",
    "MSE 값 : 2666.6  \n",
    "\n",
    "------------------------------------  \n"
   ]
  },
  {
   "attachments": {},
   "cell_type": "markdown",
   "metadata": {},
   "source": [
    "### 11) 정답 데이터와 예측한 데이터 시각화하기"
   ]
  },
  {
   "attachments": {},
   "cell_type": "markdown",
   "metadata": {},
   "source": [
    "- x축에는 X 데이터의 첫 번째 컬럼을, y축에는 정답인 target 데이터를 넣어서 모델이 예측한 데이터를 시각화해 주세요."
   ]
  },
  {
   "cell_type": "code",
   "execution_count": 370,
   "metadata": {},
   "outputs": [
    {
     "data": {
      "image/png": "[encoded data removed]",
      "text/plain": [
       "<Figure size 640x480 with 1 Axes>"
      ]
     },
     "metadata": {},
     "output_type": "display_data"
    }
   ],
   "source": [
    "plt.plot(losses)\n",
    "plt.show()"
   ]
  },
  {
   "cell_type": "code",
   "execution_count": 371,
   "metadata": {},
   "outputs": [
    {
     "data": {
      "image/png": "[encoded data removed]",
      "text/plain": [
       "<Figure size 640x480 with 1 Axes>"
      ]
     },
     "metadata": {},
     "output_type": "display_data"
    }
   ],
   "source": [
    "plt.scatter(X_test[:, 0], y_test, label=\"true\")\n",
    "plt.scatter(X_test[:, 0], predictions, label=\"pred\")\n",
    "plt.legend()\n",
    "plt.show()"
   ]
  },
  {
   "attachments": {},
   "cell_type": "markdown",
   "metadata": {},
   "source": [
    "대체로 예측을 하고는 있다고 판단했습니다. 판단 정확도는 random state 가 달라짐에 따라 조금씩 변화가 있습니다."
   ]
  },
  {
   "attachments": {},
   "cell_type": "markdown",
   "metadata": {},
   "source": [
    "## 프로젝트 2 : 날씨 좋은 월요일 오후 세 시, 자전거 타는 사람은 몇 명?"
   ]
  },
  {
   "attachments": {},
   "cell_type": "markdown",
   "metadata": {},
   "source": [
    "### 1) 데이터 가져오기"
   ]
  },
  {
   "attachments": {},
   "cell_type": "markdown",
   "metadata": {},
   "source": [
    "- train.csv 데이터를 train 변수로 가져 옵니다.\n",
    "- 데이터의 정보와 shape, description을 확인합니다."
   ]
  },
  {
   "cell_type": "code",
   "execution_count": 372,
   "metadata": {},
   "outputs": [],
   "source": [
    "from sklearn.linear_model import LinearRegression\n",
    "import seaborn as sns"
   ]
  },
  {
   "cell_type": "code",
   "execution_count": 373,
   "metadata": {},
   "outputs": [
    {
     "data": {
      "text/html": [
       "<div>\n",
       "<style scoped>\n",
       "    .dataframe tbody tr th:only-of-type {\n",
       "        vertical-align: middle;\n",
       "    }\n",
       "\n",
       "    .dataframe tbody tr th {\n",
       "        vertical-align: top;\n",
       "    }\n",
       "\n",
       "    .dataframe thead th {\n",
       "        text-align: right;\n",
       "    }\n",
       "</style>\n",
       "<table border=\"1\" class=\"dataframe\">\n",
       "  <thead>\n",
       "    <tr style=\"text-align: right;\">\n",
       "      <th></th>\n",
       "      <th>datetime</th>\n",
       "      <th>season</th>\n",
       "      <th>holiday</th>\n",
       "      <th>workingday</th>\n",
       "      <th>weather</th>\n",
       "      <th>temp</th>\n",
       "      <th>atemp</th>\n",
       "      <th>humidity</th>\n",
       "      <th>windspeed</th>\n",
       "      <th>casual</th>\n",
       "      <th>registered</th>\n",
       "      <th>count</th>\n",
       "    </tr>\n",
       "  </thead>\n",
       "  <tbody>\n",
       "    <tr>\n",
       "      <th>0</th>\n",
       "      <td>2011-01-01 00:00:00</td>\n",
       "      <td>1</td>\n",
       "      <td>0</td>\n",
       "      <td>0</td>\n",
       "      <td>1</td>\n",
       "      <td>9.84</td>\n",
       "      <td>14.395</td>\n",
       "      <td>81</td>\n",
       "      <td>0.0</td>\n",
       "      <td>3</td>\n",
       "      <td>13</td>\n",
       "      <td>16</td>\n",
       "    </tr>\n",
       "    <tr>\n",
       "      <th>1</th>\n",
       "      <td>2011-01-01 01:00:00</td>\n",
       "      <td>1</td>\n",
       "      <td>0</td>\n",
       "      <td>0</td>\n",
       "      <td>1</td>\n",
       "      <td>9.02</td>\n",
       "      <td>13.635</td>\n",
       "      <td>80</td>\n",
       "      <td>0.0</td>\n",
       "      <td>8</td>\n",
       "      <td>32</td>\n",
       "      <td>40</td>\n",
       "    </tr>\n",
       "    <tr>\n",
       "      <th>2</th>\n",
       "      <td>2011-01-01 02:00:00</td>\n",
       "      <td>1</td>\n",
       "      <td>0</td>\n",
       "      <td>0</td>\n",
       "      <td>1</td>\n",
       "      <td>9.02</td>\n",
       "      <td>13.635</td>\n",
       "      <td>80</td>\n",
       "      <td>0.0</td>\n",
       "      <td>5</td>\n",
       "      <td>27</td>\n",
       "      <td>32</td>\n",
       "    </tr>\n",
       "    <tr>\n",
       "      <th>3</th>\n",
       "      <td>2011-01-01 03:00:00</td>\n",
       "      <td>1</td>\n",
       "      <td>0</td>\n",
       "      <td>0</td>\n",
       "      <td>1</td>\n",
       "      <td>9.84</td>\n",
       "      <td>14.395</td>\n",
       "      <td>75</td>\n",
       "      <td>0.0</td>\n",
       "      <td>3</td>\n",
       "      <td>10</td>\n",
       "      <td>13</td>\n",
       "    </tr>\n",
       "    <tr>\n",
       "      <th>4</th>\n",
       "      <td>2011-01-01 04:00:00</td>\n",
       "      <td>1</td>\n",
       "      <td>0</td>\n",
       "      <td>0</td>\n",
       "      <td>1</td>\n",
       "      <td>9.84</td>\n",
       "      <td>14.395</td>\n",
       "      <td>75</td>\n",
       "      <td>0.0</td>\n",
       "      <td>0</td>\n",
       "      <td>1</td>\n",
       "      <td>1</td>\n",
       "    </tr>\n",
       "  </tbody>\n",
       "</table>\n",
       "</div>"
      ],
      "text/plain": [
       "              datetime  season  holiday  workingday  weather  temp   atemp  \\\n",
       "0  2011-01-01 00:00:00       1        0           0        1  9.84  14.395   \n",
       "1  2011-01-01 01:00:00       1        0           0        1  9.02  13.635   \n",
       "2  2011-01-01 02:00:00       1        0           0        1  9.02  13.635   \n",
       "3  2011-01-01 03:00:00       1        0           0        1  9.84  14.395   \n",
       "4  2011-01-01 04:00:00       1        0           0        1  9.84  14.395   \n",
       "\n",
       "   humidity  windspeed  casual  registered  count  \n",
       "0        81        0.0       3          13     16  \n",
       "1        80        0.0       8          32     40  \n",
       "2        80        0.0       5          27     32  \n",
       "3        75        0.0       3          10     13  \n",
       "4        75        0.0       0           1      1  "
      ]
     },
     "metadata": {},
     "output_type": "display_data"
    },
    {
     "name": "stdout",
     "output_type": "stream",
     "text": [
      "<class 'pandas.core.frame.DataFrame'>\n",
      "RangeIndex: 10886 entries, 0 to 10885\n",
      "Data columns (total 12 columns):\n",
      " #   Column      Non-Null Count  Dtype  \n",
      "---  ------      --------------  -----  \n",
      " 0   datetime    10886 non-null  object \n",
      " 1   season      10886 non-null  int64  \n",
      " 2   holiday     10886 non-null  int64  \n",
      " 3   workingday  10886 non-null  int64  \n",
      " 4   weather     10886 non-null  int64  \n",
      " 5   temp        10886 non-null  float64\n",
      " 6   atemp       10886 non-null  float64\n",
      " 7   humidity    10886 non-null  int64  \n",
      " 8   windspeed   10886 non-null  float64\n",
      " 9   casual      10886 non-null  int64  \n",
      " 10  registered  10886 non-null  int64  \n",
      " 11  count       10886 non-null  int64  \n",
      "dtypes: float64(3), int64(8), object(1)\n",
      "memory usage: 1020.7+ KB\n"
     ]
    }
   ],
   "source": [
    "\n",
    "train = pd.read_csv(\"~/aiffel/Exploration/E04/data/train.csv\")\n",
    "display(train.head())\n",
    "type(train)\n",
    "train.info()"
   ]
  },
  {
   "attachments": {},
   "cell_type": "markdown",
   "metadata": {},
   "source": [
    "https://www.kaggle.com/c/bike-sharing-demand/data 에서 데이터 피처의 의미를 읽어보았습니다.  \n",
    "\n",
    "datetime - hourly date + timestamp  \n",
    "season -  1 = spring, 2 = summer, 3 = fall, 4 = winter    (계절을 레이블 인코딩 한 값)  \n",
    "holiday - whether the day is considered a holiday  (공휴일 여부)  \n",
    "workingday - whether the day is neither a weekend nor holiday (공휴일도 아니고 주말도 아닌 날)   \n",
    "weather -  (날씨를 레이블 인코딩 한 값)\n",
    "> 1: Clear, Few clouds, Partly cloudy, Partly cloudy  \n",
    "> 2: Mist + Cloudy, Mist + Broken clouds, Mist + Few clouds, Mist  \n",
    "> 3:Light Snow, Light Rain + Thunderstorm + Scattered clouds, Light Rain + Scattered clouds  \n",
    "> 4: Heavy Rain + Ice Pallets + Thunderstorm + Mist, Snow + Fog  \n",
    "\n",
    "temp - temperature in Celsius (온도)  \n",
    "atemp - \"feels like\" temperature in Celsius (체감온도)     \n",
    "humidity - relative humidity (상대습도)  \n",
    "windspeed - wind speed  (풍속)  \n",
    "casual - number of non-registered user rentals initiated   \n",
    "registered - number of registered user rentals initiated   \n",
    "count - number of total rentals"
   ]
  },
  {
   "attachments": {},
   "cell_type": "markdown",
   "metadata": {},
   "source": [
    "### 2) datetime 컬럼을 datetime 자료형으로 변환하고 연, 월, 일, 시, 분, 초까지 6가지 컬럼 생성하기"
   ]
  },
  {
   "attachments": {},
   "cell_type": "markdown",
   "metadata": {},
   "source": [
    "- to_datetime 활용  \n",
    "(참고: https://pandas.pydata.org/pandas-docs/stable/reference/api/pandas.to_datetime.html#pandas.to_datetime)  \n",
    "- pandas datetime extract year month day 키워드로 검색해서 참고했습니다."
   ]
  },
  {
   "cell_type": "code",
   "execution_count": 374,
   "metadata": {},
   "outputs": [],
   "source": [
    "train['datetime'] = pd.to_datetime(train['datetime'], format='%Y-%m-%d %H:%M:%S')"
   ]
  },
  {
   "cell_type": "code",
   "execution_count": 375,
   "metadata": {},
   "outputs": [],
   "source": [
    "train['year'] = pd.DatetimeIndex(train['datetime']).year\n",
    "train['month'] = pd.DatetimeIndex(train['datetime']).month\n",
    "train['day'] = pd.DatetimeIndex(train['datetime']).day\n",
    "train['hour'] = pd.DatetimeIndex(train['datetime']).hour\n",
    "train['minute'] = pd.DatetimeIndex(train['datetime']).minute\n",
    "train['second'] = pd.DatetimeIndex(train['datetime']).second"
   ]
  },
  {
   "attachments": {},
   "cell_type": "markdown",
   "metadata": {},
   "source": [
    "### 3) year, month, day, hour, minute, second 데이터 개수 시각화하기"
   ]
  },
  {
   "attachments": {},
   "cell_type": "markdown",
   "metadata": {},
   "source": [
    "- sns.countplot 활용해서 시각화하기\n",
    "- subplot을 활용해서 한 번에 6개의 그래프 함께 시각화하기"
   ]
  },
  {
   "cell_type": "code",
   "execution_count": 376,
   "metadata": {},
   "outputs": [
    {
     "data": {
      "image/png": "[encoded data removed]",
      "text/plain": [
       "<Figure size 1500x1000 with 6 Axes>"
      ]
     },
     "metadata": {},
     "output_type": "display_data"
    }
   ],
   "source": [
    "plt.figure(figsize=(15,10))\n",
    "plt.subplot(3,2,1)\n",
    "sns.countplot(x='year', data=train)\n",
    "\n",
    "plt.subplot(3,2,2)\n",
    "sns.countplot(x='month', data=train)\n",
    "\n",
    "plt.subplot(3,2,3)\n",
    "sns.countplot(x='day', data=train)\n",
    "\n",
    "plt.subplot(3,2,4)\n",
    "sns.countplot(x='hour', data=train)\n",
    "\n",
    "plt.subplot(3,2,5)\n",
    "sns.countplot(x='minute', data=train)\n",
    "\n",
    "plt.subplot(3,2,6)\n",
    "sns.countplot(x='second', data=train)\n",
    "\n",
    "plt.show()"
   ]
  },
  {
   "attachments": {},
   "cell_type": "markdown",
   "metadata": {},
   "source": [
    "### 4) X, y 컬럼 선택 및 train/test 데이터 분리"
   ]
  },
  {
   "attachments": {},
   "cell_type": "markdown",
   "metadata": {},
   "source": [
    "- X(feature) 에는 어떤 데이터 컬럼을 넣어야 될지 고민해 보기\n",
    "- count 값을 맞추고자 하므로, y 변수에 count 컬럼의 데이터 넣기"
   ]
  },
  {
   "attachments": {},
   "cell_type": "markdown",
   "metadata": {},
   "source": [
    "어떤 피처 컬럼을 조합하여 학습하는 데이터로 삼을지 고민해 봅니다. 우리가 타겟으로 삼는 것은 'count'입니다.   "
   ]
  },
  {
   "cell_type": "code",
   "execution_count": 377,
   "metadata": {},
   "outputs": [
    {
     "data": {
      "text/plain": [
       "season        0.163439\n",
       "holiday      -0.005393\n",
       "workingday    0.011594\n",
       "weather      -0.128655\n",
       "temp          0.394454\n",
       "atemp         0.389784\n",
       "humidity     -0.317371\n",
       "windspeed     0.101369\n",
       "casual        0.690414\n",
       "registered    0.970948\n",
       "count         1.000000\n",
       "year          0.260403\n",
       "month         0.166862\n",
       "day           0.019826\n",
       "hour          0.400601\n",
       "minute             NaN\n",
       "second             NaN\n",
       "dtype: float64"
      ]
     },
     "execution_count": 377,
     "metadata": {},
     "output_type": "execute_result"
    }
   ],
   "source": [
    "train.corrwith(train['count'])"
   ]
  },
  {
   "attachments": {},
   "cell_type": "markdown",
   "metadata": {},
   "source": [
    "여기서 minuite과 second는 분 초 단위로 바뀌는 시간이기 때문에 의미가 없다고 생각했습니다. 또한 casual과 resistered는 결국 count된 수 중에서 등록이 된 대여수와 안된 대여수를 의미하는 것이므로 늘 합은 그 행의 count값(총대여수)과 같습니다. 따라서 데이터 학습에서 제외해야 합니다.  \n",
    "시간은 년월일시까지 의미가 있다고 생각하여 'year', 'month', 'day', 'hour' 피처를 넣겠습니다.  \n",
    "'holiday'는 상관계수가 거의 0으로 너무 낮습니다.  \n",
    "관계가 없는 값이라고 생각하여 제외하겠습니다.  \n",
    "이어서 날짜 숫자를 의미하는 day도 상관계수가 낮으므로 제외하고 예측을 해 보겠습니다. 그 이후 필요하다면 산관계수가 그 다음으로 낮은 'workingday'도 제외해 보겠습니다.  \n",
    "나머지 'season', 'workingday', 'weather temp', 'atemp', 'humidity windspeed' 또한 count와 **상관관계**가 있는 값들로 여겨져 학습을 위한 데이터에 넣습니다."
   ]
  },
  {
   "cell_type": "code",
   "execution_count": 378,
   "metadata": {},
   "outputs": [],
   "source": [
    "X = train[['season', 'workingday', 'weather', 'temp', 'atemp', 'humidity', 'windspeed', 'year', 'month', 'day', 'hour',]].values\n",
    "y = train[['count']].values"
   ]
  },
  {
   "cell_type": "code",
   "execution_count": 379,
   "metadata": {},
   "outputs": [],
   "source": [
    "X_train, X_test, y_train, y_test = train_test_split(X, y, test_size=0.2, random_state=1004)"
   ]
  },
  {
   "cell_type": "code",
   "execution_count": 380,
   "metadata": {},
   "outputs": [],
   "source": [
    "X2 = train[['season','weather', 'temp', 'atemp', 'humidity', 'windspeed', 'year', 'month', 'hour',]].values\n",
    "y2 = train[['count']].values"
   ]
  },
  {
   "cell_type": "code",
   "execution_count": 381,
   "metadata": {},
   "outputs": [],
   "source": [
    "X2_train, X2_test, y2_train, y2_test = train_test_split(X2, y2, test_size=0.2, random_state=1004)"
   ]
  },
  {
   "attachments": {},
   "cell_type": "markdown",
   "metadata": {},
   "source": [
    "### 5) LinearRegression 모델 학습"
   ]
  },
  {
   "attachments": {},
   "cell_type": "markdown",
   "metadata": {},
   "source": [
    "- sklearn의 LinearRegression 모델 불러오기 및 학습하기"
   ]
  },
  {
   "cell_type": "code",
   "execution_count": 382,
   "metadata": {},
   "outputs": [],
   "source": [
    "from sklearn.linear_model import LinearRegression"
   ]
  },
  {
   "cell_type": "code",
   "execution_count": 383,
   "metadata": {},
   "outputs": [],
   "source": [
    "bike_model = LinearRegression()"
   ]
  },
  {
   "cell_type": "code",
   "execution_count": 384,
   "metadata": {},
   "outputs": [
    {
     "data": {
      "text/plain": [
       "LinearRegression()"
      ]
     },
     "execution_count": 384,
     "metadata": {},
     "output_type": "execute_result"
    }
   ],
   "source": [
    "bike_model.fit(X_train, y_train)"
   ]
  },
  {
   "attachments": {},
   "cell_type": "markdown",
   "metadata": {},
   "source": [
    "'day'를 제외한 데이터도 학습시켜 성능을 비교해 보겠습니다."
   ]
  },
  {
   "cell_type": "code",
   "execution_count": 385,
   "metadata": {},
   "outputs": [],
   "source": [
    "bike_model2 = LinearRegression()"
   ]
  },
  {
   "cell_type": "code",
   "execution_count": 386,
   "metadata": {},
   "outputs": [
    {
     "data": {
      "text/plain": [
       "LinearRegression()"
      ]
     },
     "execution_count": 386,
     "metadata": {},
     "output_type": "execute_result"
    }
   ],
   "source": [
    "bike_model2.fit(X2_train, y2_train)"
   ]
  },
  {
   "attachments": {},
   "cell_type": "markdown",
   "metadata": {},
   "source": [
    "### 6) 학습된 모델로 X_test에 대한 예측값 출력 및 손실함수값 계산"
   ]
  },
  {
   "attachments": {},
   "cell_type": "markdown",
   "metadata": {},
   "source": [
    "- 학습된 모델에 X_test를 입력해서 예측값 출력하기\n",
    "- 모델이 예측한 값과 정답 target 간의 손실함수 값 계산하기\n",
    "- mse 값과 함께 rmse 값도 계산하기"
   ]
  },
  {
   "cell_type": "code",
   "execution_count": 387,
   "metadata": {},
   "outputs": [
    {
     "name": "stdout",
     "output_type": "stream",
     "text": [
      "[[ 81.34167108]\n",
      " [171.48243529]\n",
      " [264.01810066]\n",
      " ...\n",
      " [ -7.6423999 ]\n",
      " [148.0058434 ]\n",
      " [202.07924806]]\n"
     ]
    }
   ],
   "source": [
    "bike_pred = bike_model.predict(X_test)\n",
    "print(bike_pred)  #예측값 출력"
   ]
  },
  {
   "cell_type": "code",
   "execution_count": 388,
   "metadata": {},
   "outputs": [
    {
     "name": "stdout",
     "output_type": "stream",
     "text": [
      "[[ 86.56270408]\n",
      " [166.9046354 ]\n",
      " [260.48718619]\n",
      " ...\n",
      " [ -6.87717189]\n",
      " [152.63404399]\n",
      " [201.82099274]]\n"
     ]
    }
   ],
   "source": [
    "bike2_pred = bike_model2.predict(X2_test)\n",
    "print(bike2_pred)  #예측값 출력"
   ]
  },
  {
   "cell_type": "code",
   "execution_count": 389,
   "metadata": {},
   "outputs": [
    {
     "name": "stdout",
     "output_type": "stream",
     "text": [
      "[[  4]\n",
      " [276]\n",
      " [120]\n",
      " ...\n",
      " [ 99]\n",
      " [357]\n",
      " [ 80]]\n"
     ]
    }
   ],
   "source": [
    "print(y_test) #정답 타겟 값"
   ]
  },
  {
   "attachments": {},
   "cell_type": "markdown",
   "metadata": {},
   "source": [
    "사이킷런에서는 직접 오차를 제곱하여 평균하지 않아도 mean_squared_error 함수를 이용해 쉽게 계산할 수 있습니다. import하고 mse와 rmse 값을 구해 봅니다."
   ]
  },
  {
   "cell_type": "code",
   "execution_count": 390,
   "metadata": {},
   "outputs": [
    {
     "name": "stdout",
     "output_type": "stream",
     "text": [
      "MSE 값 :  20433.0902741046\n",
      "RMSE 값 :  142.94436076356632\n"
     ]
    }
   ],
   "source": [
    "from sklearn.metrics import mean_squared_error\n",
    "bike_mse = mean_squared_error(y_test, bike_pred)\n",
    "print('MSE 값 : ', bike_mse)\n",
    "bike_rmse = mean_squared_error(y_test, bike_pred, squared = False)\n",
    "print('RMSE 값 : ',bike_rmse)"
   ]
  },
  {
   "cell_type": "code",
   "execution_count": 391,
   "metadata": {},
   "outputs": [
    {
     "name": "stdout",
     "output_type": "stream",
     "text": [
      "'day'제외 데이터로 학습한 모델 성능\n",
      "MSE 값 :  20433.0902741046\n",
      "RMSE 값 :  142.87061013971814\n"
     ]
    }
   ],
   "source": [
    "print(\"'day'제외 데이터로 학습한 모델 성능\")\n",
    "bike2_mse = mean_squared_error(y2_test, bike_pred)\n",
    "print('MSE 값 : ', bike2_mse)\n",
    "bike2_rmse = mean_squared_error(y2_test, bike2_pred, squared = False)\n",
    "print('RMSE 값 : ',bike2_rmse)"
   ]
  },
  {
   "attachments": {},
   "cell_type": "markdown",
   "metadata": {},
   "source": [
    "거의 의미가 없을 만큼 차이가 잘 나지 않는 것을 확인했습니다. 상관계수 크기대로, day와 workingday 피처는 크게 상관이 없었습니다. 조금 더 나은 것은  day와 workingday 피처를 삭제한 모델이었습니다. (model2)"
   ]
  },
  {
   "attachments": {},
   "cell_type": "markdown",
   "metadata": {},
   "source": [
    "---------------------------------------  \n",
    "\n",
    "RMSE 값 :  142.87\n",
    "\n",
    "------------------------------------------- "
   ]
  },
  {
   "attachments": {},
   "cell_type": "markdown",
   "metadata": {},
   "source": [
    "### 7) x축은 temp 또는 humidity로, y축은 count로 예측 결과 시각화하기"
   ]
  },
  {
   "attachments": {},
   "cell_type": "markdown",
   "metadata": {},
   "source": [
    "- x축에 X 데이터 중 temp 데이터를, y축에는 count 데이터를 넣어서 시각화하기\n",
    "- x축에 X 데이터 중 humidity 데이터를, y축에는 count 데이터를 넣어서 시각화하기"
   ]
  },
  {
   "cell_type": "code",
   "execution_count": 392,
   "metadata": {},
   "outputs": [
    {
     "name": "stdout",
     "output_type": "stream",
     "text": [
      "<class 'pandas.core.frame.DataFrame'>\n",
      "RangeIndex: 2178 entries, 0 to 2177\n",
      "Data columns (total 9 columns):\n",
      " #   Column     Non-Null Count  Dtype  \n",
      "---  ------     --------------  -----  \n",
      " 0   season     2178 non-null   float64\n",
      " 1   weather    2178 non-null   float64\n",
      " 2   temp       2178 non-null   float64\n",
      " 3   atemp      2178 non-null   float64\n",
      " 4   humidity   2178 non-null   float64\n",
      " 5   windspeed  2178 non-null   float64\n",
      " 6   year       2178 non-null   float64\n",
      " 7   month      2178 non-null   float64\n",
      " 8   hour       2178 non-null   float64\n",
      "dtypes: float64(9)\n",
      "memory usage: 153.3 KB\n"
     ]
    },
    {
     "data": {
      "text/plain": [
       "<AxesSubplot:title={'center':'temp and real count'}, xlabel='temp', ylabel='count'>"
      ]
     },
     "execution_count": 392,
     "metadata": {},
     "output_type": "execute_result"
    },
    {
     "data": {
      "image/png": "[encoded data removed]",
      "text/plain": [
       "<Figure size 640x480 with 2 Axes>"
      ]
     },
     "metadata": {},
     "output_type": "display_data"
    }
   ],
   "source": [
    "df_X_test = pd.DataFrame(X2_test, columns=['season', 'weather', 'temp', 'atemp', 'humidity', 'windspeed', 'year', 'month', 'hour',] )\n",
    "df_X_test.info()\n",
    "df_y_pred = pd.DataFrame(bike2_pred, columns=['count'])\n",
    "df_y_test = pd.DataFrame(y_test, columns=['count'])\n",
    "\n",
    "\n",
    "\n",
    "plt.figure()\n",
    "plt.subplot(2,2,1)\n",
    "plt.title('temp and predicted count')\n",
    "sns.lineplot(x=df_X_test['temp'], y=df_y_pred['count'])\n",
    "\n",
    "\n",
    "plt.subplot(2,2,2)\n",
    "plt.title('temp and real count')\n",
    "sns.lineplot(x=df_X_test['temp'], y=df_y_test['count'])\n"
   ]
  },
  {
   "cell_type": "code",
   "execution_count": 393,
   "metadata": {},
   "outputs": [
    {
     "data": {
      "image/png": "[encoded data removed]",
      "text/plain": [
       "<Figure size 640x480 with 2 Axes>"
      ]
     },
     "metadata": {},
     "output_type": "display_data"
    }
   ],
   "source": [
    "\n",
    "\n",
    "plt.subplot(2,2,3)\n",
    "plt.title('humidity and predicted count')\n",
    "sns.lineplot(x=df_X_test['humidity'], y=df_y_pred['count'])\n",
    "\n",
    "plt.subplot(2,2,4)\n",
    "plt.title('humidity and real count')\n",
    "sns.lineplot(x=df_X_test['humidity'], y=df_y_test['count'])\n",
    "\n",
    "plt.show()"
   ]
  },
  {
   "attachments": {},
   "cell_type": "markdown",
   "metadata": {},
   "source": [
    "## Discussion"
   ]
  },
  {
   "attachments": {},
   "cell_type": "markdown",
   "metadata": {},
   "source": [
    "- 프로젝트 1에서 알맞은 learning rate와 그 learning rate 가 더 이상 거의 변하지 않는 값에 도달할 때까지의 반복하게 하는 부분을 여러번 조절하며 결과를 확인할 수 있었습니다.learning rate 는 지나치게 커서도, 지나치게 작아도 안된다는 것을 확인했습니다."
   ]
  },
  {
   "attachments": {},
   "cell_type": "markdown",
   "metadata": {},
   "source": [
    "- random state에 대해 다시 생각해 보았습니다. 내부적으로 생성되는 난수를 고정하면 같은 모델이 결과를 낼 때 MSE가 변하지 않습니다. 하지만 이를 변화시키면 그에 따라 MSE도 줄어들거나 늘어납니다.이것은 사실 모델의 성능보다는 확률에 의한 오차임을 알 수 있습니다. 따라서 오차의 폭은 그리 크지 않습니다. 그럼에도 MSE를 조금이라도 더 줄이기 위해 마지막에는 random state 값까지 조절하게 되었습니다. 조금 더 모델 자체의 성능을 올리고자 노력했으면 하는 아쉬움이 남습니다."
   ]
  },
  {
   "attachments": {},
   "cell_type": "markdown",
   "metadata": {},
   "source": [
    "- 프로젝트 2에서 사이킷런이 제공하는 선형회귀 모델을 쉽게 사용할 수 있어서 편했습니다. 2번 프로젝트에는 데이터의 어떤 피처를 사용해 학습을 해야하는지를 좀 더 자세히 들여다 볼 수 있었습니다. 상관계수를 조사하고 비교적 상관계수가 0에 가까운 몇 개의 피처를 삭제했는데 드라마틱한 효과는 없었습니다. (그만큼 삭제한 피처들이 영향력이 없다고도 볼 수 있음.) 어떠한 피처를 더 삭제하면, 혹은 어떠한 의미있는 피처를 더 추출하면 성능이 좋아질 지 고민해 보았습니다. 데이터의 temp와 atemp는 사실 큰 차이가 없는 온도/체감온도 입니다. 저는 두 피처를 모두 고려했지만 만약 두 피처가 그렇게 다른 양상을 보이지 않는다면 오히려 두 피처를 모두 고려하는 것은 온도라는 factor를 더 비중있게 모델이 받아들이는 건 아닌가 하고 생각이 들었습니다. 둘 중 하나를 삭제하고 결과를 체크해 보지 못한 점이 아쉽습니다.\n"
   ]
  },
  {
   "attachments": {},
   "cell_type": "markdown",
   "metadata": {},
   "source": [
    "- 아직 matplotlib 으로 데이터와 결과를 시각화하는 부분이 조금 부족하다는 생각이 들었습니다. 다음 기회에는 조금 더 보기 쉽고, 데이터의 특징을 잘 반영하는 시각화 자료를 만들어보려고 노력해야겠습니다."
   ]
  },
  {
   "attachments": {},
   "cell_type": "markdown",
   "metadata": {},
   "source": [
    "## References"
   ]
  },
  {
   "attachments": {},
   "cell_type": "markdown",
   "metadata": {},
   "source": [
    "- https://numpy.org/doc/stable/reference/generated/numpy.dot.html (dot 메서드)  \n",
    "\n",
    "- https://numpy.org/doc/stable/reference/generated/numpy.transpose.html#numpy-transpose (행렬transpose 메서드)  \n",
    "\n",
    "- https://www.kaggle.com/competitions/bike-sharing-demand/data (자전거 프로젝트 데이터 디스크립션)  \n",
    "\n",
    "- https://pandas.pydata.org/pandas-docs/stable/reference/api/pandas.to_datetime.html#pandas.to_datetime)  (to_datetime 활용)   \n",
    "\n",
    "- https://wikidocs.net/157461 (상관계수 corr, corrwith)\n",
    "\n",
    "- https://khw11044.github.io/blog/blog-etc/2020-12-21-markdown-tutorial2/#latex%EB%AC%B8%EB%B2%95 (마크다운 라텍스 문법)\n",
    "\n"
   ]
  }
 ],
 "metadata": {
  "kernelspec": {
   "display_name": "base",
   "language": "python",
   "name": "python3"
  },
  "language_info": {
   "codemirror_mode": {
    "name": "ipython",
    "version": 3
   },
   "file_extension": ".py",
   "mimetype": "text/x-python",
   "name": "python",
   "nbconvert_exporter": "python",
   "pygments_lexer": "ipython3",
   "version": "3.9.13"
  },
  "orig_nbformat": 4,
  "vscode": {
   "interpreter": {
    "hash": "a7936b404da2d1aec6a116f19bfb62db118b47fc993c612f13b3cacad2daeda5"
   }
  }
 },
 "nbformat": 4,
 "nbformat_minor": 2
}
