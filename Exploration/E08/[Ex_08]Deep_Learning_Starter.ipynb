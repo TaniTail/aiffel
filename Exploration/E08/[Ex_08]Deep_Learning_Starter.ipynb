{
 "cells": [
  {
   "attachments": {},
   "cell_type": "markdown",
   "metadata": {},
   "source": [
    "# Exploration 08 Deep Learning Starter  \n",
    "###### 온라인 코어 2기 박수경 "
   ]
  },
  {
   "attachments": {},
   "cell_type": "markdown",
   "metadata": {},
   "source": [
    "## Boston 주택 가격 예측 모델"
   ]
  },
  {
   "attachments": {},
   "cell_type": "markdown",
   "metadata": {},
   "source": [
    "### 1. 데이터 로드 및 전처리"
   ]
  },
  {
   "attachments": {},
   "cell_type": "markdown",
   "metadata": {},
   "source": [
    "먼저 데이터와 필요한 라이브러리들을 불러온다.  \n",
    "보스턴 주택가격 예측 모델을 위한 데이터셋은 keras.datasets에서 불러올 수 있는 boston_housing 데이터셋을 활용한다. https://keras.io/datasets에서 데이터셋에 관한 내용을 기본적으로 확인한다. "
   ]
  },
  {
   "cell_type": "code",
   "execution_count": 1,
   "metadata": {},
   "outputs": [],
   "source": [
    "from keras import models, layers, optimizers, utils\n",
    "from keras import callbacks\n",
    "import matplotlib.pyplot as plt\n",
    "import numpy as np\n",
    "import pandas as pd\n",
    "from sklearn.model_selection import train_test_split"
   ]
  },
  {
   "cell_type": "code",
   "execution_count": 2,
   "metadata": {},
   "outputs": [],
   "source": [
    "import tensorflow as tf"
   ]
  },
  {
   "cell_type": "code",
   "execution_count": 3,
   "metadata": {},
   "outputs": [
    {
     "name": "stdout",
     "output_type": "stream",
     "text": [
      "404\n",
      "102\n"
     ]
    }
   ],
   "source": [
    "# keras.datasets 안에 boston_housing 데이터셋을 로드.\n",
    "from keras.datasets import boston_housing\n",
    "\n",
    "(train_data, train_labels), (test_data, test_labels) = boston_housing.load_data()\n",
    "\n",
    "# 데이터셋의 크기를 확인.\n",
    "print(len(train_data))\n",
    "print(len(test_data))"
   ]
  },
  {
   "attachments": {},
   "cell_type": "markdown",
   "metadata": {},
   "source": [
    "각 피처가 의미하는 것은 다음과 같다.  \n",
    "1. Per capita crime rate.\n",
    "2. Proportion of residential land zoned for lots over 25,000 square feet.\n",
    "3. Proportion of non-retail business acres per town.\n",
    "4. Charles River dummy variable (= 1 if tract bounds river; 0 otherwise).\n",
    "5. Nitric oxides concentration (parts per 10 million).\n",
    "6. Average number of rooms per dwelling.\n",
    "7. Proportion of owner-occupied units built prior to 1940.\n",
    "8. Weighted distances to five Boston employment centres.\n",
    "9. Index of accessibility to radial highways.\n",
    "10. Full-value property-tax rate per $10,000.\n",
    "11. Pupil-teacher ratio by town.\n",
    "12. 1000 * (Bk - 0.63) ** 2 where Bk is the proportion of Black people by town.\n",
    "13. % lower status of the population."
   ]
  },
  {
   "cell_type": "code",
   "execution_count": 4,
   "metadata": {},
   "outputs": [
    {
     "data": {
      "text/plain": [
       "['T',\n",
       " '__abs__',\n",
       " '__add__',\n",
       " '__and__',\n",
       " '__array__',\n",
       " '__array_finalize__',\n",
       " '__array_function__',\n",
       " '__array_interface__',\n",
       " '__array_prepare__',\n",
       " '__array_priority__',\n",
       " '__array_struct__',\n",
       " '__array_ufunc__',\n",
       " '__array_wrap__',\n",
       " '__bool__',\n",
       " '__class__',\n",
       " '__class_getitem__',\n",
       " '__complex__',\n",
       " '__contains__',\n",
       " '__copy__',\n",
       " '__deepcopy__',\n",
       " '__delattr__',\n",
       " '__delitem__',\n",
       " '__dir__',\n",
       " '__divmod__',\n",
       " '__dlpack__',\n",
       " '__dlpack_device__',\n",
       " '__doc__',\n",
       " '__eq__',\n",
       " '__float__',\n",
       " '__floordiv__',\n",
       " '__format__',\n",
       " '__ge__',\n",
       " '__getattribute__',\n",
       " '__getitem__',\n",
       " '__gt__',\n",
       " '__hash__',\n",
       " '__iadd__',\n",
       " '__iand__',\n",
       " '__ifloordiv__',\n",
       " '__ilshift__',\n",
       " '__imatmul__',\n",
       " '__imod__',\n",
       " '__imul__',\n",
       " '__index__',\n",
       " '__init__',\n",
       " '__init_subclass__',\n",
       " '__int__',\n",
       " '__invert__',\n",
       " '__ior__',\n",
       " '__ipow__',\n",
       " '__irshift__',\n",
       " '__isub__',\n",
       " '__iter__',\n",
       " '__itruediv__',\n",
       " '__ixor__',\n",
       " '__le__',\n",
       " '__len__',\n",
       " '__lshift__',\n",
       " '__lt__',\n",
       " '__matmul__',\n",
       " '__mod__',\n",
       " '__mul__',\n",
       " '__ne__',\n",
       " '__neg__',\n",
       " '__new__',\n",
       " '__or__',\n",
       " '__pos__',\n",
       " '__pow__',\n",
       " '__radd__',\n",
       " '__rand__',\n",
       " '__rdivmod__',\n",
       " '__reduce__',\n",
       " '__reduce_ex__',\n",
       " '__repr__',\n",
       " '__rfloordiv__',\n",
       " '__rlshift__',\n",
       " '__rmatmul__',\n",
       " '__rmod__',\n",
       " '__rmul__',\n",
       " '__ror__',\n",
       " '__rpow__',\n",
       " '__rrshift__',\n",
       " '__rshift__',\n",
       " '__rsub__',\n",
       " '__rtruediv__',\n",
       " '__rxor__',\n",
       " '__setattr__',\n",
       " '__setitem__',\n",
       " '__setstate__',\n",
       " '__sizeof__',\n",
       " '__str__',\n",
       " '__sub__',\n",
       " '__subclasshook__',\n",
       " '__truediv__',\n",
       " '__xor__',\n",
       " 'all',\n",
       " 'any',\n",
       " 'argmax',\n",
       " 'argmin',\n",
       " 'argpartition',\n",
       " 'argsort',\n",
       " 'astype',\n",
       " 'base',\n",
       " 'byteswap',\n",
       " 'choose',\n",
       " 'clip',\n",
       " 'compress',\n",
       " 'conj',\n",
       " 'conjugate',\n",
       " 'copy',\n",
       " 'ctypes',\n",
       " 'cumprod',\n",
       " 'cumsum',\n",
       " 'data',\n",
       " 'diagonal',\n",
       " 'dot',\n",
       " 'dtype',\n",
       " 'dump',\n",
       " 'dumps',\n",
       " 'fill',\n",
       " 'flags',\n",
       " 'flat',\n",
       " 'flatten',\n",
       " 'getfield',\n",
       " 'imag',\n",
       " 'item',\n",
       " 'itemset',\n",
       " 'itemsize',\n",
       " 'max',\n",
       " 'mean',\n",
       " 'min',\n",
       " 'nbytes',\n",
       " 'ndim',\n",
       " 'newbyteorder',\n",
       " 'nonzero',\n",
       " 'partition',\n",
       " 'prod',\n",
       " 'ptp',\n",
       " 'put',\n",
       " 'ravel',\n",
       " 'real',\n",
       " 'repeat',\n",
       " 'reshape',\n",
       " 'resize',\n",
       " 'round',\n",
       " 'searchsorted',\n",
       " 'setfield',\n",
       " 'setflags',\n",
       " 'shape',\n",
       " 'size',\n",
       " 'sort',\n",
       " 'squeeze',\n",
       " 'std',\n",
       " 'strides',\n",
       " 'sum',\n",
       " 'swapaxes',\n",
       " 'take',\n",
       " 'tobytes',\n",
       " 'tofile',\n",
       " 'tolist',\n",
       " 'tostring',\n",
       " 'trace',\n",
       " 'transpose',\n",
       " 'var',\n",
       " 'view']"
      ]
     },
     "execution_count": 4,
     "metadata": {},
     "output_type": "execute_result"
    }
   ],
   "source": [
    "dir(train_data) #이 데이터셋이 가지고 있는 메서드와 어트리뷰트"
   ]
  },
  {
   "cell_type": "code",
   "execution_count": 5,
   "metadata": {},
   "outputs": [
    {
     "data": {
      "text/plain": [
       "array([[1.23247e+00, 0.00000e+00, 8.14000e+00, ..., 2.10000e+01,\n",
       "        3.96900e+02, 1.87200e+01],\n",
       "       [2.17700e-02, 8.25000e+01, 2.03000e+00, ..., 1.47000e+01,\n",
       "        3.95380e+02, 3.11000e+00],\n",
       "       [4.89822e+00, 0.00000e+00, 1.81000e+01, ..., 2.02000e+01,\n",
       "        3.75520e+02, 3.26000e+00],\n",
       "       ...,\n",
       "       [3.46600e-02, 3.50000e+01, 6.06000e+00, ..., 1.69000e+01,\n",
       "        3.62250e+02, 7.83000e+00],\n",
       "       [2.14918e+00, 0.00000e+00, 1.95800e+01, ..., 1.47000e+01,\n",
       "        2.61950e+02, 1.57900e+01],\n",
       "       [1.43900e-02, 6.00000e+01, 2.93000e+00, ..., 1.56000e+01,\n",
       "        3.76700e+02, 4.38000e+00]])"
      ]
     },
     "execution_count": 5,
     "metadata": {},
     "output_type": "execute_result"
    }
   ],
   "source": [
    "train_data"
   ]
  },
  {
   "cell_type": "code",
   "execution_count": 6,
   "metadata": {},
   "outputs": [
    {
     "data": {
      "text/plain": [
       "array([15.2, 42.3, 50. , 21.1, 17.7, 18.5, 11.3, 15.6, 15.6, 14.4, 12.1,\n",
       "       17.9, 23.1, 19.9, 15.7,  8.8, 50. , 22.5, 24.1, 27.5, 10.9, 30.8,\n",
       "       32.9, 24. , 18.5, 13.3, 22.9, 34.7, 16.6, 17.5, 22.3, 16.1, 14.9,\n",
       "       23.1, 34.9, 25. , 13.9, 13.1, 20.4, 20. , 15.2, 24.7, 22.2, 16.7,\n",
       "       12.7, 15.6, 18.4, 21. , 30.1, 15.1, 18.7,  9.6, 31.5, 24.8, 19.1,\n",
       "       22. , 14.5, 11. , 32. , 29.4, 20.3, 24.4, 14.6, 19.5, 14.1, 14.3,\n",
       "       15.6, 10.5,  6.3, 19.3, 19.3, 13.4, 36.4, 17.8, 13.5, 16.5,  8.3,\n",
       "       14.3, 16. , 13.4, 28.6, 43.5, 20.2, 22. , 23. , 20.7, 12.5, 48.5,\n",
       "       14.6, 13.4, 23.7, 50. , 21.7, 39.8, 38.7, 22.2, 34.9, 22.5, 31.1,\n",
       "       28.7, 46. , 41.7, 21. , 26.6, 15. , 24.4, 13.3, 21.2, 11.7, 21.7,\n",
       "       19.4, 50. , 22.8, 19.7, 24.7, 36.2, 14.2, 18.9, 18.3, 20.6, 24.6,\n",
       "       18.2,  8.7, 44. , 10.4, 13.2, 21.2, 37. , 30.7, 22.9, 20. , 19.3,\n",
       "       31.7, 32. , 23.1, 18.8, 10.9, 50. , 19.6,  5. , 14.4, 19.8, 13.8,\n",
       "       19.6, 23.9, 24.5, 25. , 19.9, 17.2, 24.6, 13.5, 26.6, 21.4, 11.9,\n",
       "       22.6, 19.6,  8.5, 23.7, 23.1, 22.4, 20.5, 23.6, 18.4, 35.2, 23.1,\n",
       "       27.9, 20.6, 23.7, 28. , 13.6, 27.1, 23.6, 20.6, 18.2, 21.7, 17.1,\n",
       "        8.4, 25.3, 13.8, 22.2, 18.4, 20.7, 31.6, 30.5, 20.3,  8.8, 19.2,\n",
       "       19.4, 23.1, 23. , 14.8, 48.8, 22.6, 33.4, 21.1, 13.6, 32.2, 13.1,\n",
       "       23.4, 18.9, 23.9, 11.8, 23.3, 22.8, 19.6, 16.7, 13.4, 22.2, 20.4,\n",
       "       21.8, 26.4, 14.9, 24.1, 23.8, 12.3, 29.1, 21. , 19.5, 23.3, 23.8,\n",
       "       17.8, 11.5, 21.7, 19.9, 25. , 33.4, 28.5, 21.4, 24.3, 27.5, 33.1,\n",
       "       16.2, 23.3, 48.3, 22.9, 22.8, 13.1, 12.7, 22.6, 15. , 15.3, 10.5,\n",
       "       24. , 18.5, 21.7, 19.5, 33.2, 23.2,  5. , 19.1, 12.7, 22.3, 10.2,\n",
       "       13.9, 16.3, 17. , 20.1, 29.9, 17.2, 37.3, 45.4, 17.8, 23.2, 29. ,\n",
       "       22. , 18. , 17.4, 34.6, 20.1, 25. , 15.6, 24.8, 28.2, 21.2, 21.4,\n",
       "       23.8, 31. , 26.2, 17.4, 37.9, 17.5, 20. ,  8.3, 23.9,  8.4, 13.8,\n",
       "        7.2, 11.7, 17.1, 21.6, 50. , 16.1, 20.4, 20.6, 21.4, 20.6, 36.5,\n",
       "        8.5, 24.8, 10.8, 21.9, 17.3, 18.9, 36.2, 14.9, 18.2, 33.3, 21.8,\n",
       "       19.7, 31.6, 24.8, 19.4, 22.8,  7.5, 44.8, 16.8, 18.7, 50. , 50. ,\n",
       "       19.5, 20.1, 50. , 17.2, 20.8, 19.3, 41.3, 20.4, 20.5, 13.8, 16.5,\n",
       "       23.9, 20.6, 31.5, 23.3, 16.8, 14. , 33.8, 36.1, 12.8, 18.3, 18.7,\n",
       "       19.1, 29. , 30.1, 50. , 50. , 22. , 11.9, 37.6, 50. , 22.7, 20.8,\n",
       "       23.5, 27.9, 50. , 19.3, 23.9, 22.6, 15.2, 21.7, 19.2, 43.8, 20.3,\n",
       "       33.2, 19.9, 22.5, 32.7, 22. , 17.1, 19. , 15. , 16.1, 25.1, 23.7,\n",
       "       28.7, 37.2, 22.6, 16.4, 25. , 29.8, 22.1, 17.4, 18.1, 30.3, 17.5,\n",
       "       24.7, 12.6, 26.5, 28.7, 13.3, 10.4, 24.4, 23. , 20. , 17.8,  7. ,\n",
       "       11.8, 24.4, 13.8, 19.4, 25.2, 19.4, 19.4, 29.1])"
      ]
     },
     "execution_count": 6,
     "metadata": {},
     "output_type": "execute_result"
    }
   ],
   "source": [
    "train_labels"
   ]
  },
  {
   "attachments": {},
   "cell_type": "markdown",
   "metadata": {},
   "source": [
    "표준화 작업을 수행한다. train_data의 평균을 빼고, 표준편차로 나누면 전체적으로 데이터의 값이 평균 0, 표준편차 1과 가깝게 맞춰진다."
   ]
  },
  {
   "cell_type": "code",
   "execution_count": 7,
   "metadata": {},
   "outputs": [],
   "source": [
    "b_mean = train_data.mean(axis=0)\n",
    "train_data -= b_mean\n",
    "\n",
    "b_std = train_data.std(axis=0)\n",
    "train_data /= b_std\n",
    "\n",
    "#평균을 빼고 표준편차로 나누면 평균 0, 표준편차 1에 가까운 데이터가 된다.\n",
    "\n",
    "# 테스트 데이터셋도 마찬가지로 평균을 빼고, 표준편차로 나눈다.\n",
    "test_data -= b_mean\n",
    "test_data /= b_std"
   ]
  },
  {
   "attachments": {},
   "cell_type": "markdown",
   "metadata": {},
   "source": [
    "테스트 데이터를 정규화할 때 사용한 값도 훈련 데이터(train_data)에서 계산한 평균과 표준편차이다. 훈련데이터와 실제로 예측할 데이터의 스케일이 같게 맞추어져야 하기 때문이다."
   ]
  },
  {
   "cell_type": "code",
   "execution_count": 8,
   "metadata": {},
   "outputs": [
    {
     "data": {
      "text/plain": [
       "13"
      ]
     },
     "execution_count": 8,
     "metadata": {},
     "output_type": "execute_result"
    }
   ],
   "source": [
    "train_data.shape[1]"
   ]
  },
  {
   "attachments": {},
   "cell_type": "markdown",
   "metadata": {},
   "source": [
    "피처가 총 13개임을 확인했다."
   ]
  },
  {
   "attachments": {},
   "cell_type": "markdown",
   "metadata": {},
   "source": [
    "### 2. 모델 구성, compile 및 평가"
   ]
  },
  {
   "cell_type": "code",
   "execution_count": 9,
   "metadata": {},
   "outputs": [],
   "source": [
    "def build_model():\n",
    "    model = models.Sequential()\n",
    "    model.add(layers.Dense(units=64, activation='relu', input_shape=(train_data.shape[1],))) #어떻게 이닛을 줘야 하는가.\n",
    "    model.add(layers.Dense(units=64, activation='relu'))\n",
    "    model.add(layers.Dense(units=1)) # 마지막 예측할 주가 y값 1개 이므로 뉴런의 수가 1개!\n",
    "    model.compile(optimizer='rmsprop', loss='mse', metrics=['mae'])\n",
    "    return model"
   ]
  },
  {
   "cell_type": "code",
   "execution_count": 10,
   "metadata": {},
   "outputs": [],
   "source": [
    "model = build_model()\n"
   ]
  },
  {
   "cell_type": "code",
   "execution_count": 11,
   "metadata": {},
   "outputs": [
    {
     "name": "stdout",
     "output_type": "stream",
     "text": [
      "Model: \"sequential\"\n",
      "_________________________________________________________________\n",
      " Layer (type)                Output Shape              Param #   \n",
      "=================================================================\n",
      " dense (Dense)               (None, 64)                896       \n",
      "                                                                 \n",
      " dense_1 (Dense)             (None, 64)                4160      \n",
      "                                                                 \n",
      " dense_2 (Dense)             (None, 1)                 65        \n",
      "                                                                 \n",
      "=================================================================\n",
      "Total params: 5,121\n",
      "Trainable params: 5,121\n",
      "Non-trainable params: 0\n",
      "_________________________________________________________________\n"
     ]
    }
   ],
   "source": [
    "model.summary()"
   ]
  },
  {
   "attachments": {},
   "cell_type": "markdown",
   "metadata": {},
   "source": [
    "검증을 위해 K-fold validation을 진행한다. 훈련데이터를 다섯개로 쪼개서 총 5번 진행한다. 검증 데이터를 분리해내고 남은 데이터를 이어붙여 훈련데이터로 삼는다.\n"
   ]
  },
  {
   "cell_type": "code",
   "execution_count": 12,
   "metadata": {},
   "outputs": [],
   "source": [
    "import os\n",
    "os.environ['KMP_DUPLICATE_LIB_OK']='True'"
   ]
  },
  {
   "cell_type": "code",
   "execution_count": 13,
   "metadata": {},
   "outputs": [],
   "source": [
    "k = 5\n",
    "num_val_samples = len(train_data) // k\n",
    "num_epochs = 100\n",
    "all_scores = []"
   ]
  },
  {
   "cell_type": "code",
   "execution_count": 14,
   "metadata": {},
   "outputs": [
    {
     "name": "stdout",
     "output_type": "stream",
     "text": [
      "처리중인 폴드 # 1\n",
      "처리중인 폴드 # 2\n",
      "처리중인 폴드 # 3\n",
      "처리중인 폴드 # 4\n",
      "처리중인 폴드 # 5\n",
      "WARNING:tensorflow:5 out of the last 13 calls to <function Model.make_test_function.<locals>.test_function at 0x000001A01F066F70> triggered tf.function retracing. Tracing is expensive and the excessive number of tracings could be due to (1) creating @tf.function repeatedly in a loop, (2) passing tensors with different shapes, (3) passing Python objects instead of tensors. For (1), please define your @tf.function outside of the loop. For (2), @tf.function has reduce_retracing=True option that can avoid unnecessary retracing. For (3), please refer to https://www.tensorflow.org/guide/function#controlling_retracing and https://www.tensorflow.org/api_docs/python/tf/function for  more details.\n"
     ]
    }
   ],
   "source": [
    "for i in range(k):\n",
    "    print('처리중인 폴드 #', i+1)\n",
    "    # 검증 데이터 설정\n",
    "    val_data = train_data[i * num_val_samples: (i + 1) * num_val_samples]\n",
    "    val_labels = train_labels[i * num_val_samples: (i + 1) * num_val_samples]\n",
    "\n",
    "    # 남은 데이터를 이어붙여 훈련 데이터 설정\n",
    "    extra_train_data = np.concatenate(\n",
    "        [train_data[:i * num_val_samples],\n",
    "         train_data[(i + 1) * num_val_samples:]],\n",
    "        axis=0)\n",
    "    extra_train_lables = np.concatenate(\n",
    "        [train_labels[:i * num_val_samples],\n",
    "         train_labels[(i + 1) * num_val_samples:]],\n",
    "        axis=0)\n",
    "    \n",
    "    #모델 구성과 컴파일\n",
    "    model = build_model()\n",
    "\n",
    "    #모델 훈련(verbose=0 이므로 훈련 과정이 출력되지 않음)\n",
    "    model.fit(extra_train_data, extra_train_lables,\n",
    "              epochs=num_epochs, batch_size=1, \n",
    "              verbose=0)\n",
    "    #검증 데이터 세트로 모델 평가\n",
    "    val_mse, val_mae = model.evaluate(val_data, val_labels, verbose=0)\n",
    "    all_scores.append(val_mae)\n"
   ]
  },
  {
   "cell_type": "code",
   "execution_count": 15,
   "metadata": {},
   "outputs": [
    {
     "name": "stdout",
     "output_type": "stream",
     "text": [
      "[1.8212521076202393, 2.6748247146606445, 2.362614393234253, 2.7316246032714844, 2.387723922729492]\n",
      "2.3956079483032227\n"
     ]
    }
   ],
   "source": [
    "print(all_scores)\n",
    "print(np.mean(all_scores))"
   ]
  },
  {
   "attachments": {},
   "cell_type": "markdown",
   "metadata": {},
   "source": [
    "history로 학습 과정 중 에폭 당 어떻게 mae가 변해가는지를 남기고 리스트에 담아 시각화를 해 본다. "
   ]
  },
  {
   "cell_type": "code",
   "execution_count": 16,
   "metadata": {},
   "outputs": [
    {
     "name": "stdout",
     "output_type": "stream",
     "text": [
      "처리중인 폴드 # 1\n",
      "WARNING:tensorflow:5 out of the last 13 calls to <function Model.make_test_function.<locals>.test_function at 0x000001A01CD13DC0> triggered tf.function retracing. Tracing is expensive and the excessive number of tracings could be due to (1) creating @tf.function repeatedly in a loop, (2) passing tensors with different shapes, (3) passing Python objects instead of tensors. For (1), please define your @tf.function outside of the loop. For (2), @tf.function has reduce_retracing=True option that can avoid unnecessary retracing. For (3), please refer to https://www.tensorflow.org/guide/function#controlling_retracing and https://www.tensorflow.org/api_docs/python/tf/function for  more details.\n",
      "처리중인 폴드 # 2\n",
      "처리중인 폴드 # 3\n",
      "처리중인 폴드 # 4\n",
      "처리중인 폴드 # 5\n"
     ]
    }
   ],
   "source": [
    "num_epochs = 200\n",
    "all_mae_histories = []\n",
    "for i in range(k):\n",
    "    print('처리중인 폴드 #', i+1)\n",
    "    # 검증 데이터 준비: k번째 분할\n",
    "    val_data = train_data[i * num_val_samples: (i + 1) * num_val_samples]\n",
    "    val_values = train_labels[i * num_val_samples: (i + 1) * num_val_samples]\n",
    "\n",
    "    # 훈련 데이터 준비: 다른 분할 전체\n",
    "    extra_train_data = np.concatenate(\n",
    "        [train_data[:i * num_val_samples],\n",
    "         train_data[(i + 1) * num_val_samples:]],\n",
    "        axis=0)\n",
    "    extra_train_values = np.concatenate(\n",
    "        [train_labels[:i * num_val_samples],\n",
    "         train_labels[(i + 1) * num_val_samples:]],\n",
    "        axis=0)\n",
    "    \n",
    "    #케라스 모델 구성(컴파일 포함)\n",
    "    model = build_model()\n",
    "    #모델 훈련(verbose=0 이므로 훈련 과정이 출력되지 않음)\n",
    "    history = model.fit(extra_train_data, extra_train_values,\n",
    "                        validation_data=(val_data, val_values),\n",
    "                        epochs=num_epochs, batch_size=1, verbose=0)\n",
    "    #검증 세트로 모델 평가\n",
    "    mae_history = history.history['val_mae']\n",
    "    all_mae_histories.append(mae_history)"
   ]
  },
  {
   "cell_type": "code",
   "execution_count": 17,
   "metadata": {},
   "outputs": [],
   "source": [
    "average_mae_history = [\n",
    "    np.mean([x[i] for x in all_mae_histories]) for i in range(num_epochs)]"
   ]
  },
  {
   "cell_type": "code",
   "execution_count": 18,
   "metadata": {},
   "outputs": [
    {
     "data": {
      "image/png": "[encoded data removed]",
      "text/plain": [
       "<Figure size 640x480 with 1 Axes>"
      ]
     },
     "metadata": {},
     "output_type": "display_data"
    }
   ],
   "source": [
    "plt.plot(history.history['loss'], 'b-', label='loss')\n",
    "plt.plot(history.history['val_loss'], 'r-', label='val_loss')\n",
    "plt.xlabel('Epoch')\n",
    "plt.legend()\n",
    "plt.show() "
   ]
  },
  {
   "cell_type": "code",
   "execution_count": 19,
   "metadata": {},
   "outputs": [
    {
     "data": {
      "image/png": "[encoded data removed]",
      "text/plain": [
       "<Figure size 640x480 with 1 Axes>"
      ]
     },
     "metadata": {},
     "output_type": "display_data"
    }
   ],
   "source": [
    "import matplotlib.pyplot as plt\n",
    "import os\n",
    "os.environ['KMP_DUPLICATE_LIB_OK']='True'\n",
    "\n",
    "plt.plot(range(1, len(average_mae_history) + 1), average_mae_history)\n",
    "plt.xlabel('Epochs')\n",
    "plt.ylabel('Validation MAE')\n",
    "plt.show()"
   ]
  },
  {
   "attachments": {},
   "cell_type": "markdown",
   "metadata": {},
   "source": [
    "Epoch가 대강 50 이상 부터는 MAE도 높아지고 Val_loss 값도 증가한다. 따라서 적당한 에폭을 한 50정도로 설정한다."
   ]
  },
  {
   "cell_type": "code",
   "execution_count": 20,
   "metadata": {},
   "outputs": [
    {
     "name": "stdout",
     "output_type": "stream",
     "text": [
      "4/4 [==============================] - 0s 2ms/step - loss: 21.8495 - mae: 2.9357\n"
     ]
    }
   ],
   "source": [
    "model = build_model() #새롭게 컴파일한 모델\n",
    "\n",
    "#전체 데이터로 훈련한다\n",
    "model.fit(train_data, train_labels,\n",
    "          epochs=50, batch_size=32, verbose=0) # 배치 사이즈 2의 제곱을 관습적으로 준다.\n",
    "test_mse_score, test_mae_score = model.evaluate(test_data, test_labels)"
   ]
  },
  {
   "attachments": {},
   "cell_type": "markdown",
   "metadata": {},
   "source": [
    "평가 점수는 다음과 같다."
   ]
  },
  {
   "cell_type": "code",
   "execution_count": 21,
   "metadata": {},
   "outputs": [
    {
     "data": {
      "text/plain": [
       "21.84952735900879"
      ]
     },
     "execution_count": 21,
     "metadata": {},
     "output_type": "execute_result"
    }
   ],
   "source": [
    "test_mse_score"
   ]
  },
  {
   "cell_type": "code",
   "execution_count": 22,
   "metadata": {},
   "outputs": [
    {
     "data": {
      "text/plain": [
       "2.9357128143310547"
      ]
     },
     "execution_count": 22,
     "metadata": {},
     "output_type": "execute_result"
    }
   ],
   "source": [
    "test_mae_score"
   ]
  },
  {
   "attachments": {},
   "cell_type": "markdown",
   "metadata": {},
   "source": [
    "## Reuters 딥러닝 모델"
   ]
  },
  {
   "attachments": {},
   "cell_type": "markdown",
   "metadata": {},
   "source": [
    "### 1. 데이터 로드"
   ]
  },
  {
   "attachments": {},
   "cell_type": "markdown",
   "metadata": {},
   "source": [
    "reuters 데이터셋을 로드하고, 훈련 데이터셋에서 25%를 검증 데이터셋으로 분리한다. 기본 스플릿 비율은 8:2 이므로 test_size= 0.25로 설정해 준다. 각 데이터가 몇 개인지를 출력해 본다."
   ]
  },
  {
   "cell_type": "code",
   "execution_count": 23,
   "metadata": {},
   "outputs": [],
   "source": [
    "from keras.datasets import reuters"
   ]
  },
  {
   "cell_type": "code",
   "execution_count": 24,
   "metadata": {},
   "outputs": [
    {
     "name": "stdout",
     "output_type": "stream",
     "text": [
      "8982\n",
      "6736\n",
      "2246\n",
      "2246\n",
      "46\n"
     ]
    }
   ],
   "source": [
    "\n",
    "(reuters_full_train_data, reuters_full_train_labels), (reuters_test_data, reuters_test_labels) = reuters.load_data(num_words=10000)\n",
    "reuters_train_data, reuters_val_data, reuters_train_labels, reuters_val_labels = train_test_split(reuters_full_train_data, reuters_full_train_labels, test_size= 0.25, random_state=2023)\n",
    "\n",
    "# 훈련, 검증, 테스트 데이터와 레이블 종류가 몇 개인지 출력\n",
    "print(len(reuters_full_train_data))\n",
    "print(len(reuters_train_data))\n",
    "print(len(reuters_val_data))\n",
    "print(len(reuters_test_data))\n",
    "print(len(set(reuters_full_train_labels)))"
   ]
  },
  {
   "cell_type": "code",
   "execution_count": 25,
   "metadata": {},
   "outputs": [
    {
     "data": {
      "text/plain": [
       "[1,\n",
       " 2,\n",
       " 355,\n",
       " 81,\n",
       " 8,\n",
       " 16,\n",
       " 515,\n",
       " 4,\n",
       " 211,\n",
       " 5,\n",
       " 25,\n",
       " 7804,\n",
       " 707,\n",
       " 6,\n",
       " 7804,\n",
       " 901,\n",
       " 71,\n",
       " 10,\n",
       " 73,\n",
       " 49,\n",
       " 1276,\n",
       " 27,\n",
       " 2,\n",
       " 1370,\n",
       " 4,\n",
       " 211,\n",
       " 96,\n",
       " 34,\n",
       " 45,\n",
       " 889,\n",
       " 2,\n",
       " 8,\n",
       " 2,\n",
       " 2,\n",
       " 3587,\n",
       " 611,\n",
       " 23,\n",
       " 68,\n",
       " 5,\n",
       " 4,\n",
       " 895,\n",
       " 473,\n",
       " 398,\n",
       " 5,\n",
       " 8203,\n",
       " 2759,\n",
       " 2,\n",
       " 13,\n",
       " 4,\n",
       " 3336,\n",
       " 9,\n",
       " 577,\n",
       " 1107,\n",
       " 2,\n",
       " 9,\n",
       " 9876,\n",
       " 422,\n",
       " 16,\n",
       " 8,\n",
       " 4,\n",
       " 611,\n",
       " 3797,\n",
       " 445,\n",
       " 872,\n",
       " 2,\n",
       " 8,\n",
       " 16,\n",
       " 830,\n",
       " 6,\n",
       " 337,\n",
       " 4,\n",
       " 707,\n",
       " 6,\n",
       " 449,\n",
       " 242,\n",
       " 5,\n",
       " 4,\n",
       " 8203,\n",
       " 2759,\n",
       " 2,\n",
       " 218,\n",
       " 17,\n",
       " 12]"
      ]
     },
     "execution_count": 25,
     "metadata": {},
     "output_type": "execute_result"
    }
   ],
   "source": [
    "reuters_train_data[10]"
   ]
  },
  {
   "cell_type": "code",
   "execution_count": 26,
   "metadata": {},
   "outputs": [
    {
     "data": {
      "text/plain": [
       "4"
      ]
     },
     "execution_count": 26,
     "metadata": {},
     "output_type": "execute_result"
    }
   ],
   "source": [
    "reuters_train_labels[10]"
   ]
  },
  {
   "attachments": {},
   "cell_type": "markdown",
   "metadata": {},
   "source": [
    "숫자 토큰화된 문장들을 다시 디코딩하려면 아래와 같은 코드를 수행하면 된다."
   ]
  },
  {
   "cell_type": "code",
   "execution_count": 27,
   "metadata": {},
   "outputs": [],
   "source": [
    "word_index = reuters.get_word_index()\n",
    "reverse_word_index = dict([(value, key) for (key, value) in word_index.items()])\n",
    "decoded_newswire = ' '.join([reverse_word_index.get(i - 3, '?') for i in reuters_train_data[0]]) #0, 1, 2는 ‘패딩’, ‘문서 시작’, ‘사전에 없음’을 위한 인덱스이므로 3을 뺍니다."
   ]
  },
  {
   "cell_type": "code",
   "execution_count": 28,
   "metadata": {},
   "outputs": [
    {
     "data": {
      "text/plain": [
       "'? ended january 31 oper shr profit 3 98 dlrs vs profit 4 35 dlrs oper net profit 123 6 mln vs profit 108 3 mln revs 1 88 billion vs 1 76 billion year oper shr profit 32 cts vs loss 1 23 dlrs oper net profit 33 0 mln vs loss 9 055 000 revs 5 69 billion vs 5 27 billion note 1986 excludes writeoff of 40 4 mln dlrs primarily due to investment in dome petroleum ltd lt dmp reuter 3'"
      ]
     },
     "execution_count": 28,
     "metadata": {},
     "output_type": "execute_result"
    }
   ],
   "source": [
    "decoded_newswire"
   ]
  },
  {
   "attachments": {},
   "cell_type": "markdown",
   "metadata": {},
   "source": [
    "텍스트 데이터를 원 핫 인코딩 한다. word를 10000개만 불러왔으므로 dimension=10000으로 설정한다. 훈련, 검증, 예측 데이터를 원-핫 인코딩하고 레이블은 utils.to_categorical 메서드로 쉽게 범주형 원-핫 인코딩을 할 수 있다."
   ]
  },
  {
   "cell_type": "code",
   "execution_count": 29,
   "metadata": {},
   "outputs": [],
   "source": [
    "def one_hot_encoding(data, dim=10000):\n",
    "    results = np.zeros((len(data), dim))\n",
    "    for i, d in enumerate(data):\n",
    "        results[i, d] = 1.\n",
    "    return results\n"
   ]
  },
  {
   "cell_type": "code",
   "execution_count": 30,
   "metadata": {},
   "outputs": [],
   "source": [
    "reuters_train_data_enc = one_hot_encoding(reuters_train_data)\n",
    "reuters_val_data_enc = one_hot_encoding(reuters_val_data)\n",
    "reuters_test_data_enc = one_hot_encoding(reuters_test_data)"
   ]
  },
  {
   "cell_type": "code",
   "execution_count": 31,
   "metadata": {},
   "outputs": [
    {
     "name": "stdout",
     "output_type": "stream",
     "text": [
      "[0. 0. 0. 0. 0. 0. 0. 0. 0. 0. 0. 0. 0. 0. 0. 0. 0. 0. 0. 0. 0. 0. 0. 0.\n",
      " 0. 0. 0. 0. 1. 0. 0. 0. 0. 0. 0. 0. 0. 0. 0. 0. 0. 0. 0. 0. 0. 0.]\n"
     ]
    }
   ],
   "source": [
    "\n",
    "reuters_train_labels_enc = utils.to_categorical(reuters_train_labels)\n",
    "reuters_val_labels_enc = utils.to_categorical(reuters_val_labels)\n",
    "reuters_test_labels_enc = utils.to_categorical(reuters_test_labels)\n",
    "\n",
    "print(reuters_train_labels_enc[33])"
   ]
  },
  {
   "attachments": {},
   "cell_type": "markdown",
   "metadata": {},
   "source": [
    "### 2. 모델 구성 및 학습"
   ]
  },
  {
   "attachments": {},
   "cell_type": "markdown",
   "metadata": {},
   "source": [
    "빠른 학습과 과대적합을 방지하기 위해 BatchNormalization과 Dropout을 적용한 딥러닝 모델을 구성한다. 배치정규화는 활성화함수를 통과하기 전에 수행한다.  "
   ]
  },
  {
   "cell_type": "code",
   "execution_count": 32,
   "metadata": {},
   "outputs": [
    {
     "name": "stdout",
     "output_type": "stream",
     "text": [
      "Model: \"sequential_12\"\n",
      "_________________________________________________________________\n",
      " Layer (type)                Output Shape              Param #   \n",
      "=================================================================\n",
      " input (Dense)               (None, 128)               1280128   \n",
      "                                                                 \n",
      " batch_normalization (BatchN  (None, 128)              512       \n",
      " ormalization)                                                   \n",
      "                                                                 \n",
      " activation (Activation)     (None, 128)               0         \n",
      "                                                                 \n",
      " dropout (Dropout)           (None, 128)               0         \n",
      "                                                                 \n",
      " hidden (Dense)              (None, 128)               16512     \n",
      "                                                                 \n",
      " batch_normalization_1 (Batc  (None, 128)              512       \n",
      " hNormalization)                                                 \n",
      "                                                                 \n",
      " dropout_1 (Dropout)         (None, 128)               0         \n",
      "                                                                 \n",
      " activation_1 (Activation)   (None, 128)               0         \n",
      "                                                                 \n",
      " output (Dense)              (None, 46)                5934      \n",
      "                                                                 \n",
      "=================================================================\n",
      "Total params: 1,303,598\n",
      "Trainable params: 1,303,086\n",
      "Non-trainable params: 512\n",
      "_________________________________________________________________\n"
     ]
    }
   ],
   "source": [
    "from keras.layers import Dropout\n",
    "\n",
    "model = models.Sequential()\n",
    "model.add(layers.Dense(128, input_shape=(10000, ), name='input'))\n",
    "model.add(layers.BatchNormalization())\n",
    "model.add(layers.Activation('relu'))\n",
    "model.add(Dropout(0.5))\n",
    "model.add(layers.Dense(128, name='hidden'))\n",
    "model.add(layers.BatchNormalization())\n",
    "model.add(Dropout(0.1))\n",
    "model.add(layers.Activation('relu'))\n",
    "model.add(layers.Dense(46, activation='softmax', name='output'))\n",
    "\n",
    "model.compile(optimizer='rmsprop',\n",
    "            loss='categorical_crossentropy',\n",
    "            metrics=['accuracy'])\n",
    "model.summary()"
   ]
  },
  {
   "attachments": {},
   "cell_type": "markdown",
   "metadata": {},
   "source": [
    "콜백 함수의 종류인 ModelCheckpoint, EarlyStopping을 이용하여 학습을 더 효율적으로 할 수 있도록 설정한다. ModelCheckpoint 정기적으로 모델의 체크포인트를 저장해 문제가 생길 경우 복구를 도와줄 수 있다. EarlyStopping은 patience를 지정해 성능이 그 에폭동안 개선되지 않으면 자동으로 학습을 중단해 무의미하게 에폭이 계속 진행되는 것을 방지할 수 있다."
   ]
  },
  {
   "cell_type": "code",
   "execution_count": 33,
   "metadata": {},
   "outputs": [
    {
     "name": "stdout",
     "output_type": "stream",
     "text": [
      "INFO:tensorflow:Assets written to: reuters_model\\assets\n"
     ]
    }
   ],
   "source": [
    "model.save('reuters_model')"
   ]
  },
  {
   "cell_type": "code",
   "execution_count": 34,
   "metadata": {},
   "outputs": [],
   "source": [
    "from keras import callbacks"
   ]
  },
  {
   "cell_type": "code",
   "execution_count": 35,
   "metadata": {},
   "outputs": [],
   "source": [
    "check_point_cb = callbacks.ModelCheckpoint('reuters_model', save_best_only=True)"
   ]
  },
  {
   "cell_type": "code",
   "execution_count": 36,
   "metadata": {},
   "outputs": [],
   "source": [
    "early_stopping_cb = callbacks.EarlyStopping(patience=15, monitor='val_loss',\n",
    "                                  restore_best_weights=True)"
   ]
  },
  {
   "cell_type": "code",
   "execution_count": 37,
   "metadata": {},
   "outputs": [
    {
     "name": "stdout",
     "output_type": "stream",
     "text": [
      "Epoch 1/100\n",
      "13/14 [==========================>...] - ETA: 0s - loss: 2.4171 - accuracy: 0.5107INFO:tensorflow:Assets written to: reuters_model\\assets\n",
      "14/14 [==============================] - 2s 102ms/step - loss: 2.4076 - accuracy: 0.5123 - val_loss: 3.3161 - val_accuracy: 0.7044\n",
      "Epoch 2/100\n",
      "13/14 [==========================>...] - ETA: 0s - loss: 1.3255 - accuracy: 0.7338INFO:tensorflow:Assets written to: reuters_model\\assets\n",
      "14/14 [==============================] - 1s 97ms/step - loss: 1.3257 - accuracy: 0.7329 - val_loss: 3.0650 - val_accuracy: 0.7435\n",
      "Epoch 3/100\n",
      "13/14 [==========================>...] - ETA: 0s - loss: 0.9903 - accuracy: 0.7883INFO:tensorflow:Assets written to: reuters_model\\assets\n",
      "14/14 [==============================] - 1s 86ms/step - loss: 0.9901 - accuracy: 0.7882 - val_loss: 2.7789 - val_accuracy: 0.7516\n",
      "Epoch 4/100\n",
      "13/14 [==========================>...] - ETA: 0s - loss: 0.7948 - accuracy: 0.8236INFO:tensorflow:Assets written to: reuters_model\\assets\n",
      "14/14 [==============================] - 1s 87ms/step - loss: 0.7949 - accuracy: 0.8230 - val_loss: 2.5224 - val_accuracy: 0.7248\n",
      "Epoch 5/100\n",
      "13/14 [==========================>...] - ETA: 0s - loss: 0.6655 - accuracy: 0.8475INFO:tensorflow:Assets written to: reuters_model\\assets\n",
      "14/14 [==============================] - 1s 89ms/step - loss: 0.6652 - accuracy: 0.8472 - val_loss: 2.2494 - val_accuracy: 0.7386\n",
      "Epoch 6/100\n",
      "13/14 [==========================>...] - ETA: 0s - loss: 0.5496 - accuracy: 0.8767INFO:tensorflow:Assets written to: reuters_model\\assets\n",
      "14/14 [==============================] - 1s 99ms/step - loss: 0.5507 - accuracy: 0.8766 - val_loss: 1.9735 - val_accuracy: 0.7186\n",
      "Epoch 7/100\n",
      "13/14 [==========================>...] - ETA: 0s - loss: 0.4700 - accuracy: 0.8923INFO:tensorflow:Assets written to: reuters_model\\assets\n",
      "14/14 [==============================] - 1s 86ms/step - loss: 0.4697 - accuracy: 0.8921 - val_loss: 1.8119 - val_accuracy: 0.6732\n",
      "Epoch 8/100\n",
      "13/14 [==========================>...] - ETA: 0s - loss: 0.3950 - accuracy: 0.9147INFO:tensorflow:Assets written to: reuters_model\\assets\n",
      "14/14 [==============================] - 1s 86ms/step - loss: 0.3964 - accuracy: 0.9142 - val_loss: 1.5853 - val_accuracy: 0.7048\n",
      "Epoch 9/100\n",
      "13/14 [==========================>...] - ETA: 0s - loss: 0.3505 - accuracy: 0.9195INFO:tensorflow:Assets written to: reuters_model\\assets\n",
      "14/14 [==============================] - 1s 89ms/step - loss: 0.3482 - accuracy: 0.9201 - val_loss: 1.4588 - val_accuracy: 0.7159\n",
      "Epoch 10/100\n",
      "13/14 [==========================>...] - ETA: 0s - loss: 0.3043 - accuracy: 0.9295INFO:tensorflow:Assets written to: reuters_model\\assets\n",
      "14/14 [==============================] - 1s 97ms/step - loss: 0.3050 - accuracy: 0.9293 - val_loss: 1.3406 - val_accuracy: 0.7137\n",
      "Epoch 11/100\n",
      "13/14 [==========================>...] - ETA: 0s - loss: 0.2699 - accuracy: 0.9349INFO:tensorflow:Assets written to: reuters_model\\assets\n",
      "14/14 [==============================] - 1s 86ms/step - loss: 0.2698 - accuracy: 0.9350 - val_loss: 1.2075 - val_accuracy: 0.7462\n",
      "Epoch 12/100\n",
      "13/14 [==========================>...] - ETA: 0s - loss: 0.2504 - accuracy: 0.9416INFO:tensorflow:Assets written to: reuters_model\\assets\n",
      "14/14 [==============================] - 1s 87ms/step - loss: 0.2494 - accuracy: 0.9418 - val_loss: 1.1424 - val_accuracy: 0.7556\n",
      "Epoch 13/100\n",
      "13/14 [==========================>...] - ETA: 0s - loss: 0.2264 - accuracy: 0.9450INFO:tensorflow:Assets written to: reuters_model\\assets\n",
      "14/14 [==============================] - 1s 89ms/step - loss: 0.2247 - accuracy: 0.9457 - val_loss: 1.0828 - val_accuracy: 0.7551\n",
      "Epoch 14/100\n",
      "13/14 [==========================>...] - ETA: 0s - loss: 0.2071 - accuracy: 0.9482INFO:tensorflow:Assets written to: reuters_model\\assets\n",
      "14/14 [==============================] - 1s 100ms/step - loss: 0.2078 - accuracy: 0.9479 - val_loss: 1.0156 - val_accuracy: 0.7765\n",
      "Epoch 15/100\n",
      "13/14 [==========================>...] - ETA: 0s - loss: 0.1900 - accuracy: 0.9507INFO:tensorflow:Assets written to: reuters_model\\assets\n",
      "14/14 [==============================] - 1s 86ms/step - loss: 0.1901 - accuracy: 0.9507 - val_loss: 0.9406 - val_accuracy: 0.7956\n",
      "Epoch 16/100\n",
      "13/14 [==========================>...] - ETA: 0s - loss: 0.1858 - accuracy: 0.9533INFO:tensorflow:Assets written to: reuters_model\\assets\n",
      "14/14 [==============================] - 1s 86ms/step - loss: 0.1862 - accuracy: 0.9534 - val_loss: 0.9263 - val_accuracy: 0.7956\n",
      "Epoch 17/100\n",
      "13/14 [==========================>...] - ETA: 0s - loss: 0.1825 - accuracy: 0.9542INFO:tensorflow:Assets written to: reuters_model\\assets\n",
      "14/14 [==============================] - 1s 87ms/step - loss: 0.1843 - accuracy: 0.9532 - val_loss: 0.8872 - val_accuracy: 0.8037\n",
      "Epoch 18/100\n",
      "14/14 [==============================] - 0s 20ms/step - loss: 0.1646 - accuracy: 0.9586 - val_loss: 0.9016 - val_accuracy: 0.7947\n",
      "Epoch 19/100\n",
      "13/14 [==========================>...] - ETA: 0s - loss: 0.1588 - accuracy: 0.9600INFO:tensorflow:Assets written to: reuters_model\\assets\n",
      "14/14 [==============================] - 1s 97ms/step - loss: 0.1618 - accuracy: 0.9598 - val_loss: 0.8769 - val_accuracy: 0.8139\n",
      "Epoch 20/100\n",
      "13/14 [==========================>...] - ETA: 0s - loss: 0.1659 - accuracy: 0.9566INFO:tensorflow:Assets written to: reuters_model\\assets\n",
      "14/14 [==============================] - 1s 87ms/step - loss: 0.1657 - accuracy: 0.9567 - val_loss: 0.8603 - val_accuracy: 0.8175\n",
      "Epoch 21/100\n",
      "14/14 [==============================] - 0s 17ms/step - loss: 0.1673 - accuracy: 0.9558 - val_loss: 0.8605 - val_accuracy: 0.8170\n",
      "Epoch 22/100\n",
      "14/14 [==============================] - 0s 18ms/step - loss: 0.1474 - accuracy: 0.9596 - val_loss: 0.8678 - val_accuracy: 0.8179\n",
      "Epoch 23/100\n",
      "14/14 [==============================] - 0s 18ms/step - loss: 0.1453 - accuracy: 0.9599 - val_loss: 0.8700 - val_accuracy: 0.8237\n",
      "Epoch 24/100\n",
      "14/14 [==============================] - 0s 18ms/step - loss: 0.1360 - accuracy: 0.9638 - val_loss: 0.8789 - val_accuracy: 0.8210\n",
      "Epoch 25/100\n",
      "14/14 [==============================] - 0s 18ms/step - loss: 0.1334 - accuracy: 0.9629 - val_loss: 0.8967 - val_accuracy: 0.8192\n",
      "Epoch 26/100\n",
      "14/14 [==============================] - 0s 18ms/step - loss: 0.1365 - accuracy: 0.9626 - val_loss: 0.9045 - val_accuracy: 0.8183\n",
      "Epoch 27/100\n",
      "14/14 [==============================] - 0s 18ms/step - loss: 0.1357 - accuracy: 0.9599 - val_loss: 0.9252 - val_accuracy: 0.8175\n",
      "Epoch 28/100\n",
      "14/14 [==============================] - 0s 17ms/step - loss: 0.1315 - accuracy: 0.9604 - val_loss: 0.9266 - val_accuracy: 0.8232\n",
      "Epoch 29/100\n",
      "14/14 [==============================] - 0s 20ms/step - loss: 0.1309 - accuracy: 0.9598 - val_loss: 0.9344 - val_accuracy: 0.8210\n",
      "Epoch 30/100\n",
      "14/14 [==============================] - 0s 18ms/step - loss: 0.1234 - accuracy: 0.9624 - val_loss: 0.9552 - val_accuracy: 0.8277\n",
      "Epoch 31/100\n",
      "14/14 [==============================] - 0s 18ms/step - loss: 0.1200 - accuracy: 0.9654 - val_loss: 0.9563 - val_accuracy: 0.8264\n",
      "Epoch 32/100\n",
      "14/14 [==============================] - 0s 21ms/step - loss: 0.1192 - accuracy: 0.9624 - val_loss: 0.9488 - val_accuracy: 0.8183\n",
      "Epoch 33/100\n",
      "14/14 [==============================] - 0s 19ms/step - loss: 0.1158 - accuracy: 0.9624 - val_loss: 0.9490 - val_accuracy: 0.8206\n",
      "Epoch 34/100\n",
      "14/14 [==============================] - 0s 21ms/step - loss: 0.1142 - accuracy: 0.9644 - val_loss: 0.9817 - val_accuracy: 0.8237\n",
      "Epoch 35/100\n",
      "14/14 [==============================] - 0s 18ms/step - loss: 0.1288 - accuracy: 0.9642 - val_loss: 0.9726 - val_accuracy: 0.8264\n"
     ]
    }
   ],
   "source": [
    "reuters_history = model.fit(reuters_train_data_enc, reuters_train_labels_enc,\n",
    "                               epochs=100,\n",
    "                               batch_size=512,\n",
    "                               validation_data=(reuters_val_data_enc, reuters_val_labels_enc),\n",
    "                               callbacks=[check_point_cb, early_stopping_cb])"
   ]
  },
  {
   "attachments": {},
   "cell_type": "markdown",
   "metadata": {},
   "source": [
    "### 3. 평가 및 시각화"
   ]
  },
  {
   "attachments": {},
   "cell_type": "markdown",
   "metadata": {},
   "source": [
    "학습 히스토리의 loss, val_loss, accuracy, val_accuracy를 차트로 시각화한다."
   ]
  },
  {
   "cell_type": "code",
   "execution_count": 38,
   "metadata": {},
   "outputs": [
    {
     "data": {
      "text/plain": [
       "array([ 3, 10,  1, ...,  3,  3, 24], dtype=int64)"
      ]
     },
     "execution_count": 38,
     "metadata": {},
     "output_type": "execute_result"
    }
   ],
   "source": [
    "reuters_test_data\n",
    "reuters_test_labels"
   ]
  },
  {
   "cell_type": "code",
   "execution_count": 39,
   "metadata": {},
   "outputs": [
    {
     "data": {
      "image/png": "[encoded data removed]",
      "text/plain": [
       "<Figure size 1200x500 with 2 Axes>"
      ]
     },
     "metadata": {},
     "output_type": "display_data"
    }
   ],
   "source": [
    "plt.style.use('seaborn-white')\n",
    "\n",
    "history_dict = reuters_history.history\n",
    "\n",
    "loss = history_dict['loss']\n",
    "val_loss = history_dict['val_loss']\n",
    "\n",
    "epochs = range(1, len(loss) + 1)\n",
    "fig = plt.figure(figsize=(12, 5))\n",
    "\n",
    "ax1 = fig.add_subplot(1, 2, 1)\n",
    "ax1.plot(epochs, loss, 'b-', label='train_loss')\n",
    "ax1.plot(epochs, val_loss, 'r-', label='val_loss')\n",
    "ax1.set_title('Train and Validation Loss')\n",
    "ax1.set_xlabel('Epochs')\n",
    "ax1.set_ylabel('Loss')\n",
    "ax1.grid()\n",
    "ax1.legend()\n",
    "\n",
    "accuracy = history_dict['accuracy']\n",
    "val_accuracy = history_dict['val_accuracy']\n",
    "\n",
    "ax2 = fig.add_subplot(1, 2, 2)\n",
    "ax2.plot(epochs, accuracy, 'b-', label='train_accuracy')\n",
    "ax2.plot(epochs, val_accuracy, 'r-', label='val_accuracy')\n",
    "ax2.set_title('Train and Validation Accuracy')\n",
    "ax2.set_xlabel('Epochs')\n",
    "ax2.set_ylabel('Accuracy')\n",
    "ax2.grid()\n",
    "ax2.legend()\n",
    "\n",
    "plt.show()"
   ]
  },
  {
   "attachments": {},
   "cell_type": "markdown",
   "metadata": {},
   "source": [
    "모델의 성능을 다음과 같이 평가할 수 있다."
   ]
  },
  {
   "cell_type": "code",
   "execution_count": 40,
   "metadata": {},
   "outputs": [
    {
     "name": "stdout",
     "output_type": "stream",
     "text": [
      "71/71 [==============================] - 0s 4ms/step - loss: 0.9311 - accuracy: 0.7947\n"
     ]
    },
    {
     "data": {
      "text/plain": [
       "[0.9311109185218811, 0.7947462201118469]"
      ]
     },
     "execution_count": 40,
     "metadata": {},
     "output_type": "execute_result"
    }
   ],
   "source": [
    "model.evaluate(reuters_test_data_enc, reuters_test_labels_enc)"
   ]
  },
  {
   "attachments": {},
   "cell_type": "markdown",
   "metadata": {},
   "source": [
    "## CIFAR10 딥러닝 모델"
   ]
  },
  {
   "attachments": {},
   "cell_type": "markdown",
   "metadata": {},
   "source": [
    "### 1. 데이터 로드 "
   ]
  },
  {
   "cell_type": "code",
   "execution_count": 41,
   "metadata": {},
   "outputs": [],
   "source": [
    "from keras.datasets import cifar10"
   ]
  },
  {
   "attachments": {},
   "cell_type": "markdown",
   "metadata": {},
   "source": [
    "케라스의 cifar10 데이터셋을 로드하고, 훈련 데이터셋에서 20%를 검증 데이터셋으로 분리한다."
   ]
  },
  {
   "cell_type": "code",
   "execution_count": 42,
   "metadata": {},
   "outputs": [],
   "source": [
    "(cifa_full_train_data, cifa_full_train_labels), (cifa_test_data, cifa_test_labels) = cifar10.load_data()\n",
    "cifa_train_data, cifa_val_data, cifa_train_labels, cifa_val_labels = train_test_split(cifa_full_train_data, cifa_full_train_labels, test_size= 0.2, random_state=2023)\n"
   ]
  },
  {
   "attachments": {},
   "cell_type": "markdown",
   "metadata": {},
   "source": [
    "훈련, 검증, 테스트 데이터와 레이블 종류가 몇개인지 출력해 본다. 데이터셋의 크기를 짐작할 수 있다."
   ]
  },
  {
   "cell_type": "code",
   "execution_count": 43,
   "metadata": {},
   "outputs": [
    {
     "name": "stdout",
     "output_type": "stream",
     "text": [
      "50000\n",
      "40000\n",
      "10000\n",
      "10000\n",
      "전체 학습 데이터: (50000, 32, 32, 3) 레이블: (50000, 1)\n",
      "학습 데이터: (40000, 32, 32, 3) 레이블: (40000, 1)\n",
      "검증 데이터: (10000, 32, 32, 3) 레이블: (10000, 1)\n",
      "테스트 데이터: (10000, 32, 32, 3) 레이블: (10000, 1)\n"
     ]
    }
   ],
   "source": [
    "print(len(cifa_full_train_data))\n",
    "print(len(cifa_train_data))\n",
    "print(len(cifa_val_data))\n",
    "print(len(cifa_test_data))\n",
    "\n",
    "\n",
    "\n",
    "print(\"전체 학습 데이터: {} 레이블: {}\".format(cifa_full_train_data.shape, cifa_full_train_labels.shape))\n",
    "print(\"학습 데이터: {} 레이블: {}\".format(cifa_train_data.shape, cifa_train_labels.shape))\n",
    "print(\"검증 데이터: {} 레이블: {}\".format(cifa_val_data.shape, cifa_val_labels.shape))\n",
    "print(\"테스트 데이터: {} 레이블: {}\".format(cifa_test_data.shape, cifa_test_labels.shape))"
   ]
  },
  {
   "attachments": {},
   "cell_type": "markdown",
   "metadata": {},
   "source": [
    "cifar10의 분류의 각 레이블 'airplane', 'automobile', 'bird', 'cat', 'deer', 'dog', 'frog', 'horse', 'ship', 'truck'를 class_name 리스트로 만든다."
   ]
  },
  {
   "cell_type": "code",
   "execution_count": 44,
   "metadata": {},
   "outputs": [],
   "source": [
    "class_names = ['airplane', 'automobile', 'bird', 'cat', 'deer',\n",
    "               'dog', 'frog', 'horse', 'ship', 'truck']"
   ]
  },
  {
   "attachments": {},
   "cell_type": "markdown",
   "metadata": {},
   "source": [
    "훈련 데이터의 첫번째 이미지가 어떤지 시각화 해 본다."
   ]
  },
  {
   "cell_type": "code",
   "execution_count": 45,
   "metadata": {},
   "outputs": [
    {
     "data": {
      "image/png": "[encoded data removed]",
      "text/plain": [
       "<Figure size 640x480 with 2 Axes>"
      ]
     },
     "metadata": {},
     "output_type": "display_data"
    }
   ],
   "source": [
    "plt.style.use('seaborn-white')\n",
    "\n",
    "plt.figure()\n",
    "plt.imshow(cifa_train_data[0])\n",
    "plt.colorbar()\n",
    "plt.show()"
   ]
  },
  {
   "attachments": {},
   "cell_type": "markdown",
   "metadata": {},
   "source": [
    "### 2. 데이터 Flatten과 scaling"
   ]
  },
  {
   "attachments": {},
   "cell_type": "markdown",
   "metadata": {},
   "source": [
    "훈련, 검증, 테스트 데이터의 형태(shape)을 32 * 32 * 3 = 3072로 변형한다. 가로세로 32개씩의 픽셀, 컬러이미지이므로 rgb 3개의 채널의 값이 존재하기 때문이다. reshape 함수를 이용할 때 -1값은 자동으로 shape를 맞춰주는 의미다."
   ]
  },
  {
   "cell_type": "code",
   "execution_count": 46,
   "metadata": {},
   "outputs": [
    {
     "name": "stdout",
     "output_type": "stream",
     "text": [
      "(40000, 3072)\n",
      "(10000, 3072)\n",
      "(10000, 3072)\n"
     ]
    }
   ],
   "source": [
    "cifa_train_data = cifa_train_data.reshape(-1, 32 * 32 * 3) #flatten\n",
    "cifa_val_data = cifa_val_data.reshape(-1, 32 * 32 * 3)\n",
    "cifa_test_data = cifa_test_data.reshape(-1, 32 * 32 * 3)\n",
    "\n",
    "\n",
    "print(cifa_train_data.shape)\n",
    "print(cifa_val_data.shape)\n",
    "print(cifa_test_data.shape)"
   ]
  },
  {
   "attachments": {},
   "cell_type": "markdown",
   "metadata": {},
   "source": [
    "각 컬러값은 0~255의 값을 가지고 있다. 훈련, 검증, 테스트 데이터를 255로 나누어 0~1 사이의 값으로 스케일링한다."
   ]
  },
  {
   "cell_type": "code",
   "execution_count": 47,
   "metadata": {},
   "outputs": [],
   "source": [
    "cifa_train_data = cifa_train_data / 255.\n",
    "cifa_val_data = cifa_val_data / 255.\n",
    "cifa_test_data = cifa_test_data / 255."
   ]
  },
  {
   "cell_type": "code",
   "execution_count": 48,
   "metadata": {},
   "outputs": [
    {
     "name": "stdout",
     "output_type": "stream",
     "text": [
      "[0.02745098 0.02745098 0.02352941 ... 0.77254902 0.76862745 0.78039216]\n"
     ]
    }
   ],
   "source": [
    "print(cifa_train_data[0])"
   ]
  },
  {
   "attachments": {},
   "cell_type": "markdown",
   "metadata": {},
   "source": [
    "### 3. 모델 구성및 학습"
   ]
  },
  {
   "cell_type": "code",
   "execution_count": 49,
   "metadata": {},
   "outputs": [
    {
     "name": "stdout",
     "output_type": "stream",
     "text": [
      "Model: \"sequential_13\"\n",
      "_________________________________________________________________\n",
      " Layer (type)                Output Shape              Param #   \n",
      "=================================================================\n",
      " batch_normalization_2 (Batc  (None, 3072)             12288     \n",
      " hNormalization)                                                 \n",
      "                                                                 \n",
      " activation_2 (Activation)   (None, 3072)              0         \n",
      "                                                                 \n",
      " dropout_2 (Dropout)         (None, 3072)              0         \n",
      "                                                                 \n",
      " dense_36 (Dense)            (None, 1024)              3146752   \n",
      "                                                                 \n",
      " batch_normalization_3 (Batc  (None, 1024)             4096      \n",
      " hNormalization)                                                 \n",
      "                                                                 \n",
      " activation_3 (Activation)   (None, 1024)              0         \n",
      "                                                                 \n",
      " dense_37 (Dense)            (None, 10)                10250     \n",
      "                                                                 \n",
      "=================================================================\n",
      "Total params: 3,173,386\n",
      "Trainable params: 3,165,194\n",
      "Non-trainable params: 8,192\n",
      "_________________________________________________________________\n"
     ]
    }
   ],
   "source": [
    "cifa_model = models.Sequential()\n",
    "cifa_model.add(layers.Input(shape=(3072, )))\n",
    "cifa_model.add(layers.BatchNormalization())\n",
    "cifa_model.add(layers.Activation('sigmoid'))\n",
    "cifa_model.add(Dropout(0.5))\n",
    "cifa_model.add(layers.Dense(1024))\n",
    "cifa_model.add(layers.BatchNormalization())\n",
    "cifa_model.add(layers.Activation('sigmoid'))\n",
    "cifa_model.add(layers.Dense(10, activation='softmax'))\n",
    "cifa_model.summary()\n",
    "\n",
    "cifa_model.compile(loss='sparse_categorical_crossentropy',\n",
    "              optimizer='SGD',\n",
    "              metrics=['accuracy'])\n",
    "\n"
   ]
  },
  {
   "cell_type": "code",
   "execution_count": 50,
   "metadata": {},
   "outputs": [
    {
     "name": "stdout",
     "output_type": "stream",
     "text": [
      "Epoch 1/60\n",
      "79/79 [==============================] - 4s 40ms/step - loss: 2.2922 - accuracy: 0.1353 - val_loss: 2.3582 - val_accuracy: 0.0942\n",
      "Epoch 2/60\n",
      "79/79 [==============================] - 3s 37ms/step - loss: 2.2046 - accuracy: 0.1872 - val_loss: 2.3432 - val_accuracy: 0.0945\n",
      "Epoch 3/60\n",
      "79/79 [==============================] - 3s 36ms/step - loss: 2.1495 - accuracy: 0.2209 - val_loss: 2.2435 - val_accuracy: 0.1577\n",
      "Epoch 4/60\n",
      "79/79 [==============================] - 3s 36ms/step - loss: 2.1160 - accuracy: 0.2343 - val_loss: 2.1107 - val_accuracy: 0.2195\n",
      "Epoch 5/60\n",
      "79/79 [==============================] - 3s 37ms/step - loss: 2.0875 - accuracy: 0.2512 - val_loss: 2.0437 - val_accuracy: 0.2738\n",
      "Epoch 6/60\n",
      "79/79 [==============================] - 3s 37ms/step - loss: 2.0631 - accuracy: 0.2598 - val_loss: 2.0259 - val_accuracy: 0.2602\n",
      "Epoch 7/60\n",
      "79/79 [==============================] - 3s 38ms/step - loss: 2.0465 - accuracy: 0.2672 - val_loss: 1.9820 - val_accuracy: 0.3078\n",
      "Epoch 8/60\n",
      "79/79 [==============================] - 3s 37ms/step - loss: 2.0281 - accuracy: 0.2771 - val_loss: 1.9708 - val_accuracy: 0.3075\n",
      "Epoch 9/60\n",
      "79/79 [==============================] - 3s 37ms/step - loss: 2.0137 - accuracy: 0.2797 - val_loss: 1.9547 - val_accuracy: 0.3181\n",
      "Epoch 10/60\n",
      "79/79 [==============================] - 3s 36ms/step - loss: 2.0009 - accuracy: 0.2865 - val_loss: 1.9384 - val_accuracy: 0.3333\n",
      "Epoch 11/60\n",
      "79/79 [==============================] - 3s 36ms/step - loss: 1.9889 - accuracy: 0.2878 - val_loss: 1.9368 - val_accuracy: 0.3254\n",
      "Epoch 12/60\n",
      "79/79 [==============================] - 3s 38ms/step - loss: 1.9798 - accuracy: 0.2951 - val_loss: 1.9216 - val_accuracy: 0.3319\n",
      "Epoch 13/60\n",
      "79/79 [==============================] - 3s 38ms/step - loss: 1.9704 - accuracy: 0.2997 - val_loss: 1.9114 - val_accuracy: 0.3359\n",
      "Epoch 14/60\n",
      "79/79 [==============================] - 3s 37ms/step - loss: 1.9630 - accuracy: 0.3005 - val_loss: 1.9085 - val_accuracy: 0.3335\n",
      "Epoch 15/60\n",
      "79/79 [==============================] - 3s 37ms/step - loss: 1.9553 - accuracy: 0.3063 - val_loss: 1.8947 - val_accuracy: 0.3495\n",
      "Epoch 16/60\n",
      "79/79 [==============================] - 3s 36ms/step - loss: 1.9494 - accuracy: 0.3083 - val_loss: 1.9016 - val_accuracy: 0.3367\n",
      "Epoch 17/60\n",
      "79/79 [==============================] - 3s 38ms/step - loss: 1.9441 - accuracy: 0.3115 - val_loss: 1.8857 - val_accuracy: 0.3496\n",
      "Epoch 18/60\n",
      "79/79 [==============================] - 3s 38ms/step - loss: 1.9380 - accuracy: 0.3104 - val_loss: 1.8822 - val_accuracy: 0.3473\n",
      "Epoch 19/60\n",
      "79/79 [==============================] - 3s 37ms/step - loss: 1.9348 - accuracy: 0.3139 - val_loss: 1.8757 - val_accuracy: 0.3544\n",
      "Epoch 20/60\n",
      "79/79 [==============================] - 3s 36ms/step - loss: 1.9263 - accuracy: 0.3160 - val_loss: 1.8765 - val_accuracy: 0.3429\n",
      "Epoch 21/60\n",
      "79/79 [==============================] - 3s 37ms/step - loss: 1.9241 - accuracy: 0.3165 - val_loss: 1.8690 - val_accuracy: 0.3508\n",
      "Epoch 22/60\n",
      "79/79 [==============================] - 3s 37ms/step - loss: 1.9188 - accuracy: 0.3219 - val_loss: 1.8633 - val_accuracy: 0.3566\n",
      "Epoch 23/60\n",
      "79/79 [==============================] - 3s 38ms/step - loss: 1.9174 - accuracy: 0.3213 - val_loss: 1.8628 - val_accuracy: 0.3527\n",
      "Epoch 24/60\n",
      "79/79 [==============================] - 3s 38ms/step - loss: 1.9135 - accuracy: 0.3244 - val_loss: 1.8560 - val_accuracy: 0.3619\n",
      "Epoch 25/60\n",
      "79/79 [==============================] - 3s 37ms/step - loss: 1.9083 - accuracy: 0.3248 - val_loss: 1.8593 - val_accuracy: 0.3505\n",
      "Epoch 26/60\n",
      "79/79 [==============================] - 3s 37ms/step - loss: 1.9044 - accuracy: 0.3237 - val_loss: 1.8496 - val_accuracy: 0.3622\n",
      "Epoch 27/60\n",
      "79/79 [==============================] - 3s 37ms/step - loss: 1.9036 - accuracy: 0.3263 - val_loss: 1.8524 - val_accuracy: 0.3611\n",
      "Epoch 28/60\n",
      "79/79 [==============================] - 3s 37ms/step - loss: 1.8977 - accuracy: 0.3296 - val_loss: 1.8521 - val_accuracy: 0.3533\n",
      "Epoch 29/60\n",
      "79/79 [==============================] - 3s 38ms/step - loss: 1.8966 - accuracy: 0.3300 - val_loss: 1.8474 - val_accuracy: 0.3597\n",
      "Epoch 30/60\n",
      "79/79 [==============================] - 3s 37ms/step - loss: 1.8914 - accuracy: 0.3322 - val_loss: 1.8410 - val_accuracy: 0.3656\n",
      "Epoch 31/60\n",
      "79/79 [==============================] - 3s 37ms/step - loss: 1.8927 - accuracy: 0.3329 - val_loss: 1.8396 - val_accuracy: 0.3633\n",
      "Epoch 32/60\n",
      "79/79 [==============================] - 3s 37ms/step - loss: 1.8930 - accuracy: 0.3335 - val_loss: 1.8397 - val_accuracy: 0.3655\n",
      "Epoch 33/60\n",
      "79/79 [==============================] - 3s 37ms/step - loss: 1.8885 - accuracy: 0.3352 - val_loss: 1.8375 - val_accuracy: 0.3643\n",
      "Epoch 34/60\n",
      "79/79 [==============================] - 3s 39ms/step - loss: 1.8820 - accuracy: 0.3345 - val_loss: 1.8362 - val_accuracy: 0.3660\n",
      "Epoch 35/60\n",
      "79/79 [==============================] - 3s 37ms/step - loss: 1.8823 - accuracy: 0.3372 - val_loss: 1.8383 - val_accuracy: 0.3654\n",
      "Epoch 36/60\n",
      "79/79 [==============================] - 3s 37ms/step - loss: 1.8821 - accuracy: 0.3372 - val_loss: 1.8326 - val_accuracy: 0.3701\n",
      "Epoch 37/60\n",
      "79/79 [==============================] - 3s 36ms/step - loss: 1.8799 - accuracy: 0.3356 - val_loss: 1.8297 - val_accuracy: 0.3659\n",
      "Epoch 38/60\n",
      "79/79 [==============================] - 3s 37ms/step - loss: 1.8776 - accuracy: 0.3365 - val_loss: 1.8307 - val_accuracy: 0.3649\n",
      "Epoch 39/60\n",
      "79/79 [==============================] - 3s 38ms/step - loss: 1.8771 - accuracy: 0.3364 - val_loss: 1.8263 - val_accuracy: 0.3738\n",
      "Epoch 40/60\n",
      "79/79 [==============================] - 3s 38ms/step - loss: 1.8747 - accuracy: 0.3399 - val_loss: 1.8249 - val_accuracy: 0.3710\n",
      "Epoch 41/60\n",
      "79/79 [==============================] - 3s 37ms/step - loss: 1.8730 - accuracy: 0.3402 - val_loss: 1.8252 - val_accuracy: 0.3701\n",
      "Epoch 42/60\n",
      "79/79 [==============================] - 3s 37ms/step - loss: 1.8688 - accuracy: 0.3419 - val_loss: 1.8228 - val_accuracy: 0.3743\n",
      "Epoch 43/60\n",
      "79/79 [==============================] - 3s 37ms/step - loss: 1.8700 - accuracy: 0.3404 - val_loss: 1.8193 - val_accuracy: 0.3746\n",
      "Epoch 44/60\n",
      "79/79 [==============================] - 3s 37ms/step - loss: 1.8723 - accuracy: 0.3381 - val_loss: 1.8195 - val_accuracy: 0.3753\n",
      "Epoch 45/60\n",
      "79/79 [==============================] - 3s 38ms/step - loss: 1.8672 - accuracy: 0.3436 - val_loss: 1.8203 - val_accuracy: 0.3724\n",
      "Epoch 46/60\n",
      "79/79 [==============================] - 3s 37ms/step - loss: 1.8658 - accuracy: 0.3435 - val_loss: 1.8154 - val_accuracy: 0.3778\n",
      "Epoch 47/60\n",
      "79/79 [==============================] - 3s 37ms/step - loss: 1.8627 - accuracy: 0.3449 - val_loss: 1.8177 - val_accuracy: 0.3755\n",
      "Epoch 48/60\n",
      "79/79 [==============================] - 3s 37ms/step - loss: 1.8629 - accuracy: 0.3448 - val_loss: 1.8146 - val_accuracy: 0.3731\n",
      "Epoch 49/60\n",
      "79/79 [==============================] - 3s 37ms/step - loss: 1.8602 - accuracy: 0.3467 - val_loss: 1.8126 - val_accuracy: 0.3762\n",
      "Epoch 50/60\n",
      "79/79 [==============================] - 3s 38ms/step - loss: 1.8623 - accuracy: 0.3454 - val_loss: 1.8145 - val_accuracy: 0.3742\n",
      "Epoch 51/60\n",
      "79/79 [==============================] - 3s 38ms/step - loss: 1.8597 - accuracy: 0.3436 - val_loss: 1.8137 - val_accuracy: 0.3730\n",
      "Epoch 52/60\n",
      "79/79 [==============================] - 3s 37ms/step - loss: 1.8582 - accuracy: 0.3461 - val_loss: 1.8082 - val_accuracy: 0.3802\n",
      "Epoch 53/60\n",
      "79/79 [==============================] - 3s 39ms/step - loss: 1.8588 - accuracy: 0.3457 - val_loss: 1.8186 - val_accuracy: 0.3720\n",
      "Epoch 54/60\n",
      "79/79 [==============================] - 3s 41ms/step - loss: 1.8556 - accuracy: 0.3494 - val_loss: 1.8109 - val_accuracy: 0.3688\n",
      "Epoch 55/60\n",
      "79/79 [==============================] - 3s 44ms/step - loss: 1.8557 - accuracy: 0.3470 - val_loss: 1.8053 - val_accuracy: 0.3785\n",
      "Epoch 56/60\n",
      "79/79 [==============================] - 3s 39ms/step - loss: 1.8588 - accuracy: 0.3470 - val_loss: 1.8145 - val_accuracy: 0.3699\n",
      "Epoch 57/60\n",
      "79/79 [==============================] - 3s 39ms/step - loss: 1.8551 - accuracy: 0.3453 - val_loss: 1.8065 - val_accuracy: 0.3762\n",
      "Epoch 58/60\n",
      "79/79 [==============================] - 3s 41ms/step - loss: 1.8537 - accuracy: 0.3485 - val_loss: 1.8061 - val_accuracy: 0.3782\n",
      "Epoch 59/60\n",
      "79/79 [==============================] - 3s 40ms/step - loss: 1.8524 - accuracy: 0.3473 - val_loss: 1.8042 - val_accuracy: 0.3796\n",
      "Epoch 60/60\n",
      "79/79 [==============================] - 3s 39ms/step - loss: 1.8516 - accuracy: 0.3493 - val_loss: 1.8023 - val_accuracy: 0.3764\n"
     ]
    }
   ],
   "source": [
    "cifa_history = cifa_model.fit(cifa_train_data, cifa_train_labels,\n",
    "                    epochs=60,\n",
    "                    batch_size=512,\n",
    "                    validation_data=(cifa_val_data, cifa_val_labels))"
   ]
  },
  {
   "attachments": {},
   "cell_type": "markdown",
   "metadata": {},
   "source": [
    "### 4. 평가 및 시각화"
   ]
  },
  {
   "attachments": {},
   "cell_type": "markdown",
   "metadata": {},
   "source": [
    "학습 과정동안 history에 기록된 값으로 loss, val_loss, accuracy, val_accuracy를 시각화 한다."
   ]
  },
  {
   "cell_type": "code",
   "execution_count": 51,
   "metadata": {},
   "outputs": [],
   "source": [
    "def show_history(history):\n",
    "    history_dict = history.history\n",
    "\n",
    "    loss = history_dict['loss']\n",
    "    val_loss = history_dict['val_loss']\n",
    "\n",
    "    epochs = range(1, len(loss) + 1)\n",
    "    fig = plt.figure(figsize=(12, 5))\n",
    "\n",
    "    ax1 = fig.add_subplot(1, 2, 1)\n",
    "    ax1.plot(epochs, loss, 'b-', label='train_loss')\n",
    "    ax1.plot(epochs, val_loss, 'r-', label='val_loss')\n",
    "    ax1.set_title('Train and Validation Loss')\n",
    "    ax1.set_xlabel('Epochs')\n",
    "    ax1.set_ylabel('Loss')\n",
    "    ax1.grid()\n",
    "    ax1.legend()\n",
    "\n",
    "    accuracy = history_dict['accuracy']\n",
    "    val_accuracy = history_dict['val_accuracy']\n",
    "\n",
    "    ax2 = fig.add_subplot(1, 2, 2)\n",
    "    ax2.plot(epochs, accuracy, 'b-', label='train_accuracy')\n",
    "    ax2.plot(epochs, val_accuracy, 'r-', label='val_accuracy')\n",
    "    ax2.set_title('Train and Validation Accuracy')\n",
    "    ax2.set_xlabel('Epochs')\n",
    "    ax2.set_ylabel('Accuracy')\n",
    "    ax2.grid()\n",
    "    ax2.legend()\n",
    "\n",
    "    plt.show()"
   ]
  },
  {
   "cell_type": "code",
   "execution_count": 52,
   "metadata": {},
   "outputs": [
    {
     "data": {
      "image/png": "[encoded data removed]",
      "text/plain": [
       "<Figure size 1200x500 with 2 Axes>"
      ]
     },
     "metadata": {},
     "output_type": "display_data"
    }
   ],
   "source": [
    "show_history(cifa_history)"
   ]
  },
  {
   "attachments": {},
   "cell_type": "markdown",
   "metadata": {},
   "source": [
    "학습이 진행된 것을 확인할 수 있다. 모델 성능을 평가한다."
   ]
  },
  {
   "cell_type": "code",
   "execution_count": 53,
   "metadata": {},
   "outputs": [
    {
     "name": "stdout",
     "output_type": "stream",
     "text": [
      "313/313 [==============================] - 1s 3ms/step - loss: 1.7934 - accuracy: 0.3760\n"
     ]
    },
    {
     "data": {
      "text/plain": [
       "[1.7933872938156128, 0.37599998712539673]"
      ]
     },
     "execution_count": 53,
     "metadata": {},
     "output_type": "execute_result"
    }
   ],
   "source": [
    "cifa_model.evaluate(cifa_test_data, cifa_test_labels)"
   ]
  },
  {
   "attachments": {},
   "cell_type": "markdown",
   "metadata": {},
   "source": [
    "점수가 너무 낮아서 모델이 실질적으로 어떻게 분류를 수행하고 있는지를 한 번 보기로 한다.   \n",
    "아래는 임의로 모델이 한 이미지를 어떻게 분류했는지를 알아보기 위한 과정이다."
   ]
  },
  {
   "cell_type": "code",
   "execution_count": 54,
   "metadata": {},
   "outputs": [
    {
     "name": "stdout",
     "output_type": "stream",
     "text": [
      "313/313 [==============================] - 1s 2ms/step\n",
      "[0.00846564 0.28670827 0.0050941  0.00566315 0.00260065 0.00540793\n",
      " 0.00495329 0.01274711 0.03801106 0.6303487 ]\n",
      "9\n",
      "truck\n"
     ]
    }
   ],
   "source": [
    "pred_ys = cifa_model.predict(cifa_test_data)\n",
    "print(pred_ys[11])\n",
    "\n",
    "arg_pred_y = np.argmax(pred_ys, axis=1)\n",
    "print(arg_pred_y[11])\n",
    "print(class_names[arg_pred_y[11]])"
   ]
  },
  {
   "attachments": {},
   "cell_type": "markdown",
   "metadata": {},
   "source": [
    "12번째 이미지를 트럭으로 예측했다. 실제로 어떤 이미지인지 보기위해 출력을 해 보았다."
   ]
  },
  {
   "cell_type": "code",
   "execution_count": 55,
   "metadata": {},
   "outputs": [
    {
     "data": {
      "image/png": "[encoded data removed]",
      "text/plain": [
       "<Figure size 640x480 with 1 Axes>"
      ]
     },
     "metadata": {},
     "output_type": "display_data"
    }
   ],
   "source": [
    "plt.imshow(cifa_test_data[11].reshape(32 , 32 , 3))\n",
    "plt.title(class_names[arg_pred_y[11]])\n",
    "plt.show()"
   ]
  },
  {
   "attachments": {},
   "cell_type": "markdown",
   "metadata": {},
   "source": [
    "트럭이 맞다. 제대로 예측하고 있는 이미지도 있기는 있었다. 하지만 정확도가 너무 떨어져서 불만족스러운 결과였다."
   ]
  },
  {
   "attachments": {},
   "cell_type": "markdown",
   "metadata": {},
   "source": [
    "## Discussion"
   ]
  },
  {
   "attachments": {},
   "cell_type": "markdown",
   "metadata": {},
   "source": [
    "- 데이터의 표준정규화  \n",
    "  보스턴 주택 가격을 예측할 때 처음 데이터의 평균을 빼고 표준편차를 나누는 작업을 시행하였다. 데이터를 모델에 학습시킬 때 적절하게 스케일링을 하는 작업이 세가지 문제 모두에서 적용되었는데 그만큼 중요하다고 느꼈다. 데이터(배치)를 정규화하는 것이 학습의 속도와 효과에 영향을 미치기 때문에 앞으로 데이터를 다룰 때 꼭 내용을 확인하고 정규화할 필요가 있으면 알맞은 크기로 변환시켜야겠다고 느꼈다. 또한 그렇게 정규화를 거치고 나면 반드시 예측할 테스트 데이터도 동일하게 스케일링을 해 주어야 학습에 지장이 없다는 것도 계속 주의해서 진행할 필요가 있다."
   ]
  },
  {
   "attachments": {},
   "cell_type": "markdown",
   "metadata": {},
   "source": [
    "- K-fold 검증의 의의  \n",
    "  k-fold 검증 과정은 학습 데이터의 일부를 떼어서 검증데이터로 둔다. 나머지로 학습을 하고 난 다음, 정답을 알아내야 하는 실전에 바로 모델을 적용하기 전에 얼마나 이 모델이 잘 구성되었는지 떼어둔 검증 데이터로 한 번 평가해 본다. 그 과정에서 train/ validation/ test 의 정확한 개념을 다시 생각해 볼 수 있었다. k번 진행하는 과정을 통해 5개의 평가지표가 나오게 되고 하이퍼파라미터를 정하는 등 모델을 최적화하고자 할 때 활용할 수 있는 방법이었다."
   ]
  },
  {
   "attachments": {},
   "cell_type": "markdown",
   "metadata": {},
   "source": [
    "- 이미지 다중분류 모델의 성능 개선  \n",
    "  세번째 문제 이미지 다중 분류 모델의 성능이 너무 떨어지는 결과가 나왔다. 다른 사람들의 코드를 참고해 보니 모델 구성이 더 복잡하고 층이 많으며, 활성화 함수와 커널의 이니셜라이저도 설정한 것을 확인할 수 있었다. 나는 아직 모델을 단순하게 구성할 줄만 아는데 이미지 처리를 위한 CNN모델을 더 풍부하게 구사하고 싶다는 생각이 들었다."
   ]
  },
  {
   "attachments": {},
   "cell_type": "markdown",
   "metadata": {},
   "source": [
    "## Reference  \n",
    "\n",
    "보스턴 주택가격 예측 (https://dschloe.github.io/python/tensorflow2.0/ch4_4_boston_housing_deeplearning/)  \n",
    "보스턴 주택가격 예측 전반적인 과정 참고(https://foxtrotin.tistory.com/468)  \n",
    "\n",
    "dropout(https://wikidocs.net/61374)  \n",
    "로이터 기사 분류 (https://tensorflow.blog/%EC%BC%80%EB%9D%BC%EC%8A%A4-%EB%94%A5%EB%9F%AC%EB%8B%9D/3-5-%EB%89%B4%EC%8A%A4-%EA%B8%B0%EC%82%AC-%EB%B6%84%EB%A5%98-%EB%8B%A4%EC%A4%91-%EB%B6%84%EB%A5%98-%EB%AC%B8%EC%A0%9C/)  \n",
    "로이터 뉴스 데이터셋 이해 (https://wikidocs.net/22933)  \n",
    "categorical_crossentropy와 sparse_categorical_crossentropy의 차이 (https://stackoverflow.com/questions/58565394/what-is-the-difference-between-sparse-categorical-crossentropy-and-categorical-c)  \n",
    "CIFAR10 다중분류모델 높은 성능의 코드 (https://www.kaggle.com/code/miintto/cifar-10-by) \n",
    "\n",
    "\n",
    "\n"
   ]
  }
 ],
 "metadata": {
  "kernelspec": {
   "display_name": "Python39_tf",
   "language": "python",
   "name": "python3"
  },
  "language_info": {
   "codemirror_mode": {
    "name": "ipython",
    "version": 3
   },
   "file_extension": ".py",
   "mimetype": "text/x-python",
   "name": "python",
   "nbconvert_exporter": "python",
   "pygments_lexer": "ipython3",
   "version": "3.9.15 (main, Nov 24 2022, 14:39:17) [MSC v.1916 64 bit (AMD64)]"
  },
  "orig_nbformat": 4,
  "vscode": {
   "interpreter": {
    "hash": "885433fa621ceed8559a47c37e5b77a888d4e3a16de1f417200f80ac3b4d93ca"
   }
  }
 },
 "nbformat": 4,
 "nbformat_minor": 2
}
