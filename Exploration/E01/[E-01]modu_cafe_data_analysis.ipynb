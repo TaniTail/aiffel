{
 "cells": [
  {
   "attachments": {},
   "cell_type": "markdown",
   "metadata": {},
   "source": [
    "# Exploration 01 모두카페 데이터 분석 #\n",
    "온라인 코어 2기 박수경\n"
   ]
  },
  {
   "attachments": {},
   "cell_type": "markdown",
   "metadata": {},
   "source": [
    "## 1. 데이터 불러오기 ###"
   ]
  },
  {
   "cell_type": "code",
   "execution_count": 1,
   "metadata": {},
   "outputs": [],
   "source": [
    "# Pandas, Numpy, Matplotlib, Seaborn 호출\n",
    "import pandas as pd\n",
    "import numpy as np\n",
    "import matplotlib as mpl\n",
    "import matplotlib.pyplot as plt\n",
    "plt.style.use('default')\n",
    "import seaborn as sns"
   ]
  },
  {
   "cell_type": "code",
   "execution_count": 2,
   "metadata": {},
   "outputs": [],
   "source": [
    "# 데이터 호출 및 info(), head()로 정보확인\n",
    "entry_data = pd.read_csv('~/aiffel/Exploration/E01/data/entry_data.csv')\n",
    "sales_data = pd.read_csv('~/aiffel/Exploration/E01/data/sales_data.csv')\n",
    "item_data = pd.read_csv('~/aiffel/Exploration/E01/data/item_data.csv')\n",
    "item_entry_data = pd.read_csv('~/aiffel/Exploration/E01/data/item_entry_data.csv')"
   ]
  },
  {
   "cell_type": "code",
   "execution_count": 3,
   "metadata": {},
   "outputs": [
    {
     "name": "stdout",
     "output_type": "stream",
     "text": [
      "<class 'pandas.core.frame.DataFrame'>\n",
      "RangeIndex: 22555 entries, 0 to 22554\n",
      "Data columns (total 8 columns):\n",
      " #   Column  Non-Null Count  Dtype \n",
      "---  ------  --------------  ----- \n",
      " 0   요금제명    22292 non-null  object\n",
      " 1   입실      22555 non-null  object\n",
      " 2   퇴실      22555 non-null  object\n",
      " 3   이용      22533 non-null  object\n",
      " 4   위치      22555 non-null  object\n",
      " 5   금액      22555 non-null  int64 \n",
      " 6   구분      22555 non-null  object\n",
      " 7   고객      22555 non-null  object\n",
      "dtypes: int64(1), object(7)\n",
      "memory usage: 1.4+ MB\n",
      "<class 'pandas.core.frame.DataFrame'>\n",
      "RangeIndex: 7105 entries, 0 to 7104\n",
      "Data columns (total 8 columns):\n",
      " #   Column  Non-Null Count  Dtype \n",
      "---  ------  --------------  ----- \n",
      " 0   결제일시    7105 non-null   object\n",
      " 1   판매위치    7105 non-null   object\n",
      " 2   상품명     7105 non-null   object\n",
      " 3   결제방식    7105 non-null   object\n",
      " 4   비고      7105 non-null   object\n",
      " 5   판매수량    7105 non-null   int64 \n",
      " 6   결제금액    7105 non-null   object\n",
      " 7   고객      6300 non-null   object\n",
      "dtypes: int64(1), object(7)\n",
      "memory usage: 444.2+ KB\n",
      "<class 'pandas.core.frame.DataFrame'>\n",
      "RangeIndex: 174 entries, 0 to 173\n",
      "Data columns (total 4 columns):\n",
      " #   Column  Non-Null Count  Dtype \n",
      "---  ------  --------------  ----- \n",
      " 0   구분      174 non-null    int64 \n",
      " 1   분류      174 non-null    object\n",
      " 2   상품명     174 non-null    object\n",
      " 3   판매금액    174 non-null    object\n",
      "dtypes: int64(1), object(3)\n",
      "memory usage: 5.6+ KB\n",
      "<class 'pandas.core.frame.DataFrame'>\n",
      "RangeIndex: 34 entries, 0 to 33\n",
      "Data columns (total 4 columns):\n",
      " #   Column  Non-Null Count  Dtype \n",
      "---  ------  --------------  ----- \n",
      " 0   순위      34 non-null     int64 \n",
      " 1   분류      34 non-null     object\n",
      " 2   상품명     34 non-null     object\n",
      " 3   판매금액    34 non-null     object\n",
      "dtypes: int64(1), object(3)\n",
      "memory usage: 1.2+ KB\n"
     ]
    },
    {
     "data": {
      "text/html": [
       "<div>\n",
       "<style scoped>\n",
       "    .dataframe tbody tr th:only-of-type {\n",
       "        vertical-align: middle;\n",
       "    }\n",
       "\n",
       "    .dataframe tbody tr th {\n",
       "        vertical-align: top;\n",
       "    }\n",
       "\n",
       "    .dataframe thead th {\n",
       "        text-align: right;\n",
       "    }\n",
       "</style>\n",
       "<table border=\"1\" class=\"dataframe\">\n",
       "  <thead>\n",
       "    <tr style=\"text-align: right;\">\n",
       "      <th></th>\n",
       "      <th>순위</th>\n",
       "      <th>분류</th>\n",
       "      <th>상품명</th>\n",
       "      <th>판매금액</th>\n",
       "    </tr>\n",
       "  </thead>\n",
       "  <tbody>\n",
       "    <tr>\n",
       "      <th>0</th>\n",
       "      <td>1</td>\n",
       "      <td>한국대생</td>\n",
       "      <td>한국대생 요금제</td>\n",
       "      <td>2,000원</td>\n",
       "    </tr>\n",
       "    <tr>\n",
       "      <th>1</th>\n",
       "      <td>2</td>\n",
       "      <td>심야-조조</td>\n",
       "      <td>심야-조조 요금제</td>\n",
       "      <td>5,000원</td>\n",
       "    </tr>\n",
       "    <tr>\n",
       "      <th>2</th>\n",
       "      <td>3</td>\n",
       "      <td>일반인</td>\n",
       "      <td>일반요금제</td>\n",
       "      <td>2,500원</td>\n",
       "    </tr>\n",
       "    <tr>\n",
       "      <th>3</th>\n",
       "      <td>4</td>\n",
       "      <td>한국대생</td>\n",
       "      <td>한국대생 요금제</td>\n",
       "      <td>2,500원</td>\n",
       "    </tr>\n",
       "    <tr>\n",
       "      <th>4</th>\n",
       "      <td>5</td>\n",
       "      <td>일반인</td>\n",
       "      <td>일반요금제</td>\n",
       "      <td>2,000원</td>\n",
       "    </tr>\n",
       "  </tbody>\n",
       "</table>\n",
       "</div>"
      ],
      "text/plain": [
       "   순위     분류        상품명    판매금액\n",
       "0   1   한국대생   한국대생 요금제  2,000원\n",
       "1   2  심야-조조  심야-조조 요금제  5,000원\n",
       "2   3    일반인      일반요금제  2,500원\n",
       "3   4   한국대생   한국대생 요금제  2,500원\n",
       "4   5    일반인      일반요금제  2,000원"
      ]
     },
     "execution_count": 3,
     "metadata": {},
     "output_type": "execute_result"
    }
   ],
   "source": [
    "entry_data.info()\n",
    "entry_data.head()\n",
    "sales_data.info()\n",
    "sales_data.head()\n",
    "item_data.info()\n",
    "item_data.head()\n",
    "item_entry_data.info()\n",
    "item_entry_data.head()"
   ]
  },
  {
   "attachments": {},
   "cell_type": "markdown",
   "metadata": {},
   "source": [
    "## 2. 데이터의 특성 파악 ##\n"
   ]
  },
  {
   "cell_type": "markdown",
   "metadata": {},
   "source": [
    "데이터를 pandas의 다양한 기능으로 살펴 보고 특징을 파악했습니다.  \n",
    "간단하게 보이는 정도로만 전처리를 합니다.   \n",
    "unique()로 요소들을 알아보고,   \n",
    "모두카페의 운영 상황 및 개선점 파악에 도움이 되지 않는 특정 열을 제거합니다.   \n",
    "(예 : entry_data의 '구분' : 모든 값이 '퇴실)"
   ]
  },
  {
   "cell_type": "code",
   "execution_count": 4,
   "metadata": {},
   "outputs": [
    {
     "name": "stdout",
     "output_type": "stream",
     "text": [
      "[ 1 -1]\n",
      "['퇴실']\n",
      "               요금제명                입실                퇴실           이용    위치  \\\n",
      "0        시간요금제(1시간)  2022-04-01 23:39   2022-04-02 0:39   오전 1:00:00  선불기2   \n",
      "1        시간요금제(1시간)  2022-04-01 23:39   2022-04-02 0:39   오전 1:00:00  선불기2   \n",
      "2           무제한 입장권  2022-04-01 20:55  2022-04-01 21:41  오전 12:46:00  선불기2   \n",
      "3           무제한 입장권  2022-04-01 20:55  2022-04-01 21:41  오전 12:46:00  선불기2   \n",
      "4      한국대생 무제한 입장권  2022-04-01 19:54  2022-04-01 22:28   오전 2:33:00  선불기2   \n",
      "...             ...               ...               ...          ...   ...   \n",
      "22550         종일요금제  2021-02-17 13:09  2021-02-17 14:19   오전 1:10:00  선불기1   \n",
      "22551         종일요금제  2021-02-17 13:09  2021-02-17 14:19   오전 1:10:00  선불기1   \n",
      "22552         종일요금제  2021-02-17 13:06  2021-02-17 14:19   오전 1:13:00  선불기1   \n",
      "22553         종일요금제  2021-02-17 13:06  2021-02-17 14:19   오전 1:13:00  선불기1   \n",
      "22554         종일요금제  2021-02-17 12:58  2021-02-17 14:19   오전 1:21:00  선불기1   \n",
      "\n",
      "         금액              고객  \n",
      "0      3000  customer263717  \n",
      "1      3000  customer263717  \n",
      "2      7400  customer247263  \n",
      "3      7400  customer247263  \n",
      "4      7400  customer388928  \n",
      "...     ...             ...  \n",
      "22550  6500  customer774105  \n",
      "22551  6500  customer774105  \n",
      "22552  7000  customer774105  \n",
      "22553  7000  customer774105  \n",
      "22554  7000  customer774105  \n",
      "\n",
      "[22555 rows x 7 columns]\n",
      "['선불기2' '선불기1' '카운터']\n"
     ]
    },
    {
     "data": {
      "text/plain": [
       "0     오전 1:00:00\n",
       "1     오전 1:00:00\n",
       "2    오전 12:46:00\n",
       "3    오전 12:46:00\n",
       "4     오전 2:33:00\n",
       "5     오전 2:33:00\n",
       "6     오전 2:33:00\n",
       "7     오전 2:56:00\n",
       "8     오전 2:56:00\n",
       "9     오전 2:56:00\n",
       "Name: 이용, dtype: object"
      ]
     },
     "execution_count": 4,
     "metadata": {},
     "output_type": "execute_result"
    }
   ],
   "source": [
    "print(sales_data['판매수량'].unique()) #1,-1의 값만 가진다.\n",
    "print(entry_data['구분'].unique()) #모든 데이더가 '퇴실' 이므로 비교할 데이터프레임에서 삭제.\n",
    "entry_data = entry_data.drop(['구분'], axis=1)\n",
    "print(entry_data)\n",
    "print(entry_data['위치'].unique()) #선불기1,2와 카운터의 3곳에서 결제\n",
    "entry_data['금액'].groupby([entry_data['위치']]).sum() #결제하는 위치\n",
    "entry_data['이용'].head(10) #'이용'이 이용시간을 의미함을 알아냄."
   ]
  },
  {
   "attachments": {},
   "cell_type": "markdown",
   "metadata": {},
   "source": [
    "entry_data 데이터의 경우 고객의 입실,퇴실, 이용시간 등을 알려주는데   \n",
    "**완전 중복**인 행들은 삭제를 하여 통계를 내어야 합니다.  \n",
    "또한 **이용시간**은 시, 분 외에는 삭제해 의미가 있는 수치만 남겼습니다.\n"
   ]
  },
  {
   "cell_type": "code",
   "execution_count": 5,
   "metadata": {},
   "outputs": [
    {
     "name": "stdout",
     "output_type": "stream",
     "text": [
      "<class 'pandas.core.frame.DataFrame'>\n",
      "RangeIndex: 19321 entries, 0 to 19320\n",
      "Data columns (total 7 columns):\n",
      " #   Column  Non-Null Count  Dtype \n",
      "---  ------  --------------  ----- \n",
      " 0   요금제명    19109 non-null  object\n",
      " 1   입실      19321 non-null  object\n",
      " 2   퇴실      19321 non-null  object\n",
      " 3   이용      19299 non-null  object\n",
      " 4   위치      19321 non-null  object\n",
      " 5   금액      19321 non-null  int64 \n",
      " 6   고객      19321 non-null  object\n",
      "dtypes: int64(1), object(6)\n",
      "memory usage: 1.0+ MB\n"
     ]
    },
    {
     "name": "stderr",
     "output_type": "stream",
     "text": [
      "C:\\Users\\TAN\\AppData\\Local\\Temp\\ipykernel_9072\\2301821968.py:4: SettingWithCopyWarning: \n",
      "A value is trying to be set on a copy of a slice from a DataFrame.\n",
      "Try using .loc[row_indexer,col_indexer] = value instead\n",
      "\n",
      "See the caveats in the documentation: https://pandas.pydata.org/pandas-docs/stable/user_guide/indexing.html#returning-a-view-versus-a-copy\n",
      "  tmp_entry['이용'] = entry_data['이용'].str[3:-3]\n"
     ]
    }
   ],
   "source": [
    "tmp_entry = entry_data.drop_duplicates(ignore_index=True) #완전중복되는 행 삭제, 인덱스를 새로 부여.\n",
    "#이용시간은 입실시간과 퇴실시간의 차이입니다. 하지만 데이터를 살펴보니 '오전'과 '오후'는 의미가 없음을 발견.\n",
    "#이용시간의 초도 의미가 없어서(입실과 퇴실이 분까지만 찍힘) 슬라이싱을 했다.\n",
    "tmp_entry['이용'] = entry_data['이용'].str[3:-3]\n",
    "tmp_entry.info()"
   ]
  },
  {
   "attachments": {},
   "cell_type": "markdown",
   "metadata": {},
   "source": [
    "## 3. 월별 매출액 추세 "
   ]
  },
  {
   "cell_type": "markdown",
   "metadata": {},
   "source": [
    "월별 결제 통계를 위해 새로운 열을 만듭니다.  \n",
    "'date'라는 열은 결제 년월만 표시되도록 만들어줍니다."
   ]
  },
  {
   "cell_type": "code",
   "execution_count": 6,
   "metadata": {},
   "outputs": [
    {
     "name": "stdout",
     "output_type": "stream",
     "text": [
      "<class 'pandas.core.frame.DataFrame'>\n",
      "RangeIndex: 7105 entries, 0 to 7104\n",
      "Data columns (total 9 columns):\n",
      " #   Column  Non-Null Count  Dtype \n",
      "---  ------  --------------  ----- \n",
      " 0   결제일시    7105 non-null   object\n",
      " 1   판매위치    7105 non-null   object\n",
      " 2   상품명     7105 non-null   object\n",
      " 3   결제방식    7105 non-null   object\n",
      " 4   비고      7105 non-null   object\n",
      " 5   판매수량    7105 non-null   int64 \n",
      " 6   결제금액    7105 non-null   object\n",
      " 7   고객      6300 non-null   object\n",
      " 8   date    7105 non-null   object\n",
      "dtypes: int64(1), object(8)\n",
      "memory usage: 499.7+ KB\n"
     ]
    }
   ],
   "source": [
    "# 원본 데이터를 보존하고, 가공할 tmp_sales 에 할당\n",
    "tmp_sales = sales_data\n",
    "tmp_sales['date'] = sales_data['결제일시'].str[:7] #결제 월만 표시하는 열을 만듭니다.\n",
    "tmp_sales.info()"
   ]
  },
  {
   "attachments": {},
   "cell_type": "markdown",
   "metadata": {},
   "source": [
    "tmp_sales의 결제금액란이 object로 되어 있어서 연산이 불가능함을 발견했습니다.  \n",
    "그리고 각 데이터프레임 간 FK를 쉽게 잡을 수 있게   \n",
    "tmp_sales의 '판매위치'를 tmp_entry의 '위치'와 같게,  \n",
    "tmp_sales의 '결제금액'을 tmp_entry의 '금액'과 같게 칼럼명을 바꾸어 줍니다."
   ]
  },
  {
   "cell_type": "code",
   "execution_count": 7,
   "metadata": {},
   "outputs": [
    {
     "data": {
      "text/html": [
       "<div>\n",
       "<style scoped>\n",
       "    .dataframe tbody tr th:only-of-type {\n",
       "        vertical-align: middle;\n",
       "    }\n",
       "\n",
       "    .dataframe tbody tr th {\n",
       "        vertical-align: top;\n",
       "    }\n",
       "\n",
       "    .dataframe thead th {\n",
       "        text-align: right;\n",
       "    }\n",
       "</style>\n",
       "<table border=\"1\" class=\"dataframe\">\n",
       "  <thead>\n",
       "    <tr style=\"text-align: right;\">\n",
       "      <th></th>\n",
       "      <th>결제일시</th>\n",
       "      <th>위치</th>\n",
       "      <th>상품명</th>\n",
       "      <th>결제방식</th>\n",
       "      <th>비고</th>\n",
       "      <th>판매수량</th>\n",
       "      <th>금액</th>\n",
       "      <th>고객</th>\n",
       "      <th>date</th>\n",
       "    </tr>\n",
       "  </thead>\n",
       "  <tbody>\n",
       "    <tr>\n",
       "      <th>0</th>\n",
       "      <td>2022-04-01 19:41</td>\n",
       "      <td>선불기1</td>\n",
       "      <td>치킨카라아케 6pc</td>\n",
       "      <td>신용카드</td>\n",
       "      <td>결제완료</td>\n",
       "      <td>1</td>\n",
       "      <td>4,500</td>\n",
       "      <td>customer275507</td>\n",
       "      <td>2022-04</td>\n",
       "    </tr>\n",
       "    <tr>\n",
       "      <th>1</th>\n",
       "      <td>2022-04-01 19:41</td>\n",
       "      <td>선불기1</td>\n",
       "      <td>짜장라면(계란추가)</td>\n",
       "      <td>신용카드</td>\n",
       "      <td>결제완료</td>\n",
       "      <td>1</td>\n",
       "      <td>5,500</td>\n",
       "      <td>customer275507</td>\n",
       "      <td>2022-04</td>\n",
       "    </tr>\n",
       "    <tr>\n",
       "      <th>2</th>\n",
       "      <td>2022-04-01 19:41</td>\n",
       "      <td>선불기1</td>\n",
       "      <td>라면</td>\n",
       "      <td>신용카드</td>\n",
       "      <td>결제완료</td>\n",
       "      <td>1</td>\n",
       "      <td>4,000</td>\n",
       "      <td>customer275507</td>\n",
       "      <td>2022-04</td>\n",
       "    </tr>\n",
       "    <tr>\n",
       "      <th>3</th>\n",
       "      <td>2022-04-01 19:41</td>\n",
       "      <td>선불기1</td>\n",
       "      <td>비엔나소세지(토핑)</td>\n",
       "      <td>신용카드</td>\n",
       "      <td>결제완료</td>\n",
       "      <td>1</td>\n",
       "      <td>1,000</td>\n",
       "      <td>customer275507</td>\n",
       "      <td>2022-04</td>\n",
       "    </tr>\n",
       "    <tr>\n",
       "      <th>4</th>\n",
       "      <td>2022-04-01 19:41</td>\n",
       "      <td>선불기1</td>\n",
       "      <td>라면(계란/치즈추가)</td>\n",
       "      <td>신용카드</td>\n",
       "      <td>결제완료</td>\n",
       "      <td>1</td>\n",
       "      <td>5,000</td>\n",
       "      <td>customer275507</td>\n",
       "      <td>2022-04</td>\n",
       "    </tr>\n",
       "  </tbody>\n",
       "</table>\n",
       "</div>"
      ],
      "text/plain": [
       "               결제일시    위치          상품명  결제방식    비고  판매수량     금액  \\\n",
       "0  2022-04-01 19:41  선불기1   치킨카라아케 6pc  신용카드  결제완료     1  4,500   \n",
       "1  2022-04-01 19:41  선불기1   짜장라면(계란추가)  신용카드  결제완료     1  5,500   \n",
       "2  2022-04-01 19:41  선불기1           라면  신용카드  결제완료     1  4,000   \n",
       "3  2022-04-01 19:41  선불기1   비엔나소세지(토핑)  신용카드  결제완료     1  1,000   \n",
       "4  2022-04-01 19:41  선불기1  라면(계란/치즈추가)  신용카드  결제완료     1  5,000   \n",
       "\n",
       "               고객     date  \n",
       "0  customer275507  2022-04  \n",
       "1  customer275507  2022-04  \n",
       "2  customer275507  2022-04  \n",
       "3  customer275507  2022-04  \n",
       "4  customer275507  2022-04  "
      ]
     },
     "execution_count": 7,
     "metadata": {},
     "output_type": "execute_result"
    }
   ],
   "source": [
    "\n",
    "tmp_sales = tmp_sales.rename(columns={'판매위치' : '위치', '결제금액' : '금액'})\n",
    "tmp_sales.head()"
   ]
  },
  {
   "attachments": {},
   "cell_type": "markdown",
   "metadata": {},
   "source": [
    "지금의 '금액'은 문자열로 인식되어 있습니다.  \n",
    "금액을 연산할 수 있도록 중간의 쉼표를 지우고 astype으로 정수형으로 변경합니다. "
   ]
  },
  {
   "cell_type": "code",
   "execution_count": 8,
   "metadata": {},
   "outputs": [
    {
     "data": {
      "text/html": [
       "<div>\n",
       "<style scoped>\n",
       "    .dataframe tbody tr th:only-of-type {\n",
       "        vertical-align: middle;\n",
       "    }\n",
       "\n",
       "    .dataframe tbody tr th {\n",
       "        vertical-align: top;\n",
       "    }\n",
       "\n",
       "    .dataframe thead th {\n",
       "        text-align: right;\n",
       "    }\n",
       "</style>\n",
       "<table border=\"1\" class=\"dataframe\">\n",
       "  <thead>\n",
       "    <tr style=\"text-align: right;\">\n",
       "      <th></th>\n",
       "      <th>결제일시</th>\n",
       "      <th>위치</th>\n",
       "      <th>상품명</th>\n",
       "      <th>결제방식</th>\n",
       "      <th>비고</th>\n",
       "      <th>판매수량</th>\n",
       "      <th>금액</th>\n",
       "      <th>고객</th>\n",
       "      <th>date</th>\n",
       "    </tr>\n",
       "  </thead>\n",
       "  <tbody>\n",
       "    <tr>\n",
       "      <th>0</th>\n",
       "      <td>2022-04-01 19:41</td>\n",
       "      <td>선불기1</td>\n",
       "      <td>치킨카라아케 6pc</td>\n",
       "      <td>신용카드</td>\n",
       "      <td>결제완료</td>\n",
       "      <td>1</td>\n",
       "      <td>4500</td>\n",
       "      <td>customer275507</td>\n",
       "      <td>2022-04</td>\n",
       "    </tr>\n",
       "    <tr>\n",
       "      <th>1</th>\n",
       "      <td>2022-04-01 19:41</td>\n",
       "      <td>선불기1</td>\n",
       "      <td>짜장라면(계란추가)</td>\n",
       "      <td>신용카드</td>\n",
       "      <td>결제완료</td>\n",
       "      <td>1</td>\n",
       "      <td>5500</td>\n",
       "      <td>customer275507</td>\n",
       "      <td>2022-04</td>\n",
       "    </tr>\n",
       "    <tr>\n",
       "      <th>2</th>\n",
       "      <td>2022-04-01 19:41</td>\n",
       "      <td>선불기1</td>\n",
       "      <td>라면</td>\n",
       "      <td>신용카드</td>\n",
       "      <td>결제완료</td>\n",
       "      <td>1</td>\n",
       "      <td>4000</td>\n",
       "      <td>customer275507</td>\n",
       "      <td>2022-04</td>\n",
       "    </tr>\n",
       "    <tr>\n",
       "      <th>3</th>\n",
       "      <td>2022-04-01 19:41</td>\n",
       "      <td>선불기1</td>\n",
       "      <td>비엔나소세지(토핑)</td>\n",
       "      <td>신용카드</td>\n",
       "      <td>결제완료</td>\n",
       "      <td>1</td>\n",
       "      <td>1000</td>\n",
       "      <td>customer275507</td>\n",
       "      <td>2022-04</td>\n",
       "    </tr>\n",
       "    <tr>\n",
       "      <th>4</th>\n",
       "      <td>2022-04-01 19:41</td>\n",
       "      <td>선불기1</td>\n",
       "      <td>라면(계란/치즈추가)</td>\n",
       "      <td>신용카드</td>\n",
       "      <td>결제완료</td>\n",
       "      <td>1</td>\n",
       "      <td>5000</td>\n",
       "      <td>customer275507</td>\n",
       "      <td>2022-04</td>\n",
       "    </tr>\n",
       "  </tbody>\n",
       "</table>\n",
       "</div>"
      ],
      "text/plain": [
       "               결제일시    위치          상품명  결제방식    비고  판매수량    금액  \\\n",
       "0  2022-04-01 19:41  선불기1   치킨카라아케 6pc  신용카드  결제완료     1  4500   \n",
       "1  2022-04-01 19:41  선불기1   짜장라면(계란추가)  신용카드  결제완료     1  5500   \n",
       "2  2022-04-01 19:41  선불기1           라면  신용카드  결제완료     1  4000   \n",
       "3  2022-04-01 19:41  선불기1   비엔나소세지(토핑)  신용카드  결제완료     1  1000   \n",
       "4  2022-04-01 19:41  선불기1  라면(계란/치즈추가)  신용카드  결제완료     1  5000   \n",
       "\n",
       "               고객     date  \n",
       "0  customer275507  2022-04  \n",
       "1  customer275507  2022-04  \n",
       "2  customer275507  2022-04  \n",
       "3  customer275507  2022-04  \n",
       "4  customer275507  2022-04  "
      ]
     },
     "execution_count": 8,
     "metadata": {},
     "output_type": "execute_result"
    }
   ],
   "source": [
    "# salse_data의 결제금액에 포함된 쉼표(,) 지우기\n",
    "tmp_sales['금액'] = tmp_sales['금액'].str.replace(',','')\n",
    "tmp_sales.head()"
   ]
  },
  {
   "cell_type": "code",
   "execution_count": 9,
   "metadata": {},
   "outputs": [],
   "source": [
    "\n",
    "tmp_sales['금액'] = tmp_sales['금액'].astype(int) #정수로 변환"
   ]
  },
  {
   "attachments": {},
   "cell_type": "markdown",
   "metadata": {},
   "source": [
    "tmp_sales의 '금액' 열의 값을 'date'기준으로 합해서 월의 총 판매액을 구합니다.  \n",
    "가로축을 월, 세로축을 매출으로 하는 bar 그래프를 그려서 표시합니다."
   ]
  },
  {
   "cell_type": "code",
   "execution_count": 10,
   "metadata": {},
   "outputs": [
    {
     "data": {
      "text/plain": [
       "date\n",
       "2021-02       7000\n",
       "2021-03    2104500\n",
       "2021-04    3116600\n",
       "2021-05    2537000\n",
       "2021-06    3621500\n",
       "2021-07    1215000\n",
       "2021-08    1229000\n",
       "2021-09    1197500\n",
       "2021-10    2138500\n",
       "2021-11    2748500\n",
       "2021-12    3290000\n",
       "2022-01    1430500\n",
       "2022-02    1181500\n",
       "2022-03    1870900\n",
       "2022-04      49900\n",
       "Name: 금액, dtype: int32"
      ]
     },
     "execution_count": 10,
     "metadata": {},
     "output_type": "execute_result"
    }
   ],
   "source": [
    "tmp_payment = tmp_sales['금액'].groupby(tmp_sales['date']).sum()\n",
    "tmp_payment"
   ]
  },
  {
   "attachments": {},
   "cell_type": "markdown",
   "metadata": {},
   "source": [
    "### - 월별 매출 그래프"
   ]
  },
  {
   "cell_type": "code",
   "execution_count": 11,
   "metadata": {},
   "outputs": [
    {
     "data": {
      "image/png": "[encoded data removed]",
      "text/plain": [
       "<Figure size 640x480 with 1 Axes>"
      ]
     },
     "metadata": {},
     "output_type": "display_data"
    }
   ],
   "source": [
    "graph = tmp_payment.plot(kind='bar')\n",
    "plt.title('Monthly Total Sales')\n",
    "plt.xlabel('Month')\n",
    "plt.ylabel('Sales')\n",
    "plt.show()"
   ]
  },
  {
   "attachments": {},
   "cell_type": "markdown",
   "metadata": {},
   "source": [
    "월별 매출액의 추세를 확인할 수 있었습니다.  \n",
    "원 데이터의 head()와 tail()으로 21년 2월과 22년 04월은 전 기간을 다루지 않으며,  \n",
    "지나치게 짧은 기간이기 때문에 월 매출 분석에서 제외했습니다.  \n",
    "매출은 21년 7, 8, 9월과 22년 1, 2월에서 눈에 띄게 낮아진 것을 볼 수 있습니다.   \n",
    "최고 매출은 21년 6월, 최저 매출은 21년 9월입니다.  "
   ]
  },
  {
   "attachments": {},
   "cell_type": "markdown",
   "metadata": {},
   "source": [
    "## 4. 가장 인기있는 음식과 음료"
   ]
  },
  {
   "cell_type": "markdown",
   "metadata": {},
   "source": [
    "매출에 어떤 품목이 영향을 많이 주고 있는지 알아보기 위해  \n",
    "먼저 데이터의 구조를 살펴봅니다. "
   ]
  },
  {
   "cell_type": "code",
   "execution_count": 12,
   "metadata": {},
   "outputs": [
    {
     "name": "stdout",
     "output_type": "stream",
     "text": [
      "<class 'pandas.core.frame.DataFrame'>\n",
      "RangeIndex: 7105 entries, 0 to 7104\n",
      "Data columns (total 9 columns):\n",
      " #   Column  Non-Null Count  Dtype \n",
      "---  ------  --------------  ----- \n",
      " 0   결제일시    7105 non-null   object\n",
      " 1   위치      7105 non-null   object\n",
      " 2   상품명     7105 non-null   object\n",
      " 3   결제방식    7105 non-null   object\n",
      " 4   비고      7105 non-null   object\n",
      " 5   판매수량    7105 non-null   int64 \n",
      " 6   금액      7105 non-null   int32 \n",
      " 7   고객      6300 non-null   object\n",
      " 8   date    7105 non-null   object\n",
      "dtypes: int32(1), int64(1), object(7)\n",
      "memory usage: 471.9+ KB\n",
      "[ 1 -1]\n"
     ]
    }
   ],
   "source": [
    "\n",
    "tmp_sales.info()\n",
    "print(tmp_sales['판매수량'].unique())"
   ]
  },
  {
   "attachments": {},
   "cell_type": "markdown",
   "metadata": {},
   "source": [
    "판매수량은 1 또는 -1로 기록되어, 동시에 다량의 상품을 구매하는 경우도 하나씩 표기되어 있습니다.  \n",
    "이 데이터는 결제나 판매가 취소된 부분도 기록되어 있습니다.  \n",
    "금액은 음수로 취소된 만큼이 기입되어 있는데,  \n",
    "매출의 합계에 취소된 부분이 계산되어야 하므로 함께 합계하여 분석합니다."
   ]
  },
  {
   "cell_type": "code",
   "execution_count": 13,
   "metadata": {},
   "outputs": [
    {
     "name": "stdout",
     "output_type": "stream",
     "text": [
      "김치볶음밥         1211\n",
      "라면             756\n",
      "짜장라면           457\n",
      "치즈불고기볶음밥       423\n",
      "계란추가           315\n",
      "아메리카노(ICE)     314\n",
      "낙지볶음밥          314\n",
      "새우볶음밥          311\n",
      "치즈감자튀김         247\n",
      "감자튀김           242\n",
      "Name: 상품명, dtype: int64\n",
      "녹차(HOT)         1\n",
      "짜장라면(계란추가)      1\n",
      "이어폰(커널형)        1\n",
      "오늘은 한돈고추장불고기    1\n",
      "오늘은 한돈간장불고기     1\n",
      "Name: 상품명, dtype: int64\n"
     ]
    }
   ],
   "source": [
    "\n",
    "tmp_sales['상품명'].value_counts() #  '상품명'을 기준으로 집계합니다.\n",
    "print(tmp_sales['상품명'].value_counts().head(10))\n",
    "print(tmp_sales['상품명'].value_counts().tail())"
   ]
  },
  {
   "attachments": {},
   "cell_type": "markdown",
   "metadata": {},
   "source": [
    "상품이 유효하게 팔린 개수(취소 항목 포함) 상위 10개, 하위 5개를 확인했습니다.  \n",
    "가장 인기있는 음료와 음식을 따로 알아보기 위해   \n",
    "tmp_sales에 상품명에 따른 분류 열을 추가해 보기로 했습니다.  "
   ]
  },
  {
   "cell_type": "code",
   "execution_count": 14,
   "metadata": {},
   "outputs": [
    {
     "name": "stdout",
     "output_type": "stream",
     "text": [
      "100\n",
      "98\n",
      "['게임&TV' '디저트' '따뜻한음료(커피외)' '스무디&쉐이크' '음식' '차가운음료(커피외)' '커피' '포장']\n"
     ]
    }
   ],
   "source": [
    "tmp_sales['상품명'].nunique()\n",
    "print(tmp_sales['상품명'].nunique())\n",
    "item_data['상품명'].nunique()\n",
    "print(item_data['상품명'].nunique())\n",
    "print(item_data['분류'].unique())"
   ]
  },
  {
   "attachments": {},
   "cell_type": "markdown",
   "metadata": {},
   "source": [
    "nunique()로 일단 데이터를 조사해보니 item_data와 일치하지 않아 조금 더 자세히 보기로 했습니다.  \n",
    "item_data의 상품명에 따른 분류를 tmp_sales 끝에 붙여 표시합니다.  \n",
    "nunique만으로도 상품명이 정확히 매치하지 않는다는 것을 알 수 있어서 isnull()을 이용해 자세히 살펴봅니다.  \n",
    "\n"
   ]
  },
  {
   "cell_type": "code",
   "execution_count": 15,
   "metadata": {},
   "outputs": [
    {
     "data": {
      "text/plain": [
       "상품명\n",
       "짜장라면(계란추가)     NaN\n",
       "라면(계란/치즈추가)    NaN\n",
       "Name: 분류, dtype: object"
      ]
     },
     "execution_count": 15,
     "metadata": {},
     "output_type": "execute_result"
    }
   ],
   "source": [
    "prac = tmp_sales.set_index(\"상품명\", inplace=False)\n",
    "prac2 = item_data.set_index(\"상품명\", inplace=False)\n",
    "prac3 = pd.merge(prac, prac2['분류'],how='outer', on='상품명')\n",
    "prac3['분류'].isnull().sum()\n",
    "prac3['분류'][prac3['분류'].isnull()] #결측치가 있는 행을 찾기. #레퍼런스 https://doong-e.tistory.com/27"
   ]
  },
  {
   "attachments": {},
   "cell_type": "markdown",
   "metadata": {},
   "source": [
    "데이터의 보정을 위해 짜장라면에 계란추가 는 음식, 라면에 계란,치즈 추가한 것을  \n",
    "음식으로 분류해 주었습니다."
   ]
  },
  {
   "cell_type": "code",
   "execution_count": 16,
   "metadata": {},
   "outputs": [
    {
     "data": {
      "text/plain": [
       "Series([], Name: 분류, dtype: object)"
      ]
     },
     "execution_count": 16,
     "metadata": {},
     "output_type": "execute_result"
    }
   ],
   "source": [
    "prac3.loc['짜장라면(계란추가)','분류'] ='음식'\n",
    "prac3.loc['라면(계란/치즈추가)','분류'] ='음식'\n",
    "prac3['분류'][prac3['분류'].isnull()]"
   ]
  },
  {
   "attachments": {},
   "cell_type": "markdown",
   "metadata": {},
   "source": [
    "이제 모든 팔린 품목들을 음식과 음료로 나누어 분석할 수 있습니다.   \n",
    "- 가장 판매수량이 많은 상품\n",
    "- 가장 매출이 높은 상품\n",
    "- 가장 판매수량이 많은 음식\n",
    "- 가장 매출이 높은 음식\n",
    "- 가장 판매수량이 많은 음료\n",
    "- 가장 매출이 높은 음료\n",
    "  \n",
    "를 각각 알 수 있습니다.\n"
   ]
  },
  {
   "cell_type": "code",
   "execution_count": 17,
   "metadata": {},
   "outputs": [],
   "source": [
    "food_category = ['음식', '디저트', '포장']\n",
    "bev_category = ['음료', '따뜻한음료(커피외)', '스무디&쉐이크', '차가운음료(커피외)']\n",
    "\n",
    "food_sale = prac3.loc[prac3['분류'].isin(food_category)] #음식 판매 필터링\n",
    "food_ranks = food_sale['판매수량'].groupby(food_sale[\"분류\"]).sum()\n",
    "\n",
    "bev_sale= prac3.loc[prac3['분류'].isin(bev_category)] #음료 판매 필터링 #레퍼런스 https://sorting.tistory.com/16\n",
    "bev_ranks = bev_sale['판매수량'].groupby(bev_sale[\"분류\"]).sum()"
   ]
  },
  {
   "attachments": {},
   "cell_type": "markdown",
   "metadata": {},
   "source": [
    "팔린 수량으로 따져보면  \n",
    "전체적으로 음식의 비중이 가장 높고, 음료 중에서는 차가운 음료가 높습니다.  "
   ]
  },
  {
   "cell_type": "code",
   "execution_count": 18,
   "metadata": {},
   "outputs": [
    {
     "name": "stdout",
     "output_type": "stream",
     "text": [
      "                        결제일시    위치  결제방식    비고  판매수량    금액              고객  \\\n",
      "상품명                                                                          \n",
      "치킨카라아케 6pc  2022-04-01 19:41  선불기1  신용카드  결제완료     1  4500  customer275507   \n",
      "치킨카라아케 6pc  2022-03-31 14:51  선불기1  신용카드  결제완료     1  4500  customer751113   \n",
      "치킨카라아케 6pc  2022-03-24 21:35  선불기1  신용카드  결제완료     1  4500  customer901892   \n",
      "치킨카라아케 6pc  2022-03-12 17:42  선불기1  신용카드  결제완료     1  4500  customer339975   \n",
      "치킨카라아케 6pc  2022-03-05 19:56  선불기1  신용카드  결제완료     1  4500  customer301352   \n",
      "...                      ...   ...   ...   ...   ...   ...             ...   \n",
      "2인라면        2021-04-08 18:05   카운터    현금  결제완료     1     0             NaN   \n",
      "2인라면        2021-04-07 19:44   카운터    현금  결제완료     1     0             NaN   \n",
      "2인라면        2021-04-07 19:44   카운터    현금  결제완료     1     0             NaN   \n",
      "2인라면        2021-04-05 21:12   카운터    현금  결제완료     1     0             NaN   \n",
      "2인라면        2021-04-05 13:17   카운터    현금  결제완료     1     0             NaN   \n",
      "\n",
      "               date  분류  \n",
      "상품명                      \n",
      "치킨카라아케 6pc  2022-04  음식  \n",
      "치킨카라아케 6pc  2022-03  음식  \n",
      "치킨카라아케 6pc  2022-03  음식  \n",
      "치킨카라아케 6pc  2022-03  음식  \n",
      "치킨카라아케 6pc  2022-03  음식  \n",
      "...             ...  ..  \n",
      "2인라면        2021-04  음식  \n",
      "2인라면        2021-04  음식  \n",
      "2인라면        2021-04  음식  \n",
      "2인라면        2021-04  음식  \n",
      "2인라면        2021-04  음식  \n",
      "\n",
      "[24243 rows x 9 columns]\n"
     ]
    },
    {
     "data": {
      "text/html": [
       "<div>\n",
       "<style scoped>\n",
       "    .dataframe tbody tr th:only-of-type {\n",
       "        vertical-align: middle;\n",
       "    }\n",
       "\n",
       "    .dataframe tbody tr th {\n",
       "        vertical-align: top;\n",
       "    }\n",
       "\n",
       "    .dataframe thead th {\n",
       "        text-align: right;\n",
       "    }\n",
       "</style>\n",
       "<table border=\"1\" class=\"dataframe\">\n",
       "  <thead>\n",
       "    <tr style=\"text-align: right;\">\n",
       "      <th></th>\n",
       "      <th>판매수량</th>\n",
       "    </tr>\n",
       "    <tr>\n",
       "      <th>분류</th>\n",
       "      <th></th>\n",
       "    </tr>\n",
       "  </thead>\n",
       "  <tbody>\n",
       "    <tr>\n",
       "      <th>차가운음료(커피외)</th>\n",
       "      <td>1082</td>\n",
       "    </tr>\n",
       "    <tr>\n",
       "      <th>스무디&amp;쉐이크</th>\n",
       "      <td>284</td>\n",
       "    </tr>\n",
       "    <tr>\n",
       "      <th>따뜻한음료(커피외)</th>\n",
       "      <td>105</td>\n",
       "    </tr>\n",
       "  </tbody>\n",
       "</table>\n",
       "</div>"
      ],
      "text/plain": [
       "            판매수량\n",
       "분류              \n",
       "차가운음료(커피외)  1082\n",
       "스무디&쉐이크      284\n",
       "따뜻한음료(커피외)   105"
      ]
     },
     "execution_count": 18,
     "metadata": {},
     "output_type": "execute_result"
    }
   ],
   "source": [
    "item_ranks_sum = tmp_sales['판매수량'].groupby(tmp_sales['상품명']).sum()\n",
    "item_ranks = pd.DataFrame(item_ranks_sum)\n",
    "print(prac3)\n",
    "food_ranks = pd.DataFrame(food_ranks)\n",
    "bev_ranks =  pd.DataFrame(bev_ranks)\n",
    "item_ranks.sort_values(by='판매수량', ascending=False)\n",
    "food_ranks.sort_values(by='판매수량', ascending=False)\n",
    "bev_ranks.sort_values(by='판매수량', ascending=False)\n"
   ]
  },
  {
   "attachments": {},
   "cell_type": "markdown",
   "metadata": {},
   "source": [
    "각 항목의 판매량에 금액을 곱하여 항목당 매출을 계산합니다.   \n",
    "그리고 음식/ 음료의 총 매출도 계산할 수 있습니다.  \n",
    "다음으로 음식/ 음료의 매출 Top 5위와 전체 메뉴에서 Top 10을 선정한 목록을 출력해 봅니다."
   ]
  },
  {
   "attachments": {},
   "cell_type": "markdown",
   "metadata": {},
   "source": [
    "### -분류별 매출 현황 정보"
   ]
  },
  {
   "cell_type": "code",
   "execution_count": 19,
   "metadata": {},
   "outputs": [
    {
     "name": "stdout",
     "output_type": "stream",
     "text": [
      "전체 매출 Top 10 \n",
      "============================================\n",
      "상품명\n",
      "김치볶음밥         35831400\n",
      "라면            11664000\n",
      "치즈불고기볶음밥      11380500\n",
      "낙지볶음밥          6798800\n",
      "새우볶음밥          6119200\n",
      "짜장라면           6097500\n",
      "아메리카노(ICE)     5616600\n",
      "감자튀김           3251400\n",
      "치즈감자튀김         2697400\n",
      "만두라면           2049000\n",
      "Name: 금액, dtype: int32\n",
      "============================================\n",
      "총 매출 :  90530600 원\n",
      "============================================\n",
      "음식 매출 Top 5 \n",
      "============================================\n",
      "상품명\n",
      "김치볶음밥       35831400\n",
      "라면          11664000\n",
      "치즈불고기볶음밥    11380500\n",
      "낙지볶음밥        6798800\n",
      "새우볶음밥        6119200\n",
      "Name: 금액, dtype: int32\n",
      "============================================\n",
      "음식의 총 매출 :  90530600 원\n",
      "============================================\n",
      "음료 매출 Top 5 \n",
      "============================================\n",
      "상품명\n",
      "아이스티         1202400\n",
      "레몬에이드         964400\n",
      "초코라떼(ICE)     645300\n",
      "청귤에이드         374000\n",
      "딸기스무디         323600\n",
      "Name: 금액, dtype: int32\n",
      "============================================\n",
      "음료의 총 매출 :  6324800 원\n"
     ]
    }
   ],
   "source": [
    "\n",
    "print('전체 매출 Top 10 ')\n",
    "item_sale2 = prac3.reset_index()\n",
    "item_total = item_sale2['금액'].groupby([item_sale2['상품명']]).sum()\n",
    "print('============================================')\n",
    "print(item_total.sort_values(ascending=False).head(10))\n",
    "print('============================================')\n",
    "print('총 매출 : ',food_sale['금액'].sum(), '원')\n",
    "print('============================================')\n",
    "food_sale2 = food_sale.reset_index()\n",
    "food_total =food_sale2['금액'].groupby([food_sale2['상품명']]).sum()\n",
    "print('음식 매출 Top 5 ')\n",
    "print('============================================')\n",
    "print(food_total.sort_values(ascending=False).head())\n",
    "print('============================================')\n",
    "print('음식의 총 매출 : ',food_sale['금액'].sum(), '원')\n",
    "print('============================================')\n",
    "print('음료 매출 Top 5 ')\n",
    "bev_sale2 = bev_sale.reset_index()\n",
    "bev_total =bev_sale2['금액'].groupby([bev_sale2['상품명']]).sum()\n",
    "print('============================================')\n",
    "print(bev_total.sort_values(ascending=False).head())\n",
    "print('============================================')\n",
    "print('음료의 총 매출 : ',bev_sale['금액'].sum(), '원')\n"
   ]
  },
  {
   "cell_type": "code",
   "execution_count": 20,
   "metadata": {},
   "outputs": [
    {
     "name": "stdout",
     "output_type": "stream",
     "text": [
      "버전:  3.5.2\n",
      "설치 위치:  c:\\Users\\TAN\\anaconda3\\lib\\site-packages\\matplotlib\\__init__.py\n",
      "설정 위치:  C:\\Users\\TAN\\.matplotlib\n",
      "캐시 위치:  C:\\Users\\TAN\\.matplotlib\n",
      "설정파일 위치:  c:\\Users\\TAN\\anaconda3\\lib\\site-packages\\matplotlib\\mpl-data\\matplotlibrc\n"
     ]
    }
   ],
   "source": [
    "# 한글이 포함된 시각화를 위해 Matplotlib 설정 \n",
    "\n",
    "import matplotlib.font_manager as fm\n",
    "\n",
    "fontpath = '~/MaruBuri-Regular.ttf'\n",
    "font = fm.FontProperties(fname=fontpath, size=9)\n",
    "title_font = fm.FontProperties(fname=fontpath, size=12)\n",
    "plt.rc('font', family='MaruBuri')\n",
    "mpl.font_manager.findfont(font)\n",
    "\n",
    "print ('버전: ', mpl.__version__)\n",
    "print ('설치 위치: ', mpl.__file__)\n",
    "print ('설정 위치: ', mpl.get_configdir())\n",
    "print ('캐시 위치: ', mpl.get_cachedir())\n",
    "print ('설정파일 위치: ', mpl.matplotlib_fname())\n"
   ]
  },
  {
   "cell_type": "code",
   "execution_count": 21,
   "metadata": {},
   "outputs": [
    {
     "name": "stdout",
     "output_type": "stream",
     "text": [
      "1107\n",
      "1107\n"
     ]
    },
    {
     "data": {
      "text/plain": [
       "[('MaruBuri', 'C:\\\\WINDOWS\\\\Fonts\\\\MaruBuri-Regular.ttf'),\n",
       " ('MaruBuriOTF', 'C:\\\\WINDOWS\\\\Fonts\\\\MaruBuri-ExtraLight.otf'),\n",
       " ('MaruBuri', 'C:\\\\Windows\\\\Fonts\\\\MaruBuri-SemiBold.ttf'),\n",
       " ('MaruBuri', 'C:\\\\Windows\\\\Fonts\\\\MaruBuri-Bold.ttf'),\n",
       " ('MaruBuriOTF', 'C:\\\\Windows\\\\Fonts\\\\MaruBuri-ExtraLight.otf'),\n",
       " ('MaruBuriOTF', 'C:\\\\WINDOWS\\\\Fonts\\\\MaruBuri-SemiBold.otf'),\n",
       " ('MaruBuriOTF', 'C:\\\\Windows\\\\Fonts\\\\MaruBuri-Regular.otf'),\n",
       " ('MaruBuri', 'C:\\\\WINDOWS\\\\Fonts\\\\MaruBuri-ExtraLight.ttf'),\n",
       " ('MaruBuri', 'C:\\\\Windows\\\\Fonts\\\\MaruBuri-Regular.ttf'),\n",
       " ('MaruBuriOTF', 'C:\\\\Windows\\\\Fonts\\\\MaruBuri-Bold.otf'),\n",
       " ('MaruBuriOTF', 'C:\\\\WINDOWS\\\\Fonts\\\\MaruBuri-Regular.otf'),\n",
       " ('MaruBuri', 'C:\\\\WINDOWS\\\\Fonts\\\\MaruBuri-Light.ttf'),\n",
       " ('MaruBuriOTF', 'C:\\\\WINDOWS\\\\Fonts\\\\MaruBuri-Light.otf'),\n",
       " ('MaruBuriOTF', 'C:\\\\Windows\\\\Fonts\\\\MaruBuri-SemiBold.otf'),\n",
       " ('MaruBuri', 'C:\\\\Windows\\\\Fonts\\\\MaruBuri-ExtraLight.ttf'),\n",
       " ('MaruBuri', 'C:\\\\Windows\\\\Fonts\\\\MaruBuri-Light.ttf'),\n",
       " ('MaruBuri', 'C:\\\\WINDOWS\\\\Fonts\\\\MaruBuri-SemiBold.ttf'),\n",
       " ('MaruBuri', 'C:\\\\WINDOWS\\\\Fonts\\\\MaruBuri-Bold.ttf'),\n",
       " ('MaruBuriOTF', 'C:\\\\Windows\\\\Fonts\\\\MaruBuri-Light.otf'),\n",
       " ('MaruBuriOTF', 'C:\\\\WINDOWS\\\\Fonts\\\\MaruBuri-Bold.otf')]"
      ]
     },
     "execution_count": 21,
     "metadata": {},
     "output_type": "execute_result"
    }
   ],
   "source": [
    "font_list = fm.findSystemFonts(fontpaths=None, fontext='ttf')\n",
    "print(len(font_list)) \n",
    "font_list[:10] \n",
    "f = [f.name for f in fm.fontManager.ttflist]\n",
    "print(len(font_list))\n",
    "f[:5]\n",
    "[(f.name, f.fname) for f in fm.fontManager.ttflist if 'Maru' in f.name]"
   ]
  },
  {
   "attachments": {},
   "cell_type": "markdown",
   "metadata": {},
   "source": [
    "분석한 데이터를 토대로 가장 인기있는 음식과 음료를 시각화합니다.  \n",
    "판매상품명 - 분류 - 판매개수 - 매출액을 다 아우를 수 있게   \n",
    "파이그래프와 바그래프를 사용해 보았습니다.  \n",
    "*레퍼런스* :  \n",
    "        https://zephyrus1111.tistory.com/15  \n",
    "        https://wikidocs.net/92114\n"
   ]
  },
  {
   "attachments": {},
   "cell_type": "markdown",
   "metadata": {},
   "source": [
    "### 상품 분류에 따른 판매량과 매출 그래프"
   ]
  },
  {
   "cell_type": "code",
   "execution_count": 22,
   "metadata": {},
   "outputs": [
    {
     "data": {
      "image/png": "[encoded data removed]",
      "text/plain": [
       "<Figure size 640x480 with 1 Axes>"
      ]
     },
     "metadata": {},
     "output_type": "display_data"
    }
   ],
   "source": [
    "item_total.sort_values(ascending=False)[:10].plot.barh(x='상품명', y='금액', rot=0)\n",
    "plt.ylabel('상품명', fontsize=15)\n",
    "plt.xlabel('매출(단위:만원)', fontsize=15)\n",
    "\n",
    "plt.show()"
   ]
  },
  {
   "attachments": {},
   "cell_type": "markdown",
   "metadata": {},
   "source": [
    "바 그래프로 전체 상품에서의 매출액 상위 열가지를 나타내었습니다.  \n",
    "음료보다 음식의 매출이 대부분이므로, 비중이 얼마나 되는지 보기 위해  \n",
    "파이그래프로 나타내었습니다."
   ]
  },
  {
   "cell_type": "code",
   "execution_count": 23,
   "metadata": {},
   "outputs": [
    {
     "ename": "FileNotFoundError",
     "evalue": "[Errno 2] No such file or directory: 'C:\\\\Users\\\\TAN\\\\aiffel\\\\Exploration\\\\E01\\\\~\\\\MaruBuri-Regular.ttf'",
     "output_type": "error",
     "traceback": [
      "\u001b[1;31m---------------------------------------------------------------------------\u001b[0m",
      "\u001b[1;31mFileNotFoundError\u001b[0m                         Traceback (most recent call last)",
      "\u001b[1;32mc:\\Users\\TAN\\anaconda3\\lib\\site-packages\\IPython\\core\\formatters.py\u001b[0m in \u001b[0;36m__call__\u001b[1;34m(self, obj)\u001b[0m\n\u001b[0;32m    339\u001b[0m                 \u001b[1;32mpass\u001b[0m\u001b[1;33m\u001b[0m\u001b[1;33m\u001b[0m\u001b[0m\n\u001b[0;32m    340\u001b[0m             \u001b[1;32melse\u001b[0m\u001b[1;33m:\u001b[0m\u001b[1;33m\u001b[0m\u001b[1;33m\u001b[0m\u001b[0m\n\u001b[1;32m--> 341\u001b[1;33m                 \u001b[1;32mreturn\u001b[0m \u001b[0mprinter\u001b[0m\u001b[1;33m(\u001b[0m\u001b[0mobj\u001b[0m\u001b[1;33m)\u001b[0m\u001b[1;33m\u001b[0m\u001b[1;33m\u001b[0m\u001b[0m\n\u001b[0m\u001b[0;32m    342\u001b[0m             \u001b[1;31m# Finally look for special method names\u001b[0m\u001b[1;33m\u001b[0m\u001b[1;33m\u001b[0m\u001b[0m\n\u001b[0;32m    343\u001b[0m             \u001b[0mmethod\u001b[0m \u001b[1;33m=\u001b[0m \u001b[0mget_real_method\u001b[0m\u001b[1;33m(\u001b[0m\u001b[0mobj\u001b[0m\u001b[1;33m,\u001b[0m \u001b[0mself\u001b[0m\u001b[1;33m.\u001b[0m\u001b[0mprint_method\u001b[0m\u001b[1;33m)\u001b[0m\u001b[1;33m\u001b[0m\u001b[1;33m\u001b[0m\u001b[0m\n",
      "\u001b[1;32mc:\\Users\\TAN\\anaconda3\\lib\\site-packages\\IPython\\core\\pylabtools.py\u001b[0m in \u001b[0;36mprint_figure\u001b[1;34m(fig, fmt, bbox_inches, base64, **kwargs)\u001b[0m\n\u001b[0;32m    149\u001b[0m         \u001b[0mFigureCanvasBase\u001b[0m\u001b[1;33m(\u001b[0m\u001b[0mfig\u001b[0m\u001b[1;33m)\u001b[0m\u001b[1;33m\u001b[0m\u001b[1;33m\u001b[0m\u001b[0m\n\u001b[0;32m    150\u001b[0m \u001b[1;33m\u001b[0m\u001b[0m\n\u001b[1;32m--> 151\u001b[1;33m     \u001b[0mfig\u001b[0m\u001b[1;33m.\u001b[0m\u001b[0mcanvas\u001b[0m\u001b[1;33m.\u001b[0m\u001b[0mprint_figure\u001b[0m\u001b[1;33m(\u001b[0m\u001b[0mbytes_io\u001b[0m\u001b[1;33m,\u001b[0m \u001b[1;33m**\u001b[0m\u001b[0mkw\u001b[0m\u001b[1;33m)\u001b[0m\u001b[1;33m\u001b[0m\u001b[1;33m\u001b[0m\u001b[0m\n\u001b[0m\u001b[0;32m    152\u001b[0m     \u001b[0mdata\u001b[0m \u001b[1;33m=\u001b[0m \u001b[0mbytes_io\u001b[0m\u001b[1;33m.\u001b[0m\u001b[0mgetvalue\u001b[0m\u001b[1;33m(\u001b[0m\u001b[1;33m)\u001b[0m\u001b[1;33m\u001b[0m\u001b[1;33m\u001b[0m\u001b[0m\n\u001b[0;32m    153\u001b[0m     \u001b[1;32mif\u001b[0m \u001b[0mfmt\u001b[0m \u001b[1;33m==\u001b[0m \u001b[1;34m'svg'\u001b[0m\u001b[1;33m:\u001b[0m\u001b[1;33m\u001b[0m\u001b[1;33m\u001b[0m\u001b[0m\n",
      "\u001b[1;32mc:\\Users\\TAN\\anaconda3\\lib\\site-packages\\matplotlib\\backend_bases.py\u001b[0m in \u001b[0;36mprint_figure\u001b[1;34m(self, filename, dpi, facecolor, edgecolor, orientation, format, bbox_inches, pad_inches, bbox_extra_artists, backend, **kwargs)\u001b[0m\n\u001b[0;32m   2293\u001b[0m                 )\n\u001b[0;32m   2294\u001b[0m                 \u001b[1;32mwith\u001b[0m \u001b[0mgetattr\u001b[0m\u001b[1;33m(\u001b[0m\u001b[0mrenderer\u001b[0m\u001b[1;33m,\u001b[0m \u001b[1;34m\"_draw_disabled\"\u001b[0m\u001b[1;33m,\u001b[0m \u001b[0mnullcontext\u001b[0m\u001b[1;33m)\u001b[0m\u001b[1;33m(\u001b[0m\u001b[1;33m)\u001b[0m\u001b[1;33m:\u001b[0m\u001b[1;33m\u001b[0m\u001b[1;33m\u001b[0m\u001b[0m\n\u001b[1;32m-> 2295\u001b[1;33m                     \u001b[0mself\u001b[0m\u001b[1;33m.\u001b[0m\u001b[0mfigure\u001b[0m\u001b[1;33m.\u001b[0m\u001b[0mdraw\u001b[0m\u001b[1;33m(\u001b[0m\u001b[0mrenderer\u001b[0m\u001b[1;33m)\u001b[0m\u001b[1;33m\u001b[0m\u001b[1;33m\u001b[0m\u001b[0m\n\u001b[0m\u001b[0;32m   2296\u001b[0m \u001b[1;33m\u001b[0m\u001b[0m\n\u001b[0;32m   2297\u001b[0m             \u001b[1;32mif\u001b[0m \u001b[0mbbox_inches\u001b[0m\u001b[1;33m:\u001b[0m\u001b[1;33m\u001b[0m\u001b[1;33m\u001b[0m\u001b[0m\n",
      "\u001b[1;32mc:\\Users\\TAN\\anaconda3\\lib\\site-packages\\matplotlib\\artist.py\u001b[0m in \u001b[0;36mdraw_wrapper\u001b[1;34m(artist, renderer, *args, **kwargs)\u001b[0m\n\u001b[0;32m     71\u001b[0m     \u001b[1;33m@\u001b[0m\u001b[0mwraps\u001b[0m\u001b[1;33m(\u001b[0m\u001b[0mdraw\u001b[0m\u001b[1;33m)\u001b[0m\u001b[1;33m\u001b[0m\u001b[1;33m\u001b[0m\u001b[0m\n\u001b[0;32m     72\u001b[0m     \u001b[1;32mdef\u001b[0m \u001b[0mdraw_wrapper\u001b[0m\u001b[1;33m(\u001b[0m\u001b[0martist\u001b[0m\u001b[1;33m,\u001b[0m \u001b[0mrenderer\u001b[0m\u001b[1;33m,\u001b[0m \u001b[1;33m*\u001b[0m\u001b[0margs\u001b[0m\u001b[1;33m,\u001b[0m \u001b[1;33m**\u001b[0m\u001b[0mkwargs\u001b[0m\u001b[1;33m)\u001b[0m\u001b[1;33m:\u001b[0m\u001b[1;33m\u001b[0m\u001b[1;33m\u001b[0m\u001b[0m\n\u001b[1;32m---> 73\u001b[1;33m         \u001b[0mresult\u001b[0m \u001b[1;33m=\u001b[0m \u001b[0mdraw\u001b[0m\u001b[1;33m(\u001b[0m\u001b[0martist\u001b[0m\u001b[1;33m,\u001b[0m \u001b[0mrenderer\u001b[0m\u001b[1;33m,\u001b[0m \u001b[1;33m*\u001b[0m\u001b[0margs\u001b[0m\u001b[1;33m,\u001b[0m \u001b[1;33m**\u001b[0m\u001b[0mkwargs\u001b[0m\u001b[1;33m)\u001b[0m\u001b[1;33m\u001b[0m\u001b[1;33m\u001b[0m\u001b[0m\n\u001b[0m\u001b[0;32m     74\u001b[0m         \u001b[1;32mif\u001b[0m \u001b[0mrenderer\u001b[0m\u001b[1;33m.\u001b[0m\u001b[0m_rasterizing\u001b[0m\u001b[1;33m:\u001b[0m\u001b[1;33m\u001b[0m\u001b[1;33m\u001b[0m\u001b[0m\n\u001b[0;32m     75\u001b[0m             \u001b[0mrenderer\u001b[0m\u001b[1;33m.\u001b[0m\u001b[0mstop_rasterizing\u001b[0m\u001b[1;33m(\u001b[0m\u001b[1;33m)\u001b[0m\u001b[1;33m\u001b[0m\u001b[1;33m\u001b[0m\u001b[0m\n",
      "\u001b[1;32mc:\\Users\\TAN\\anaconda3\\lib\\site-packages\\matplotlib\\artist.py\u001b[0m in \u001b[0;36mdraw_wrapper\u001b[1;34m(artist, renderer)\u001b[0m\n\u001b[0;32m     48\u001b[0m                 \u001b[0mrenderer\u001b[0m\u001b[1;33m.\u001b[0m\u001b[0mstart_filter\u001b[0m\u001b[1;33m(\u001b[0m\u001b[1;33m)\u001b[0m\u001b[1;33m\u001b[0m\u001b[1;33m\u001b[0m\u001b[0m\n\u001b[0;32m     49\u001b[0m \u001b[1;33m\u001b[0m\u001b[0m\n\u001b[1;32m---> 50\u001b[1;33m             \u001b[1;32mreturn\u001b[0m \u001b[0mdraw\u001b[0m\u001b[1;33m(\u001b[0m\u001b[0martist\u001b[0m\u001b[1;33m,\u001b[0m \u001b[0mrenderer\u001b[0m\u001b[1;33m)\u001b[0m\u001b[1;33m\u001b[0m\u001b[1;33m\u001b[0m\u001b[0m\n\u001b[0m\u001b[0;32m     51\u001b[0m         \u001b[1;32mfinally\u001b[0m\u001b[1;33m:\u001b[0m\u001b[1;33m\u001b[0m\u001b[1;33m\u001b[0m\u001b[0m\n\u001b[0;32m     52\u001b[0m             \u001b[1;32mif\u001b[0m \u001b[0martist\u001b[0m\u001b[1;33m.\u001b[0m\u001b[0mget_agg_filter\u001b[0m\u001b[1;33m(\u001b[0m\u001b[1;33m)\u001b[0m \u001b[1;32mis\u001b[0m \u001b[1;32mnot\u001b[0m \u001b[1;32mNone\u001b[0m\u001b[1;33m:\u001b[0m\u001b[1;33m\u001b[0m\u001b[1;33m\u001b[0m\u001b[0m\n",
      "\u001b[1;32mc:\\Users\\TAN\\anaconda3\\lib\\site-packages\\matplotlib\\figure.py\u001b[0m in \u001b[0;36mdraw\u001b[1;34m(self, renderer)\u001b[0m\n\u001b[0;32m   2835\u001b[0m \u001b[1;33m\u001b[0m\u001b[0m\n\u001b[0;32m   2836\u001b[0m             \u001b[0mself\u001b[0m\u001b[1;33m.\u001b[0m\u001b[0mpatch\u001b[0m\u001b[1;33m.\u001b[0m\u001b[0mdraw\u001b[0m\u001b[1;33m(\u001b[0m\u001b[0mrenderer\u001b[0m\u001b[1;33m)\u001b[0m\u001b[1;33m\u001b[0m\u001b[1;33m\u001b[0m\u001b[0m\n\u001b[1;32m-> 2837\u001b[1;33m             mimage._draw_list_compositing_images(\n\u001b[0m\u001b[0;32m   2838\u001b[0m                 renderer, self, artists, self.suppressComposite)\n\u001b[0;32m   2839\u001b[0m \u001b[1;33m\u001b[0m\u001b[0m\n",
      "\u001b[1;32mc:\\Users\\TAN\\anaconda3\\lib\\site-packages\\matplotlib\\image.py\u001b[0m in \u001b[0;36m_draw_list_compositing_images\u001b[1;34m(renderer, parent, artists, suppress_composite)\u001b[0m\n\u001b[0;32m    130\u001b[0m     \u001b[1;32mif\u001b[0m \u001b[0mnot_composite\u001b[0m \u001b[1;32mor\u001b[0m \u001b[1;32mnot\u001b[0m \u001b[0mhas_images\u001b[0m\u001b[1;33m:\u001b[0m\u001b[1;33m\u001b[0m\u001b[1;33m\u001b[0m\u001b[0m\n\u001b[0;32m    131\u001b[0m         \u001b[1;32mfor\u001b[0m \u001b[0ma\u001b[0m \u001b[1;32min\u001b[0m \u001b[0martists\u001b[0m\u001b[1;33m:\u001b[0m\u001b[1;33m\u001b[0m\u001b[1;33m\u001b[0m\u001b[0m\n\u001b[1;32m--> 132\u001b[1;33m             \u001b[0ma\u001b[0m\u001b[1;33m.\u001b[0m\u001b[0mdraw\u001b[0m\u001b[1;33m(\u001b[0m\u001b[0mrenderer\u001b[0m\u001b[1;33m)\u001b[0m\u001b[1;33m\u001b[0m\u001b[1;33m\u001b[0m\u001b[0m\n\u001b[0m\u001b[0;32m    133\u001b[0m     \u001b[1;32melse\u001b[0m\u001b[1;33m:\u001b[0m\u001b[1;33m\u001b[0m\u001b[1;33m\u001b[0m\u001b[0m\n\u001b[0;32m    134\u001b[0m         \u001b[1;31m# Composite any adjacent images together\u001b[0m\u001b[1;33m\u001b[0m\u001b[1;33m\u001b[0m\u001b[0m\n",
      "\u001b[1;32mc:\\Users\\TAN\\anaconda3\\lib\\site-packages\\matplotlib\\artist.py\u001b[0m in \u001b[0;36mdraw_wrapper\u001b[1;34m(artist, renderer)\u001b[0m\n\u001b[0;32m     48\u001b[0m                 \u001b[0mrenderer\u001b[0m\u001b[1;33m.\u001b[0m\u001b[0mstart_filter\u001b[0m\u001b[1;33m(\u001b[0m\u001b[1;33m)\u001b[0m\u001b[1;33m\u001b[0m\u001b[1;33m\u001b[0m\u001b[0m\n\u001b[0;32m     49\u001b[0m \u001b[1;33m\u001b[0m\u001b[0m\n\u001b[1;32m---> 50\u001b[1;33m             \u001b[1;32mreturn\u001b[0m \u001b[0mdraw\u001b[0m\u001b[1;33m(\u001b[0m\u001b[0martist\u001b[0m\u001b[1;33m,\u001b[0m \u001b[0mrenderer\u001b[0m\u001b[1;33m)\u001b[0m\u001b[1;33m\u001b[0m\u001b[1;33m\u001b[0m\u001b[0m\n\u001b[0m\u001b[0;32m     51\u001b[0m         \u001b[1;32mfinally\u001b[0m\u001b[1;33m:\u001b[0m\u001b[1;33m\u001b[0m\u001b[1;33m\u001b[0m\u001b[0m\n\u001b[0;32m     52\u001b[0m             \u001b[1;32mif\u001b[0m \u001b[0martist\u001b[0m\u001b[1;33m.\u001b[0m\u001b[0mget_agg_filter\u001b[0m\u001b[1;33m(\u001b[0m\u001b[1;33m)\u001b[0m \u001b[1;32mis\u001b[0m \u001b[1;32mnot\u001b[0m \u001b[1;32mNone\u001b[0m\u001b[1;33m:\u001b[0m\u001b[1;33m\u001b[0m\u001b[1;33m\u001b[0m\u001b[0m\n",
      "\u001b[1;32mc:\\Users\\TAN\\anaconda3\\lib\\site-packages\\matplotlib\\axes\\_base.py\u001b[0m in \u001b[0;36mdraw\u001b[1;34m(self, renderer)\u001b[0m\n\u001b[0;32m   3053\u001b[0m                 \u001b[0martists\u001b[0m\u001b[1;33m.\u001b[0m\u001b[0mremove\u001b[0m\u001b[1;33m(\u001b[0m\u001b[0mspine\u001b[0m\u001b[1;33m)\u001b[0m\u001b[1;33m\u001b[0m\u001b[1;33m\u001b[0m\u001b[0m\n\u001b[0;32m   3054\u001b[0m \u001b[1;33m\u001b[0m\u001b[0m\n\u001b[1;32m-> 3055\u001b[1;33m         \u001b[0mself\u001b[0m\u001b[1;33m.\u001b[0m\u001b[0m_update_title_position\u001b[0m\u001b[1;33m(\u001b[0m\u001b[0mrenderer\u001b[0m\u001b[1;33m)\u001b[0m\u001b[1;33m\u001b[0m\u001b[1;33m\u001b[0m\u001b[0m\n\u001b[0m\u001b[0;32m   3056\u001b[0m \u001b[1;33m\u001b[0m\u001b[0m\n\u001b[0;32m   3057\u001b[0m         \u001b[1;32mif\u001b[0m \u001b[1;32mnot\u001b[0m \u001b[0mself\u001b[0m\u001b[1;33m.\u001b[0m\u001b[0maxison\u001b[0m\u001b[1;33m:\u001b[0m\u001b[1;33m\u001b[0m\u001b[1;33m\u001b[0m\u001b[0m\n",
      "\u001b[1;32mc:\\Users\\TAN\\anaconda3\\lib\\site-packages\\matplotlib\\axes\\_base.py\u001b[0m in \u001b[0;36m_update_title_position\u001b[1;34m(self, renderer)\u001b[0m\n\u001b[0;32m   3003\u001b[0m                 \u001b[0m_log\u001b[0m\u001b[1;33m.\u001b[0m\u001b[0mdebug\u001b[0m\u001b[1;33m(\u001b[0m\u001b[1;34m'top of Axes not in the figure, so title not moved'\u001b[0m\u001b[1;33m)\u001b[0m\u001b[1;33m\u001b[0m\u001b[1;33m\u001b[0m\u001b[0m\n\u001b[0;32m   3004\u001b[0m                 \u001b[1;32mreturn\u001b[0m\u001b[1;33m\u001b[0m\u001b[1;33m\u001b[0m\u001b[0m\n\u001b[1;32m-> 3005\u001b[1;33m             \u001b[1;32mif\u001b[0m \u001b[0mtitle\u001b[0m\u001b[1;33m.\u001b[0m\u001b[0mget_window_extent\u001b[0m\u001b[1;33m(\u001b[0m\u001b[0mrenderer\u001b[0m\u001b[1;33m)\u001b[0m\u001b[1;33m.\u001b[0m\u001b[0mymin\u001b[0m \u001b[1;33m<\u001b[0m \u001b[0mtop\u001b[0m\u001b[1;33m:\u001b[0m\u001b[1;33m\u001b[0m\u001b[1;33m\u001b[0m\u001b[0m\n\u001b[0m\u001b[0;32m   3006\u001b[0m                 \u001b[0m_\u001b[0m\u001b[1;33m,\u001b[0m \u001b[0my\u001b[0m \u001b[1;33m=\u001b[0m \u001b[0mself\u001b[0m\u001b[1;33m.\u001b[0m\u001b[0mtransAxes\u001b[0m\u001b[1;33m.\u001b[0m\u001b[0minverted\u001b[0m\u001b[1;33m(\u001b[0m\u001b[1;33m)\u001b[0m\u001b[1;33m.\u001b[0m\u001b[0mtransform\u001b[0m\u001b[1;33m(\u001b[0m\u001b[1;33m(\u001b[0m\u001b[1;36m0\u001b[0m\u001b[1;33m,\u001b[0m \u001b[0mtop\u001b[0m\u001b[1;33m)\u001b[0m\u001b[1;33m)\u001b[0m\u001b[1;33m\u001b[0m\u001b[1;33m\u001b[0m\u001b[0m\n\u001b[0;32m   3007\u001b[0m                 \u001b[0mtitle\u001b[0m\u001b[1;33m.\u001b[0m\u001b[0mset_position\u001b[0m\u001b[1;33m(\u001b[0m\u001b[1;33m(\u001b[0m\u001b[0mx\u001b[0m\u001b[1;33m,\u001b[0m \u001b[0my\u001b[0m\u001b[1;33m)\u001b[0m\u001b[1;33m)\u001b[0m\u001b[1;33m\u001b[0m\u001b[1;33m\u001b[0m\u001b[0m\n",
      "\u001b[1;32mc:\\Users\\TAN\\anaconda3\\lib\\site-packages\\matplotlib\\text.py\u001b[0m in \u001b[0;36mget_window_extent\u001b[1;34m(self, renderer, dpi)\u001b[0m\n\u001b[0;32m    908\u001b[0m \u001b[1;33m\u001b[0m\u001b[0m\n\u001b[0;32m    909\u001b[0m         \u001b[1;32mwith\u001b[0m \u001b[0mcbook\u001b[0m\u001b[1;33m.\u001b[0m\u001b[0m_setattr_cm\u001b[0m\u001b[1;33m(\u001b[0m\u001b[0mself\u001b[0m\u001b[1;33m.\u001b[0m\u001b[0mfigure\u001b[0m\u001b[1;33m,\u001b[0m \u001b[0mdpi\u001b[0m\u001b[1;33m=\u001b[0m\u001b[0mdpi\u001b[0m\u001b[1;33m)\u001b[0m\u001b[1;33m:\u001b[0m\u001b[1;33m\u001b[0m\u001b[1;33m\u001b[0m\u001b[0m\n\u001b[1;32m--> 910\u001b[1;33m             \u001b[0mbbox\u001b[0m\u001b[1;33m,\u001b[0m \u001b[0minfo\u001b[0m\u001b[1;33m,\u001b[0m \u001b[0mdescent\u001b[0m \u001b[1;33m=\u001b[0m \u001b[0mself\u001b[0m\u001b[1;33m.\u001b[0m\u001b[0m_get_layout\u001b[0m\u001b[1;33m(\u001b[0m\u001b[0mself\u001b[0m\u001b[1;33m.\u001b[0m\u001b[0m_renderer\u001b[0m\u001b[1;33m)\u001b[0m\u001b[1;33m\u001b[0m\u001b[1;33m\u001b[0m\u001b[0m\n\u001b[0m\u001b[0;32m    911\u001b[0m             \u001b[0mx\u001b[0m\u001b[1;33m,\u001b[0m \u001b[0my\u001b[0m \u001b[1;33m=\u001b[0m \u001b[0mself\u001b[0m\u001b[1;33m.\u001b[0m\u001b[0mget_unitless_position\u001b[0m\u001b[1;33m(\u001b[0m\u001b[1;33m)\u001b[0m\u001b[1;33m\u001b[0m\u001b[1;33m\u001b[0m\u001b[0m\n\u001b[0;32m    912\u001b[0m             \u001b[0mx\u001b[0m\u001b[1;33m,\u001b[0m \u001b[0my\u001b[0m \u001b[1;33m=\u001b[0m \u001b[0mself\u001b[0m\u001b[1;33m.\u001b[0m\u001b[0mget_transform\u001b[0m\u001b[1;33m(\u001b[0m\u001b[1;33m)\u001b[0m\u001b[1;33m.\u001b[0m\u001b[0mtransform\u001b[0m\u001b[1;33m(\u001b[0m\u001b[1;33m(\u001b[0m\u001b[0mx\u001b[0m\u001b[1;33m,\u001b[0m \u001b[0my\u001b[0m\u001b[1;33m)\u001b[0m\u001b[1;33m)\u001b[0m\u001b[1;33m\u001b[0m\u001b[1;33m\u001b[0m\u001b[0m\n",
      "\u001b[1;32mc:\\Users\\TAN\\anaconda3\\lib\\site-packages\\matplotlib\\text.py\u001b[0m in \u001b[0;36m_get_layout\u001b[1;34m(self, renderer)\u001b[0m\n\u001b[0;32m    307\u001b[0m \u001b[1;33m\u001b[0m\u001b[0m\n\u001b[0;32m    308\u001b[0m         \u001b[1;31m# Full vertical extent of font, including ascenders and descenders:\u001b[0m\u001b[1;33m\u001b[0m\u001b[1;33m\u001b[0m\u001b[0m\n\u001b[1;32m--> 309\u001b[1;33m         _, lp_h, lp_d = renderer.get_text_width_height_descent(\n\u001b[0m\u001b[0;32m    310\u001b[0m             \u001b[1;34m\"lp\"\u001b[0m\u001b[1;33m,\u001b[0m \u001b[0mself\u001b[0m\u001b[1;33m.\u001b[0m\u001b[0m_fontproperties\u001b[0m\u001b[1;33m,\u001b[0m\u001b[1;33m\u001b[0m\u001b[1;33m\u001b[0m\u001b[0m\n\u001b[0;32m    311\u001b[0m             ismath=\"TeX\" if self.get_usetex() else False)\n",
      "\u001b[1;32mc:\\Users\\TAN\\anaconda3\\lib\\site-packages\\matplotlib\\backends\\backend_agg.py\u001b[0m in \u001b[0;36mget_text_width_height_descent\u001b[1;34m(self, s, prop, ismath)\u001b[0m\n\u001b[0;32m    267\u001b[0m \u001b[1;33m\u001b[0m\u001b[0m\n\u001b[0;32m    268\u001b[0m         \u001b[0mflags\u001b[0m \u001b[1;33m=\u001b[0m \u001b[0mget_hinting_flag\u001b[0m\u001b[1;33m(\u001b[0m\u001b[1;33m)\u001b[0m\u001b[1;33m\u001b[0m\u001b[1;33m\u001b[0m\u001b[0m\n\u001b[1;32m--> 269\u001b[1;33m         \u001b[0mfont\u001b[0m \u001b[1;33m=\u001b[0m \u001b[0mself\u001b[0m\u001b[1;33m.\u001b[0m\u001b[0m_get_agg_font\u001b[0m\u001b[1;33m(\u001b[0m\u001b[0mprop\u001b[0m\u001b[1;33m)\u001b[0m\u001b[1;33m\u001b[0m\u001b[1;33m\u001b[0m\u001b[0m\n\u001b[0m\u001b[0;32m    270\u001b[0m         \u001b[0mfont\u001b[0m\u001b[1;33m.\u001b[0m\u001b[0mset_text\u001b[0m\u001b[1;33m(\u001b[0m\u001b[0ms\u001b[0m\u001b[1;33m,\u001b[0m \u001b[1;36m0.0\u001b[0m\u001b[1;33m,\u001b[0m \u001b[0mflags\u001b[0m\u001b[1;33m=\u001b[0m\u001b[0mflags\u001b[0m\u001b[1;33m)\u001b[0m\u001b[1;33m\u001b[0m\u001b[1;33m\u001b[0m\u001b[0m\n\u001b[0;32m    271\u001b[0m         \u001b[0mw\u001b[0m\u001b[1;33m,\u001b[0m \u001b[0mh\u001b[0m \u001b[1;33m=\u001b[0m \u001b[0mfont\u001b[0m\u001b[1;33m.\u001b[0m\u001b[0mget_width_height\u001b[0m\u001b[1;33m(\u001b[0m\u001b[1;33m)\u001b[0m  \u001b[1;31m# width and height of unrotated string\u001b[0m\u001b[1;33m\u001b[0m\u001b[1;33m\u001b[0m\u001b[0m\n",
      "\u001b[1;32mc:\\Users\\TAN\\anaconda3\\lib\\site-packages\\matplotlib\\backends\\backend_agg.py\u001b[0m in \u001b[0;36m_get_agg_font\u001b[1;34m(self, prop)\u001b[0m\n\u001b[0;32m    302\u001b[0m         \"\"\"\n\u001b[0;32m    303\u001b[0m         \u001b[0mfname\u001b[0m \u001b[1;33m=\u001b[0m \u001b[0mfindfont\u001b[0m\u001b[1;33m(\u001b[0m\u001b[0mprop\u001b[0m\u001b[1;33m)\u001b[0m\u001b[1;33m\u001b[0m\u001b[1;33m\u001b[0m\u001b[0m\n\u001b[1;32m--> 304\u001b[1;33m         \u001b[0mfont\u001b[0m \u001b[1;33m=\u001b[0m \u001b[0mget_font\u001b[0m\u001b[1;33m(\u001b[0m\u001b[0mfname\u001b[0m\u001b[1;33m)\u001b[0m\u001b[1;33m\u001b[0m\u001b[1;33m\u001b[0m\u001b[0m\n\u001b[0m\u001b[0;32m    305\u001b[0m \u001b[1;33m\u001b[0m\u001b[0m\n\u001b[0;32m    306\u001b[0m         \u001b[0mfont\u001b[0m\u001b[1;33m.\u001b[0m\u001b[0mclear\u001b[0m\u001b[1;33m(\u001b[0m\u001b[1;33m)\u001b[0m\u001b[1;33m\u001b[0m\u001b[1;33m\u001b[0m\u001b[0m\n",
      "\u001b[1;32mc:\\Users\\TAN\\anaconda3\\lib\\site-packages\\matplotlib\\font_manager.py\u001b[0m in \u001b[0;36mget_font\u001b[1;34m(filename, hinting_factor)\u001b[0m\n\u001b[0;32m   1422\u001b[0m         \u001b[0mhinting_factor\u001b[0m \u001b[1;33m=\u001b[0m \u001b[0mrcParams\u001b[0m\u001b[1;33m[\u001b[0m\u001b[1;34m'text.hinting_factor'\u001b[0m\u001b[1;33m]\u001b[0m\u001b[1;33m\u001b[0m\u001b[1;33m\u001b[0m\u001b[0m\n\u001b[0;32m   1423\u001b[0m     \u001b[1;31m# also key on the thread ID to prevent segfaults with multi-threading\u001b[0m\u001b[1;33m\u001b[0m\u001b[1;33m\u001b[0m\u001b[0m\n\u001b[1;32m-> 1424\u001b[1;33m     return _get_font(filename, hinting_factor,\n\u001b[0m\u001b[0;32m   1425\u001b[0m                      \u001b[0m_kerning_factor\u001b[0m\u001b[1;33m=\u001b[0m\u001b[0mrcParams\u001b[0m\u001b[1;33m[\u001b[0m\u001b[1;34m'text.kerning_factor'\u001b[0m\u001b[1;33m]\u001b[0m\u001b[1;33m,\u001b[0m\u001b[1;33m\u001b[0m\u001b[1;33m\u001b[0m\u001b[0m\n\u001b[0;32m   1426\u001b[0m                      thread_id=threading.get_ident())\n",
      "\u001b[1;32mc:\\Users\\TAN\\anaconda3\\lib\\site-packages\\matplotlib\\font_manager.py\u001b[0m in \u001b[0;36m_get_font\u001b[1;34m(filename, hinting_factor, _kerning_factor, thread_id)\u001b[0m\n\u001b[0;32m   1403\u001b[0m \u001b[1;33m@\u001b[0m\u001b[0mlru_cache\u001b[0m\u001b[1;33m(\u001b[0m\u001b[1;36m64\u001b[0m\u001b[1;33m)\u001b[0m\u001b[1;33m\u001b[0m\u001b[1;33m\u001b[0m\u001b[0m\n\u001b[0;32m   1404\u001b[0m \u001b[1;32mdef\u001b[0m \u001b[0m_get_font\u001b[0m\u001b[1;33m(\u001b[0m\u001b[0mfilename\u001b[0m\u001b[1;33m,\u001b[0m \u001b[0mhinting_factor\u001b[0m\u001b[1;33m,\u001b[0m \u001b[1;33m*\u001b[0m\u001b[1;33m,\u001b[0m \u001b[0m_kerning_factor\u001b[0m\u001b[1;33m,\u001b[0m \u001b[0mthread_id\u001b[0m\u001b[1;33m)\u001b[0m\u001b[1;33m:\u001b[0m\u001b[1;33m\u001b[0m\u001b[1;33m\u001b[0m\u001b[0m\n\u001b[1;32m-> 1405\u001b[1;33m     return ft2font.FT2Font(\n\u001b[0m\u001b[0;32m   1406\u001b[0m         filename, hinting_factor, _kerning_factor=_kerning_factor)\n\u001b[0;32m   1407\u001b[0m \u001b[1;33m\u001b[0m\u001b[0m\n",
      "\u001b[1;31mFileNotFoundError\u001b[0m: [Errno 2] No such file or directory: 'C:\\\\Users\\\\TAN\\\\aiffel\\\\Exploration\\\\E01\\\\~\\\\MaruBuri-Regular.ttf'"
     ]
    },
    {
     "data": {
      "text/plain": [
       "<Figure size 640x480 with 1 Axes>"
      ]
     },
     "metadata": {},
     "output_type": "display_data"
    }
   ],
   "source": [
    "# 집계 결과를 시각화하기\n",
    "pie = [\"김치볶음밥\", \"라면\", \"치즈불고기볶음밥\", \"낙지볶음밥\", '새우볶음밥','음료']\n",
    "pie_values = [35831400, 11664000, 11380500, 6798800, 6119200, 6324800]\n",
    "plt.pie(pie_values,labels=pie,labeldistance=1,autopct='%.1f%%')\n",
    "# plt.legend(pie)\n",
    "plt.ylabel('%',fontproperties=font)\n",
    "plt.title('상품별 매출',fontproperties=title_font)\n",
    "plt.show()"
   ]
  },
  {
   "attachments": {},
   "cell_type": "markdown",
   "metadata": {},
   "source": [
    "이는 판매량을 기준으로 한 그래프와 비교해 볼 수 있습니다."
   ]
  },
  {
   "cell_type": "code",
   "execution_count": null,
   "metadata": {},
   "outputs": [
    {
     "data": {
      "image/png": "[encoded data removed]",
      "text/plain": [
       "<Figure size 640x480 with 1 Axes>"
      ]
     },
     "metadata": {},
     "output_type": "display_data"
    }
   ],
   "source": [
    "\n",
    "# tmp_sales.sort_values(by='판매수량', ascending=False)[:10].plot.barh(x='상품명', y='금액', rot=0)\n",
    "# plt.ylabel('상품명', fontsize=15)\n",
    "# plt.xlabel('매출(단위:만원)', fontsize=15)\n",
    "\n",
    "# plt.show()\n",
    "\n",
    "tmp_sales['상품명'].value_counts().head(10).plot.barh(x='상품명', y='금액', rot=0)\n",
    "plt.ylabel('상품명', fontsize=15)\n",
    "plt.xlabel('판매량(개)', fontsize=15)\n",
    "plt.show()"
   ]
  },
  {
   "attachments": {},
   "cell_type": "markdown",
   "metadata": {},
   "source": [
    "#### 분석"
   ]
  },
  {
   "attachments": {},
   "cell_type": "markdown",
   "metadata": {},
   "source": [
    "- 김치볶음밥은 판매량과 매출이 모두 가장 높습니다.\n",
    "- 그 뒤로 라면과이 뒤따릅니다.\n",
    "- 음료의 매출은 음식의 매출보다 훨씬 낮습니다.\n",
    "- 음료 중에서는 아이스 아메리카노가 판매량과 매출이 가장 높습니다."
   ]
  },
  {
   "attachments": {},
   "cell_type": "markdown",
   "metadata": {},
   "source": [
    "## 5. 가장 많이 팔린 입장권 종류"
   ]
  },
  {
   "cell_type": "markdown",
   "metadata": {},
   "source": [
    "매출에 어떤 품목이 영향을 많이 주고 있는지 알아보기 위해  \n",
    "먼저 데이터의 구조를 살펴봅니다.  \n",
    "이전에 전처리를 해 두었던 tmp_entry를 사용합니다."
   ]
  },
  {
   "cell_type": "code",
   "execution_count": null,
   "metadata": {},
   "outputs": [
    {
     "data": {
      "text/plain": [
       "요금제명\n",
       "한국대생 입장권(종일권)      63143500\n",
       "입장권(종일권)           20354500\n",
       "심야-조조무제한(06시까지)     8795000\n",
       "심야-조조무제한            4588000\n",
       "한국대생 무제한 입장권        4316800\n",
       "시간요금제(1시간)          1769500\n",
       "시간요금제(3시간)          1343000\n",
       "무제한 입장권             1288900\n",
       "18시이후 무제한           1156000\n",
       "조조무제한                620000\n",
       "종일요금제                206500\n",
       "1시간                   52500\n",
       "시간 요금제(1시간당)          15000\n",
       "3시간                   14000\n",
       "시간요금제(1시간당)           12500\n",
       "시간요금제                 12300\n",
       "1시간 요금제               10000\n",
       "무제한(한국대생)              7000\n",
       "무제한(일반요금)              6000\n",
       "시간권                       0\n",
       "기간권                       0\n",
       "이용권                       0\n",
       "Name: 금액, dtype: int64"
      ]
     },
     "execution_count": 72,
     "metadata": {},
     "output_type": "execute_result"
    }
   ],
   "source": [
    "plan_total = tmp_entry['금액'].groupby(tmp_entry['요금제명']).sum().sort_values(ascending=False)\n",
    "plan_total"
   ]
  },
  {
   "attachments": {},
   "cell_type": "markdown",
   "metadata": {},
   "source": [
    "데이터 plan_total을 통해 사람들이 가장 많이 쓰는 요금제를 알 수 있습니다.  \n",
    "그러나 요금제의 이름이 중복이 되거나 값이 비어있는 데이터도 있으므로  \n",
    "item_entry_data의 항목들과 매칭이 어려운 문제점이 보입니다."
   ]
  },
  {
   "attachments": {},
   "cell_type": "markdown",
   "metadata": {},
   "source": [
    "요금제 종류를 다시 정리할 필요를 느껴서  \n",
    "item_entry_data과 plan_total의 원 데이터인 tmp_entry를 비교해 보았습니다."
   ]
  },
  {
   "cell_type": "code",
   "execution_count": null,
   "metadata": {},
   "outputs": [
    {
     "name": "stdout",
     "output_type": "stream",
     "text": [
      "<class 'pandas.core.frame.DataFrame'>\n",
      "RangeIndex: 34 entries, 0 to 33\n",
      "Data columns (total 4 columns):\n",
      " #   Column  Non-Null Count  Dtype \n",
      "---  ------  --------------  ----- \n",
      " 0   순위      34 non-null     int64 \n",
      " 1   분류      34 non-null     object\n",
      " 2   상품명     34 non-null     object\n",
      " 3   판매금액    34 non-null     object\n",
      "dtypes: int64(1), object(3)\n",
      "memory usage: 1.2+ KB\n",
      "=====================================\n",
      "['한국대생 요금제' '심야-조조 요금제' '일반요금제' '거리두기4단계' '마감요금' '기본요금제' '추석당일 요금제']\n",
      "=====================================\n",
      "['시간요금제(1시간)' '무제한 입장권' '한국대생 무제한 입장권' '기간권' '시간요금제(3시간)' '심야-조조무제한' '시간권'\n",
      " nan '입장권(종일권)' '한국대생 입장권(종일권)' '1시간' '조조무제한' '18시이후 무제한' '3시간'\n",
      " '심야-조조무제한(06시까지)' '이용권' '시간 요금제(1시간당)' '시간요금제(1시간당)' '무제한(한국대생)'\n",
      " '1시간 요금제' '무제한(일반요금)' '종일요금제' '시간요금제']\n"
     ]
    }
   ],
   "source": [
    "item_entry_data.info()\n",
    "print('=====================================')\n",
    "print(item_entry_data['상품명'].unique())\n",
    "print('=====================================')\n",
    "print(tmp_entry['요금제명'].unique())"
   ]
  },
  {
   "attachments": {},
   "cell_type": "markdown",
   "metadata": {},
   "source": [
    "'시간요금제(1시간)', '시간 요금제(1시간당)', '시간요금제(1시간당)', '1시간', '1시간 요금제'는 병합하도록 합니다.  \n",
    "'시간요금제(3시간)', '3시간' 또한 병합합니다.  \n",
    "'심야-조조무제한', '심야-조조무제한(06시까지)', '18시이후 무제한'도 병합합니다.\n",
    "나머지는 정확한 의미가 확인 불가능하므로 그대로 두고 분석을 계속합니다."
   ]
  },
  {
   "cell_type": "code",
   "execution_count": null,
   "metadata": {},
   "outputs": [
    {
     "name": "stdout",
     "output_type": "stream",
     "text": [
      "['시간요금제(1시간)' '무제한 입장권' '한국대생 무제한 입장권' '기간권' '시간요금제(3시간)' '심야-조조무제한' '시간권'\n",
      " nan '입장권(종일권)' '한국대생 입장권(종일권)' '조조무제한' '이용권' '무제한(한국대생)' '무제한(일반요금)'\n",
      " '종일요금제' '시간요금제']\n"
     ]
    }
   ],
   "source": [
    "tmp_entry = tmp_entry.replace({'요금제명' : ['시간요금제(1시간)', '시간 요금제(1시간당)', '시간요금제(1시간당)', '1시간', '1시간 요금제']},'시간요금제(1시간)' )\n",
    "tmp_entry = tmp_entry.replace({'요금제명' : ['시간요금제(3시간)', '3시간']},'시간요금제(3시간)' )\n",
    "tmp_entry = tmp_entry.replace({'요금제명' : ['심야-조조무제한', '심야-조조무제한(06시까지)','18시이후 무제한']},'심야-조조무제한')\n",
    "print(tmp_entry['요금제명'].unique())"
   ]
  },
  {
   "cell_type": "code",
   "execution_count": null,
   "metadata": {},
   "outputs": [
    {
     "data": {
      "text/plain": [
       "요금제명\n",
       "한국대생 입장권(종일권)    63143500\n",
       "입장권(종일권)         20354500\n",
       "심야-조조무제한         14539000\n",
       "한국대생 무제한 입장권      4316800\n",
       "시간요금제(1시간)        1859500\n",
       "시간요금제(3시간)        1357000\n",
       "무제한 입장권           1288900\n",
       "조조무제한              620000\n",
       "종일요금제              206500\n",
       "시간요금제               12300\n",
       "Name: 금액, dtype: int64"
      ]
     },
     "execution_count": 75,
     "metadata": {},
     "output_type": "execute_result"
    }
   ],
   "source": [
    "plan_total = tmp_entry['금액'].groupby(tmp_entry['요금제명']).sum().sort_values(ascending=False)\n",
    "plan_total = plan_total.sort_values(ascending=False)\n",
    "plan_total[:10]"
   ]
  },
  {
   "attachments": {},
   "cell_type": "markdown",
   "metadata": {},
   "source": [
    "### 입장권별 매출 그래프"
   ]
  },
  {
   "cell_type": "code",
   "execution_count": null,
   "metadata": {},
   "outputs": [
    {
     "data": {
      "image/png": "[encoded data removed]",
      "text/plain": [
       "<Figure size 640x480 with 1 Axes>"
      ]
     },
     "metadata": {},
     "output_type": "display_data"
    }
   ],
   "source": [
    "# 집계 결과 시각화하기\n",
    "plan_total[:10].plot(kind='barh')\n",
    "plt.xlabel('매출(원)')\n",
    "plt.ylabel('요금제명')\n",
    "plt.title('입장권별 판매금액',fontproperties=title_font)\n",
    "plt.show()"
   ]
  },
  {
   "attachments": {},
   "cell_type": "markdown",
   "metadata": {},
   "source": [
    "#### 분석"
   ]
  },
  {
   "attachments": {},
   "cell_type": "markdown",
   "metadata": {},
   "source": [
    "- 한국대생 종일 입장권으로 인한 매출이 총 매출의 대부분임을 알 수 있습니다.  \n",
    "- 종일권과 무제한 요금제의 매출이 전체 매출의 많은 부분을 차지하고 있음을 알 수 있습니다."
   ]
  },
  {
   "attachments": {},
   "cell_type": "markdown",
   "metadata": {},
   "source": [
    "## 5. 나만의 문제 설정"
   ]
  },
  {
   "attachments": {},
   "cell_type": "markdown",
   "metadata": {},
   "source": [
    "### 1) VIP 고객 분석"
   ]
  },
  {
   "attachments": {},
   "cell_type": "markdown",
   "metadata": {},
   "source": [
    "1. sales_data와 entry_data의 '고객'열을 뽑아냅니다.\n",
    "2. '고객' 열에서 고유 번호 6자리만 남겨 슬라이싱 합니다.\n",
    "3. unique한 고객넘버의 개수를 알아냅니다."
   ]
  },
  {
   "cell_type": "code",
   "execution_count": null,
   "metadata": {},
   "outputs": [
    {
     "data": {
      "text/plain": [
       "0        False\n",
       "1        False\n",
       "2        False\n",
       "3        False\n",
       "4        False\n",
       "         ...  \n",
       "22550    False\n",
       "22551    False\n",
       "22552    False\n",
       "22553    False\n",
       "22554    False\n",
       "Name: 고객, Length: 22555, dtype: bool"
      ]
     },
     "execution_count": 77,
     "metadata": {},
     "output_type": "execute_result"
    }
   ],
   "source": [
    "sale_data_customer = tmp_sales\n",
    "entry_data_customer = entry_data\n",
    "sale_data_customer['고객'] = tmp_sales['고객'].str[-6:]\n",
    "entry_data_customer['고객'] = entry_data['고객'].str[-6:]\n",
    "entry_data_customer\n",
    "# print(entry_data_customer)\n",
    "\n",
    "# idx1 = entry_data_customer[entry_data_customer['고객'] == ''].index \n",
    "# entry_data_customer.drop(idx1, inplace=True) \n",
    "# entry_data_customer = entry_data_customer['고객'] != ''\n",
    "sale_data_customer['고객'].isnull().sum()\n",
    "entry_data_customer['고객'].isnull()"
   ]
  },
  {
   "attachments": {},
   "cell_type": "markdown",
   "metadata": {},
   "source": [
    "고객의 고유번호만 떼 내었습니다.  \n",
    "isnull()로 결측치가 있는지 알아보고, 지불한 고객을 알 수 없을 경우는 분석하지 않습니다.\n"
   ]
  },
  {
   "cell_type": "code",
   "execution_count": null,
   "metadata": {},
   "outputs": [
    {
     "name": "stdout",
     "output_type": "stream",
     "text": [
      "1973\n",
      "5404\n"
     ]
    }
   ],
   "source": [
    "print(len(sale_data_customer['고객'].unique())) #상품 구매한 고유한 손님 수 파악\n",
    "print(len(entry_data_customer['고객'].unique())) #요금 결제한 고유한 고객 수 파악"
   ]
  },
  {
   "cell_type": "code",
   "execution_count": null,
   "metadata": {},
   "outputs": [
    {
     "data": {
      "text/plain": [
       "고객\n",
       "667032    355500\n",
       "859632    227900\n",
       "977070    209300\n",
       "499864    203100\n",
       "258946    190000\n",
       "           ...  \n",
       "479457         0\n",
       "401649         0\n",
       "286596         0\n",
       "371515         0\n",
       "346827         0\n",
       "Name: 금액, Length: 1972, dtype: int64"
      ]
     },
     "execution_count": 83,
     "metadata": {},
     "output_type": "execute_result"
    }
   ],
   "source": [
    "sale_data_customer_total = sale_data_customer['금액'].groupby([sale_data_customer['고객']]).sum().sort_values(ascending=False)\n",
    "entry_data_customer_total = entry_data_customer['금액'].groupby([sale_data_customer['고객']]).sum().sort_values(ascending=False)"
   ]
  },
  {
   "attachments": {},
   "cell_type": "markdown",
   "metadata": {},
   "source": [
    "상품과 요금 총 결제액이 많은 고객 순으로 정렬했습니다.  \n",
    "크로스탭을 통해서 고객의 class를 나누어 보고 싶었지만 시간이 모자랐습니다."
   ]
  },
  {
   "attachments": {},
   "cell_type": "markdown",
   "metadata": {},
   "source": [
    "### 2) 결제 위치 분석"
   ]
  },
  {
   "attachments": {},
   "cell_type": "markdown",
   "metadata": {},
   "source": [
    "상품과 요금은 모두 카운터, 선불기1, 선불기2를 통해 이루어집니다.  \n",
    "각각의 선불기에서 결제하는 목적을 살펴보았습니다."
   ]
  },
  {
   "cell_type": "code",
   "execution_count": null,
   "metadata": {},
   "outputs": [
    {
     "name": "stdout",
     "output_type": "stream",
     "text": [
      "=========================================================\n",
      "상품 결제 위치\n",
      "=========================================================\n",
      "위치\n",
      "선불기1    25743000\n",
      "선불기2      896500\n",
      "카운터      1098400\n",
      "Name: 금액, dtype: int32\n",
      "=========================================================\n",
      "요금 결제 위치\n",
      "=========================================================\n",
      "위치\n",
      "선불기1       983900\n",
      "선불기2    124135300\n",
      "카운터        254200\n",
      "Name: 금액, dtype: int64\n",
      "=========================================================\n"
     ]
    }
   ],
   "source": [
    "print('=========================================================')\n",
    "print('상품 결제 위치')\n",
    "print('=========================================================')\n",
    "tmp_sales_lo = tmp_sales['금액'].groupby(tmp_sales['위치']).sum()\n",
    "print(tmp_sales_lo)\n",
    "print('=========================================================')\n",
    "print('요금 결제 위치')\n",
    "print('=========================================================')\n",
    "entry_data_lo = entry_data['금액'].groupby([entry_data['위치']]).sum()\n",
    "print(entry_data_lo)\n",
    "print('=========================================================')\n"
   ]
  },
  {
   "attachments": {},
   "cell_type": "markdown",
   "metadata": {},
   "source": [
    "선불기 1에서는 대부분 상품의 결제가 이루어지며,  \n",
    "선불기 2에서는 대부분 요금의 결제가 이루어지고 있습니다."
   ]
  },
  {
   "cell_type": "code",
   "execution_count": null,
   "metadata": {},
   "outputs": [
    {
     "data": {
      "image/png": "[encoded data removed]",
      "text/plain": [
       "<Figure size 640x480 with 1 Axes>"
      ]
     },
     "metadata": {},
     "output_type": "display_data"
    },
    {
     "data": {
      "image/png": "[encoded data removed]",
      "text/plain": [
       "<Figure size 640x480 with 1 Axes>"
      ]
     },
     "metadata": {},
     "output_type": "display_data"
    }
   ],
   "source": [
    "# 집계 결과  시각화하기\n",
    "pie2 = [\"선불기1\", \"선불기2\", \"카운터\"]\n",
    "pie_values2 = [25743000, 896500, 1098400]\n",
    "plt.pie(pie_values2,labels=pie2,labeldistance=1,autopct='%.1f%%')\n",
    "# plt.legend(pie)\n",
    "plt.title('위치에 따른 상품 매출액 비율',fontproperties=title_font)\n",
    "plt.show()\n",
    "pie_values3 = [983900, 124135300, 254200]\n",
    "plt.pie(pie_values3,labels=pie2,labeldistance=1,autopct='%.1f%%')\n",
    "# plt.legend(pie)\n",
    "plt.title('위치에 따른 이용 요금 매출 비율',fontproperties=title_font)\n",
    "plt.show()"
   ]
  },
  {
   "attachments": {},
   "cell_type": "markdown",
   "metadata": {},
   "source": [
    "- 선불기1과 선불기2의 결제목적이 뚜렷하게 나뉘어지는 것을 확인할 수 있습니다."
   ]
  },
  {
   "attachments": {},
   "cell_type": "markdown",
   "metadata": {},
   "source": [
    "## 6. 전략 수립 및 실행"
   ]
  },
  {
   "attachments": {},
   "cell_type": "markdown",
   "metadata": {},
   "source": [
    "\n",
    "- 학생들의 방학기간과 학기초에는 모두카페의 이용률이 낮아지는 것으로 추측해 볼 수 있습니다.  \n",
    "- 학생들이 많이 이용하지 않는 기간에 프로모션을 진행해도 좋을 것 같습니다.\n",
    "- 현저히 판매율이 낮은 포장판매 상품은 원활한 재고관리를 위해 판매를 중단하여도 좋을 것 같습니다.\n",
    "- 선호하는 요금제와 비선호하는 요금제를 나누어 \n",
    "- 선불기1과 선불기2의 위치와 동선을 조정하고, 상품판매와 요금제 결제로 역할을 나누어 업무효율을 높일 수 있습니다."
   ]
  },
  {
   "attachments": {},
   "cell_type": "markdown",
   "metadata": {},
   "source": [
    "## 7. 회고"
   ]
  },
  {
   "attachments": {},
   "cell_type": "markdown",
   "metadata": {},
   "source": [
    "- 데이터의 결손치를 보강을 완벽하게 하지 못한 것이 아쉽습니다.\n",
    "(판매액 0인 부분 다수 존재.)  \n",
    "- 데이터를 분석할 때, 처음부터 너무 스코프를 좁게 하지말고 넓은 것부터 해야 문제도 정확하게 볼 수 있고 속도도 빠르다는 것을 알게 되었습니다.  \n",
    "원본 데이터를 보존한 채 가공할 데이터를 새로운 변수로 설정해서 분석을 해야  \n",
    "실수를 했을 때나 문제가 생겼을 때 수정하기 쉽다는 것을 느꼈습니다.  \n",
    "  \n",
    "  \n",
    "- 그래프에서 매출액을 나타내는 축의 값이 자연상수e로 표현되는 것이 아쉬웠습니다.\n",
    "- bar horizental 그래프에서, 수치가 가장 큰 막대를 위로 가게 하고 싶었습니다.\n",
    "- 정확한 data의 의미를 알 수 없어서 오차가 많이 생기는 부분이 아쉬웠습니다.  \n",
    "- 원래의 목표는 고객 관리 (VIP 분석), 결제 위치 분석, 이용하는 시간 분석을 하는 것이었지만 시간과 방법적인 한계로 다 하지 못했습니다.  \n",
    "특히 크로스탭을 적용해 VIP 고객을 더 분석해 보지 못한 점이 아쉬웠습니다.\n",
    "- 같은 범주를 공유하는 비교에서 그래프를 subplot()으로 그려보고 싶었지만 시간이 모자라서 아쉬웠습니다."
   ]
  },
  {
   "attachments": {},
   "cell_type": "markdown",
   "metadata": {},
   "source": [
    "## 8. References  \n",
    "https://doong-e.tistory.com/27 (결측치 행을 찾기)  \n",
    "https://sorting.tistory.com/16  (데이터프레임 필터링)  \n",
    "https://blog.naver.com/nilsine11202/221667433984 (조건을 만족하는 행 삭제)    \n",
    "https://matplotlib.org/stable/gallery/subplots_axes_and_figures/subplots_demo.html (Matplotlib 서브플랏 활용법)  \n"
   ]
  }
 ],
 "metadata": {
  "kernelspec": {
   "display_name": "Python 3.9.13 ('base')",
   "language": "python",
   "name": "python3"
  },
  "language_info": {
   "codemirror_mode": {
    "name": "ipython",
    "version": 3
   },
   "file_extension": ".py",
   "mimetype": "text/x-python",
   "name": "python",
   "nbconvert_exporter": "python",
   "pygments_lexer": "ipython3",
   "version": "3.9.13"
  },
  "orig_nbformat": 4,
  "vscode": {
   "interpreter": {
    "hash": "a7936b404da2d1aec6a116f19bfb62db118b47fc993c612f13b3cacad2daeda5"
   }
  }
 },
 "nbformat": 4,
 "nbformat_minor": 2
}
