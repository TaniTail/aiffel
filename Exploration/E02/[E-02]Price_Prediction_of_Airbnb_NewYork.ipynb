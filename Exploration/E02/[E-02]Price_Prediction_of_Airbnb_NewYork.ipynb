{
 "cells": [
  {
   "attachments": {},
   "cell_type": "markdown",
   "id": "443f99f9",
   "metadata": {},
   "source": [
    "# Exploration02_Price Prediction of Airbnb, New York City \n",
    "###### 온라인 코어 2기 박수경"
   ]
  },
  {
   "cell_type": "markdown",
   "id": "d9f6a32e",
   "metadata": {},
   "source": [
    "머신러닝의 선형 회귀 모델을 이용해서 뉴욕의 Airbnb가격을 예측해 봅니다.  \n",
    "데이터셋 : https://www.kaggle.com/datasets/dgomonov/new-york-city-airbnb-open-data  \n",
    "평가지표 : MSE(Mean squared Error)사용"
   ]
  },
  {
   "cell_type": "markdown",
   "id": "e246a995",
   "metadata": {},
   "source": [
    "## 1. 라이브러리와 데이터 불러오기"
   ]
  },
  {
   "cell_type": "code",
   "execution_count": 1,
   "id": "8027980a",
   "metadata": {},
   "outputs": [],
   "source": [
    "# 라이브러리 불러오기\n",
    "import pandas as pd\n",
    "import matplotlib.pyplot as plt\n",
    "import numpy as np\n",
    "\n",
    "\n",
    "# 데이터 불러오기\n",
    "train = pd.read_csv('~/aiffel/Exploration/E02/data/train.csv')\n",
    "test = pd.read_csv('~/aiffel/Exploration/E02/data/test.csv')"
   ]
  },
  {
   "cell_type": "markdown",
   "id": "b4993e4a",
   "metadata": {},
   "source": [
    "## 2. 탐색적 데이터 분석 (EDA)"
   ]
  },
  {
   "cell_type": "markdown",
   "id": "0165afd9",
   "metadata": {},
   "source": [
    "우리가 어떤 데이터를 바탕으로 예측하거나 결과를 낼 때, 항상 바탕이 되는 데이터를 잘 살펴보아야 합니다.  \n",
    "데이터를 불러오면 항상 그 데이터의 정보를 파악합니다.  \n",
    "크기, 데이터의 구성(info)를 먼저 확인하고 head()로 몇개의 row를 확인합니다.  \n",
    "수치형의 피처가 있으면 시각화를 통해 특이한 점을 찾아 볼 수 있으며\n",
    "오브젝트형이라면 unique, nunique등으로 요소들의 개수나 특징을 살펴볼 수 있습니다. "
   ]
  },
  {
   "cell_type": "code",
   "execution_count": 2,
   "id": "3a70cc53",
   "metadata": {},
   "outputs": [
    {
     "name": "stdout",
     "output_type": "stream",
     "text": [
      "<class 'pandas.core.frame.DataFrame'>\n",
      "(39116, 16)\n",
      "<class 'pandas.core.frame.DataFrame'>\n",
      "(9779, 15)\n"
     ]
    }
   ],
   "source": [
    "# 데이터 크기\n",
    "print(type(train))\n",
    "print(train.shape)\n",
    "print(type(test))\n",
    "print(test.shape)"
   ]
  },
  {
   "cell_type": "code",
   "execution_count": 3,
   "id": "4916f669",
   "metadata": {
    "scrolled": true
   },
   "outputs": [
    {
     "name": "stdout",
     "output_type": "stream",
     "text": [
      "<class 'pandas.core.frame.DataFrame'>\n",
      "RangeIndex: 39116 entries, 0 to 39115\n",
      "Data columns (total 16 columns):\n",
      " #   Column                          Non-Null Count  Dtype  \n",
      "---  ------                          --------------  -----  \n",
      " 0   id                              39116 non-null  int64  \n",
      " 1   name                            39104 non-null  object \n",
      " 2   host_id                         39116 non-null  int64  \n",
      " 3   host_name                       39099 non-null  object \n",
      " 4   neighbourhood_group             39116 non-null  object \n",
      " 5   neighbourhood                   39116 non-null  object \n",
      " 6   latitude                        39116 non-null  float64\n",
      " 7   longitude                       39116 non-null  float64\n",
      " 8   room_type                       39116 non-null  object \n",
      " 9   price                           39116 non-null  int64  \n",
      " 10  minimum_nights                  39116 non-null  int64  \n",
      " 11  number_of_reviews               39116 non-null  int64  \n",
      " 12  last_review                     31122 non-null  object \n",
      " 13  reviews_per_month               31122 non-null  float64\n",
      " 14  calculated_host_listings_count  39116 non-null  int64  \n",
      " 15  availability_365                39116 non-null  int64  \n",
      "dtypes: float64(3), int64(7), object(6)\n",
      "memory usage: 4.8+ MB\n",
      "=======================================================\n",
      "<class 'pandas.core.frame.DataFrame'>\n",
      "RangeIndex: 9779 entries, 0 to 9778\n",
      "Data columns (total 15 columns):\n",
      " #   Column                          Non-Null Count  Dtype  \n",
      "---  ------                          --------------  -----  \n",
      " 0   id                              9779 non-null   int64  \n",
      " 1   name                            9775 non-null   object \n",
      " 2   host_id                         9779 non-null   int64  \n",
      " 3   host_name                       9775 non-null   object \n",
      " 4   neighbourhood_group             9779 non-null   object \n",
      " 5   neighbourhood                   9779 non-null   object \n",
      " 6   latitude                        9779 non-null   float64\n",
      " 7   longitude                       9779 non-null   float64\n",
      " 8   room_type                       9779 non-null   object \n",
      " 9   minimum_nights                  9779 non-null   int64  \n",
      " 10  number_of_reviews               9779 non-null   int64  \n",
      " 11  last_review                     7721 non-null   object \n",
      " 12  reviews_per_month               7721 non-null   float64\n",
      " 13  calculated_host_listings_count  9779 non-null   int64  \n",
      " 14  availability_365                9779 non-null   int64  \n",
      "dtypes: float64(3), int64(6), object(6)\n",
      "memory usage: 1.1+ MB\n"
     ]
    }
   ],
   "source": [
    "# 데이터 타입\n",
    "train.info()\n",
    "print('=======================================================')\n",
    "test.info()"
   ]
  },
  {
   "cell_type": "markdown",
   "id": "73dfde3d",
   "metadata": {},
   "source": [
    "이번 프로젝트에서는 회귀 모델을 이용, train이라는 학습용 데이터로 학습한 뒤  \n",
    "test 데이터의 price를 타겟으로 해 예측해 봅니다.\n"
   ]
  },
  {
   "cell_type": "code",
   "execution_count": 4,
   "id": "910d94b9",
   "metadata": {},
   "outputs": [
    {
     "data": {
      "text/html": [
       "<div>\n",
       "<style scoped>\n",
       "    .dataframe tbody tr th:only-of-type {\n",
       "        vertical-align: middle;\n",
       "    }\n",
       "\n",
       "    .dataframe tbody tr th {\n",
       "        vertical-align: top;\n",
       "    }\n",
       "\n",
       "    .dataframe thead th {\n",
       "        text-align: right;\n",
       "    }\n",
       "</style>\n",
       "<table border=\"1\" class=\"dataframe\">\n",
       "  <thead>\n",
       "    <tr style=\"text-align: right;\">\n",
       "      <th></th>\n",
       "      <th>id</th>\n",
       "      <th>name</th>\n",
       "      <th>host_id</th>\n",
       "      <th>host_name</th>\n",
       "      <th>neighbourhood_group</th>\n",
       "      <th>neighbourhood</th>\n",
       "      <th>latitude</th>\n",
       "      <th>longitude</th>\n",
       "      <th>room_type</th>\n",
       "      <th>price</th>\n",
       "      <th>minimum_nights</th>\n",
       "      <th>number_of_reviews</th>\n",
       "      <th>last_review</th>\n",
       "      <th>reviews_per_month</th>\n",
       "      <th>calculated_host_listings_count</th>\n",
       "      <th>availability_365</th>\n",
       "    </tr>\n",
       "  </thead>\n",
       "  <tbody>\n",
       "    <tr>\n",
       "      <th>0</th>\n",
       "      <td>14963583</td>\n",
       "      <td>Room in South Harlem near Central Park</td>\n",
       "      <td>94219511</td>\n",
       "      <td>Gilles</td>\n",
       "      <td>Manhattan</td>\n",
       "      <td>Harlem</td>\n",
       "      <td>40.80167</td>\n",
       "      <td>-73.95781</td>\n",
       "      <td>Private room</td>\n",
       "      <td>70</td>\n",
       "      <td>3</td>\n",
       "      <td>3</td>\n",
       "      <td>2019-01-01</td>\n",
       "      <td>0.09</td>\n",
       "      <td>2</td>\n",
       "      <td>0</td>\n",
       "    </tr>\n",
       "    <tr>\n",
       "      <th>1</th>\n",
       "      <td>9458704</td>\n",
       "      <td>Large 1BR Apartment, near Times Sq (2nd Floor)</td>\n",
       "      <td>49015331</td>\n",
       "      <td>Iradj</td>\n",
       "      <td>Manhattan</td>\n",
       "      <td>Hell's Kitchen</td>\n",
       "      <td>40.76037</td>\n",
       "      <td>-73.99016</td>\n",
       "      <td>Entire home/apt</td>\n",
       "      <td>240</td>\n",
       "      <td>2</td>\n",
       "      <td>64</td>\n",
       "      <td>2019-06-30</td>\n",
       "      <td>1.68</td>\n",
       "      <td>2</td>\n",
       "      <td>262</td>\n",
       "    </tr>\n",
       "  </tbody>\n",
       "</table>\n",
       "</div>"
      ],
      "text/plain": [
       "         id                                            name   host_id  \\\n",
       "0  14963583          Room in South Harlem near Central Park  94219511   \n",
       "1   9458704  Large 1BR Apartment, near Times Sq (2nd Floor)  49015331   \n",
       "\n",
       "  host_name neighbourhood_group   neighbourhood  latitude  longitude  \\\n",
       "0    Gilles           Manhattan          Harlem  40.80167  -73.95781   \n",
       "1     Iradj           Manhattan  Hell's Kitchen  40.76037  -73.99016   \n",
       "\n",
       "         room_type  price  minimum_nights  number_of_reviews last_review  \\\n",
       "0     Private room     70               3                  3  2019-01-01   \n",
       "1  Entire home/apt    240               2                 64  2019-06-30   \n",
       "\n",
       "   reviews_per_month  calculated_host_listings_count  availability_365  \n",
       "0               0.09                               2                 0  \n",
       "1               1.68                               2               262  "
      ]
     },
     "metadata": {},
     "output_type": "display_data"
    },
    {
     "data": {
      "text/html": [
       "<div>\n",
       "<style scoped>\n",
       "    .dataframe tbody tr th:only-of-type {\n",
       "        vertical-align: middle;\n",
       "    }\n",
       "\n",
       "    .dataframe tbody tr th {\n",
       "        vertical-align: top;\n",
       "    }\n",
       "\n",
       "    .dataframe thead th {\n",
       "        text-align: right;\n",
       "    }\n",
       "</style>\n",
       "<table border=\"1\" class=\"dataframe\">\n",
       "  <thead>\n",
       "    <tr style=\"text-align: right;\">\n",
       "      <th></th>\n",
       "      <th>id</th>\n",
       "      <th>name</th>\n",
       "      <th>host_id</th>\n",
       "      <th>host_name</th>\n",
       "      <th>neighbourhood_group</th>\n",
       "      <th>neighbourhood</th>\n",
       "      <th>latitude</th>\n",
       "      <th>longitude</th>\n",
       "      <th>room_type</th>\n",
       "      <th>minimum_nights</th>\n",
       "      <th>number_of_reviews</th>\n",
       "      <th>last_review</th>\n",
       "      <th>reviews_per_month</th>\n",
       "      <th>calculated_host_listings_count</th>\n",
       "      <th>availability_365</th>\n",
       "    </tr>\n",
       "  </thead>\n",
       "  <tbody>\n",
       "    <tr>\n",
       "      <th>0</th>\n",
       "      <td>30913224</td>\n",
       "      <td>Cozy and Sunny Room Williamsburg, Luxury Building</td>\n",
       "      <td>33771081</td>\n",
       "      <td>Rémy</td>\n",
       "      <td>Brooklyn</td>\n",
       "      <td>Williamsburg</td>\n",
       "      <td>40.70959</td>\n",
       "      <td>-73.94652</td>\n",
       "      <td>Private room</td>\n",
       "      <td>3</td>\n",
       "      <td>2</td>\n",
       "      <td>2019-05-08</td>\n",
       "      <td>0.31</td>\n",
       "      <td>1</td>\n",
       "      <td>0</td>\n",
       "    </tr>\n",
       "    <tr>\n",
       "      <th>1</th>\n",
       "      <td>971247</td>\n",
       "      <td>Sunny Artist Live/Work Apartment</td>\n",
       "      <td>5308961</td>\n",
       "      <td>Larry</td>\n",
       "      <td>Manhattan</td>\n",
       "      <td>Upper West Side</td>\n",
       "      <td>40.79368</td>\n",
       "      <td>-73.96487</td>\n",
       "      <td>Entire home/apt</td>\n",
       "      <td>3</td>\n",
       "      <td>159</td>\n",
       "      <td>2019-07-03</td>\n",
       "      <td>2.09</td>\n",
       "      <td>1</td>\n",
       "      <td>244</td>\n",
       "    </tr>\n",
       "  </tbody>\n",
       "</table>\n",
       "</div>"
      ],
      "text/plain": [
       "         id                                               name   host_id  \\\n",
       "0  30913224  Cozy and Sunny Room Williamsburg, Luxury Building  33771081   \n",
       "1    971247                   Sunny Artist Live/Work Apartment   5308961   \n",
       "\n",
       "  host_name neighbourhood_group    neighbourhood  latitude  longitude  \\\n",
       "0      Rémy            Brooklyn     Williamsburg  40.70959  -73.94652   \n",
       "1     Larry           Manhattan  Upper West Side  40.79368  -73.96487   \n",
       "\n",
       "         room_type  minimum_nights  number_of_reviews last_review  \\\n",
       "0     Private room               3                  2  2019-05-08   \n",
       "1  Entire home/apt               3                159  2019-07-03   \n",
       "\n",
       "   reviews_per_month  calculated_host_listings_count  availability_365  \n",
       "0               0.31                               1                 0  \n",
       "1               2.09                               1               244  "
      ]
     },
     "metadata": {},
     "output_type": "display_data"
    }
   ],
   "source": [
    "# 데이터 샘플 확인\n",
    "display(train.head(2))\n",
    "display(test.head(2))"
   ]
  },
  {
   "cell_type": "markdown",
   "id": "da8f9b69",
   "metadata": {},
   "source": [
    "데이터의 결측치를 조사해 봅니다."
   ]
  },
  {
   "cell_type": "code",
   "execution_count": 5,
   "id": "528e9532",
   "metadata": {},
   "outputs": [
    {
     "data": {
      "text/plain": [
       "id                                   0\n",
       "name                                12\n",
       "host_id                              0\n",
       "host_name                           17\n",
       "neighbourhood_group                  0\n",
       "neighbourhood                        0\n",
       "latitude                             0\n",
       "longitude                            0\n",
       "room_type                            0\n",
       "price                                0\n",
       "minimum_nights                       0\n",
       "number_of_reviews                    0\n",
       "last_review                       7994\n",
       "reviews_per_month                 7994\n",
       "calculated_host_listings_count       0\n",
       "availability_365                     0\n",
       "dtype: int64"
      ]
     },
     "execution_count": 5,
     "metadata": {},
     "output_type": "execute_result"
    }
   ],
   "source": [
    "# 결측치(train)\n",
    "train.isnull().sum()"
   ]
  },
  {
   "cell_type": "code",
   "execution_count": 6,
   "id": "2bee7719",
   "metadata": {},
   "outputs": [
    {
     "data": {
      "text/plain": [
       "id                                   0\n",
       "name                                 4\n",
       "host_id                              0\n",
       "host_name                            4\n",
       "neighbourhood_group                  0\n",
       "neighbourhood                        0\n",
       "latitude                             0\n",
       "longitude                            0\n",
       "room_type                            0\n",
       "minimum_nights                       0\n",
       "number_of_reviews                    0\n",
       "last_review                       2058\n",
       "reviews_per_month                 2058\n",
       "calculated_host_listings_count       0\n",
       "availability_365                     0\n",
       "dtype: int64"
      ]
     },
     "execution_count": 6,
     "metadata": {},
     "output_type": "execute_result"
    }
   ],
   "source": [
    "# 결측치(test)\n",
    "test.isnull().sum()"
   ]
  },
  {
   "cell_type": "markdown",
   "id": "f6fdaf9a",
   "metadata": {},
   "source": [
    "train 과 test 데이터 모두 host_id, host_name, last_review, reviews_per_month 에서 결측치를 확인할 수 있습니다.  \n",
    "name과 host_name의 결측치를 가지는 행은 그 비중이 데이터에서 매우 적습니다. 그리고 id와 host_id 열에 결측값이 없기 때문에, 이름값이 없어도 분석이 가능합니다. 따라서 두 피처는 삭제해도 무방하다고 판단했습니다.  \n",
    "last_review, reviews_per_month는 결측된 비율이 무시할 수 없다고 판단해, 어떻게 메꿔야 할지 결정하기 위해 describe로 들여다 봅니다.\n"
   ]
  },
  {
   "cell_type": "code",
   "execution_count": 7,
   "id": "972165bc",
   "metadata": {},
   "outputs": [
    {
     "name": "stdout",
     "output_type": "stream",
     "text": [
      "=======================================\n"
     ]
    },
    {
     "data": {
      "text/plain": [
       "array(['2019-01-01', '2019-06-30', '2019-02-07', ..., '2017-01-28',\n",
       "       '2013-05-31', '2013-12-25'], dtype=object)"
      ]
     },
     "execution_count": 7,
     "metadata": {},
     "output_type": "execute_result"
    }
   ],
   "source": [
    "train['last_review'].describe()\n",
    "print(\"=======================================\")\n",
    "# train['last_review'].head()\n",
    "train['last_review'].unique()  "
   ]
  },
  {
   "cell_type": "code",
   "execution_count": 8,
   "id": "d36e5ea9",
   "metadata": {},
   "outputs": [
    {
     "name": "stdout",
     "output_type": "stream",
     "text": [
      "count    31122.000000\n",
      "mean         1.372444\n",
      "std          1.683963\n",
      "min          0.010000\n",
      "25%          0.190000\n",
      "50%          0.710000\n",
      "75%          2.010000\n",
      "max         58.500000\n",
      "Name: reviews_per_month, dtype: float64\n",
      "=======================================\n"
     ]
    },
    {
     "data": {
      "text/plain": [
       "<AxesSubplot:>"
      ]
     },
     "execution_count": 8,
     "metadata": {},
     "output_type": "execute_result"
    },
    {
     "data": {
      "image/png": "[encoded data removed]",
      "text/plain": [
       "<Figure size 640x480 with 1 Axes>"
      ]
     },
     "metadata": {},
     "output_type": "display_data"
    }
   ],
   "source": [
    "print(train['reviews_per_month'].describe())\n",
    "print(\"=======================================\")\n",
    "# train['reviews_per_month'].head()\n",
    "train['reviews_per_month'].hist(bins=100, range=[0, 10]) #대체로 0~10 사이의 값. 많은 값들이 0쪽에 몰려 있다.\n"
   ]
  },
  {
   "cell_type": "markdown",
   "id": "a1a47363",
   "metadata": {},
   "source": [
    "학습 데이터의 'price'를 살펴봅니다.  \n"
   ]
  },
  {
   "cell_type": "code",
   "execution_count": 9,
   "id": "7958da91",
   "metadata": {
    "scrolled": true
   },
   "outputs": [
    {
     "name": "stdout",
     "output_type": "stream",
     "text": [
      "count    39116.000000\n",
      "mean       152.751150\n",
      "std        241.752501\n",
      "min          0.000000\n",
      "25%         69.000000\n",
      "50%        105.000000\n",
      "75%        175.000000\n",
      "max      10000.000000\n",
      "Name: price, dtype: float64\n"
     ]
    }
   ],
   "source": [
    "print(train['price'].describe())"
   ]
  },
  {
   "cell_type": "markdown",
   "id": "b5b689b0",
   "metadata": {},
   "source": [
    "분포의 99% 신뢰구간은 $μ ± 3σ$ 으로 조금 더 가격의 분포 형태를 자세히 보기로 합니다."
   ]
  },
  {
   "cell_type": "code",
   "execution_count": 10,
   "id": "a49c5deb",
   "metadata": {},
   "outputs": [
    {
     "data": {
      "text/plain": [
       "<AxesSubplot:>"
      ]
     },
     "execution_count": 10,
     "metadata": {},
     "output_type": "execute_result"
    },
    {
     "data": {
      "image/png": "[encoded data removed]",
      "text/plain": [
       "<Figure size 640x480 with 1 Axes>"
      ]
     },
     "metadata": {},
     "output_type": "display_data"
    }
   ],
   "source": [
    "m = train['price'].mean()\n",
    "s = train['price'].std()\n",
    "train['price'].hist(bins=100, range=[0, m+3*s])"
   ]
  },
  {
   "attachments": {},
   "cell_type": "markdown",
   "id": "c16757d4",
   "metadata": {},
   "source": [
    "가격의 평균은 152달러, 대체로 200 달러 내에 많은 값들이 몰려 있는 것이 보입니다. \n",
    "그래프에서 일정 구간 내에 많이 값이 몰려 있다면 로그함수를 씌웁니다"
   ]
  },
  {
   "cell_type": "code",
   "execution_count": 11,
   "id": "338e52fc",
   "metadata": {},
   "outputs": [
    {
     "data": {
      "text/plain": [
       "<AxesSubplot:>"
      ]
     },
     "execution_count": 11,
     "metadata": {},
     "output_type": "execute_result"
    },
    {
     "data": {
      "image/png": "[encoded data removed]",
      "text/plain": [
       "<Figure size 640x480 with 1 Axes>"
      ]
     },
     "metadata": {},
     "output_type": "display_data"
    }
   ],
   "source": [
    "train['price'] = np.log1p(train['price'])\n",
    "train['price'].hist(bins=200)"
   ]
  },
  {
   "cell_type": "code",
   "execution_count": 12,
   "id": "3849839e",
   "metadata": {},
   "outputs": [],
   "source": [
    "# 가격 피처 복사\n",
    "target = train['price']\n",
    "train = train.drop('price', axis=1)"
   ]
  },
  {
   "attachments": {},
   "cell_type": "markdown",
   "id": "d8436dba",
   "metadata": {},
   "source": [
    "target에 가격 피처를 복사해두고 train에서 삭제합니다. 이 때 target의 값은 로그가 씌워져 있다는 것을 잊지 말하야 합니다."
   ]
  },
  {
   "cell_type": "code",
   "execution_count": 13,
   "id": "515c28a4",
   "metadata": {},
   "outputs": [
    {
     "name": "stdout",
     "output_type": "stream",
     "text": [
      "39116\n",
      "9779\n"
     ]
    }
   ],
   "source": [
    "print(train['id'].nunique())\n",
    "print(test['id'].nunique())"
   ]
  },
  {
   "cell_type": "markdown",
   "id": "877e2c1e",
   "metadata": {},
   "source": [
    "중복으로 리스팅된 곳은 없어 보입니다. 리스팅된 곳의 호스트를 살펴봅니다."
   ]
  },
  {
   "cell_type": "code",
   "execution_count": 14,
   "id": "f7f5b0ac",
   "metadata": {},
   "outputs": [
    {
     "data": {
      "text/plain": [
       "219517861    256\n",
       "107434423    181\n",
       "30283594      99\n",
       "137358866     82\n",
       "12243051      80\n",
       "            ... \n",
       "73369106       1\n",
       "26620387       1\n",
       "176660539      1\n",
       "26004891       1\n",
       "2609535        1\n",
       "Name: host_id, Length: 30845, dtype: int64"
      ]
     },
     "execution_count": 14,
     "metadata": {},
     "output_type": "execute_result"
    }
   ],
   "source": [
    "train['host_id'].value_counts()"
   ]
  },
  {
   "cell_type": "markdown",
   "id": "cd5c2a39",
   "metadata": {},
   "source": [
    "데이터의 오브젝트타입의 열들도 살펴봅니다."
   ]
  },
  {
   "cell_type": "code",
   "execution_count": 15,
   "id": "bd672400",
   "metadata": {},
   "outputs": [
    {
     "name": "stdout",
     "output_type": "stream",
     "text": [
      "5\n",
      "221\n",
      "3\n",
      "===============================================================\n",
      "5\n",
      "192\n",
      "3\n"
     ]
    }
   ],
   "source": [
    "train_obj = train[['neighbourhood_group', 'neighbourhood','room_type']]\n",
    "print(train_obj['neighbourhood_group'].nunique())\n",
    "print(train_obj['neighbourhood'].nunique())\n",
    "print(train_obj['room_type'].nunique())\n",
    "print('===============================================================')\n",
    "test_obj = test[['neighbourhood_group', 'neighbourhood','room_type']]\n",
    "print(test_obj['neighbourhood_group'].nunique())\n",
    "print(test_obj['neighbourhood'].nunique())\n",
    "print(test_obj['room_type'].nunique())\n"
   ]
  },
  {
   "attachments": {},
   "cell_type": "markdown",
   "id": "b1dd107c",
   "metadata": {},
   "source": [
    "neighbourhood_group, room_type 컬럼은 원-핫 인코딩 방법으로 인코딩 가능하지만,  \n",
    "neighbourhood 컬럼은 레이블의 길이가 좀 긴 것 같습니다. 예측에 활용하려면 레이블 인코딩을 해야겠습니다."
   ]
  },
  {
   "cell_type": "markdown",
   "id": "c19d611f",
   "metadata": {},
   "source": [
    "## 3. 데이터 전처리"
   ]
  },
  {
   "attachments": {},
   "cell_type": "markdown",
   "id": "1245452a",
   "metadata": {},
   "source": [
    "EDA를 통해 필요하다고 생각되는 전처리를 할 수 있습니다.  \n",
    "- 오브젝트형 컬럼 레이블 인코딩 (neighbourhood_group, room_type)\n",
    "- 불필요한 컬럼 삭제 (name, host_name, 분석보류 항목으로 일단은 neighbourhood까지)\n",
    "- last_review 수치화 한 후 sorting 과 결측치 메꾸기 (중앙값 이용)\n",
    "- reviews_per_month 결측치 메꾸기 : 평균값으로 채워넣기"
   ]
  },
  {
   "cell_type": "code",
   "execution_count": 16,
   "id": "d3e640af",
   "metadata": {
    "scrolled": true
   },
   "outputs": [
    {
     "name": "stdout",
     "output_type": "stream",
     "text": [
      "{0, 1, 2, 3, 4}\n",
      "['Bronx' 'Brooklyn' 'Manhattan' 'Queens' 'Staten Island']\n"
     ]
    },
    {
     "data": {
      "text/plain": [
       "<AxesSubplot:>"
      ]
     },
     "execution_count": 16,
     "metadata": {},
     "output_type": "execute_result"
    },
    {
     "data": {
      "image/png": "[encoded data removed]",
      "text/plain": [
       "<Figure size 640x480 with 1 Axes>"
      ]
     },
     "metadata": {},
     "output_type": "display_data"
    }
   ],
   "source": [
    "train_obj['neighbourhood_group'].value_counts()\n",
    "\n",
    "from sklearn.preprocessing import LabelEncoder\n",
    "\n",
    "le = LabelEncoder()\n",
    "\n",
    "le.fit(train_obj['neighbourhood_group'])\n",
    "label_n = le.transform(train_obj['neighbourhood_group'])\n",
    "print(set(label_n))\n",
    "print(le.classes_)\n",
    "\n",
    "train['ngroup_idx'] = label_n\n",
    "\n",
    "train['ngroup_idx'].value_counts()\n",
    "train['ngroup_idx'].hist(bins=range(0, 6, 1))\n",
    "\n"
   ]
  },
  {
   "cell_type": "code",
   "execution_count": 17,
   "id": "ee60330c",
   "metadata": {},
   "outputs": [
    {
     "name": "stdout",
     "output_type": "stream",
     "text": [
      "{0, 1, 2, 3, 4}\n",
      "['Bronx' 'Brooklyn' 'Manhattan' 'Queens' 'Staten Island']\n"
     ]
    },
    {
     "data": {
      "text/plain": [
       "<AxesSubplot:>"
      ]
     },
     "execution_count": 17,
     "metadata": {},
     "output_type": "execute_result"
    },
    {
     "data": {
      "image/png": "[encoded data removed]",
      "text/plain": [
       "<Figure size 640x480 with 1 Axes>"
      ]
     },
     "metadata": {},
     "output_type": "display_data"
    }
   ],
   "source": [
    "test_obj['neighbourhood_group'].value_counts()\n",
    "\n",
    "le.fit(test_obj['neighbourhood_group'])\n",
    "label_n2 = le.transform(test_obj['neighbourhood_group'])\n",
    "print(set(label_n2))\n",
    "print(le.classes_)\n",
    "\n",
    "test['ngroup_idx'] = label_n2\n",
    "\n",
    "test['ngroup_idx'].value_counts()\n",
    "test['ngroup_idx'].hist(bins=range(0, 6, 1))\n"
   ]
  },
  {
   "cell_type": "markdown",
   "id": "639b3cb2",
   "metadata": {},
   "source": [
    "room_type을 인코딩 합니다."
   ]
  },
  {
   "cell_type": "code",
   "execution_count": 18,
   "id": "338fe4c6",
   "metadata": {},
   "outputs": [
    {
     "name": "stdout",
     "output_type": "stream",
     "text": [
      "['Private room' 'Entire home/apt' 'Shared room']\n",
      "[1 0 0 ... 0 0 0]\n",
      "{0, 1, 2}\n",
      "['Entire home/apt' 'Private room' 'Shared room']\n"
     ]
    },
    {
     "data": {
      "text/plain": [
       "<AxesSubplot:>"
      ]
     },
     "execution_count": 18,
     "metadata": {},
     "output_type": "execute_result"
    },
    {
     "data": {
      "image/png": "[encoded data removed]",
      "text/plain": [
       "<Figure size 640x480 with 1 Axes>"
      ]
     },
     "metadata": {},
     "output_type": "display_data"
    }
   ],
   "source": [
    "print(train_obj['room_type'].unique())\n",
    "train_obj['room_type'].value_counts()\n",
    "\n",
    "label_r = le.fit_transform(train_obj['room_type'])\n",
    "print(label_r)\n",
    "print(set(label_r))\n",
    "print(le.classes_)\n",
    "train['room_idx'] = label_r\n",
    "train['room_idx'].value_counts()\n",
    "train['room_idx'].hist(bins=range(0, 4, 1))"
   ]
  },
  {
   "cell_type": "code",
   "execution_count": 19,
   "id": "44acebb6",
   "metadata": {},
   "outputs": [
    {
     "name": "stdout",
     "output_type": "stream",
     "text": [
      "[1 0 0 ... 1 1 1]\n",
      "{0, 1, 2}\n"
     ]
    },
    {
     "data": {
      "text/plain": [
       "<AxesSubplot:>"
      ]
     },
     "execution_count": 19,
     "metadata": {},
     "output_type": "execute_result"
    },
    {
     "data": {
      "image/png": "[encoded data removed]",
      "text/plain": [
       "<Figure size 640x480 with 1 Axes>"
      ]
     },
     "metadata": {},
     "output_type": "display_data"
    }
   ],
   "source": [
    "test_obj['room_type'].value_counts()\n",
    "\n",
    "label_r2 = le.fit_transform(test_obj['room_type'])\n",
    "print(label_r2)\n",
    "print(set(label_r2))\n",
    "test['room_idx'] = label_r2\n",
    "test['room_idx'].value_counts()\n",
    "test['room_idx'].hist(bins=range(0, 4, 1))"
   ]
  },
  {
   "attachments": {},
   "cell_type": "markdown",
   "id": "afa138a8",
   "metadata": {},
   "source": [
    "neighbourhood를 인코딩합니다."
   ]
  },
  {
   "cell_type": "code",
   "execution_count": 20,
   "id": "b8344dcf",
   "metadata": {},
   "outputs": [
    {
     "data": {
      "text/plain": [
       "<AxesSubplot:>"
      ]
     },
     "execution_count": 20,
     "metadata": {},
     "output_type": "execute_result"
    },
    {
     "data": {
      "image/png": "[encoded data removed]",
      "text/plain": [
       "<Figure size 640x480 with 1 Axes>"
      ]
     },
     "metadata": {},
     "output_type": "display_data"
    }
   ],
   "source": [
    "# print(train_obj['neighbourhood'].unique())\n",
    "train_obj['neighbourhood'].value_counts()\n",
    "\n",
    "label_h = le.fit_transform(train_obj['neighbourhood'])\n",
    "# print(le.classes_)\n",
    "train['nhood_idx'] = label_h\n",
    "train['nhood_idx'].value_counts()\n",
    "train['nhood_idx'].hist(bins=range(0, 221, 1))"
   ]
  },
  {
   "cell_type": "code",
   "execution_count": 21,
   "id": "ddc674e7",
   "metadata": {},
   "outputs": [
    {
     "data": {
      "text/plain": [
       "<AxesSubplot:>"
      ]
     },
     "execution_count": 21,
     "metadata": {},
     "output_type": "execute_result"
    },
    {
     "data": {
      "image/png": "[encoded data removed]",
      "text/plain": [
       "<Figure size 640x480 with 1 Axes>"
      ]
     },
     "metadata": {},
     "output_type": "display_data"
    }
   ],
   "source": [
    "test_obj['neighbourhood'].value_counts()\n",
    "\n",
    "label_h2 = le.fit_transform(test_obj['neighbourhood'])\n",
    "# print(label_h2)\n",
    "# print(set(label_h2))\n",
    "test['nhood_idx'] = label_h2\n",
    "test['nhood_idx'].value_counts()\n",
    "test['nhood_idx'].hist(bins=range(0, 221, 1))"
   ]
  },
  {
   "cell_type": "markdown",
   "id": "e5ceca5e",
   "metadata": {},
   "source": [
    "분석에 불필요한 컬럼을 삭제합니다. 레이블 인코딩한 오브젝트형 컬럼도 삭제합니다."
   ]
  },
  {
   "cell_type": "code",
   "execution_count": 22,
   "id": "0af43650",
   "metadata": {},
   "outputs": [],
   "source": [
    "# 불필요한 컬럼 살제 (열을 삭제하는 것이라서 축 옵션 =1)\n",
    "train = train.drop('name', axis=1)\n",
    "train = train.drop('host_name', axis=1)\n",
    "test = test.drop('name', axis=1)\n",
    "test = test.drop('host_name', axis=1)\n",
    "\n",
    "train = train.drop('neighbourhood_group', axis=1)\n",
    "train = train.drop('room_type', axis=1)\n",
    "test = test.drop('neighbourhood_group', axis=1)\n",
    "test = test.drop('room_type', axis=1)\n",
    "\n",
    "train = train.drop('neighbourhood', axis=1) #일단은\n",
    "test = test.drop('neighbourhood', axis=1)"
   ]
  },
  {
   "cell_type": "code",
   "execution_count": 23,
   "id": "e7c0a819",
   "metadata": {},
   "outputs": [],
   "source": [
    "# last_review 가공\n",
    "train['last_review'] = train['last_review'].str.replace('-','')\n",
    "test['last_review'] = test['last_review'].str.replace('-','')\n",
    "train['last_review'].isnull().sum() #결측값이 존재\n",
    "\n",
    "train_lastrv = train['last_review'].dropna( axis=0)\n",
    "test_lastrv = test['last_review'].dropna( axis=0)"
   ]
  },
  {
   "cell_type": "code",
   "execution_count": 24,
   "id": "0afa31c6",
   "metadata": {},
   "outputs": [
    {
     "name": "stdout",
     "output_type": "stream",
     "text": [
      "==============================================================\n",
      "28983    20190708\n",
      "17748    20190708\n",
      "9394     20190708\n",
      "Name: last_review, dtype: int32\n",
      "==============================================================\n",
      "4796     20110918\n",
      "16851    20110425\n",
      "5352     20110328\n",
      "Name: last_review, dtype: int32\n",
      "==============================================================\n",
      "20190519.0\n",
      "20190518.0\n"
     ]
    },
    {
     "data": {
      "image/png": "[encoded data removed]",
      "text/plain": [
       "<Figure size 640x480 with 1 Axes>"
      ]
     },
     "metadata": {},
     "output_type": "display_data"
    }
   ],
   "source": [
    "test_lastrv = test_lastrv.astype(int)\n",
    "train_lastrv = train_lastrv.astype(int)\n",
    "print('==============================================================')\n",
    "print(train_lastrv.sort_values(ascending= False).head(3))\n",
    "\n",
    "print('==============================================================')\n",
    "print(train_lastrv.sort_values(ascending= False).tail(3))\n",
    "print('==============================================================')\n",
    "train_lastrv.describe() # 평균적으로 2018년부터 2019년 사이 최근 리뷰가 달렸다.\n",
    "train_lastrv.hist()\n",
    "print(train_lastrv.median())\n",
    "print(test_lastrv.median())\n",
    "\n",
    "train['last_review']  = train_lastrv\n",
    "test['last_review'] = test_lastrv\n"
   ]
  },
  {
   "attachments": {},
   "cell_type": "markdown",
   "id": "6b5a3220",
   "metadata": {},
   "source": [
    "많은 곳이 2018년과 2019년 사이에 리뷰가 달렸음을 확인할 수 있습니다.  \n",
    "최근 리뷰 날짜의 median(중위수)를 이용하여 결측값을 채웁니다."
   ]
  },
  {
   "cell_type": "code",
   "execution_count": 25,
   "id": "d5465b3d",
   "metadata": {},
   "outputs": [],
   "source": [
    "# 결측치 채우기\n",
    "train['last_review'] = train['last_review'].fillna(20190519)\n",
    "test['last_review'] = test['last_review'].fillna(20190519)"
   ]
  },
  {
   "attachments": {},
   "cell_type": "markdown",
   "id": "d29cb70c",
   "metadata": {},
   "source": [
    "reviews_per_month 는 평균값 1.25으로 채워 넣어도 무방하다고 판단하였습니다."
   ]
  },
  {
   "cell_type": "code",
   "execution_count": 26,
   "id": "175c83cd",
   "metadata": {},
   "outputs": [],
   "source": [
    "# 결측치 채우기\n",
    "train['reviews_per_month'] = train['reviews_per_month'].fillna(1.25)\n",
    "test['reviews_per_month'] = test['reviews_per_month'].fillna(1.25)"
   ]
  },
  {
   "cell_type": "code",
   "execution_count": 27,
   "id": "6acdb396",
   "metadata": {},
   "outputs": [
    {
     "name": "stdout",
     "output_type": "stream",
     "text": [
      "<class 'pandas.core.frame.DataFrame'>\n",
      "RangeIndex: 9779 entries, 0 to 9778\n",
      "Data columns (total 13 columns):\n",
      " #   Column                          Non-Null Count  Dtype  \n",
      "---  ------                          --------------  -----  \n",
      " 0   id                              9779 non-null   int64  \n",
      " 1   host_id                         9779 non-null   int64  \n",
      " 2   latitude                        9779 non-null   float64\n",
      " 3   longitude                       9779 non-null   float64\n",
      " 4   minimum_nights                  9779 non-null   int64  \n",
      " 5   number_of_reviews               9779 non-null   int64  \n",
      " 6   last_review                     9779 non-null   float64\n",
      " 7   reviews_per_month               9779 non-null   float64\n",
      " 8   calculated_host_listings_count  9779 non-null   int64  \n",
      " 9   availability_365                9779 non-null   int64  \n",
      " 10  ngroup_idx                      9779 non-null   int32  \n",
      " 11  room_idx                        9779 non-null   int32  \n",
      " 12  nhood_idx                       9779 non-null   int32  \n",
      "dtypes: float64(4), int32(3), int64(6)\n",
      "memory usage: 878.7 KB\n"
     ]
    }
   ],
   "source": [
    "# 가공된 데이터의 결측치 확인\n",
    "train.isnull().sum()\n",
    "test.isnull().sum()\n",
    "#테스트 데이터 확인\n",
    "test.info()"
   ]
  },
  {
   "cell_type": "markdown",
   "id": "5dd2aeca",
   "metadata": {},
   "source": [
    "## 상관계수"
   ]
  },
  {
   "cell_type": "markdown",
   "id": "588b1a03",
   "metadata": {},
   "source": [
    "어떤 피처들을 비교해야 할지 상관관계를 알아봅니다."
   ]
  },
  {
   "cell_type": "code",
   "execution_count": 28,
   "id": "6fd8cad6",
   "metadata": {},
   "outputs": [
    {
     "data": {
      "image/png": "[encoded data removed]",
      "text/plain": [
       "<Figure size 480x480 with 2 Axes>"
      ]
     },
     "metadata": {},
     "output_type": "display_data"
    },
    {
     "data": {
      "image/png": "[encoded data removed]",
      "text/plain": [
       "<Figure size 480x480 with 2 Axes>"
      ]
     },
     "metadata": {},
     "output_type": "display_data"
    }
   ],
   "source": [
    "hmap = train.corr(method='pearson')\n",
    "plt.matshow(hmap)\n",
    "plt.colorbar(shrink=0.8, aspect=10)\n",
    "\n",
    "plt.show()\n",
    "\n",
    "hmap = train.corr(method='spearman')\n",
    "plt.matshow(hmap)\n",
    "plt.colorbar(shrink=0.8, aspect=10)\n",
    "\n",
    "plt.show()"
   ]
  },
  {
   "attachments": {},
   "cell_type": "markdown",
   "id": "213ac220",
   "metadata": {},
   "source": [
    "상관계수(correction)이 0에 가까울수록 선형의 상관관계에서 벗어난다고 볼 수 있습니다.\n",
    "\n",
    "참고 : https://bioinformaticsandme.tistory.com/58(상관계수)"
   ]
  },
  {
   "cell_type": "markdown",
   "id": "798abc41",
   "metadata": {},
   "source": [
    "- 가격과 위치/방 종류는 관계가 있을까요?"
   ]
  },
  {
   "cell_type": "code",
   "execution_count": 29,
   "id": "86b0eec1",
   "metadata": {},
   "outputs": [
    {
     "data": {
      "text/html": [
       "<div>\n",
       "<style scoped>\n",
       "    .dataframe tbody tr th:only-of-type {\n",
       "        vertical-align: middle;\n",
       "    }\n",
       "\n",
       "    .dataframe tbody tr th {\n",
       "        vertical-align: top;\n",
       "    }\n",
       "\n",
       "    .dataframe thead th {\n",
       "        text-align: right;\n",
       "    }\n",
       "</style>\n",
       "<table border=\"1\" class=\"dataframe\">\n",
       "  <thead>\n",
       "    <tr style=\"text-align: right;\">\n",
       "      <th></th>\n",
       "      <th>ngroup_idx</th>\n",
       "      <th>room_idx</th>\n",
       "      <th>nhood_idx</th>\n",
       "      <th>price</th>\n",
       "    </tr>\n",
       "  </thead>\n",
       "  <tbody>\n",
       "    <tr>\n",
       "      <th>ngroup_idx</th>\n",
       "      <td>1.000000</td>\n",
       "      <td>-0.016322</td>\n",
       "      <td>0.110060</td>\n",
       "      <td>0.079997</td>\n",
       "    </tr>\n",
       "    <tr>\n",
       "      <th>room_idx</th>\n",
       "      <td>-0.016322</td>\n",
       "      <td>1.000000</td>\n",
       "      <td>-0.070859</td>\n",
       "      <td>-0.609187</td>\n",
       "    </tr>\n",
       "    <tr>\n",
       "      <th>nhood_idx</th>\n",
       "      <td>0.110060</td>\n",
       "      <td>-0.070859</td>\n",
       "      <td>1.000000</td>\n",
       "      <td>0.138517</td>\n",
       "    </tr>\n",
       "    <tr>\n",
       "      <th>price</th>\n",
       "      <td>0.079997</td>\n",
       "      <td>-0.609187</td>\n",
       "      <td>0.138517</td>\n",
       "      <td>1.000000</td>\n",
       "    </tr>\n",
       "  </tbody>\n",
       "</table>\n",
       "</div>"
      ],
      "text/plain": [
       "            ngroup_idx  room_idx  nhood_idx     price\n",
       "ngroup_idx    1.000000 -0.016322   0.110060  0.079997\n",
       "room_idx     -0.016322  1.000000  -0.070859 -0.609187\n",
       "nhood_idx     0.110060 -0.070859   1.000000  0.138517\n",
       "price         0.079997 -0.609187   0.138517  1.000000"
      ]
     },
     "execution_count": 29,
     "metadata": {},
     "output_type": "execute_result"
    }
   ],
   "source": [
    "train['price'] = target\n",
    "c1 = train[['ngroup_idx','room_idx', 'nhood_idx', 'price']]\n",
    "c1.corr(method='pearson')"
   ]
  },
  {
   "cell_type": "code",
   "execution_count": 30,
   "id": "00a9522d",
   "metadata": {},
   "outputs": [],
   "source": [
    "# train = train.drop('ngroup_idx', axis=1)\n",
    "# test = test.drop('ngroup_idx', axis=1)\n"
   ]
  },
  {
   "cell_type": "code",
   "execution_count": 31,
   "id": "7cbb244f",
   "metadata": {},
   "outputs": [],
   "source": [
    "# train = train.drop('id', axis=1)\n",
    "# test = test.drop('id', axis=1)\n",
    "\n",
    "# train = train.drop('host_id', axis=1)\n",
    "# test = test.drop('host_id', axis=1)\n"
   ]
  },
  {
   "cell_type": "code",
   "execution_count": 32,
   "id": "88a1d234",
   "metadata": {},
   "outputs": [
    {
     "data": {
      "text/html": [
       "<div>\n",
       "<style scoped>\n",
       "    .dataframe tbody tr th:only-of-type {\n",
       "        vertical-align: middle;\n",
       "    }\n",
       "\n",
       "    .dataframe tbody tr th {\n",
       "        vertical-align: top;\n",
       "    }\n",
       "\n",
       "    .dataframe thead th {\n",
       "        text-align: right;\n",
       "    }\n",
       "</style>\n",
       "<table border=\"1\" class=\"dataframe\">\n",
       "  <thead>\n",
       "    <tr style=\"text-align: right;\">\n",
       "      <th></th>\n",
       "      <th>id</th>\n",
       "      <th>host_id</th>\n",
       "      <th>latitude</th>\n",
       "      <th>longitude</th>\n",
       "      <th>minimum_nights</th>\n",
       "      <th>number_of_reviews</th>\n",
       "      <th>last_review</th>\n",
       "      <th>reviews_per_month</th>\n",
       "      <th>calculated_host_listings_count</th>\n",
       "      <th>availability_365</th>\n",
       "      <th>ngroup_idx</th>\n",
       "      <th>room_idx</th>\n",
       "      <th>nhood_idx</th>\n",
       "      <th>price</th>\n",
       "    </tr>\n",
       "  </thead>\n",
       "  <tbody>\n",
       "    <tr>\n",
       "      <th>id</th>\n",
       "      <td>1.000000</td>\n",
       "      <td>0.591261</td>\n",
       "      <td>-0.002445</td>\n",
       "      <td>0.092199</td>\n",
       "      <td>-0.011869</td>\n",
       "      <td>-0.319121</td>\n",
       "      <td>0.386203</td>\n",
       "      <td>0.248804</td>\n",
       "      <td>0.132020</td>\n",
       "      <td>0.085416</td>\n",
       "      <td>0.064471</td>\n",
       "      <td>0.070941</td>\n",
       "      <td>-0.033361</td>\n",
       "      <td>-0.018974</td>\n",
       "    </tr>\n",
       "    <tr>\n",
       "      <th>host_id</th>\n",
       "      <td>0.591261</td>\n",
       "      <td>1.000000</td>\n",
       "      <td>0.020077</td>\n",
       "      <td>0.129314</td>\n",
       "      <td>-0.016550</td>\n",
       "      <td>-0.141992</td>\n",
       "      <td>0.245195</td>\n",
       "      <td>0.251870</td>\n",
       "      <td>0.152545</td>\n",
       "      <td>0.201772</td>\n",
       "      <td>0.113297</td>\n",
       "      <td>0.092852</td>\n",
       "      <td>-0.026279</td>\n",
       "      <td>-0.019322</td>\n",
       "    </tr>\n",
       "    <tr>\n",
       "      <th>latitude</th>\n",
       "      <td>-0.002445</td>\n",
       "      <td>0.020077</td>\n",
       "      <td>1.000000</td>\n",
       "      <td>0.082819</td>\n",
       "      <td>0.026376</td>\n",
       "      <td>-0.010896</td>\n",
       "      <td>-0.007900</td>\n",
       "      <td>-0.005226</td>\n",
       "      <td>0.020802</td>\n",
       "      <td>-0.006414</td>\n",
       "      <td>0.279038</td>\n",
       "      <td>0.007921</td>\n",
       "      <td>0.234582</td>\n",
       "      <td>0.078461</td>\n",
       "    </tr>\n",
       "    <tr>\n",
       "      <th>longitude</th>\n",
       "      <td>0.092199</td>\n",
       "      <td>0.129314</td>\n",
       "      <td>0.082819</td>\n",
       "      <td>1.000000</td>\n",
       "      <td>-0.061787</td>\n",
       "      <td>0.059188</td>\n",
       "      <td>0.078375</td>\n",
       "      <td>0.130995</td>\n",
       "      <td>-0.114195</td>\n",
       "      <td>0.087417</td>\n",
       "      <td>0.104786</td>\n",
       "      <td>0.185285</td>\n",
       "      <td>-0.100672</td>\n",
       "      <td>-0.324487</td>\n",
       "    </tr>\n",
       "    <tr>\n",
       "      <th>minimum_nights</th>\n",
       "      <td>-0.011869</td>\n",
       "      <td>-0.016550</td>\n",
       "      <td>0.026376</td>\n",
       "      <td>-0.061787</td>\n",
       "      <td>1.000000</td>\n",
       "      <td>-0.078471</td>\n",
       "      <td>-0.007553</td>\n",
       "      <td>-0.095274</td>\n",
       "      <td>0.130441</td>\n",
       "      <td>0.141984</td>\n",
       "      <td>0.017546</td>\n",
       "      <td>-0.071361</td>\n",
       "      <td>0.026080</td>\n",
       "      <td>0.028839</td>\n",
       "    </tr>\n",
       "    <tr>\n",
       "      <th>number_of_reviews</th>\n",
       "      <td>-0.319121</td>\n",
       "      <td>-0.141992</td>\n",
       "      <td>-0.010896</td>\n",
       "      <td>0.059188</td>\n",
       "      <td>-0.078471</td>\n",
       "      <td>1.000000</td>\n",
       "      <td>0.185511</td>\n",
       "      <td>0.536678</td>\n",
       "      <td>-0.072237</td>\n",
       "      <td>0.172597</td>\n",
       "      <td>0.003952</td>\n",
       "      <td>0.001982</td>\n",
       "      <td>-0.037886</td>\n",
       "      <td>-0.043135</td>\n",
       "    </tr>\n",
       "    <tr>\n",
       "      <th>last_review</th>\n",
       "      <td>0.386203</td>\n",
       "      <td>0.245195</td>\n",
       "      <td>-0.007900</td>\n",
       "      <td>0.078375</td>\n",
       "      <td>-0.007553</td>\n",
       "      <td>0.185511</td>\n",
       "      <td>1.000000</td>\n",
       "      <td>0.402045</td>\n",
       "      <td>0.067600</td>\n",
       "      <td>0.257885</td>\n",
       "      <td>0.037752</td>\n",
       "      <td>0.016178</td>\n",
       "      <td>-0.034955</td>\n",
       "      <td>0.017781</td>\n",
       "    </tr>\n",
       "    <tr>\n",
       "      <th>reviews_per_month</th>\n",
       "      <td>0.248804</td>\n",
       "      <td>0.251870</td>\n",
       "      <td>-0.005226</td>\n",
       "      <td>0.130995</td>\n",
       "      <td>-0.095274</td>\n",
       "      <td>0.536678</td>\n",
       "      <td>0.402045</td>\n",
       "      <td>1.000000</td>\n",
       "      <td>-0.011740</td>\n",
       "      <td>0.162710</td>\n",
       "      <td>0.067890</td>\n",
       "      <td>0.037073</td>\n",
       "      <td>-0.044366</td>\n",
       "      <td>-0.039811</td>\n",
       "    </tr>\n",
       "    <tr>\n",
       "      <th>calculated_host_listings_count</th>\n",
       "      <td>0.132020</td>\n",
       "      <td>0.152545</td>\n",
       "      <td>0.020802</td>\n",
       "      <td>-0.114195</td>\n",
       "      <td>0.130441</td>\n",
       "      <td>-0.072237</td>\n",
       "      <td>0.067600</td>\n",
       "      <td>-0.011740</td>\n",
       "      <td>1.000000</td>\n",
       "      <td>0.225041</td>\n",
       "      <td>0.073447</td>\n",
       "      <td>-0.105029</td>\n",
       "      <td>0.010346</td>\n",
       "      <td>0.131348</td>\n",
       "    </tr>\n",
       "    <tr>\n",
       "      <th>availability_365</th>\n",
       "      <td>0.085416</td>\n",
       "      <td>0.201772</td>\n",
       "      <td>-0.006414</td>\n",
       "      <td>0.087417</td>\n",
       "      <td>0.141984</td>\n",
       "      <td>0.172597</td>\n",
       "      <td>0.257885</td>\n",
       "      <td>0.162710</td>\n",
       "      <td>0.225041</td>\n",
       "      <td>1.000000</td>\n",
       "      <td>0.080003</td>\n",
       "      <td>0.024775</td>\n",
       "      <td>-0.034452</td>\n",
       "      <td>0.098602</td>\n",
       "    </tr>\n",
       "    <tr>\n",
       "      <th>ngroup_idx</th>\n",
       "      <td>0.064471</td>\n",
       "      <td>0.113297</td>\n",
       "      <td>0.279038</td>\n",
       "      <td>0.104786</td>\n",
       "      <td>0.017546</td>\n",
       "      <td>0.003952</td>\n",
       "      <td>0.037752</td>\n",
       "      <td>0.067890</td>\n",
       "      <td>0.073447</td>\n",
       "      <td>0.080003</td>\n",
       "      <td>1.000000</td>\n",
       "      <td>-0.016322</td>\n",
       "      <td>0.110060</td>\n",
       "      <td>0.079997</td>\n",
       "    </tr>\n",
       "    <tr>\n",
       "      <th>room_idx</th>\n",
       "      <td>0.070941</td>\n",
       "      <td>0.092852</td>\n",
       "      <td>0.007921</td>\n",
       "      <td>0.185285</td>\n",
       "      <td>-0.071361</td>\n",
       "      <td>0.001982</td>\n",
       "      <td>0.016178</td>\n",
       "      <td>0.037073</td>\n",
       "      <td>-0.105029</td>\n",
       "      <td>0.024775</td>\n",
       "      <td>-0.016322</td>\n",
       "      <td>1.000000</td>\n",
       "      <td>-0.070859</td>\n",
       "      <td>-0.609187</td>\n",
       "    </tr>\n",
       "    <tr>\n",
       "      <th>nhood_idx</th>\n",
       "      <td>-0.033361</td>\n",
       "      <td>-0.026279</td>\n",
       "      <td>0.234582</td>\n",
       "      <td>-0.100672</td>\n",
       "      <td>0.026080</td>\n",
       "      <td>-0.037886</td>\n",
       "      <td>-0.034955</td>\n",
       "      <td>-0.044366</td>\n",
       "      <td>0.010346</td>\n",
       "      <td>-0.034452</td>\n",
       "      <td>0.110060</td>\n",
       "      <td>-0.070859</td>\n",
       "      <td>1.000000</td>\n",
       "      <td>0.138517</td>\n",
       "    </tr>\n",
       "    <tr>\n",
       "      <th>price</th>\n",
       "      <td>-0.018974</td>\n",
       "      <td>-0.019322</td>\n",
       "      <td>0.078461</td>\n",
       "      <td>-0.324487</td>\n",
       "      <td>0.028839</td>\n",
       "      <td>-0.043135</td>\n",
       "      <td>0.017781</td>\n",
       "      <td>-0.039811</td>\n",
       "      <td>0.131348</td>\n",
       "      <td>0.098602</td>\n",
       "      <td>0.079997</td>\n",
       "      <td>-0.609187</td>\n",
       "      <td>0.138517</td>\n",
       "      <td>1.000000</td>\n",
       "    </tr>\n",
       "  </tbody>\n",
       "</table>\n",
       "</div>"
      ],
      "text/plain": [
       "                                      id   host_id  latitude  longitude  \\\n",
       "id                              1.000000  0.591261 -0.002445   0.092199   \n",
       "host_id                         0.591261  1.000000  0.020077   0.129314   \n",
       "latitude                       -0.002445  0.020077  1.000000   0.082819   \n",
       "longitude                       0.092199  0.129314  0.082819   1.000000   \n",
       "minimum_nights                 -0.011869 -0.016550  0.026376  -0.061787   \n",
       "number_of_reviews              -0.319121 -0.141992 -0.010896   0.059188   \n",
       "last_review                     0.386203  0.245195 -0.007900   0.078375   \n",
       "reviews_per_month               0.248804  0.251870 -0.005226   0.130995   \n",
       "calculated_host_listings_count  0.132020  0.152545  0.020802  -0.114195   \n",
       "availability_365                0.085416  0.201772 -0.006414   0.087417   \n",
       "ngroup_idx                      0.064471  0.113297  0.279038   0.104786   \n",
       "room_idx                        0.070941  0.092852  0.007921   0.185285   \n",
       "nhood_idx                      -0.033361 -0.026279  0.234582  -0.100672   \n",
       "price                          -0.018974 -0.019322  0.078461  -0.324487   \n",
       "\n",
       "                                minimum_nights  number_of_reviews  \\\n",
       "id                                   -0.011869          -0.319121   \n",
       "host_id                              -0.016550          -0.141992   \n",
       "latitude                              0.026376          -0.010896   \n",
       "longitude                            -0.061787           0.059188   \n",
       "minimum_nights                        1.000000          -0.078471   \n",
       "number_of_reviews                    -0.078471           1.000000   \n",
       "last_review                          -0.007553           0.185511   \n",
       "reviews_per_month                    -0.095274           0.536678   \n",
       "calculated_host_listings_count        0.130441          -0.072237   \n",
       "availability_365                      0.141984           0.172597   \n",
       "ngroup_idx                            0.017546           0.003952   \n",
       "room_idx                             -0.071361           0.001982   \n",
       "nhood_idx                             0.026080          -0.037886   \n",
       "price                                 0.028839          -0.043135   \n",
       "\n",
       "                                last_review  reviews_per_month  \\\n",
       "id                                 0.386203           0.248804   \n",
       "host_id                            0.245195           0.251870   \n",
       "latitude                          -0.007900          -0.005226   \n",
       "longitude                          0.078375           0.130995   \n",
       "minimum_nights                    -0.007553          -0.095274   \n",
       "number_of_reviews                  0.185511           0.536678   \n",
       "last_review                        1.000000           0.402045   \n",
       "reviews_per_month                  0.402045           1.000000   \n",
       "calculated_host_listings_count     0.067600          -0.011740   \n",
       "availability_365                   0.257885           0.162710   \n",
       "ngroup_idx                         0.037752           0.067890   \n",
       "room_idx                           0.016178           0.037073   \n",
       "nhood_idx                         -0.034955          -0.044366   \n",
       "price                              0.017781          -0.039811   \n",
       "\n",
       "                                calculated_host_listings_count  \\\n",
       "id                                                    0.132020   \n",
       "host_id                                               0.152545   \n",
       "latitude                                              0.020802   \n",
       "longitude                                            -0.114195   \n",
       "minimum_nights                                        0.130441   \n",
       "number_of_reviews                                    -0.072237   \n",
       "last_review                                           0.067600   \n",
       "reviews_per_month                                    -0.011740   \n",
       "calculated_host_listings_count                        1.000000   \n",
       "availability_365                                      0.225041   \n",
       "ngroup_idx                                            0.073447   \n",
       "room_idx                                             -0.105029   \n",
       "nhood_idx                                             0.010346   \n",
       "price                                                 0.131348   \n",
       "\n",
       "                                availability_365  ngroup_idx  room_idx  \\\n",
       "id                                      0.085416    0.064471  0.070941   \n",
       "host_id                                 0.201772    0.113297  0.092852   \n",
       "latitude                               -0.006414    0.279038  0.007921   \n",
       "longitude                               0.087417    0.104786  0.185285   \n",
       "minimum_nights                          0.141984    0.017546 -0.071361   \n",
       "number_of_reviews                       0.172597    0.003952  0.001982   \n",
       "last_review                             0.257885    0.037752  0.016178   \n",
       "reviews_per_month                       0.162710    0.067890  0.037073   \n",
       "calculated_host_listings_count          0.225041    0.073447 -0.105029   \n",
       "availability_365                        1.000000    0.080003  0.024775   \n",
       "ngroup_idx                              0.080003    1.000000 -0.016322   \n",
       "room_idx                                0.024775   -0.016322  1.000000   \n",
       "nhood_idx                              -0.034452    0.110060 -0.070859   \n",
       "price                                   0.098602    0.079997 -0.609187   \n",
       "\n",
       "                                nhood_idx     price  \n",
       "id                              -0.033361 -0.018974  \n",
       "host_id                         -0.026279 -0.019322  \n",
       "latitude                         0.234582  0.078461  \n",
       "longitude                       -0.100672 -0.324487  \n",
       "minimum_nights                   0.026080  0.028839  \n",
       "number_of_reviews               -0.037886 -0.043135  \n",
       "last_review                     -0.034955  0.017781  \n",
       "reviews_per_month               -0.044366 -0.039811  \n",
       "calculated_host_listings_count   0.010346  0.131348  \n",
       "availability_365                -0.034452  0.098602  \n",
       "ngroup_idx                       0.110060  0.079997  \n",
       "room_idx                        -0.070859 -0.609187  \n",
       "nhood_idx                        1.000000  0.138517  \n",
       "price                            0.138517  1.000000  "
      ]
     },
     "execution_count": 32,
     "metadata": {},
     "output_type": "execute_result"
    }
   ],
   "source": [
    "train.corr()"
   ]
  },
  {
   "cell_type": "code",
   "execution_count": 33,
   "id": "1f6cddd5",
   "metadata": {},
   "outputs": [],
   "source": [
    "\n",
    "train = train.drop('price', axis=1)"
   ]
  },
  {
   "cell_type": "code",
   "execution_count": 34,
   "id": "62b998f8",
   "metadata": {},
   "outputs": [
    {
     "name": "stdout",
     "output_type": "stream",
     "text": [
      "<class 'pandas.core.frame.DataFrame'>\n",
      "RangeIndex: 9779 entries, 0 to 9778\n",
      "Data columns (total 13 columns):\n",
      " #   Column                          Non-Null Count  Dtype  \n",
      "---  ------                          --------------  -----  \n",
      " 0   id                              9779 non-null   int64  \n",
      " 1   host_id                         9779 non-null   int64  \n",
      " 2   latitude                        9779 non-null   float64\n",
      " 3   longitude                       9779 non-null   float64\n",
      " 4   minimum_nights                  9779 non-null   int64  \n",
      " 5   number_of_reviews               9779 non-null   int64  \n",
      " 6   last_review                     9779 non-null   float64\n",
      " 7   reviews_per_month               9779 non-null   float64\n",
      " 8   calculated_host_listings_count  9779 non-null   int64  \n",
      " 9   availability_365                9779 non-null   int64  \n",
      " 10  ngroup_idx                      9779 non-null   int32  \n",
      " 11  room_idx                        9779 non-null   int32  \n",
      " 12  nhood_idx                       9779 non-null   int32  \n",
      "dtypes: float64(4), int32(3), int64(6)\n",
      "memory usage: 878.7 KB\n",
      "<class 'pandas.core.frame.DataFrame'>\n",
      "RangeIndex: 39116 entries, 0 to 39115\n",
      "Data columns (total 13 columns):\n",
      " #   Column                          Non-Null Count  Dtype  \n",
      "---  ------                          --------------  -----  \n",
      " 0   id                              39116 non-null  int64  \n",
      " 1   host_id                         39116 non-null  int64  \n",
      " 2   latitude                        39116 non-null  float64\n",
      " 3   longitude                       39116 non-null  float64\n",
      " 4   minimum_nights                  39116 non-null  int64  \n",
      " 5   number_of_reviews               39116 non-null  int64  \n",
      " 6   last_review                     39116 non-null  float64\n",
      " 7   reviews_per_month               39116 non-null  float64\n",
      " 8   calculated_host_listings_count  39116 non-null  int64  \n",
      " 9   availability_365                39116 non-null  int64  \n",
      " 10  ngroup_idx                      39116 non-null  int32  \n",
      " 11  room_idx                        39116 non-null  int32  \n",
      " 12  nhood_idx                       39116 non-null  int32  \n",
      "dtypes: float64(4), int32(3), int64(6)\n",
      "memory usage: 3.4 MB\n"
     ]
    }
   ],
   "source": [
    "test.info()\n",
    "train.info()"
   ]
  },
  {
   "attachments": {},
   "cell_type": "markdown",
   "id": "8609ac9f",
   "metadata": {},
   "source": [
    "## 스케일링"
   ]
  },
  {
   "cell_type": "code",
   "execution_count": 35,
   "id": "991469c3",
   "metadata": {},
   "outputs": [
    {
     "data": {
      "text/html": [
       "<div>\n",
       "<style scoped>\n",
       "    .dataframe tbody tr th:only-of-type {\n",
       "        vertical-align: middle;\n",
       "    }\n",
       "\n",
       "    .dataframe tbody tr th {\n",
       "        vertical-align: top;\n",
       "    }\n",
       "\n",
       "    .dataframe thead th {\n",
       "        text-align: right;\n",
       "    }\n",
       "</style>\n",
       "<table border=\"1\" class=\"dataframe\">\n",
       "  <thead>\n",
       "    <tr style=\"text-align: right;\">\n",
       "      <th></th>\n",
       "      <th>id</th>\n",
       "      <th>host_id</th>\n",
       "      <th>latitude</th>\n",
       "      <th>longitude</th>\n",
       "      <th>minimum_nights</th>\n",
       "      <th>number_of_reviews</th>\n",
       "      <th>last_review</th>\n",
       "      <th>reviews_per_month</th>\n",
       "      <th>calculated_host_listings_count</th>\n",
       "      <th>availability_365</th>\n",
       "      <th>ngroup_idx</th>\n",
       "      <th>room_idx</th>\n",
       "      <th>nhood_idx</th>\n",
       "    </tr>\n",
       "  </thead>\n",
       "  <tbody>\n",
       "    <tr>\n",
       "      <th>0</th>\n",
       "      <td>14963583</td>\n",
       "      <td>94219511</td>\n",
       "      <td>40.80167</td>\n",
       "      <td>-73.95781</td>\n",
       "      <td>3</td>\n",
       "      <td>3</td>\n",
       "      <td>20190101.0</td>\n",
       "      <td>0.09</td>\n",
       "      <td>2</td>\n",
       "      <td>0</td>\n",
       "      <td>2</td>\n",
       "      <td>1</td>\n",
       "      <td>94</td>\n",
       "    </tr>\n",
       "  </tbody>\n",
       "</table>\n",
       "</div>"
      ],
      "text/plain": [
       "         id   host_id  latitude  longitude  minimum_nights  number_of_reviews  \\\n",
       "0  14963583  94219511  40.80167  -73.95781               3                  3   \n",
       "\n",
       "   last_review  reviews_per_month  calculated_host_listings_count  \\\n",
       "0   20190101.0               0.09                               2   \n",
       "\n",
       "   availability_365  ngroup_idx  room_idx  nhood_idx  \n",
       "0                 0           2         1         94  "
      ]
     },
     "metadata": {},
     "output_type": "display_data"
    },
    {
     "data": {
      "text/html": [
       "<div>\n",
       "<style scoped>\n",
       "    .dataframe tbody tr th:only-of-type {\n",
       "        vertical-align: middle;\n",
       "    }\n",
       "\n",
       "    .dataframe tbody tr th {\n",
       "        vertical-align: top;\n",
       "    }\n",
       "\n",
       "    .dataframe thead th {\n",
       "        text-align: right;\n",
       "    }\n",
       "</style>\n",
       "<table border=\"1\" class=\"dataframe\">\n",
       "  <thead>\n",
       "    <tr style=\"text-align: right;\">\n",
       "      <th></th>\n",
       "      <th>id</th>\n",
       "      <th>host_id</th>\n",
       "      <th>latitude</th>\n",
       "      <th>longitude</th>\n",
       "      <th>minimum_nights</th>\n",
       "      <th>number_of_reviews</th>\n",
       "      <th>last_review</th>\n",
       "      <th>reviews_per_month</th>\n",
       "      <th>calculated_host_listings_count</th>\n",
       "      <th>availability_365</th>\n",
       "      <th>ngroup_idx</th>\n",
       "      <th>room_idx</th>\n",
       "      <th>nhood_idx</th>\n",
       "    </tr>\n",
       "  </thead>\n",
       "  <tbody>\n",
       "    <tr>\n",
       "      <th>0</th>\n",
       "      <td>14963583</td>\n",
       "      <td>0.343458</td>\n",
       "      <td>0.731742</td>\n",
       "      <td>0.539318</td>\n",
       "      <td>0.001601</td>\n",
       "      <td>0.004769</td>\n",
       "      <td>0.992448</td>\n",
       "      <td>0.001368</td>\n",
       "      <td>0.003067</td>\n",
       "      <td>0.0</td>\n",
       "      <td>2</td>\n",
       "      <td>1</td>\n",
       "      <td>94</td>\n",
       "    </tr>\n",
       "  </tbody>\n",
       "</table>\n",
       "</div>"
      ],
      "text/plain": [
       "         id   host_id  latitude  longitude  minimum_nights  number_of_reviews  \\\n",
       "0  14963583  0.343458  0.731742   0.539318        0.001601           0.004769   \n",
       "\n",
       "   last_review  reviews_per_month  calculated_host_listings_count  \\\n",
       "0     0.992448           0.001368                        0.003067   \n",
       "\n",
       "   availability_365  ngroup_idx  room_idx  nhood_idx  \n",
       "0               0.0           2         1         94  "
      ]
     },
     "metadata": {},
     "output_type": "display_data"
    },
    {
     "data": {
      "text/html": [
       "<div>\n",
       "<style scoped>\n",
       "    .dataframe tbody tr th:only-of-type {\n",
       "        vertical-align: middle;\n",
       "    }\n",
       "\n",
       "    .dataframe tbody tr th {\n",
       "        vertical-align: top;\n",
       "    }\n",
       "\n",
       "    .dataframe thead th {\n",
       "        text-align: right;\n",
       "    }\n",
       "</style>\n",
       "<table border=\"1\" class=\"dataframe\">\n",
       "  <thead>\n",
       "    <tr style=\"text-align: right;\">\n",
       "      <th></th>\n",
       "      <th>id</th>\n",
       "      <th>host_id</th>\n",
       "      <th>latitude</th>\n",
       "      <th>longitude</th>\n",
       "      <th>minimum_nights</th>\n",
       "      <th>number_of_reviews</th>\n",
       "      <th>last_review</th>\n",
       "      <th>reviews_per_month</th>\n",
       "      <th>calculated_host_listings_count</th>\n",
       "      <th>availability_365</th>\n",
       "      <th>ngroup_idx</th>\n",
       "      <th>room_idx</th>\n",
       "      <th>nhood_idx</th>\n",
       "    </tr>\n",
       "  </thead>\n",
       "  <tbody>\n",
       "    <tr>\n",
       "      <th>0</th>\n",
       "      <td>30913224</td>\n",
       "      <td>0.1231</td>\n",
       "      <td>0.508544</td>\n",
       "      <td>0.560563</td>\n",
       "      <td>0.001601</td>\n",
       "      <td>0.00318</td>\n",
       "      <td>0.997512</td>\n",
       "      <td>0.005129</td>\n",
       "      <td>0.0</td>\n",
       "      <td>0.0</td>\n",
       "      <td>1</td>\n",
       "      <td>1</td>\n",
       "      <td>187</td>\n",
       "    </tr>\n",
       "  </tbody>\n",
       "</table>\n",
       "</div>"
      ],
      "text/plain": [
       "         id  host_id  latitude  longitude  minimum_nights  number_of_reviews  \\\n",
       "0  30913224   0.1231  0.508544   0.560563        0.001601            0.00318   \n",
       "\n",
       "   last_review  reviews_per_month  calculated_host_listings_count  \\\n",
       "0     0.997512           0.005129                             0.0   \n",
       "\n",
       "   availability_365  ngroup_idx  room_idx  nhood_idx  \n",
       "0               0.0           1         1        187  "
      ]
     },
     "metadata": {},
     "output_type": "display_data"
    }
   ],
   "source": [
    "# 스케일러 선택\n",
    "from sklearn.preprocessing import MinMaxScaler\n",
    "scaler = MinMaxScaler()\n",
    "# from sklearn.preprocessing import StandardScaler\n",
    "# scaler = StandardScaler()\n",
    "#스케일링할 피처 선택\n",
    "cols = [\n",
    "        'latitude',\n",
    "        'host_id',        \n",
    "        'latitude',\n",
    "        'longitude',\n",
    "        'minimum_nights',\n",
    "        'number_of_reviews', \n",
    "        'last_review',\n",
    "        'reviews_per_month',\n",
    "        'calculated_host_listings_count',\n",
    "        'availability_365',\n",
    "        # 'ngroup_idx',\n",
    "        # 'room_idx',\n",
    "        # 'nhood_idx'\n",
    "        ]\n",
    "\n",
    "display(train.head(1))\n",
    "train[cols] = scaler.fit_transform(train[cols])\n",
    "test[cols] = scaler.transform(test[cols])\n",
    "display(train.head(1))\n",
    "display(test.head(1))"
   ]
  },
  {
   "attachments": {},
   "cell_type": "markdown",
   "id": "01506116",
   "metadata": {},
   "source": [
    "마지막으로 어떤 피처로 모델을 학습해야 할지 정해야겠습니다. price와의 상관계수를 보고 0에 가까운 몇개는 드랍하는 쪽이 오버피팅이 덜 될 것이라고 생각했습니다. 하지만 여러번을 시도한 결과 삭제하는 피처가 없을 때 가장 오차가 적었습니다.\n"
   ]
  },
  {
   "cell_type": "code",
   "execution_count": 36,
   "id": "8aa22dac",
   "metadata": {},
   "outputs": [],
   "source": [
    "# train = train.drop('minimum_nights', axis=1)\n",
    "# test = test.drop('minimum_nights', axis=1)"
   ]
  },
  {
   "cell_type": "code",
   "execution_count": 37,
   "id": "065de853",
   "metadata": {},
   "outputs": [],
   "source": [
    "\n",
    "# train = train.drop('last_review', axis=1)\n",
    "# test = test.drop('last_review', axis=1)"
   ]
  },
  {
   "cell_type": "code",
   "execution_count": 38,
   "id": "1f30cbfb",
   "metadata": {},
   "outputs": [
    {
     "data": {
      "text/html": [
       "<div>\n",
       "<style scoped>\n",
       "    .dataframe tbody tr th:only-of-type {\n",
       "        vertical-align: middle;\n",
       "    }\n",
       "\n",
       "    .dataframe tbody tr th {\n",
       "        vertical-align: top;\n",
       "    }\n",
       "\n",
       "    .dataframe thead th {\n",
       "        text-align: right;\n",
       "    }\n",
       "</style>\n",
       "<table border=\"1\" class=\"dataframe\">\n",
       "  <thead>\n",
       "    <tr style=\"text-align: right;\">\n",
       "      <th></th>\n",
       "      <th>id</th>\n",
       "      <th>host_id</th>\n",
       "      <th>latitude</th>\n",
       "      <th>longitude</th>\n",
       "      <th>minimum_nights</th>\n",
       "      <th>number_of_reviews</th>\n",
       "      <th>last_review</th>\n",
       "      <th>reviews_per_month</th>\n",
       "      <th>calculated_host_listings_count</th>\n",
       "      <th>availability_365</th>\n",
       "      <th>ngroup_idx</th>\n",
       "      <th>room_idx</th>\n",
       "      <th>nhood_idx</th>\n",
       "    </tr>\n",
       "  </thead>\n",
       "  <tbody>\n",
       "    <tr>\n",
       "      <th>0</th>\n",
       "      <td>14963583</td>\n",
       "      <td>0.343458</td>\n",
       "      <td>0.731742</td>\n",
       "      <td>0.539318</td>\n",
       "      <td>0.001601</td>\n",
       "      <td>0.004769</td>\n",
       "      <td>0.992448</td>\n",
       "      <td>0.001368</td>\n",
       "      <td>0.003067</td>\n",
       "      <td>0.000000</td>\n",
       "      <td>2</td>\n",
       "      <td>1</td>\n",
       "      <td>94</td>\n",
       "    </tr>\n",
       "    <tr>\n",
       "      <th>1</th>\n",
       "      <td>9458704</td>\n",
       "      <td>0.178671</td>\n",
       "      <td>0.631633</td>\n",
       "      <td>0.478445</td>\n",
       "      <td>0.000801</td>\n",
       "      <td>0.101749</td>\n",
       "      <td>0.999030</td>\n",
       "      <td>0.028552</td>\n",
       "      <td>0.003067</td>\n",
       "      <td>0.717808</td>\n",
       "      <td>2</td>\n",
       "      <td>0</td>\n",
       "      <td>95</td>\n",
       "    </tr>\n",
       "  </tbody>\n",
       "</table>\n",
       "</div>"
      ],
      "text/plain": [
       "         id   host_id  latitude  longitude  minimum_nights  number_of_reviews  \\\n",
       "0  14963583  0.343458  0.731742   0.539318        0.001601           0.004769   \n",
       "1   9458704  0.178671  0.631633   0.478445        0.000801           0.101749   \n",
       "\n",
       "   last_review  reviews_per_month  calculated_host_listings_count  \\\n",
       "0     0.992448           0.001368                        0.003067   \n",
       "1     0.999030           0.028552                        0.003067   \n",
       "\n",
       "   availability_365  ngroup_idx  room_idx  nhood_idx  \n",
       "0          0.000000           2         1         94  \n",
       "1          0.717808           2         0         95  "
      ]
     },
     "execution_count": 38,
     "metadata": {},
     "output_type": "execute_result"
    }
   ],
   "source": [
    "train.head(2)"
   ]
  },
  {
   "cell_type": "markdown",
   "id": "13680960",
   "metadata": {},
   "source": [
    "## 4. 검증 데이터 split  (train_test_split)"
   ]
  },
  {
   "cell_type": "markdown",
   "id": "c24504e9",
   "metadata": {},
   "source": [
    " validation 셋의 비율을 20%정도로 해서 테이터를 나누어 줍니다. "
   ]
  },
  {
   "cell_type": "code",
   "execution_count": 39,
   "id": "16aaf31e",
   "metadata": {},
   "outputs": [
    {
     "data": {
      "text/plain": [
       "((31292, 13), (7824, 13), (31292,), (7824,))"
      ]
     },
     "execution_count": 39,
     "metadata": {},
     "output_type": "execute_result"
    }
   ],
   "source": [
    "# 검증 데이터 분리\n",
    "from sklearn.model_selection import train_test_split\n",
    "\n",
    "X_train, X_val, y_train, y_val = train_test_split(train, target, test_size=0.20 ,random_state=2022)\n",
    "X_train.shape, X_val.shape, y_train.shape, y_val.shape"
   ]
  },
  {
   "cell_type": "markdown",
   "id": "d19a92a8",
   "metadata": {},
   "source": [
    "## 5. 머신러닝"
   ]
  },
  {
   "cell_type": "code",
   "execution_count": 40,
   "id": "bb718a37",
   "metadata": {},
   "outputs": [],
   "source": [
    "from sklearn.metrics import mean_squared_error"
   ]
  },
  {
   "cell_type": "code",
   "execution_count": 41,
   "id": "0021c4ac",
   "metadata": {
    "scrolled": false
   },
   "outputs": [
    {
     "data": {
      "text/plain": [
       "0.17291274489290123"
      ]
     },
     "execution_count": 41,
     "metadata": {},
     "output_type": "execute_result"
    }
   ],
   "source": [
    "# Xgboost\n",
    "from xgboost import XGBRegressor\n",
    "model1 = XGBRegressor(learning_rate=0.01,\n",
    "n_estimators=1000, subsample=0.8, max_depth=10, \n",
    "random_state=2022)\n",
    "\n",
    "model1.fit(X_train, y_train)\n",
    "pred = model1.predict(X_val)\n",
    "mean_squared_error(y_val, pred)"
   ]
  },
  {
   "cell_type": "code",
   "execution_count": 42,
   "id": "a4673317",
   "metadata": {},
   "outputs": [
    {
     "data": {
      "text/plain": [
       "0.18497291004594527"
      ]
     },
     "execution_count": 42,
     "metadata": {},
     "output_type": "execute_result"
    }
   ],
   "source": [
    "from sklearn.ensemble import RandomForestRegressor\n",
    "model2 = RandomForestRegressor(random_state=2022,\n",
    "n_estimators =300, min_samples_split  =10,\n",
    "min_samples_leaf = 10, max_depth = 15\n",
    ")\n",
    "\n",
    "model2.fit(X_train, y_train)\n",
    "pred = model2.predict(X_val)\n",
    "mean_squared_error(y_val, pred)"
   ]
  },
  {
   "attachments": {},
   "cell_type": "markdown",
   "id": "e5ac5735",
   "metadata": {},
   "source": [
    "다양한 모델을 적용해가며 가장 정확도가 높은 xgboost를 선택했습니다. 다른 모델은 회귀 항목을 참조해주세요."
   ]
  },
  {
   "cell_type": "code",
   "execution_count": 43,
   "id": "224663e9",
   "metadata": {},
   "outputs": [
    {
     "data": {
      "text/plain": [
       "0.17659713528622176"
      ]
     },
     "execution_count": 43,
     "metadata": {},
     "output_type": "execute_result"
    }
   ],
   "source": [
    "from sklearn.ensemble import VotingRegressor\n",
    "\n",
    "single_models = [\n",
    "    ('model1', XGBRegressor(learning_rate=0.01,\n",
    "n_estimators=1000, subsample=0.8, max_depth=10, \n",
    "random_state=2022) ),\n",
    "    ('model2', RandomForestRegressor(random_state=2022,\n",
    "n_estimators =300, min_samples_split  =10,\n",
    "min_samples_leaf = 10, max_depth = 15) )\n",
    "]\n",
    "\n",
    "voting_regressor = VotingRegressor(single_models, n_jobs=-1)\n",
    "voting_regressor.fit(X_train,y_train)\n",
    "VotingRegressor(estimators = [('scaler1', XGBRegressor(learning_rate=0.01,\n",
    "n_estimators=1000, subsample=0.8, max_depth=10, \n",
    "random_state=2022) ),\n",
    "    ('scaler2', RandomForestRegressor(random_state=2022,\n",
    "n_estimators =300, min_samples_split  =10,\n",
    "min_samples_leaf = 10, max_depth = 15) )\n",
    "])\n",
    "    \n",
    "voting_pred = voting_regressor.predict(X_val)\n",
    "\n",
    "mean_squared_error(y_val, voting_pred)"
   ]
  },
  {
   "cell_type": "code",
   "execution_count": 44,
   "id": "a3bd7d65",
   "metadata": {},
   "outputs": [
    {
     "name": "stdout",
     "output_type": "stream",
     "text": [
      "0.17659713528622176\n"
     ]
    }
   ],
   "source": [
    "print(mean_squared_error(y_val, voting_pred))"
   ]
  },
  {
   "attachments": {},
   "cell_type": "markdown",
   "id": "a29a905e",
   "metadata": {},
   "source": [
    "최적의 하이퍼 파라미터를 위해 그리드서치와 랜덤서치를 시도해 보았습니다. 그리드서치는 시간이 너무 오래 걸려 효율적이지 못하다고 판단했습니다. 랜덤서치의 패러미터들이 선택할 수 있는 수치의 범위를 점점 좁혀가며 그 중에 가장 성능이 좋았던 수치를 선택했습니다."
   ]
  },
  {
   "cell_type": "code",
   "execution_count": 45,
   "id": "f4fff1d9",
   "metadata": {},
   "outputs": [],
   "source": [
    "# from sklearn.model_selection import GridSearchCV\n",
    "# from sklearn.model_selection import RandomizedSearchCV\n",
    "\n",
    "# params = {\n",
    "#     'n_estimators': [10, 100, 300, 500], \n",
    "#     # 'learning_rate': [0.02, 0.01, 0.005], \n",
    "#     'max_depth': [8,12,15],\n",
    "#     'min_samples_split' : [10, 30, 50],\n",
    "#     'min_samples_leaf' : [10, 30, 40]\n",
    "#     # 'subsample': [0.5, 0.7, 0.9],\n",
    "# }\n",
    "# clf = RandomizedSearchCV(model, params, random_state=2022, cv=4, n_iter=25, scoring='neg_mean_squared_error')\n",
    "# clf.fit(X_train, y_train)"
   ]
  },
  {
   "cell_type": "markdown",
   "id": "5db4cc4b",
   "metadata": {},
   "source": [
    "## 6. 데이터 예측과 평가"
   ]
  },
  {
   "cell_type": "code",
   "execution_count": 46,
   "id": "ce1c4b56",
   "metadata": {},
   "outputs": [
    {
     "name": "stdout",
     "output_type": "stream",
     "text": [
      "<class 'pandas.core.frame.DataFrame'>\n",
      "RangeIndex: 9779 entries, 0 to 9778\n",
      "Data columns (total 1 columns):\n",
      " #   Column  Non-Null Count  Dtype\n",
      "---  ------  --------------  -----\n",
      " 0   price   9779 non-null   int64\n",
      "dtypes: int64(1)\n",
      "memory usage: 76.5 KB\n"
     ]
    }
   ],
   "source": [
    "# test 데이터 예측 및 평가\n",
    "y_test = pd.read_csv('~/aiffel/Exploration/E02/data/y_test.csv')\n",
    "y_test.info()"
   ]
  },
  {
   "cell_type": "code",
   "execution_count": 47,
   "id": "3d62860c",
   "metadata": {},
   "outputs": [],
   "source": [
    "pred = model1.predict(test)"
   ]
  },
  {
   "cell_type": "code",
   "execution_count": 48,
   "id": "2b03cd8f",
   "metadata": {},
   "outputs": [],
   "source": [
    "pred = np.expm1(pred) # 로그 씌웠던거 원상복귀"
   ]
  },
  {
   "cell_type": "code",
   "execution_count": 49,
   "id": "270d771e",
   "metadata": {},
   "outputs": [
    {
     "data": {
      "text/plain": [
       "43278.155817339546"
      ]
     },
     "execution_count": 49,
     "metadata": {},
     "output_type": "execute_result"
    }
   ],
   "source": [
    "mean_squared_error(y_test, pred)"
   ]
  },
  {
   "cell_type": "code",
   "execution_count": 51,
   "id": "19023c56",
   "metadata": {},
   "outputs": [
    {
     "data": {
      "text/plain": [
       "44651.26881127601"
      ]
     },
     "execution_count": 51,
     "metadata": {},
     "output_type": "execute_result"
    }
   ],
   "source": [
    "voting_pred = voting_regressor.predict(test)\n",
    "voting_pred = np.expm1(voting_pred)\n",
    "mean_squared_error(y_test, voting_pred)"
   ]
  },
  {
   "attachments": {},
   "cell_type": "markdown",
   "id": "ff2a097a",
   "metadata": {},
   "source": [
    "xgboost, 앙상블모델로 예측해 본 결과 xgboost 모델 (model1)이 성능이 더 좋아 채택했습니다."
   ]
  },
  {
   "attachments": {},
   "cell_type": "markdown",
   "id": "2da29e8d",
   "metadata": {},
   "source": [
    "------------------  \n",
    " ### *<center>결과 : MSE : 43287.155817339546</center>*  \n",
    "-------------------  "
   ]
  },
  {
   "cell_type": "markdown",
   "id": "8ceba84c",
   "metadata": {},
   "source": [
    "## 7. 회고"
   ]
  },
  {
   "attachments": {},
   "cell_type": "markdown",
   "id": "5f0ff5b2",
   "metadata": {},
   "source": [
    "- **차원 축소**  \n",
    "데이터를 전처리와 하는 데 있어 너무 많은 피처를 이용하지는 않았는지 고려해 보았습니다. 하지만 상관계수가 낮은 피처 한두개를 삭제하자 오차가 커졌습니다.\n",
    "corr(), 하이퍼 파라미터 설정, 모델 앙상블로 오차를 줄이려고 해보았습니다. 최적화가 덜 된 탓인지 앙상블할 모델을 잘못 선택했는지 결과가 크게 다르지 않았습니다.\n"
   ]
  },
  {
   "attachments": {},
   "cell_type": "markdown",
   "id": "9255933d",
   "metadata": {},
   "source": [
    "- 다양한 회귀 모델 적용과 모델 앙상블하기"
   ]
  },
  {
   "cell_type": "code",
   "execution_count": null,
   "id": "58d508af",
   "metadata": {},
   "outputs": [],
   "source": [
    "from sklearn.linear_model import ElasticNet\n",
    "\n",
    "model3 = ElasticNet(random_state=2022, alpha=0.00003, l1_ratio= 0.2)\n",
    "\n",
    "\n",
    "model3.fit(X_train, y_train)\n",
    "pred = model3.predict(X_val)\n",
    "mean_squared_error(y_val, pred)"
   ]
  },
  {
   "cell_type": "code",
   "execution_count": null,
   "id": "3d0e30b0",
   "metadata": {},
   "outputs": [],
   "source": [
    "# 릿지 회귀\n",
    "from sklearn.linear_model import Ridge\n",
    "\n",
    "model4 = Ridge(alpha=0, random_state=2022, solver=\"cholesky\")\n",
    "\n",
    "\n",
    "model4.fit(X_train, y_train)\n",
    "pred = model4.predict(X_val)\n",
    "mean_squared_error(y_val, pred)"
   ]
  },
  {
   "cell_type": "code",
   "execution_count": null,
   "id": "810867ea",
   "metadata": {},
   "outputs": [],
   "source": [
    "from sklearn.linear_model import Lasso\n",
    "\n",
    "model5 = Lasso(alpha=0.00001)\n",
    "model5.fit(X_train, y_train)\n",
    "pred = model5.predict(X_val)\n",
    "mean_squared_error(y_val, pred)"
   ]
  },
  {
   "attachments": {},
   "cell_type": "markdown",
   "id": "e589050a",
   "metadata": {},
   "source": [
    "- 앙상블에는 보팅, 배깅(bagging), 부스팅(Boosting)이 있습니다.  \n",
    "저는 보팅방식을 선택해 모델을 조합했습니다."
   ]
  },
  {
   "cell_type": "code",
   "execution_count": null,
   "id": "224663e9",
   "metadata": {},
   "outputs": [],
   "source": [
    "from sklearn.ensemble import VotingRegressor\n",
    "\n",
    "single_models = [\n",
    "    ('model1', XGBRegressor(learning_rate=0.01,\n",
    "n_estimators=1000, subsample=0.8, max_depth=10, \n",
    "random_state=2022) ),\n",
    "    ('model2', RandomForestRegressor(random_state=2022,\n",
    "n_estimators =300, min_samples_split  =10,\n",
    "min_samples_leaf = 10, max_depth = 15) ),\n",
    "    ('model3', ElasticNet(random_state=2022, alpha=0.1, l1_ratio= 0.2)),\n",
    "    ('model4', Ridge(alpha=1, random_state=2022,)),\n",
    "    ('model5', Lasso(alpha=0.0001))\n",
    "]\n",
    "\n",
    "voting_regressor = VotingRegressor(single_models, n_jobs=-1)\n",
    "voting_regressor.fit(X_train,y_train)\n",
    "VotingRegressor(estimators = [('scaler1', XGBRegressor(learning_rate=0.01,\n",
    "n_estimators=1000, subsample=0.8, max_depth=10, \n",
    "random_state=2022) ),\n",
    "    ('scaler2', RandomForestRegressor(random_state=2022,\n",
    "n_estimators =300, min_samples_split  =10,\n",
    "min_samples_leaf = 10, max_depth = 15) ),\n",
    "    ('scaler3', ElasticNet(random_state=2022, alpha=0.1, l1_ratio= 0.2)),\n",
    "    ('scaler4', Ridge(alpha=1, random_state=2022,)),\n",
    "    ('scaler5', Lasso(alpha=0.0001))])\n"
   ]
  },
  {
   "cell_type": "code",
   "execution_count": null,
   "id": "5f09c04f",
   "metadata": {},
   "outputs": [],
   "source": [
    "    \n",
    "voting_pred = voting_regressor.predict(X_val)\n",
    "voting_pred = np.expm1(voting_pred)\n",
    "mean_squared_error(y_test, voting_pred)"
   ]
  },
  {
   "attachments": {},
   "cell_type": "markdown",
   "id": "64ea5204",
   "metadata": {},
   "source": [
    "- 5개정도의 모델을 앙상블하니 성능이 별로였습니다. 차라리 괜찮은 xgboost를 여러개 앙상블할 걸 그랬다는 생각이 들었습니다.  \n",
    "xgboost가 눈에 띄게 성능이 좋았기 때문입니다.  \n",
    "하이퍼 파라미터만 다르게 조절한 xgboost모델이나 랜덤포레스트만 선택해서 앙상블을 시도해 보지 못한 것이 아쉽습니다."
   ]
  },
  {
   "cell_type": "code",
   "execution_count": null,
   "id": "f4fff1d9",
   "metadata": {},
   "outputs": [],
   "source": [
    "# # from sklearn.model_selection import GridSearchCV\n",
    "# from sklearn.model_selection import RandomizedSearchCV\n",
    "\n",
    "# params = {\n",
    "#     'n_estimators': [10, 100, 300, 500], \n",
    "#     # 'learning_rate': [0.02, 0.01, 0.005], \n",
    "#     'max_depth': [8,12,15],\n",
    "#     'min_samples_split' : [10, 30, 50],\n",
    "#     'min_samples_leaf' : [10, 30, 40]\n",
    "#     # 'subsample': [0.5, 0.7, 0.9],\n",
    "# }\n",
    "# clf = RandomizedSearchCV(model, params, random_state=2022, cv=4, n_iter=25, scoring='neg_mean_squared_error')\n",
    "# clf.fit(X_train, y_train)"
   ]
  },
  {
   "attachments": {},
   "cell_type": "markdown",
   "id": "58d2c574",
   "metadata": {},
   "source": [
    "- **범주형 데이터의 인코딩**\n",
    "데이터에서 유의미한 오브젝트형 컬럼으로 roomtype, neighbourhood, neighbourhood group이 있었습니다.\n",
    "nunique()나 describe()를 통해 살펴보았습니다. 레이블링은 인덱스 개수에 제한이 없지만 원-핫코딩은 인덱스 개수가 많아질수록 새로 붙는 컬럼의 개수가 너무 많아지므로 roomtype과 neighbourhood group으로만 나누어 보았습니다. 하지만 결과에 크게 도움이 되지 않아 다시 레이블링으로 세 컬럼 다 인코딩했습니다.  \n",
    "세 지표 중 roomtype은 가격과 상당히 높은 상관관계를 가지고 있었습니다. neighbourhood와 neighbourhood group도 분명 어떤 관계를 가지고 있는 것을 3d 산점도, corr()으로 확인할 수 있었지만 레이블이 0부터 221까지 있는데 가장 많은 그룹부터 소팅을 하고 붙여야 숫자의 크기와 가격이 좀 더 관계가 있어지지 않을까 해서 value_counts()로 정렬을 해서 레이블링도 해 보았습니다.  \n",
    "그런데 오히려 결과 MSE 가 증가하게 되어서 데이터란 반드시 넘겨짚거나 직관적으로 관계를 이해하지 말고 데이터적으로 분석을 해야한다는 것을 다시 느꼈습니다.  "
   ]
  },
  {
   "attachments": {},
   "cell_type": "markdown",
   "id": "a1cbbe82",
   "metadata": {},
   "source": [
    "- **스케일러 선택**\n",
    "민맥스와 스탠다드 스케일러를 각각 적용해 보았습니다. 데이터의 분포 (히스토그램 등으로 알아본 대강의 형태)에 따라 어떤 스케일러가 더 효과적일 지 생각해 보았습니다. 가격, 최근리뷰나 네이버 등이 평균에 굉장히 몰려있는 종모양을 하고 있어서 로그를 씌우거나 정규분포를 확인하는 것이 더 효과적이라고 생각을 해서 스탠다드 스케일을 적용했습니다. 만약 좀 더 넓은 범위에, 평균 가까이 굉장히 몰려있지는 않은 모양의 데이터였다면 민맥스를 적용했을 것 같습니다."
   ]
  },
  {
   "attachments": {},
   "cell_type": "markdown",
   "id": "028456a3",
   "metadata": {},
   "source": [
    "- 로그 처리를 했으면 평가할 때 다시 돌려줘야 합니다. 처음에 가격에 로그함수를 씌워 예측을 했는데 다시 역함수로 돌려주지 않아서 결과가 매우 높은 값이 나왔습니다."
   ]
  },
  {
   "attachments": {},
   "cell_type": "markdown",
   "id": "2f9225fb",
   "metadata": {},
   "source": [
    "- 하이퍼 파라미터를 이리저리 조정해봤는데 일단 그리드서치는 너무 느렸습니다.\n",
    "랜덤서치로 파라미터간 간격을 점점 좁혀가며 몇번 시도해보았습니다.\n",
    "파라미터 조절으로 결과 MSE값이 43000정도까지는 낮아질 수 있었지만 어느 순간 다시 높아졌습니다.  \n",
    "적절한 범위를 찾고 나서부터는 미세하게 수동으로 조정하는 것도 하나의 방법이라고 느꼈습니다."
   ]
  },
  {
   "attachments": {},
   "cell_type": "markdown",
   "id": "c4ac9070",
   "metadata": {},
   "source": [
    "- 하이퍼 파라미터로 더 오차를 낮추지 못했기 때문에 다시 모델 조정과, 피처 선택으로 돌아갔습니다.\n",
    "랜덤포레스트와 XGBOOST가 비슷하게 성능이 나오게 되었는데 xgboost에서 결국 더 좋은 결과를 낼 수 있었습니다.  \n",
    "직접 모델을 만들어 보니 랜덤포레스트는 제가 잘 설정해 주어야 할 하이퍼 파라미터가 굉장히 많고, 섬세하기 때문에  \n",
    "모델을 쉽게 만드는 데는 Xgboost가 편했습니다.\n",
    "xgboost가 결과를 내는 방식도 부스팅 방식인데, subsample 이 어느정도는 작아져야 성능이 좋아지는 것을 확인하고 데이터의 특징을 다시 한 번 살피게 되었습니다. 원리를 다시금 생각해보니 하이퍼파라미터를 잘 맞춘 랜덤포레스트가 더 효과적일 수 있겠다고 느꼈습니다.  \n",
    "EDA를 통해 알게 된 테이터의 모양은, 많은 피처들이 평균쪽에 몰려 있었으며, 몇몇개의 강한 상관관계를 가지는 피처 외에는 대체로 상관계수가 아주 높은 특징을 보이고 있었기 때문입니다."
   ]
  },
  {
   "cell_type": "markdown",
   "id": "af66ae9e",
   "metadata": {},
   "source": [
    "## 8. References"
   ]
  },
  {
   "attachments": {},
   "cell_type": "markdown",
   "id": "f221fd61",
   "metadata": {},
   "source": [
    "https://lms.aiffel.io/ (아이펠 학습자료 Fundamentals 26(데이터핸들링2),27(사이킷런), 29(지도학습 회귀))  \n",
    "https://apple-rbox.tistory.com/6 (xgboost 원리)  \n",
    "https://builtin.com/machine-learning/ensemble-model (모델 앙상블)  \n",
    "https://teddylee777.github.io/scikit-learn/scikit-learn-ensemble (모델과 하이퍼패러미터 최적화)  \n",
    "https://injo.tistory.com/30 (랜덤포레스트 원리)  "
   ]
  }
 ],
 "metadata": {
  "kernelspec": {
   "display_name": "base",
   "language": "python",
   "name": "python3"
  },
  "language_info": {
   "codemirror_mode": {
    "name": "ipython",
    "version": 3
   },
   "file_extension": ".py",
   "mimetype": "text/x-python",
   "name": "python",
   "nbconvert_exporter": "python",
   "pygments_lexer": "ipython3",
   "version": "3.9.13"
  },
  "vscode": {
   "interpreter": {
    "hash": "a7936b404da2d1aec6a116f19bfb62db118b47fc993c612f13b3cacad2daeda5"
   }
  },
  "widgets": {
   "application/vnd.jupyter.widget-state+json": {
    "state": {},
    "version_major": 2,
    "version_minor": 0
   }
  }
 },
 "nbformat": 4,
 "nbformat_minor": 5
}
