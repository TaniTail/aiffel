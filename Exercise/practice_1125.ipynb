{
 "cells": [
  {
   "cell_type": "code",
   "execution_count": 1,
   "id": "8669e8ed",
   "metadata": {},
   "outputs": [],
   "source": [
    "## 실습1 -전화번호 끝자리 가리기 ##"
   ]
  },
  {
   "cell_type": "code",
   "execution_count": 2,
   "id": "f8deb665",
   "metadata": {
    "scrolled": true
   },
   "outputs": [
    {
     "data": {
      "text/plain": [
       "'01028368#####'"
      ]
     },
     "execution_count": 2,
     "metadata": {},
     "output_type": "execute_result"
    }
   ],
   "source": [
    "numbers = '010-12345-23456'\n",
    "\n",
    "#def change_num(nums): #기본적으로 큰 함수의 토대를 잡아두고\n",
    "#    return answer    #우리가 반환하고 싶은 값을 내는 함수라는 것을 생각. (앤서라는 로컬 변수를 만들것을 대강..)\n",
    "\n",
    "##그리고 change_num 이라는 수 안에 한 줄씩 코드를 채워보자!\n",
    "\n",
    "numbers[-5:]\n",
    "numbers.replace(numbers[-5:], '#####')\n",
    "\n",
    "def change_num(nums):\n",
    "    answer = nums.replace(nums[-5:], '#####')\n",
    "    return answer\n",
    "\n",
    "change_num('0102836848484')"
   ]
  },
  {
   "cell_type": "code",
   "execution_count": 3,
   "id": "5c6ca499",
   "metadata": {},
   "outputs": [],
   "source": [
    "## 실습 2 -리스트 평탄화 ##"
   ]
  },
  {
   "cell_type": "code",
   "execution_count": 4,
   "id": "13a909ed",
   "metadata": {},
   "outputs": [
    {
     "name": "stdout",
     "output_type": "stream",
     "text": [
      "[1, 2]\n",
      "3\n",
      "[[4, 5, 6], 7]\n",
      "8\n",
      "9\n",
      "[1, 2]\n",
      "3\n",
      "[[4, 5, 6], 7]\n",
      "8\n",
      "9\n"
     ]
    }
   ],
   "source": [
    "overlap = [[1, 2],3,[[4,5,6],7],8,9]\n",
    "\n",
    "for element in overlap:\n",
    "    print(element)\n",
    "    \n",
    "    #반복문은 range함수와 자주 쓰이지만 이렇게 컬렉션을 차례로 꺼낼 수 있다.\n",
    "    \n",
    "for i in range(len(overlap)):\n",
    "    print(overlap[i])"
   ]
  },
  {
   "cell_type": "code",
   "execution_count": 5,
   "id": "53cfbafc",
   "metadata": {
    "scrolled": true
   },
   "outputs": [
    {
     "data": {
      "text/plain": [
       "[1, 2, 3, 4, 5, 6]"
      ]
     },
     "execution_count": 5,
     "metadata": {},
     "output_type": "execute_result"
    }
   ],
   "source": [
    "a=[[[1,2],3],4,[5,6]]\n",
    "\n",
    "def flatten(data):\n",
    "    output = [ ] # 빈 리스트 만들어두기\n",
    "    \n",
    "    for element in data:\n",
    "        if type(element) == list:\n",
    "            output += flatten(element)\n",
    "        else:\n",
    "            output.append(element)\n",
    "    return output\n",
    "\n",
    "\n",
    "flatten(a)"
   ]
  },
  {
   "cell_type": "code",
   "execution_count": 6,
   "id": "2eb11982",
   "metadata": {},
   "outputs": [
    {
     "name": "stdout",
     "output_type": "stream",
     "text": [
      "정수입니다.\n"
     ]
    }
   ],
   "source": [
    "## 실습 3 ##\n",
    "\n",
    "x = 100.0\n",
    "\n",
    "if x % 1 == 0 :\n",
    "    print('정수입니다.')\n",
    "    \n",
    "\n",
    "##type(x%1)\n",
    "##print(x%1) -> 정수와 실수 섞어서 연산하면 값은 실수가 나온다. 따라서 요렇게 하면 안됨"
   ]
  },
  {
   "cell_type": "code",
   "execution_count": 7,
   "id": "882697ca",
   "metadata": {},
   "outputs": [],
   "source": [
    "##만들 함수는 input 값이 둘다 정수라면 두 정수를 나눴을 때의 값을 구해주고,\n",
    "##입력된 값이 정수가 아니라면 '정수만 계산 가능합니다'라고 출력하고 \n",
    "##결과값은 None으로 출력하는 함수"
   ]
  },
  {
   "cell_type": "code",
   "execution_count": 8,
   "id": "fd7ef5fe",
   "metadata": {},
   "outputs": [
    {
     "data": {
      "text/plain": [
       "2.0"
      ]
     },
     "execution_count": 8,
     "metadata": {},
     "output_type": "execute_result"
    }
   ],
   "source": [
    "\n",
    "\n",
    "def int_divider(x,y):\n",
    "    \n",
    "    if x % 1 ==0 and y % 1 == 0:\n",
    "        \n",
    "        answer = x / y\n",
    "        \n",
    "        #둘다 정수니까 리턴값에. \n",
    "    else:\n",
    "        print('정수만 계산 가능합니다.')\n",
    "        return None ################ 이부분 헷갈리는 듯!~\n",
    "    \n",
    "        \n",
    "    return answer\n",
    "\n",
    "\n",
    "int_divider(6,3)"
   ]
  },
  {
   "cell_type": "code",
   "execution_count": 9,
   "id": "86180e2a",
   "metadata": {},
   "outputs": [
    {
     "name": "stdout",
     "output_type": "stream",
     "text": [
      "정수만 계산 가능합니다.\n"
     ]
    },
    {
     "data": {
      "text/plain": [
       "2.0"
      ]
     },
     "execution_count": 9,
     "metadata": {},
     "output_type": "execute_result"
    }
   ],
   "source": [
    "def int_divider(x,y):\n",
    "    \n",
    "    if x % 1 ==0 and y % 1 == 0:\n",
    "        \n",
    "        answer = x / y\n",
    "        \n",
    "        #둘다 정수니까 리턴값에. \n",
    "    else:\n",
    "        print('정수만 계산 가능합니다.')\n",
    "        answer = None\n",
    "    \n",
    "        \n",
    "    return answer\n",
    "\n",
    "\n",
    "int_divider (10,3)\n",
    "\n",
    "int_divider (-1,0.9)\n",
    "\n",
    "int_divider (6.0,3)"
   ]
  },
  {
   "cell_type": "code",
   "execution_count": 10,
   "id": "b8e4a296",
   "metadata": {},
   "outputs": [
    {
     "data": {
      "text/plain": [
       "3.3333333333333335"
      ]
     },
     "execution_count": 10,
     "metadata": {},
     "output_type": "execute_result"
    }
   ],
   "source": [
    "int_divider (10,3)"
   ]
  },
  {
   "cell_type": "code",
   "execution_count": 11,
   "id": "7ac342d8",
   "metadata": {},
   "outputs": [],
   "source": [
    "## 아.... 리턴되는 값과 리턴되는 값의 '출력' 이 다른 부분!!\n",
    "##결과값 표시는 가장 나중에 갖고 있는 갚, 즉 맨 마지막 리턴값!!!!"
   ]
  },
  {
   "cell_type": "code",
   "execution_count": 12,
   "id": "f9de245a",
   "metadata": {},
   "outputs": [
    {
     "data": {
      "text/plain": [
       "360"
      ]
     },
     "execution_count": 12,
     "metadata": {},
     "output_type": "execute_result"
    }
   ],
   "source": [
    "def mul(*values):\n",
    "    output = 1\n",
    "    for num in values:\n",
    "        if num <= 10:\n",
    "            output *= num\n",
    "        else:\n",
    "            pass\n",
    "    return output\n",
    "\n",
    "mul(3,4,5,6)"
   ]
  },
  {
   "cell_type": "code",
   "execution_count": null,
   "id": "deb875fb",
   "metadata": {},
   "outputs": [],
   "source": []
  }
 ],
 "metadata": {
  "kernelspec": {
   "display_name": "Python 3 (ipykernel)",
   "language": "python",
   "name": "python3"
  },
  "language_info": {
   "codemirror_mode": {
    "name": "ipython",
    "version": 3
   },
   "file_extension": ".py",
   "mimetype": "text/x-python",
   "name": "python",
   "nbconvert_exporter": "python",
   "pygments_lexer": "ipython3",
   "version": "3.9.7"
  }
 },
 "nbformat": 4,
 "nbformat_minor": 5
}
