{
 "cells": [
  {
   "attachments": {},
   "cell_type": "markdown",
   "metadata": {},
   "source": [
    "# 코드마스터 문제풀이 4  \n",
    "\n",
    "https://school.programmers.co.kr/learn/courses/30/lessons/42576?language=python3 에서 제공하는 문제를 푸는 과정입니다."
   ]
  },
  {
   "attachments": {},
   "cell_type": "markdown",
   "metadata": {},
   "source": [
    "## 완성 코드"
   ]
  },
  {
   "cell_type": "code",
   "execution_count": 10,
   "metadata": {},
   "outputs": [],
   "source": [
    "\n",
    "\n",
    "def solution(participant, completion):\n",
    "    answer = ''\n",
    "    participant.sort()\n",
    "    completion.sort()\n",
    "    completion.append('0')\n",
    "    \n",
    "\n",
    "    for i in range(len(completion)) :\n",
    "        \n",
    "        if completion[i] != participant[i]:\n",
    "            answer += participant[i]\n",
    "            return answer\n",
    "\n",
    "        else :\n",
    "            pass"
   ]
  },
  {
   "attachments": {},
   "cell_type": "markdown",
   "metadata": {},
   "source": [
    "## 과정"
   ]
  },
  {
   "cell_type": "code",
   "execution_count": 11,
   "metadata": {},
   "outputs": [],
   "source": [
    "def solution(participant, completion):\n",
    "\n",
    "    answer = ''\n",
    "\n",
    "\n",
    "    for i in range(len(participant)) : # 참가자리스트 길이 range 의 i 번째에 대하여\n",
    "\n",
    "\n",
    "        if participant.count(participant[i]) != completion.count(participant[i]): \n",
    "            \n",
    "            # participant.count(participant[i]) : participant 배열 안에 i가 몇명? \n",
    "            # completion.count(participant[i]) : completion 배열 안에 i 가 몇명?\n",
    "            # 중복 참가자 중에 완주하지 못한 사람이 있는 경우\n",
    "\n",
    "\n",
    "            answer += participant[i]\n",
    "            return answer\n",
    "\n",
    "        else :\n",
    "            \n",
    "            answer = [x for x in participant if x not in completion][0] #답은 리스트가 아니라 리스트의 원소만 표시되기 때문에 [0]\n",
    "            return answer"
   ]
  },
  {
   "attachments": {},
   "cell_type": "markdown",
   "metadata": {},
   "source": [
    "정확성 테스트에서 통과하지 못했다. 이름만 리턴이 되어야 하는데 처음에는 리스트화 되어서 괄호까지 출력을 했기해서 틀렸다. 바꿔도 보았으나 다양한 입력 예에 모두 정확하게 답한 것은 아니었다."
   ]
  },
  {
   "cell_type": "code",
   "execution_count": 12,
   "metadata": {},
   "outputs": [
    {
     "name": "stdout",
     "output_type": "stream",
     "text": [
      "['vinko']\n"
     ]
    }
   ],
   "source": [
    "answer = ''\n",
    "\n",
    "participant = [\"marina\", \"josipa\", \"nikola\", \"vinko\", \"filipa\"]\n",
    "completion = [\"josipa\", \"filipa\", \"marina\", \"nikola\"]\n",
    "\n",
    "answer = [x for x in participant if x not in completion]\n",
    "print(answer)"
   ]
  },
  {
   "cell_type": "code",
   "execution_count": 13,
   "metadata": {},
   "outputs": [
    {
     "data": {
      "text/plain": [
       "'vinko'"
      ]
     },
     "execution_count": 13,
     "metadata": {},
     "output_type": "execute_result"
    }
   ],
   "source": [
    "solution(participant, completion)\n"
   ]
  },
  {
   "attachments": {},
   "cell_type": "markdown",
   "metadata": {},
   "source": [
    "하지만 위의 코드는 participant 와 completion에 따라 인덱스 에러가 떴다. 이건 for문이 진행하는 중에 언제나 len(completion)이 len(participant)보다 1 적기 때문이다."
   ]
  },
  {
   "attachments": {},
   "cell_type": "markdown",
   "metadata": {},
   "source": [
    "- 길이를 맞추어 준다면 어떨까?\n",
    "하는 생각을 했고 정렬을 한 뒤 가장 뒤에 아무 의미없는 원소 하나를 추가해서 길이를 맞추어 주었다."
   ]
  },
  {
   "cell_type": "code",
   "execution_count": 14,
   "metadata": {},
   "outputs": [
    {
     "name": "stdout",
     "output_type": "stream",
     "text": [
      "['eden', 'kiki', 'leo', '0']\n",
      "['eden', 'kiki', 'kiki', 'leo']\n"
     ]
    }
   ],
   "source": [
    "a= [\"leo\", \"kiki\",\"eden\"]\n",
    "b=[\"leo\", \"kiki\",\"kiki\", \"eden\"]\n",
    "\n",
    "a.sort()\n",
    "b.sort()\n",
    "a.append(\"0\")\n",
    "print(a)\n",
    "print(b)"
   ]
  },
  {
   "attachments": {},
   "cell_type": "markdown",
   "metadata": {},
   "source": [
    "수정을 하고 통과했습니다."
   ]
  },
  {
   "cell_type": "code",
   "execution_count": 15,
   "metadata": {},
   "outputs": [],
   "source": [
    "\n",
    "\n",
    "def solution(participant, completion):\n",
    "    answer = ''\n",
    "    participant.sort()\n",
    "    completion.sort()\n",
    "    completion.append('0')\n",
    "    \n",
    "\n",
    "    for i in range(len(completion)) :\n",
    "        \n",
    "        if completion[i] != participant[i]:\n",
    "            answer += participant[i]\n",
    "            return answer\n",
    "\n",
    "        else :\n",
    "            pass"
   ]
  }
 ],
 "metadata": {
  "kernelspec": {
   "display_name": "base",
   "language": "python",
   "name": "python3"
  },
  "language_info": {
   "codemirror_mode": {
    "name": "ipython",
    "version": 3
   },
   "file_extension": ".py",
   "mimetype": "text/x-python",
   "name": "python",
   "nbconvert_exporter": "python",
   "pygments_lexer": "ipython3",
   "version": "3.9.13"
  },
  "orig_nbformat": 4,
  "vscode": {
   "interpreter": {
    "hash": "a7936b404da2d1aec6a116f19bfb62db118b47fc993c612f13b3cacad2daeda5"
   }
  }
 },
 "nbformat": 4,
 "nbformat_minor": 2
}
