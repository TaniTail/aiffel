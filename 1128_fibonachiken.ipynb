{
 "cells": [
  {
   "cell_type": "code",
   "execution_count": null,
   "id": "b4ac9119",
   "metadata": {},
   "outputs": [],
   "source": [
    "#피보나치킨 만들기 (재귀함수 연습)\n",
    "\n",
    "memory = {1: 1, 2: 1}\n",
    "\n",
    "def fibonacci(n):\n",
    "    if n in memory:\n",
    "        number = memory[n]\n",
    "    else:\n",
    "        number = fibonacci(n-1) + fibonacci(n-2)\n",
    "        memory[n] = number\n",
    "    return number\n",
    "\n",
    "fibonacci(12)\n",
    "\n",
    "#제켄도르프 정리: 어떤 자연수를 서로 다른 피보나치 수열의 합으로 표시하되, 연속한 두 항을 더하지 않게 하는 방법은 유일하다.\n",
    "#즉 자연수를 피보나치 수의 합으로 나타내는 방법\n",
    "\n",
    "def fi_chi(p):\n",
    "    if p in memory.values() :\n",
    "        for i in range(p):\n",
    "            d = p - (i + 1)\n",
    "            if d in memory.values():\n",
    "                return d  #함수는 리턴을 만나면 빠져나옴\n",
    "            else :\n",
    "                    i += 1                   \n",
    "            #p가 메모리의 밸류값에 있다면-> 그 밸류값의 전 항이 리턴값\n",
    "        \n",
    "    else:\n",
    "\n",
    "        #가 메모리의 밸류값에 없다면 제켄도르프 정리 -> p를 표현하는 피보나치 항들이 필요\n",
    "        \n",
    "       \n",
    "        return None\n",
    "    \n",
    "\n",
    "\n",
    "x = int(input('몇 명이 먹을거야? (100명 이하를 입력하세요.)'))\n",
    "print(str(fi_chi(x)) + \" 마리 시켜!\" )\n"
   ]
  },
  {
   "cell_type": "code",
   "execution_count": null,
   "id": "ec313caf",
   "metadata": {},
   "outputs": [],
   "source": []
  }
 ],
 "metadata": {
  "kernelspec": {
   "display_name": "Python 3 (ipykernel)",
   "language": "python",
   "name": "python3"
  },
  "language_info": {
   "codemirror_mode": {
    "name": "ipython",
    "version": 3
   },
   "file_extension": ".py",
   "mimetype": "text/x-python",
   "name": "python",
   "nbconvert_exporter": "python",
   "pygments_lexer": "ipython3",
   "version": "3.9.7"
  }
 },
 "nbformat": 4,
 "nbformat_minor": 5
}
