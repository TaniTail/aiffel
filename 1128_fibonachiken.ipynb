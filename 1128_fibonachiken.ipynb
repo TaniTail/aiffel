{
 "cells": [
  {
   "cell_type": "code",
   "execution_count": null,
   "id": "b4ac9119",
   "metadata": {},
   "outputs": [],
   "source": [
    "memory = {1: 1, 2: 1} # 피보나치 수열의 n번째 항의 딕셔너리를 만듬\n",
    "\n",
    "def fibonacci(n): #n번째 피보나치수를 리턴, 그 메모리를 만들어둠\n",
    "    if n in memory:\n",
    "        number = memory[n]\n",
    "    else:\n",
    "        number = fibonacci(n-1) + fibonacci(n-2)\n",
    "        memory[n] = number\n",
    "    return number\n",
    "\n",
    "fibonacci(12) #적당한 수의 딕셔너리를 만들어두어야 딕셔너리에서 읽어오는 식으로 금방금방 계산이 됨.\n",
    "\n",
    "def bfr_f(p) : #p보다 크지 않으면서 p와 가장 가까운 피보나치 수를 리턴\n",
    "    for i in range(p):\n",
    "        d = p - (i + 1)\n",
    "        if d in memory.values():\n",
    "            return d\n",
    "        \n",
    "\n",
    "def fi_chi(p):\n",
    "\n",
    "    if p == 1 :\n",
    "        return 1 # 한명일 땐 한마리를 먹읍시다.\n",
    "    \n",
    "    elif p >= 2 :\n",
    "        if p in memory.values() :\n",
    "            return bfr_f(p)  #함수는 리턴을 만나면 빠져나옴\n",
    "        \n",
    "        else : # p가 피보나치 수가 아닌 경우\n",
    "            \n",
    "            d = p - bfr_f(p)  #차이\n",
    "\n",
    "            y = fi_chi(d) # 그 차이만큼의 인원수가 필요한 치킨 (재귀)\n",
    "\n",
    "            return fi_chi(bfr_f(p)) + fi_chi(d) # 'p이하의 가장 가까운 피보나치수의 인원'이 먹을 치킨 + 그 차이만큼의 인원이 필요한 치킨\n",
    "        \n",
    "    else:\n",
    "        return None\n",
    "\n",
    "\n",
    "x = int(input('몇 명이 먹을거야? (100명 이하를 입력하세요.)'))\n",
    "print(str(fi_chi(x)) + \" 마리 시켜!\" )\n"
   ]
  },
  {
   "cell_type": "code",
   "execution_count": null,
   "id": "ec313caf",
   "metadata": {},
   "outputs": [],
   "source": []
  }
 ],
 "metadata": {
  "kernelspec": {
   "display_name": "Python 3.11.0 64-bit",
   "language": "python",
   "name": "python3"
  },
  "language_info": {
   "codemirror_mode": {
    "name": "ipython",
    "version": 3
   },
   "file_extension": ".py",
   "mimetype": "text/x-python",
   "name": "python",
   "nbconvert_exporter": "python",
   "pygments_lexer": "ipython3",
   "version": "3.11.0"
  },
  "vscode": {
   "interpreter": {
    "hash": "482d49455792e71af8bb43d5f45a1694ecbac16cdfec5615a391e380091dae39"
   }
  }
 },
 "nbformat": 4,
 "nbformat_minor": 5
}
