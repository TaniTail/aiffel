{
 "cells": [
  {
   "cell_type": "markdown",
   "id": "7122749c",
   "metadata": {},
   "source": [
    "# 지도학습  \n",
    "선형회귀 (리니어 리그레이션)  \n",
    "1. 선형회귀   \n",
    "\n",
    "단순 선형회귀와 다중 선형회귀가 있지만 흔히 사용하는 것은 다중 선형회귀입니다.  \n",
    "Feature가 한 개인 경우가 드물기 때문에 보통 feature가 두 개 이상인 다중 선형회귀를 만들게 됩니다.  \n",
    "\n",
    "2. 비용함수  \n",
    "\n",
    "데이터와 모델 간의 거리를 계산합니다.  \n",
    "비용함수(cost function) 또는 손실함수, 목적함수라 부르기도 합니다.  \n",
    "오차(error)를 계산합니다. (실제 값과 예측값의 차이)  \n",
    "평균 제곱 오차를 최소화하는 파라미터를 찾습니다.  \n",
    "\n",
    "3. 경사하강법  \n",
    "\n",
    "오차를 찾아 나가는 방식  \n",
    "비용함수의 기울기 절대값이 가장 작은 지점을 찾아서 오차가 작은 모델을 만듭니다.  "
   ]
  },
  {
   "cell_type": "code",
   "execution_count": 1,
   "id": "2e0378e5",
   "metadata": {},
   "outputs": [],
   "source": [
    "# 라이브러리 불러오기\n",
    "import pandas as pd\n",
    "from sklearn.model_selection import train_test_split\n",
    "from sklearn.metrics import mean_squared_error"
   ]
  },
  {
   "cell_type": "code",
   "execution_count": 2,
   "id": "15181346",
   "metadata": {},
   "outputs": [
    {
     "data": {
      "text/plain": [
       "((353, 10), (89, 10), (353,), (89,))"
      ]
     },
     "execution_count": 2,
     "metadata": {},
     "output_type": "execute_result"
    }
   ],
   "source": [
    "# 데이터 생성\n",
    "from sklearn.datasets import load_diabetes # 당뇨병 환자 데이터\n",
    "\n",
    "def make_dataset():\n",
    "    dataset = load_diabetes()\n",
    "    df = pd.DataFrame(dataset.data, columns=dataset.feature_names)\n",
    "    df['target'] = dataset.target\n",
    "    X_train, X_test, y_train, y_test = train_test_split(\n",
    "        df.drop('target', axis=1), df['target'], test_size=0.2, random_state=1004)\n",
    "    return X_train, X_test, y_train, y_test\n",
    "\n",
    "X_train, X_test, y_train, y_test = make_dataset()\n",
    "X_train.shape, X_test.shape, y_train.shape, y_test.shape"
   ]
  },
  {
   "cell_type": "code",
   "execution_count": 3,
   "id": "adf1c195",
   "metadata": {},
   "outputs": [
    {
     "data": {
      "text/plain": [
       "2707.6236708320466"
      ]
     },
     "execution_count": 3,
     "metadata": {},
     "output_type": "execute_result"
    }
   ],
   "source": [
    "# 선형 회귀\n",
    "from sklearn.linear_model import LinearRegression\n",
    "model = LinearRegression()\n",
    "model.fit(X_train, y_train)\n",
    "pred = model.predict(X_test)\n",
    "mean_squared_error(y_test, pred)"
   ]
  },
  {
   "cell_type": "code",
   "execution_count": 4,
   "id": "a59691c9",
   "metadata": {},
   "outputs": [
    {
     "data": {
      "text/plain": [
       "2707.6236708320466"
      ]
     },
     "execution_count": 4,
     "metadata": {},
     "output_type": "execute_result"
    }
   ],
   "source": [
    "# 선형 회귀\n",
    "from sklearn.linear_model import LinearRegression\n",
    "model = LinearRegression()\n",
    "model.fit(X_train, y_train)\n",
    "pred = model.predict(X_test)\n",
    "mean_squared_error(y_test, pred)"
   ]
  },
  {
   "cell_type": "markdown",
   "id": "44538ba4",
   "metadata": {},
   "source": [
    "## 릿지회귀  \n",
    "오버피팅을 방지하기 위해 L2규제 (규제를 해!!)  \n",
    "파라미터 알파(alpha)값으로 조정. (릿지회귀 계수)  \n",
    "(리니어 모델 안에 있다.)  \n",
    "from sklearn.linear_model import Ridge  \n"
   ]
  },
  {
   "cell_type": "code",
   "execution_count": 5,
   "id": "8ff8c1fa",
   "metadata": {},
   "outputs": [
    {
     "data": {
      "text/plain": [
       "3522.1129142470336"
      ]
     },
     "execution_count": 5,
     "metadata": {},
     "output_type": "execute_result"
    }
   ],
   "source": [
    "# 릿지 회귀\n",
    "from sklearn.linear_model import Ridge\n",
    "model = Ridge(alpha=1)\n",
    "model.fit(X_train, y_train)\n",
    "pred = model.predict(X_test)\n",
    "mean_squared_error(y_test, pred)"
   ]
  },
  {
   "cell_type": "code",
   "execution_count": 6,
   "id": "35f292f2",
   "metadata": {},
   "outputs": [
    {
     "data": {
      "text/html": [
       "<div>\n",
       "<style scoped>\n",
       "    .dataframe tbody tr th:only-of-type {\n",
       "        vertical-align: middle;\n",
       "    }\n",
       "\n",
       "    .dataframe tbody tr th {\n",
       "        vertical-align: top;\n",
       "    }\n",
       "\n",
       "    .dataframe thead th {\n",
       "        text-align: right;\n",
       "    }\n",
       "</style>\n",
       "<table border=\"1\" class=\"dataframe\">\n",
       "  <thead>\n",
       "    <tr style=\"text-align: right;\">\n",
       "      <th></th>\n",
       "      <th>alpha1</th>\n",
       "    </tr>\n",
       "  </thead>\n",
       "  <tbody>\n",
       "    <tr>\n",
       "      <th>age</th>\n",
       "      <td>31.293287</td>\n",
       "    </tr>\n",
       "    <tr>\n",
       "      <th>sex</th>\n",
       "      <td>-71.449580</td>\n",
       "    </tr>\n",
       "    <tr>\n",
       "      <th>bmi</th>\n",
       "      <td>267.605153</td>\n",
       "    </tr>\n",
       "    <tr>\n",
       "      <th>bp</th>\n",
       "      <td>197.364745</td>\n",
       "    </tr>\n",
       "    <tr>\n",
       "      <th>s1</th>\n",
       "      <td>14.613106</td>\n",
       "    </tr>\n",
       "    <tr>\n",
       "      <th>s2</th>\n",
       "      <td>-13.884790</td>\n",
       "    </tr>\n",
       "    <tr>\n",
       "      <th>s3</th>\n",
       "      <td>-124.649955</td>\n",
       "    </tr>\n",
       "    <tr>\n",
       "      <th>s4</th>\n",
       "      <td>106.212968</td>\n",
       "    </tr>\n",
       "    <tr>\n",
       "      <th>s5</th>\n",
       "      <td>221.068052</td>\n",
       "    </tr>\n",
       "    <tr>\n",
       "      <th>s6</th>\n",
       "      <td>101.202651</td>\n",
       "    </tr>\n",
       "  </tbody>\n",
       "</table>\n",
       "</div>"
      ],
      "text/plain": [
       "         alpha1\n",
       "age   31.293287\n",
       "sex  -71.449580\n",
       "bmi  267.605153\n",
       "bp   197.364745\n",
       "s1    14.613106\n",
       "s2   -13.884790\n",
       "s3  -124.649955\n",
       "s4   106.212968\n",
       "s5   221.068052\n",
       "s6   101.202651"
      ]
     },
     "execution_count": 6,
     "metadata": {},
     "output_type": "execute_result"
    }
   ],
   "source": [
    "# 회귀 계수\n",
    "coef = pd.DataFrame(data=model.coef_, index=X_train.columns, columns=['alpha1'])\n",
    "coef"
   ]
  },
  {
   "cell_type": "markdown",
   "id": "bdf6ff55",
   "metadata": {},
   "source": [
    " 회귀 계수란 : 회귀분석에서 독립변수가 한 단위 변화함에 따라 종속변수에 미치는 영향력 크기를 회귀계수 (regression coefficient) 라 한다. 일반적으로 두 변수 사이에 상관관계가 거의 없을 때 회귀계수는 의미가 없게 된다."
   ]
  },
  {
   "cell_type": "markdown",
   "id": "7438bc62",
   "metadata": {},
   "source": [
    "## 라쏘회귀  \n",
    "오버피팅 문제로 규제(regularization)를 적용한 모델  \n",
    "규제 방식: L1 규제 (중요한 피처만 선택하는 특성)  \n",
    "L2에 비해 회귀 계수를 급격히 감소시켜 중요하다고 생각하는 피처만 선택하고 나머지는 0으로 만듦   \n",
    "\n",
    "릿지 회귀 : L2 규제 방식  \n",
    "라쏘 회귀 : L1 규제 방식 (중요한 피처만 선택하는 특성)  "
   ]
  },
  {
   "cell_type": "code",
   "execution_count": 7,
   "id": "14798fc7",
   "metadata": {},
   "outputs": [
    {
     "data": {
      "text/plain": [
       "4179.146884323723"
      ]
     },
     "execution_count": 7,
     "metadata": {},
     "output_type": "execute_result"
    }
   ],
   "source": [
    "# 라쏘 회귀\n",
    "from sklearn.linear_model import Lasso\n",
    "model = Lasso(alpha=1)\n",
    "model.fit(X_train, y_train)\n",
    "pred = model.predict(X_test)\n",
    "mean_squared_error(y_test, pred)"
   ]
  },
  {
   "cell_type": "code",
   "execution_count": 8,
   "id": "98f9b0ca",
   "metadata": {},
   "outputs": [
    {
     "data": {
      "text/html": [
       "<div>\n",
       "<style scoped>\n",
       "    .dataframe tbody tr th:only-of-type {\n",
       "        vertical-align: middle;\n",
       "    }\n",
       "\n",
       "    .dataframe tbody tr th {\n",
       "        vertical-align: top;\n",
       "    }\n",
       "\n",
       "    .dataframe thead th {\n",
       "        text-align: right;\n",
       "    }\n",
       "</style>\n",
       "<table border=\"1\" class=\"dataframe\">\n",
       "  <thead>\n",
       "    <tr style=\"text-align: right;\">\n",
       "      <th></th>\n",
       "      <th>alpha1</th>\n",
       "    </tr>\n",
       "  </thead>\n",
       "  <tbody>\n",
       "    <tr>\n",
       "      <th>age</th>\n",
       "      <td>0.000000</td>\n",
       "    </tr>\n",
       "    <tr>\n",
       "      <th>sex</th>\n",
       "      <td>-0.000000</td>\n",
       "    </tr>\n",
       "    <tr>\n",
       "      <th>bmi</th>\n",
       "      <td>343.588370</td>\n",
       "    </tr>\n",
       "    <tr>\n",
       "      <th>bp</th>\n",
       "      <td>46.375388</td>\n",
       "    </tr>\n",
       "    <tr>\n",
       "      <th>s1</th>\n",
       "      <td>0.000000</td>\n",
       "    </tr>\n",
       "    <tr>\n",
       "      <th>s2</th>\n",
       "      <td>0.000000</td>\n",
       "    </tr>\n",
       "    <tr>\n",
       "      <th>s3</th>\n",
       "      <td>-0.000000</td>\n",
       "    </tr>\n",
       "    <tr>\n",
       "      <th>s4</th>\n",
       "      <td>0.000000</td>\n",
       "    </tr>\n",
       "    <tr>\n",
       "      <th>s5</th>\n",
       "      <td>245.167660</td>\n",
       "    </tr>\n",
       "    <tr>\n",
       "      <th>s6</th>\n",
       "      <td>0.000000</td>\n",
       "    </tr>\n",
       "  </tbody>\n",
       "</table>\n",
       "</div>"
      ],
      "text/plain": [
       "         alpha1\n",
       "age    0.000000\n",
       "sex   -0.000000\n",
       "bmi  343.588370\n",
       "bp    46.375388\n",
       "s1     0.000000\n",
       "s2     0.000000\n",
       "s3    -0.000000\n",
       "s4     0.000000\n",
       "s5   245.167660\n",
       "s6     0.000000"
      ]
     },
     "execution_count": 8,
     "metadata": {},
     "output_type": "execute_result"
    }
   ],
   "source": [
    "# 회귀 계수\n",
    "coef = pd.DataFrame(data=model.coef_, index=X_train.columns, columns=['alpha1'])\n",
    "coef"
   ]
  },
  {
   "cell_type": "code",
   "execution_count": 9,
   "id": "5df46451",
   "metadata": {},
   "outputs": [
    {
     "data": {
      "text/plain": [
       "6398.637179448666"
      ]
     },
     "execution_count": 9,
     "metadata": {},
     "output_type": "execute_result"
    }
   ],
   "source": [
    "# 라쏘 회귀 (alpha=2)\n",
    "model = Lasso(alpha=2)\n",
    "model.fit(X_train, y_train)\n",
    "pred = model.predict(X_test)\n",
    "mean_squared_error(y_test, pred)"
   ]
  },
  {
   "cell_type": "code",
   "execution_count": 10,
   "id": "3aee3c4f",
   "metadata": {},
   "outputs": [
    {
     "data": {
      "text/html": [
       "<div>\n",
       "<style scoped>\n",
       "    .dataframe tbody tr th:only-of-type {\n",
       "        vertical-align: middle;\n",
       "    }\n",
       "\n",
       "    .dataframe tbody tr th {\n",
       "        vertical-align: top;\n",
       "    }\n",
       "\n",
       "    .dataframe thead th {\n",
       "        text-align: right;\n",
       "    }\n",
       "</style>\n",
       "<table border=\"1\" class=\"dataframe\">\n",
       "  <thead>\n",
       "    <tr style=\"text-align: right;\">\n",
       "      <th></th>\n",
       "      <th>alpha1</th>\n",
       "      <th>alpha2</th>\n",
       "    </tr>\n",
       "  </thead>\n",
       "  <tbody>\n",
       "    <tr>\n",
       "      <th>age</th>\n",
       "      <td>0.000000</td>\n",
       "      <td>0.000000</td>\n",
       "    </tr>\n",
       "    <tr>\n",
       "      <th>sex</th>\n",
       "      <td>-0.000000</td>\n",
       "      <td>0.000000</td>\n",
       "    </tr>\n",
       "    <tr>\n",
       "      <th>bmi</th>\n",
       "      <td>343.588370</td>\n",
       "      <td>42.963888</td>\n",
       "    </tr>\n",
       "    <tr>\n",
       "      <th>bp</th>\n",
       "      <td>46.375388</td>\n",
       "      <td>0.000000</td>\n",
       "    </tr>\n",
       "    <tr>\n",
       "      <th>s1</th>\n",
       "      <td>0.000000</td>\n",
       "      <td>0.000000</td>\n",
       "    </tr>\n",
       "    <tr>\n",
       "      <th>s2</th>\n",
       "      <td>0.000000</td>\n",
       "      <td>0.000000</td>\n",
       "    </tr>\n",
       "    <tr>\n",
       "      <th>s3</th>\n",
       "      <td>-0.000000</td>\n",
       "      <td>-0.000000</td>\n",
       "    </tr>\n",
       "    <tr>\n",
       "      <th>s4</th>\n",
       "      <td>0.000000</td>\n",
       "      <td>0.000000</td>\n",
       "    </tr>\n",
       "    <tr>\n",
       "      <th>s5</th>\n",
       "      <td>245.167660</td>\n",
       "      <td>0.000000</td>\n",
       "    </tr>\n",
       "    <tr>\n",
       "      <th>s6</th>\n",
       "      <td>0.000000</td>\n",
       "      <td>0.000000</td>\n",
       "    </tr>\n",
       "  </tbody>\n",
       "</table>\n",
       "</div>"
      ],
      "text/plain": [
       "         alpha1     alpha2\n",
       "age    0.000000   0.000000\n",
       "sex   -0.000000   0.000000\n",
       "bmi  343.588370  42.963888\n",
       "bp    46.375388   0.000000\n",
       "s1     0.000000   0.000000\n",
       "s2     0.000000   0.000000\n",
       "s3    -0.000000  -0.000000\n",
       "s4     0.000000   0.000000\n",
       "s5   245.167660   0.000000\n",
       "s6     0.000000   0.000000"
      ]
     },
     "execution_count": 10,
     "metadata": {},
     "output_type": "execute_result"
    }
   ],
   "source": [
    "# 회귀 계수 (alpha=2)\n",
    "coef['alpha2'] = model.coef_\n",
    "coef"
   ]
  },
  {
   "cell_type": "code",
   "execution_count": 11,
   "id": "985f74b6",
   "metadata": {},
   "outputs": [
    {
     "data": {
      "text/plain": [
       "2703.4553190372917"
      ]
     },
     "execution_count": 11,
     "metadata": {},
     "output_type": "execute_result"
    }
   ],
   "source": [
    "# 라쏘 회귀 (alpha=0.05)\n",
    "model = Lasso(alpha=0.05)\n",
    "model.fit(X_train, y_train)\n",
    "pred = model.predict(X_test)\n",
    "mean_squared_error(y_test, pred)"
   ]
  },
  {
   "cell_type": "code",
   "execution_count": 12,
   "id": "a2bb147c",
   "metadata": {},
   "outputs": [
    {
     "data": {
      "text/html": [
       "<div>\n",
       "<style scoped>\n",
       "    .dataframe tbody tr th:only-of-type {\n",
       "        vertical-align: middle;\n",
       "    }\n",
       "\n",
       "    .dataframe tbody tr th {\n",
       "        vertical-align: top;\n",
       "    }\n",
       "\n",
       "    .dataframe thead th {\n",
       "        text-align: right;\n",
       "    }\n",
       "</style>\n",
       "<table border=\"1\" class=\"dataframe\">\n",
       "  <thead>\n",
       "    <tr style=\"text-align: right;\">\n",
       "      <th></th>\n",
       "      <th>alpha1</th>\n",
       "      <th>alpha2</th>\n",
       "      <th>alpha0.05</th>\n",
       "    </tr>\n",
       "  </thead>\n",
       "  <tbody>\n",
       "    <tr>\n",
       "      <th>age</th>\n",
       "      <td>0.000000</td>\n",
       "      <td>0.000000</td>\n",
       "      <td>-0.000000</td>\n",
       "    </tr>\n",
       "    <tr>\n",
       "      <th>sex</th>\n",
       "      <td>-0.000000</td>\n",
       "      <td>0.000000</td>\n",
       "      <td>-198.953867</td>\n",
       "    </tr>\n",
       "    <tr>\n",
       "      <th>bmi</th>\n",
       "      <td>343.588370</td>\n",
       "      <td>42.963888</td>\n",
       "      <td>487.192794</td>\n",
       "    </tr>\n",
       "    <tr>\n",
       "      <th>bp</th>\n",
       "      <td>46.375388</td>\n",
       "      <td>0.000000</td>\n",
       "      <td>340.499590</td>\n",
       "    </tr>\n",
       "    <tr>\n",
       "      <th>s1</th>\n",
       "      <td>0.000000</td>\n",
       "      <td>0.000000</td>\n",
       "      <td>-95.578630</td>\n",
       "    </tr>\n",
       "    <tr>\n",
       "      <th>s2</th>\n",
       "      <td>0.000000</td>\n",
       "      <td>0.000000</td>\n",
       "      <td>-0.000000</td>\n",
       "    </tr>\n",
       "    <tr>\n",
       "      <th>s3</th>\n",
       "      <td>-0.000000</td>\n",
       "      <td>-0.000000</td>\n",
       "      <td>-189.868586</td>\n",
       "    </tr>\n",
       "    <tr>\n",
       "      <th>s4</th>\n",
       "      <td>0.000000</td>\n",
       "      <td>0.000000</td>\n",
       "      <td>10.489156</td>\n",
       "    </tr>\n",
       "    <tr>\n",
       "      <th>s5</th>\n",
       "      <td>245.167660</td>\n",
       "      <td>0.000000</td>\n",
       "      <td>457.331482</td>\n",
       "    </tr>\n",
       "    <tr>\n",
       "      <th>s6</th>\n",
       "      <td>0.000000</td>\n",
       "      <td>0.000000</td>\n",
       "      <td>39.292945</td>\n",
       "    </tr>\n",
       "  </tbody>\n",
       "</table>\n",
       "</div>"
      ],
      "text/plain": [
       "         alpha1     alpha2   alpha0.05\n",
       "age    0.000000   0.000000   -0.000000\n",
       "sex   -0.000000   0.000000 -198.953867\n",
       "bmi  343.588370  42.963888  487.192794\n",
       "bp    46.375388   0.000000  340.499590\n",
       "s1     0.000000   0.000000  -95.578630\n",
       "s2     0.000000   0.000000   -0.000000\n",
       "s3    -0.000000  -0.000000 -189.868586\n",
       "s4     0.000000   0.000000   10.489156\n",
       "s5   245.167660   0.000000  457.331482\n",
       "s6     0.000000   0.000000   39.292945"
      ]
     },
     "execution_count": 12,
     "metadata": {},
     "output_type": "execute_result"
    }
   ],
   "source": [
    "# 회귀 계수 (alpha=0.05)\n",
    "coef['alpha0.05'] = model.coef_\n",
    "coef"
   ]
  },
  {
   "cell_type": "markdown",
   "id": "3bf21562",
   "metadata": {},
   "source": [
    "## 엘라스틱넷 회귀  \n",
    "오버피팅 문제로 규제(regularization)를 적용한 모델  \n",
    "규제 방식: L2 규제와 L1 규제 (중요한 피처만 선택하는 특성) 결합  \n",
    "시간이 상대적으로 오래 걸림   \n",
    "\n",
    "*규제방식 비교*  \n",
    "\n",
    "릿지 회귀 : L2 규제 방식  \n",
    "라쏘 회귀 : L1 규제 방식 (중요한 피처만 선택하는 특성)  \n",
    "엘라스틱넷 회귀 : L2+L1 규제 결합 방식  "
   ]
  },
  {
   "cell_type": "code",
   "execution_count": 13,
   "id": "f791d3dc",
   "metadata": {},
   "outputs": [
    {
     "data": {
      "text/plain": [
       "6539.270795233337"
      ]
     },
     "execution_count": 13,
     "metadata": {},
     "output_type": "execute_result"
    }
   ],
   "source": [
    "# 엘라스틱넷 회귀\n",
    "from sklearn.linear_model import ElasticNet\n",
    "model = ElasticNet(alpha=1)\n",
    "model.fit(X_train, y_train)\n",
    "pred = model.predict(X_test)\n",
    "mean_squared_error(y_test, pred)"
   ]
  },
  {
   "cell_type": "code",
   "execution_count": 14,
   "id": "b183f233",
   "metadata": {},
   "outputs": [
    {
     "data": {
      "text/plain": [
       "2675.6005929972935"
      ]
     },
     "execution_count": 14,
     "metadata": {},
     "output_type": "execute_result"
    }
   ],
   "source": [
    "# 엘라스틱넷 회귀\n",
    "from sklearn.linear_model import ElasticNet\n",
    "model = ElasticNet(alpha=0.0001, l1_ratio=0.6)\n",
    "model.fit(X_train, y_train)\n",
    "pred = model.predict(X_test)\n",
    "mean_squared_error(y_test, pred)"
   ]
  },
  {
   "cell_type": "markdown",
   "id": "f73e4e5c",
   "metadata": {},
   "source": [
    "## 회귀 방법으로서의 랜덤포레스트 &XGBoost  \n",
    "1. 랜덤포레스트  \n",
    "\n",
    "\n",
    "여러 개의 의사결정 트리로 구성  \n",
    "앙상블 방법 중 배깅(bagging) 방식  \n",
    "부트스트랩 샘플링 (데이터셋 중복 허용)  \n",
    "최종 다수결 투표  \n",
    "\n",
    "2. XGBoost  \n",
    "\n",
    "\n",
    "트리 앙상블 중 성능이 좋은 알고리즘  \n",
    "eXtreme Gradient Boosting을 줄여서 XGBoost라고 한다.  \n",
    "약한 학습기가 계속해서 업데이트를 하며 좋은 모델을 만들어 간다.  \n"
   ]
  },
  {
   "cell_type": "code",
   "execution_count": 15,
   "id": "76ad675e",
   "metadata": {},
   "outputs": [
    {
     "data": {
      "text/plain": [
       "3151.198969662921"
      ]
     },
     "execution_count": 15,
     "metadata": {},
     "output_type": "execute_result"
    }
   ],
   "source": [
    "# 랜덤포레스트\n",
    "from sklearn.ensemble import RandomForestRegressor\n",
    "model = RandomForestRegressor()\n",
    "model.fit(X_train, y_train)\n",
    "pred = model.predict(X_test)\n",
    "mean_squared_error(y_test, pred)"
   ]
  },
  {
   "cell_type": "code",
   "execution_count": 16,
   "id": "0687167d",
   "metadata": {},
   "outputs": [
    {
     "name": "stderr",
     "output_type": "stream",
     "text": [
      "/opt/conda/lib/python3.9/site-packages/pkg_resources/__init__.py:122: PkgResourcesDeprecationWarning: 0.996-ko-0.9.2 is an invalid version and will not be supported in a future release\n",
      "  warnings.warn(\n"
     ]
    },
    {
     "data": {
      "text/plain": [
       "4028.2455020344587"
      ]
     },
     "execution_count": 16,
     "metadata": {},
     "output_type": "execute_result"
    }
   ],
   "source": [
    "# Xgboost\n",
    "from xgboost import XGBRegressor\n",
    "model = XGBRegressor()\n",
    "model.fit(X_train, y_train)\n",
    "pred = model.predict(X_test)\n",
    "mean_squared_error(y_test, pred)"
   ]
  },
  {
   "cell_type": "markdown",
   "id": "ff33b9e1",
   "metadata": {},
   "source": [
    "## 하이퍼파라미터 튜닝  \n",
    "\n",
    "그리드 서치와 랜덤 서치를 활용해서 파라미터 값을 찾는 방법을 숙지하자.  \n",
    "\n",
    "모델의 성능 향상을 위해 하이퍼파라미터 튜닝을 진행하며 사이킷런의 model_selection에서 제공하는 GridSearchCV와 RandomizedSearchCV를 이용하여 최적화할 수 있습니다.  \n",
    "\n",
    "1. GridSearchCV\n",
    "\n",
    "grid search를 통해 최적의 하이퍼파라미터를 찾음 (시간 오래 걸림)  \n",
    "\n",
    "2. RandomizedSearchCV\n",
    "\n",
    "RandomizedSearchCV 는 GridSearchCV와 달리 랜덤으로 N개의 조합만 탐색함  \n",
    "(시간 내 최적의 하이퍼파라미터 탐색) \n"
   ]
  },
  {
   "cell_type": "code",
   "execution_count": 17,
   "id": "0deff414",
   "metadata": {},
   "outputs": [],
   "source": [
    "# 라이브러리 불러오기\n",
    "from sklearn.model_selection import GridSearchCV, RandomizedSearchCV"
   ]
  },
  {
   "cell_type": "code",
   "execution_count": 18,
   "id": "bb19d721",
   "metadata": {},
   "outputs": [],
   "source": [
    "# 하이퍼파라미터\n",
    "params={'learning_rate':[0.07, 0.05], \n",
    "        'max_depth':[3, 5, 7], \n",
    "        'n_estimators':[100, 200],\n",
    "        'subsample':[0.9, 0.8, 0.7]\n",
    "        }"
   ]
  },
  {
   "cell_type": "code",
   "execution_count": 19,
   "id": "64d62459",
   "metadata": {},
   "outputs": [],
   "source": [
    "# 데이터셋 로드\n",
    "def make_dataset2():\n",
    "    dataset = load_diabetes()\n",
    "    df = pd.DataFrame(dataset.data, columns=dataset.feature_names)\n",
    "    df['target'] = dataset.target\n",
    "    return df.drop('target', axis=1), df['target']\n",
    "X, y = make_dataset2()"
   ]
  },
  {
   "cell_type": "markdown",
   "id": "18384976",
   "metadata": {},
   "source": [
    "그리드서치"
   ]
  },
  {
   "cell_type": "code",
   "execution_count": 20,
   "id": "1203a05c",
   "metadata": {},
   "outputs": [
    {
     "name": "stderr",
     "output_type": "stream",
     "text": [
      "/opt/conda/lib/python3.9/site-packages/pkg_resources/__init__.py:122: PkgResourcesDeprecationWarning: 0.996-ko-0.9.2 is an invalid version and will not be supported in a future release\n",
      "  warnings.warn(\n",
      "/opt/conda/lib/python3.9/site-packages/pkg_resources/__init__.py:122: PkgResourcesDeprecationWarning: 0.996-ko-0.9.2 is an invalid version and will not be supported in a future release\n",
      "  warnings.warn(\n"
     ]
    },
    {
     "data": {
      "text/plain": [
       "GridSearchCV(cv=3,\n",
       "             estimator=XGBRegressor(base_score=None, booster=None,\n",
       "                                    colsample_bylevel=None,\n",
       "                                    colsample_bynode=None,\n",
       "                                    colsample_bytree=None, gamma=None,\n",
       "                                    gpu_id=None, importance_type='gain',\n",
       "                                    interaction_constraints=None,\n",
       "                                    learning_rate=None, max_delta_step=None,\n",
       "                                    max_depth=None, min_child_weight=None,\n",
       "                                    missing=nan, monotone_constraints=None,\n",
       "                                    n_estimators=100, n_jobs=None,\n",
       "                                    num_parallel_tree=None, random_state=None,\n",
       "                                    reg_alpha=None, reg_lambda=None,\n",
       "                                    scale_pos_weight=None, subsample=None,\n",
       "                                    tree_method=None, validate_parameters=None,\n",
       "                                    verbosity=None),\n",
       "             n_jobs=-1,\n",
       "             param_grid={'learning_rate': [0.07, 0.05], 'max_depth': [3, 5, 7],\n",
       "                         'n_estimators': [100, 200],\n",
       "                         'subsample': [0.9, 0.8, 0.7]})"
      ]
     },
     "execution_count": 20,
     "metadata": {},
     "output_type": "execute_result"
    }
   ],
   "source": [
    "# GridSearchCV\n",
    "xgb = XGBRegressor()\n",
    "grid = GridSearchCV(xgb, params, cv=3, n_jobs=-1)\n",
    "grid.fit(X, y)"
   ]
  },
  {
   "cell_type": "code",
   "execution_count": 21,
   "id": "bb7873bb",
   "metadata": {},
   "outputs": [
    {
     "data": {
      "text/plain": [
       "{'learning_rate': 0.05, 'max_depth': 3, 'n_estimators': 100, 'subsample': 0.7}"
      ]
     },
     "execution_count": 21,
     "metadata": {},
     "output_type": "execute_result"
    }
   ],
   "source": [
    "# 최적의 하이퍼파라미터를 찾음\n",
    "grid.best_params_"
   ]
  },
  {
   "cell_type": "code",
   "execution_count": 22,
   "id": "7916dd02",
   "metadata": {},
   "outputs": [
    {
     "data": {
      "text/plain": [
       "3173.045180496539"
      ]
     },
     "execution_count": 22,
     "metadata": {},
     "output_type": "execute_result"
    }
   ],
   "source": [
    "# 하이퍼파라미터 튜닝\n",
    "xgb = XGBRegressor(\n",
    "    learning_rate = 0.05,\n",
    "    max_depth = 3,\n",
    "    n_estimators = 100,\n",
    "    subsample =0.7\n",
    ")\n",
    "xgb.fit(X_train, y_train)\n",
    "pred = xgb.predict(X_test)\n",
    "mean_squared_error(y_test, pred)"
   ]
  },
  {
   "cell_type": "markdown",
   "id": "ce27639f",
   "metadata": {},
   "source": [
    "랜덤서치cv  \n",
    "RandomizedSearchCV는 GridSearchCV와 달리 랜덤으로 N개의 조합만 탐색함  \n",
    "(시간 내 최적의 하이퍼파라미터 탐색)\n"
   ]
  },
  {
   "cell_type": "code",
   "execution_count": 23,
   "id": "0a14e2bf",
   "metadata": {},
   "outputs": [
    {
     "data": {
      "text/plain": [
       "RandomizedSearchCV(cv=3,\n",
       "                   estimator=XGBRegressor(base_score=None, booster=None,\n",
       "                                          colsample_bylevel=None,\n",
       "                                          colsample_bynode=None,\n",
       "                                          colsample_bytree=None, gamma=None,\n",
       "                                          gpu_id=None, importance_type='gain',\n",
       "                                          interaction_constraints=None,\n",
       "                                          learning_rate=None,\n",
       "                                          max_delta_step=None, max_depth=None,\n",
       "                                          min_child_weight=None, missing=nan,\n",
       "                                          monotone_constraints=None,\n",
       "                                          n_estimators=100, n_jobs=None,\n",
       "                                          num_parallel_tree=None,\n",
       "                                          random_state=None, reg_alpha=None,\n",
       "                                          reg_lambda=None,\n",
       "                                          scale_pos_weight=None, subsample=None,\n",
       "                                          tree_method=None,\n",
       "                                          validate_parameters=None,\n",
       "                                          verbosity=None),\n",
       "                   n_jobs=-1,\n",
       "                   param_distributions={'learning_rate': [0.07, 0.05],\n",
       "                                        'max_depth': [3, 5, 7],\n",
       "                                        'n_estimators': [100, 200],\n",
       "                                        'subsample': [0.9, 0.8, 0.7]})"
      ]
     },
     "execution_count": 23,
     "metadata": {},
     "output_type": "execute_result"
    }
   ],
   "source": [
    "#  Randomized Search\n",
    "xgb = XGBRegressor()\n",
    "grid = RandomizedSearchCV(xgb, params, cv=3, n_iter=10, n_jobs=-1)\n",
    "grid.fit(X, y)"
   ]
  },
  {
   "cell_type": "code",
   "execution_count": 24,
   "id": "90cfaf63",
   "metadata": {},
   "outputs": [
    {
     "data": {
      "text/plain": [
       "{'subsample': 0.9, 'n_estimators': 100, 'max_depth': 3, 'learning_rate': 0.05}"
      ]
     },
     "execution_count": 24,
     "metadata": {},
     "output_type": "execute_result"
    }
   ],
   "source": [
    "# 최적의 하이퍼파라미터를 찾음\n",
    "grid.best_params_"
   ]
  },
  {
   "cell_type": "markdown",
   "id": "e3fa6f96",
   "metadata": {},
   "source": [
    "### 회귀 평가 지표  \n"
   ]
  },
  {
   "cell_type": "code",
   "execution_count": 25,
   "id": "7a9f8806",
   "metadata": {},
   "outputs": [
    {
     "data": {
      "text/plain": [
       "47.57186281011346"
      ]
     },
     "execution_count": 25,
     "metadata": {},
     "output_type": "execute_result"
    }
   ],
   "source": [
    "# MAE\n",
    "from sklearn.metrics import mean_absolute_error\n",
    "mean_absolute_error(y_test, pred)"
   ]
  },
  {
   "cell_type": "code",
   "execution_count": 26,
   "id": "9caa545e",
   "metadata": {},
   "outputs": [
    {
     "data": {
      "text/plain": [
       "3173.045180496539"
      ]
     },
     "execution_count": 26,
     "metadata": {},
     "output_type": "execute_result"
    }
   ],
   "source": [
    "# MSE\n",
    "from sklearn.metrics import mean_squared_error\n",
    "mean_squared_error(y_test, pred)"
   ]
  },
  {
   "cell_type": "code",
   "execution_count": 27,
   "id": "a4a84093",
   "metadata": {},
   "outputs": [
    {
     "data": {
      "text/plain": [
       "56.32978945901129"
      ]
     },
     "execution_count": 27,
     "metadata": {},
     "output_type": "execute_result"
    }
   ],
   "source": [
    "# RMSE\n",
    "import numpy as np\n",
    "np.sqrt(mean_squared_error(y_test, pred))"
   ]
  },
  {
   "cell_type": "code",
   "execution_count": 28,
   "id": "81760b98",
   "metadata": {},
   "outputs": [
    {
     "data": {
      "text/plain": [
       "0.4359462312673838"
      ]
     },
     "execution_count": 28,
     "metadata": {},
     "output_type": "execute_result"
    }
   ],
   "source": [
    "# RMSLE\n",
    "from sklearn.metrics import mean_squared_log_error\n",
    "np.sqrt(mean_squared_log_error(y_test, pred))\n"
   ]
  },
  {
   "cell_type": "code",
   "execution_count": 29,
   "id": "51a2edf6",
   "metadata": {},
   "outputs": [
    {
     "data": {
      "text/plain": [
       "0.5153820583895429"
      ]
     },
     "execution_count": 29,
     "metadata": {},
     "output_type": "execute_result"
    }
   ],
   "source": [
    "# R2\n",
    "from sklearn.metrics import r2_score\n",
    "r2_score(y_test, pred)"
   ]
  },
  {
   "cell_type": "code",
   "execution_count": null,
   "id": "9b23ea74",
   "metadata": {},
   "outputs": [],
   "source": []
  },
  {
   "cell_type": "code",
   "execution_count": null,
   "id": "91f44662",
   "metadata": {},
   "outputs": [],
   "source": []
  },
  {
   "cell_type": "code",
   "execution_count": null,
   "id": "04485f8b",
   "metadata": {},
   "outputs": [],
   "source": []
  },
  {
   "cell_type": "code",
   "execution_count": null,
   "id": "fb05cbeb",
   "metadata": {},
   "outputs": [],
   "source": []
  }
 ],
 "metadata": {
  "kernelspec": {
   "display_name": "Python 3 (ipykernel)",
   "language": "python",
   "name": "python3"
  },
  "language_info": {
   "codemirror_mode": {
    "name": "ipython",
    "version": 3
   },
   "file_extension": ".py",
   "mimetype": "text/x-python",
   "name": "python",
   "nbconvert_exporter": "python",
   "pygments_lexer": "ipython3",
   "version": "3.9.7"
  }
 },
 "nbformat": 4,
 "nbformat_minor": 5
}
